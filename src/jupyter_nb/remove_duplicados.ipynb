{
 "cells": [
  {
   "cell_type": "code",
   "execution_count": 6,
   "metadata": {},
   "outputs": [
    {
     "data": {
      "text/plain": [
       "0"
      ]
     },
     "execution_count": 6,
     "metadata": {},
     "output_type": "execute_result"
    }
   ],
   "source": [
    "import pandas as pd\n",
    "\n",
    "symbol = 'ETHUSDT'\n",
    "filename = f'../data/{symbol}/{symbol}.csv'\n",
    "df = pd.read_csv(filename, sep=';')\n",
    "df.index = df['open_time']\n",
    "df = df.sort_index()\n",
    "df.drop_duplicates(keep='last', inplace=True)\n",
    "\n",
    "df.to_csv(filename, sep=';', index=False)\n",
    "df.duplicated().sum()"
   ]
  }
 ],
 "metadata": {
  "kernelspec": {
   "display_name": ".env",
   "language": "python",
   "name": "python3"
  },
  "language_info": {
   "codemirror_mode": {
    "name": "ipython",
    "version": 3
   },
   "file_extension": ".py",
   "mimetype": "text/x-python",
   "name": "python",
   "nbconvert_exporter": "python",
   "pygments_lexer": "ipython3",
   "version": "3.10.12"
  },
  "orig_nbformat": 4
 },
 "nbformat": 4,
 "nbformat_minor": 2
}
