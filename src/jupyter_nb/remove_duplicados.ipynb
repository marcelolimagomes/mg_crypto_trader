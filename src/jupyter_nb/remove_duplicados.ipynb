{
 "cells": [
  {
   "cell_type": "code",
   "execution_count": 1,
   "metadata": {},
   "outputs": [
    {
     "name": "stdout",
     "output_type": "stream",
     "text": [
      "[Errno 2] No such file or directory: '../data/BCHUSDT/BCHUSDT.csv'\n"
     ]
    }
   ],
   "source": [
    "import pandas as pd\n",
    "\n",
    "symbols_file = f'../data/symbol_list.csv'\n",
    "symbols = pd.read_csv(symbols_file, sep=';')\n",
    "for symbol in symbols['symbol']:\n",
    "  try:\n",
    "    symbol = symbol + 'USDT'\n",
    "    filename = f'../data/{symbol}/{symbol}.csv'\n",
    "    df = pd.read_csv(filename, sep=';')\n",
    "    df.index = df['open_time']\n",
    "    df = df.sort_index()\n",
    "    df.drop_duplicates(keep='last', subset=['open_time'], inplace=True)\n",
    "\n",
    "    df.to_csv(filename, sep=';', index=False)\n",
    "    df.index.duplicated().sum()\n",
    "  except Exception as e:\n",
    "    print(e)"
   ]
  },
  {
   "cell_type": "code",
   "execution_count": 5,
   "metadata": {},
   "outputs": [
    {
     "data": {
      "text/plain": [
       "0"
      ]
     },
     "execution_count": 5,
     "metadata": {},
     "output_type": "execute_result"
    }
   ],
   "source": [
    "import pandas as pd\n",
    "\n",
    "symbol = 'BTCUSDT'\n",
    "filename = f'../data/{symbol}/{symbol}.csv'\n",
    "df = pd.read_csv(filename, sep=';')\n",
    "df.index = df['open_time']\n",
    "df.index.duplicated().sum()"
   ]
  }
 ],
 "metadata": {
  "kernelspec": {
   "display_name": ".env",
   "language": "python",
   "name": "python3"
  },
  "language_info": {
   "codemirror_mode": {
    "name": "ipython",
    "version": 3
   },
   "file_extension": ".py",
   "mimetype": "text/x-python",
   "name": "python",
   "nbconvert_exporter": "python",
   "pygments_lexer": "ipython3",
   "version": "3.10.13"
  },
  "orig_nbformat": 4
 },
 "nbformat": 4,
 "nbformat_minor": 2
}
