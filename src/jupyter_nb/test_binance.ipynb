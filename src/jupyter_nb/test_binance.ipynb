{
 "cells": [
  {
   "cell_type": "code",
   "execution_count": null,
   "metadata": {},
   "outputs": [],
   "source": [
    "import sys\n",
    "sys.path.insert(0, sys.path[0].removesuffix('/src/jupyter_nb'))\n",
    "from binance import Client\n",
    "from datetime import datetime \n",
    "\n",
    "import src.utils_binance as utils\n",
    "import time\n"
   ]
  },
  {
   "cell_type": "code",
   "execution_count": null,
   "metadata": {},
   "outputs": [],
   "source": [
    "client = utils.login_binance()\n",
    "client.get_account_api_permissions()"
   ]
  },
  {
   "cell_type": "code",
   "execution_count": null,
   "metadata": {},
   "outputs": [],
   "source": [
    "#client.get_account_snapshot(type='SPOT')"
   ]
  },
  {
   "cell_type": "code",
   "execution_count": null,
   "metadata": {},
   "outputs": [],
   "source": [
    "def get_asset_balance(asset):\n",
    "\tasset_balance = client.get_asset_balance(asset)\n",
    "\treturn float(asset_balance['free'])\n",
    "\n",
    "def get_price_precision(minPrice: float):\n",
    "\tresult = 8\n",
    "\tif minPrice >= 1.0:\n",
    "\t\tresult = 0\n",
    "\telif minPrice >= 0.1:\n",
    "\t\tresult = 1\n",
    "\telif minPrice >= 0.01:\n",
    "\t\tresult = 2\n",
    "\telif minPrice >= 0.001:\n",
    "\t\tresult = 3\n",
    "\telif minPrice >= 0.0001:\n",
    "\t\tresult = 4\n",
    "\telif minPrice >= 0.00001:\n",
    "\t\tresult = 5\n",
    "\telif minPrice >= 0.000001:\n",
    "\t\tresult = 6\n",
    "\telif minPrice >= 0.0000001:\n",
    "\t\tresult = 7\n",
    "\treturn result"
   ]
  },
  {
   "cell_type": "code",
   "execution_count": null,
   "metadata": {},
   "outputs": [],
   "source": [
    "order_to_buy = 'XMRUSDT'\n",
    "symbol_info = client.get_symbol_info(symbol=order_to_buy)\n",
    "symbol_precision = int(symbol_info['baseAssetPrecision'])\n",
    "print(f'symbol_info: {symbol_info}')\n",
    "price_precision = get_price_precision(float(symbol_info['filters'][0]['tickSize']))\n",
    "print(f'price_precision: {price_precision}')"
   ]
  },
  {
   "cell_type": "code",
   "execution_count": null,
   "metadata": {},
   "outputs": [],
   "source": [
    "amount = 10.00\n",
    "usdt_asset_balance = client.get_asset_balance('USDT')\n",
    "print(usdt_asset_balance)\n",
    "balance = float(usdt_asset_balance['free'])\n",
    "if balance < 5.00:\n",
    "\tprint(f'Not enough balance: {balance:.2f} USDT')\n",
    "elif balance < amount and balance >= 5.00:\n",
    "\tamount = balance\n",
    "print(f'Enough balance: {balance:.2f} USDT - Amount to buy: {amount:.2f} USDT')\n"
   ]
  },
  {
   "cell_type": "code",
   "execution_count": null,
   "metadata": {},
   "outputs": [],
   "source": [
    "price_order = client.get_symbol_ticker(symbol=order_to_buy)\n",
    "price = round(float(price_order['price']), symbol_precision)\n",
    "print(price_order)\n",
    "quantity = round(amount / price, 2)\n",
    "print(f'quantity: {quantity}')"
   ]
  },
  {
   "cell_type": "code",
   "execution_count": null,
   "metadata": {},
   "outputs": [],
   "source": [
    "order_buy_id = client.order_limit_buy(\n",
    "\tsymbol=order_to_buy,\n",
    "\tquantity=quantity,\n",
    "\tprice=str(price)\n",
    ")\n",
    "\n",
    "order_buy_id"
   ]
  },
  {
   "cell_type": "code",
   "execution_count": null,
   "metadata": {},
   "outputs": [],
   "source": [
    "ticker = client.get_all_orders(symbol=order_to_buy)\n",
    "\n",
    "for order in ticker:\n",
    "\tprint(order, '\\n')\n",
    "\tprint(f\"{order['symbol']} {order['price']} {order['origQty']} {order['side']} {order['type']} {order['status']}\\n\")"
   ]
  },
  {
   "cell_type": "code",
   "execution_count": null,
   "metadata": {},
   "outputs": [],
   "source": [
    "margin = 0.015\n",
    "multiplier = 2\n",
    "\n",
    "price_precision = utils.get_precision(float(params['price_precision']))\n",
    "take_profit = round(float(params['take_profit']), price_precision)\n",
    "stop_loss_target = round(float(params['stop_loss']), price_precision)\n",
    "stop_loss_trigger = round(stop_loss_target * 1.05, price_precision)\n",
    "purchase_price = params['purchase_price']\n",
    "\n",
    "filled_asset_balance = client.get_asset_balance(params['symbol'].split('USDT')[0])\n",
    "int_quantity = filled_asset_balance['free'].split('.')[0]\n",
    "frac_quantity = filled_asset_balance['free'].split('.')[1][:price_precision + 1]\n",
    "quantity = float(int_quantity + '.' + frac_quantity)\n",
    "\n",
    "oder_oco_sell_id = None\n",
    "# oder_oco_sell_id = client.order_oco_sell(symbol=params['symbol'], quantity=quantity, price=str(take_profit), stopPrice=str(stop_loss_trigger), stopLimitPrice=str(stop_loss_target), stopLimitTimeInForce='GTC')\n",
    "\n",
    "info_msg = f'ORDER SELL: symbol: {params[\"symbol\"]} purchase_price: {purchase_price} price_precision: {price_precision} quantity: {quantity} take_profit: {take_profit} stop_loss_target: {stop_loss_target} stop_loss_trigger: {stop_loss_trigger}'\n",
    "log.info(info_msg)\n",
    "sm.send_to_telegram(info_msg)\n",
    "\n",
    "log.info(f'oder_oco_sell_id: {oder_oco_sell_id}')"
   ]
  }
 ],
 "metadata": {
  "kernelspec": {
   "display_name": "rapids-23.10",
   "language": "python",
   "name": "python3"
  },
  "language_info": {
   "codemirror_mode": {
    "name": "ipython",
    "version": 3
   },
   "file_extension": ".py",
   "mimetype": "text/x-python",
   "name": "python",
   "nbconvert_exporter": "python",
   "pygments_lexer": "ipython3",
   "version": "3.10.13"
  }
 },
 "nbformat": 4,
 "nbformat_minor": 2
}
