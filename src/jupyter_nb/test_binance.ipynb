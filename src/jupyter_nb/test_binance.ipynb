{
 "cells": [
  {
   "cell_type": "code",
   "execution_count": 1,
   "metadata": {},
   "outputs": [
    {
     "name": "stdout",
     "output_type": "stream",
     "text": [
      "<built-in method __dir__ of sqlite3.Connection object at 0x7f992763c340>\n"
     ]
    }
   ],
   "source": [
    "import sys\n",
    "sys.path.insert(0, sys.path[0].removesuffix('/src/jupyter_nb'))\n",
    "from binance import Client\n",
    "from datetime import datetime \n",
    "\n",
    "import src.utils_binance as utils\n",
    "import src.utils as utils2\n",
    "import src.myenv as myenv\n",
    "import time\n",
    "myenv.telegram_key.append(utils2.get_telegram_key())"
   ]
  },
  {
   "cell_type": "code",
   "execution_count": 2,
   "metadata": {},
   "outputs": [
    {
     "name": "stdout",
     "output_type": "stream",
     "text": [
      "New Instance of Client: <binance.client.Client object at 0x7f99440bba90>\n"
     ]
    },
    {
     "data": {
      "text/plain": [
       "{'ipRestrict': True,\n",
       " 'createTime': 1701981408000,\n",
       " 'enableMargin': False,\n",
       " 'enableFutures': False,\n",
       " 'enableVanillaOptions': False,\n",
       " 'enableReading': True,\n",
       " 'enableSpotAndMarginTrading': True,\n",
       " 'enableWithdrawals': False,\n",
       " 'enableInternalTransfer': False,\n",
       " 'permitsUniversalTransfer': False,\n",
       " 'enablePortfolioMarginTrading': False}"
      ]
     },
     "execution_count": 2,
     "metadata": {},
     "output_type": "execute_result"
    }
   ],
   "source": [
    "client = utils.get_client()\n",
    "client.get_account_api_permissions()"
   ]
  },
  {
   "cell_type": "code",
   "execution_count": 3,
   "metadata": {},
   "outputs": [],
   "source": [
    "#client.get_account_snapshot(type='SPOT')"
   ]
  },
  {
   "cell_type": "code",
   "execution_count": 4,
   "metadata": {},
   "outputs": [
    {
     "name": "stdout",
     "output_type": "stream",
     "text": [
      "symbol_info: {'symbol': 'AVAXUSDT', 'status': 'TRADING', 'baseAsset': 'AVAX', 'baseAssetPrecision': 8, 'quoteAsset': 'USDT', 'quotePrecision': 8, 'quoteAssetPrecision': 8, 'baseCommissionPrecision': 8, 'quoteCommissionPrecision': 8, 'orderTypes': ['LIMIT', 'LIMIT_MAKER', 'MARKET', 'STOP_LOSS_LIMIT', 'TAKE_PROFIT_LIMIT'], 'icebergAllowed': True, 'ocoAllowed': True, 'quoteOrderQtyMarketAllowed': True, 'allowTrailingStop': True, 'cancelReplaceAllowed': True, 'isSpotTradingAllowed': True, 'isMarginTradingAllowed': True, 'filters': [{'filterType': 'PRICE_FILTER', 'minPrice': '0.01000000', 'maxPrice': '10000.00000000', 'tickSize': '0.01000000'}, {'filterType': 'LOT_SIZE', 'minQty': '0.01000000', 'maxQty': '90000.00000000', 'stepSize': '0.01000000'}, {'filterType': 'ICEBERG_PARTS', 'limit': 10}, {'filterType': 'MARKET_LOT_SIZE', 'minQty': '0.00000000', 'maxQty': '62461.20866666', 'stepSize': '0.00000000'}, {'filterType': 'TRAILING_DELTA', 'minTrailingAboveDelta': 10, 'maxTrailingAboveDelta': 2000, 'minTrailingBelowDelta': 10, 'maxTrailingBelowDelta': 2000}, {'filterType': 'PERCENT_PRICE_BY_SIDE', 'bidMultiplierUp': '5', 'bidMultiplierDown': '0.2', 'askMultiplierUp': '5', 'askMultiplierDown': '0.2', 'avgPriceMins': 5}, {'filterType': 'NOTIONAL', 'minNotional': '5.00000000', 'applyMinToMarket': True, 'maxNotional': '9000000.00000000', 'applyMaxToMarket': False, 'avgPriceMins': 5}, {'filterType': 'MAX_NUM_ORDERS', 'maxNumOrders': 200}, {'filterType': 'MAX_NUM_ALGO_ORDERS', 'maxNumAlgoOrders': 5}], 'permissions': ['SPOT', 'MARGIN', 'TRD_GRP_004', 'TRD_GRP_005', 'TRD_GRP_006', 'TRD_GRP_009', 'TRD_GRP_010', 'TRD_GRP_011', 'TRD_GRP_012', 'TRD_GRP_013', 'TRD_GRP_014', 'TRD_GRP_015', 'TRD_GRP_016', 'TRD_GRP_017', 'TRD_GRP_018', 'TRD_GRP_019', 'TRD_GRP_020', 'TRD_GRP_021', 'TRD_GRP_022', 'TRD_GRP_023', 'TRD_GRP_024', 'TRD_GRP_025'], 'defaultSelfTradePreventionMode': 'EXPIRE_MAKER', 'allowedSelfTradePreventionModes': ['EXPIRE_TAKER', 'EXPIRE_MAKER', 'EXPIRE_BOTH']}\n"
     ]
    }
   ],
   "source": [
    "symbol = 'AVAXUSDT'\n",
    "symbol_info = utils.get_client().get_symbol_info(symbol=symbol)\n",
    "print(f'symbol_info: {symbol_info}')\n"
   ]
  },
  {
   "cell_type": "code",
   "execution_count": 5,
   "metadata": {},
   "outputs": [
    {
     "name": "stdout",
     "output_type": "stream",
     "text": [
      "(8, 2, 0.01, 0.01)\n",
      "price: 40.63 - take_profit: 41.036300000000004 - stop_loss: 40.2237\n"
     ]
    }
   ],
   "source": [
    "price_order = client.get_symbol_ticker(symbol=symbol)\n",
    "symbol_info, symbol_precision, price_precision, step_size, tick_size = utils.get_symbol_info(symbol)\n",
    "price = round(float(price_order['price']), symbol_precision)\n",
    "\n",
    "take_profit, stop_loss = utils.calc_take_profit_stop_loss('LONG', price, 1.0, 1)\n",
    "print((symbol_precision, price_precision, step_size, tick_size))\n",
    "print((f'price: {price} - take_profit: {take_profit} - stop_loss: {stop_loss}'))"
   ]
  },
  {
   "cell_type": "code",
   "execution_count": 6,
   "metadata": {},
   "outputs": [
    {
     "name": "stdout",
     "output_type": "stream",
     "text": [
      "{'operation_date': datetime.datetime(1969, 12, 31, 21, 0, 1, 702961), 'symbol': 'AVAXUSDT', 'interval': '1m', 'operation': 'BUY', 'target_margin': 1.0, 'amount_invested': 10, 'take_profit': 41.036300000000004, 'stop_loss': 40.2237, 'purchase_price': 40.63, 'sell_price': 41.036300000000004, 'pnl': 0.0, 'rsi': 30.0, 'margin_operation': 1.0, 'strategy': 'LONG', 'balance': 241.81857421, 'symbol_precision': 8, 'price_precision': 2, 'tick_size': 0.01, 'step_size': 0.01}\n"
     ]
    }
   ],
   "source": [
    "import numpy as np\n",
    "amount_invested, balance = utils.get_amount_to_invest()  # ok\n",
    "\n",
    "ledger_params = utils.get_params_operation(np.datetime64('now'), symbol, '1m', 'BUY', 1.0, amount_invested, take_profit, stop_loss,\n",
    "\t\t\t\t\t\t\t\t\t\t\t\tprice, 30.0, take_profit, 0.0, 1.0, 'LONG', balance, symbol_precision, price_precision, tick_size, step_size)  # ok\n",
    "print(ledger_params)"
   ]
  },
  {
   "cell_type": "code",
   "execution_count": 7,
   "metadata": {},
   "outputs": [
    {
     "name": "stderr",
     "output_type": "stream",
     "text": [
      "register_operation: Params> {'operation_date': datetime.datetime(1969, 12, 31, 21, 0, 1, 702961), 'symbol': 'AVAXUSDT', 'interval': '1m', 'operation': 'BUY', 'target_margin': 1.0, 'amount_invested': 10, 'take_profit': 41.036300000000004, 'stop_loss': 40.2237, 'purchase_price': 40.63, 'sell_price': 41.036300000000004, 'pnl': 0.0, 'rsi': 30.0, 'margin_operation': 1.0, 'strategy': 'LONG', 'balance': 241.81857421, 'symbol_precision': 8, 'price_precision': 2, 'tick_size': 0.01, 'step_size': 0.01}\n",
      "ORDER BUY: {'symbol': 'AVAXUSDT', 'quantity': 0.25, 'price': '40.61', 'newClientOrderId': 'AVAXUSDT_1m_buy'}\n",
      "order_buy_id: {'symbol': 'AVAXUSDT', 'orderId': 2534885944, 'orderListId': -1, 'clientOrderId': 'AVAXUSDT_1m_buy', 'transactTime': 1702961488743, 'price': '40.61000000', 'origQty': '0.25000000', 'executedQty': '0.25000000', 'cummulativeQuoteQty': '10.15000000', 'status': 'FILLED', 'timeInForce': 'GTC', 'type': 'LIMIT', 'side': 'BUY', 'workingTime': 1702961488743, 'fills': [{'price': '40.60000000', 'qty': '0.25000000', 'commission': '0.00025000', 'commissionAsset': 'AVAX', 'tradeId': 241459419}], 'selfTradePreventionMode': 'EXPIRE_MAKER'}\n",
      "register_oco_sell: Params> {'operation_date': datetime.datetime(1969, 12, 31, 21, 0, 1, 702961), 'symbol': 'AVAXUSDT', 'interval': '1m', 'operation': 'BUY', 'target_margin': 1.0, 'amount_invested': 10, 'take_profit': 41.036300000000004, 'stop_loss': 40.2237, 'purchase_price': 40.61, 'sell_price': 41.036300000000004, 'pnl': 0.0, 'rsi': 30.0, 'margin_operation': 1.0, 'strategy': 'LONG', 'balance': 241.81857421, 'symbol_precision': 8, 'price_precision': 2, 'tick_size': 0.01, 'step_size': 0.01}\n",
      "ORDER SELL: {'symbol': 'AVAXUSDT', 'quantity': 0.25, 'price': '41.04', 'stopPrice': '40.22', 'stopLimitPrice': '40.02', 'stopLimitTimeInForce': 'GTC', 'limitClientOrderId': 'AVAXUSDT_1m_limit', 'stopClientOrderId': 'AVAXUSDT_1m_stop'}\n",
      "oder_oco_sell_id: {'orderListId': 95707218, 'contingencyType': 'OCO', 'listStatusType': 'EXEC_STARTED', 'listOrderStatus': 'EXECUTING', 'listClientOrderId': 'gzXloT6sO1ju1686joZXyN', 'transactionTime': 1702961493850, 'symbol': 'AVAXUSDT', 'orders': [{'symbol': 'AVAXUSDT', 'orderId': 2534886440, 'clientOrderId': 'AVAXUSDT_1m_stop'}, {'symbol': 'AVAXUSDT', 'orderId': 2534886441, 'clientOrderId': 'AVAXUSDT_1m_limit'}], 'orderReports': [{'symbol': 'AVAXUSDT', 'orderId': 2534886440, 'orderListId': 95707218, 'clientOrderId': 'AVAXUSDT_1m_stop', 'transactTime': 1702961493850, 'price': '40.02000000', 'origQty': '0.25000000', 'executedQty': '0.00000000', 'cummulativeQuoteQty': '0.00000000', 'status': 'NEW', 'timeInForce': 'GTC', 'type': 'STOP_LOSS_LIMIT', 'side': 'SELL', 'stopPrice': '40.22000000', 'workingTime': -1, 'selfTradePreventionMode': 'EXPIRE_MAKER'}, {'symbol': 'AVAXUSDT', 'orderId': 2534886441, 'orderListId': 95707218, 'clientOrderId': 'AVAXUSDT_1m_limit', 'transactTime': 1702961493850, 'price': '41.04000000', 'origQty': '0.25000000', 'executedQty': '0.00000000', 'cummulativeQuoteQty': '0.00000000', 'status': 'NEW', 'timeInForce': 'GTC', 'type': 'LIMIT_MAKER', 'side': 'SELL', 'workingTime': 1702961493850, 'selfTradePreventionMode': 'EXPIRE_MAKER'}]}\n"
     ]
    },
    {
     "name": "stdout",
     "output_type": "stream",
     "text": [
      "({'symbol': 'AVAXUSDT', 'orderId': 2534885944, 'orderListId': -1, 'clientOrderId': 'AVAXUSDT_1m_buy', 'transactTime': 1702961488743, 'price': '40.61000000', 'origQty': '0.25000000', 'executedQty': '0.25000000', 'cummulativeQuoteQty': '10.15000000', 'status': 'FILLED', 'timeInForce': 'GTC', 'type': 'LIMIT', 'side': 'BUY', 'workingTime': 1702961488743, 'fills': [{'price': '40.60000000', 'qty': '0.25000000', 'commission': '0.00025000', 'commissionAsset': 'AVAX', 'tradeId': 241459419}], 'selfTradePreventionMode': 'EXPIRE_MAKER'}, {'orderListId': 95707218, 'contingencyType': 'OCO', 'listStatusType': 'EXEC_STARTED', 'listOrderStatus': 'EXECUTING', 'listClientOrderId': 'gzXloT6sO1ju1686joZXyN', 'transactionTime': 1702961493850, 'symbol': 'AVAXUSDT', 'orders': [{'symbol': 'AVAXUSDT', 'orderId': 2534886440, 'clientOrderId': 'AVAXUSDT_1m_stop'}, {'symbol': 'AVAXUSDT', 'orderId': 2534886441, 'clientOrderId': 'AVAXUSDT_1m_limit'}], 'orderReports': [{'symbol': 'AVAXUSDT', 'orderId': 2534886440, 'orderListId': 95707218, 'clientOrderId': 'AVAXUSDT_1m_stop', 'transactTime': 1702961493850, 'price': '40.02000000', 'origQty': '0.25000000', 'executedQty': '0.00000000', 'cummulativeQuoteQty': '0.00000000', 'status': 'NEW', 'timeInForce': 'GTC', 'type': 'STOP_LOSS_LIMIT', 'side': 'SELL', 'stopPrice': '40.22000000', 'workingTime': -1, 'selfTradePreventionMode': 'EXPIRE_MAKER'}, {'symbol': 'AVAXUSDT', 'orderId': 2534886441, 'orderListId': 95707218, 'clientOrderId': 'AVAXUSDT_1m_limit', 'transactTime': 1702961493850, 'price': '41.04000000', 'origQty': '0.25000000', 'executedQty': '0.00000000', 'cummulativeQuoteQty': '0.00000000', 'status': 'NEW', 'timeInForce': 'GTC', 'type': 'LIMIT_MAKER', 'side': 'SELL', 'workingTime': 1702961493850, 'selfTradePreventionMode': 'EXPIRE_MAKER'}]})\n"
     ]
    }
   ],
   "source": [
    "order_buy_id, order_sell_id = utils.register_operation(ledger_params)\n",
    "print((order_buy_id, order_sell_id))"
   ]
  },
  {
   "cell_type": "code",
   "execution_count": 8,
   "metadata": {},
   "outputs": [
    {
     "name": "stdout",
     "output_type": "stream",
     "text": [
      "{'symbol': 'AVAXUSDT', 'orderId': 2441030710, 'orderListId': -1, 'clientOrderId': 'and_f5170c75797a4d0bb84a7e7be68dfa5f', 'price': '21.75000000', 'origQty': '4.60000000', 'executedQty': '4.60000000', 'cummulativeQuoteQty': '100.05000000', 'status': 'FILLED', 'timeInForce': 'GTC', 'type': 'LIMIT', 'side': 'BUY', 'stopPrice': '0.00000000', 'icebergQty': '0.00000000', 'time': 1701628936985, 'updateTime': 1701628956015, 'isWorking': True, 'workingTime': 1701628936985, 'origQuoteOrderQty': '0.00000000', 'selfTradePreventionMode': 'EXPIRE_MAKER'} \n",
      "\n",
      "AVAXUSDT 21.75000000 4.60000000 BUY LIMIT FILLED\n",
      "\n",
      "{'symbol': 'AVAXUSDT', 'orderId': 2441038022, 'orderListId': -1, 'clientOrderId': 'and_cb8954619d014981ad3cc626b16a4b5b', 'price': '22.38000000', 'origQty': '4.63000000', 'executedQty': '4.63000000', 'cummulativeQuoteQty': '103.61940000', 'status': 'FILLED', 'timeInForce': 'GTC', 'type': 'LIMIT', 'side': 'SELL', 'stopPrice': '0.00000000', 'icebergQty': '0.00000000', 'time': 1701629598670, 'updateTime': 1701653907784, 'isWorking': True, 'workingTime': 1701629598670, 'origQuoteOrderQty': '0.00000000', 'selfTradePreventionMode': 'EXPIRE_MAKER'} \n",
      "\n",
      "AVAXUSDT 22.38000000 4.63000000 SELL LIMIT FILLED\n",
      "\n",
      "{'symbol': 'AVAXUSDT', 'orderId': 2442809834, 'orderListId': -1, 'clientOrderId': 'and_bd2b48448d4c43ae99d3815c130100fb', 'price': '21.99000000', 'origQty': '4.77000000', 'executedQty': '4.77000000', 'cummulativeQuoteQty': '104.89230000', 'status': 'FILLED', 'timeInForce': 'GTC', 'type': 'LIMIT', 'side': 'BUY', 'stopPrice': '0.00000000', 'icebergQty': '0.00000000', 'time': 1701691138736, 'updateTime': 1701691189569, 'isWorking': True, 'workingTime': 1701691138736, 'origQuoteOrderQty': '0.00000000', 'selfTradePreventionMode': 'EXPIRE_MAKER'} \n",
      "\n",
      "AVAXUSDT 21.99000000 4.77000000 BUY LIMIT FILLED\n",
      "\n",
      "{'symbol': 'AVAXUSDT', 'orderId': 2442817390, 'orderListId': -1, 'clientOrderId': 'and_ea55f7e008404b2e8385be3581cea26c', 'price': '22.80000000', 'origQty': '4.77000000', 'executedQty': '4.77000000', 'cummulativeQuoteQty': '108.75600000', 'status': 'FILLED', 'timeInForce': 'GTC', 'type': 'LIMIT', 'side': 'SELL', 'stopPrice': '0.00000000', 'icebergQty': '0.00000000', 'time': 1701691240301, 'updateTime': 1701737534583, 'isWorking': True, 'workingTime': 1701691240301, 'origQuoteOrderQty': '0.00000000', 'selfTradePreventionMode': 'EXPIRE_MAKER'} \n",
      "\n",
      "AVAXUSDT 22.80000000 4.77000000 SELL LIMIT FILLED\n",
      "\n",
      "{'symbol': 'AVAXUSDT', 'orderId': 2445886492, 'orderListId': -1, 'clientOrderId': 'and_0817e73276a34c6ba82ca610dd379bd4', 'price': '22.10000000', 'origQty': '0.69000000', 'executedQty': '0.69000000', 'cummulativeQuoteQty': '15.24900000', 'status': 'FILLED', 'timeInForce': 'GTC', 'type': 'LIMIT', 'side': 'BUY', 'stopPrice': '0.00000000', 'icebergQty': '0.00000000', 'time': 1701779457534, 'updateTime': 1701779457534, 'isWorking': True, 'workingTime': 1701779457534, 'origQuoteOrderQty': '0.00000000', 'selfTradePreventionMode': 'EXPIRE_MAKER'} \n",
      "\n",
      "AVAXUSDT 22.10000000 0.69000000 BUY LIMIT FILLED\n",
      "\n",
      "{'symbol': 'AVAXUSDT', 'orderId': 2445889132, 'orderListId': -1, 'clientOrderId': 'and_82cfe454985d413cb448137be70cdd59', 'price': '23.10000000', 'origQty': '0.68000000', 'executedQty': '0.68000000', 'cummulativeQuoteQty': '15.70800000', 'status': 'FILLED', 'timeInForce': 'GTC', 'type': 'LIMIT', 'side': 'SELL', 'stopPrice': '0.00000000', 'icebergQty': '0.00000000', 'time': 1701779591045, 'updateTime': 1701799235486, 'isWorking': True, 'workingTime': 1701779591045, 'origQuoteOrderQty': '0.00000000', 'selfTradePreventionMode': 'EXPIRE_MAKER'} \n",
      "\n",
      "AVAXUSDT 23.10000000 0.68000000 SELL LIMIT FILLED\n",
      "\n",
      "{'symbol': 'AVAXUSDT', 'orderId': 2524644207, 'orderListId': -1, 'clientOrderId': 'KU3K9VvoZ9DMigNc5OlHgH', 'price': '41.60000000', 'origQty': '0.46000000', 'executedQty': '0.46000000', 'cummulativeQuoteQty': '19.13600000', 'status': 'FILLED', 'timeInForce': 'GTC', 'type': 'LIMIT', 'side': 'BUY', 'stopPrice': '0.00000000', 'icebergQty': '0.00000000', 'time': 1702799550253, 'updateTime': 1702799553589, 'isWorking': True, 'workingTime': 1702799550253, 'origQuoteOrderQty': '0.00000000', 'selfTradePreventionMode': 'EXPIRE_MAKER'} \n",
      "\n",
      "AVAXUSDT 41.60000000 0.46000000 BUY LIMIT FILLED\n",
      "\n",
      "{'symbol': 'AVAXUSDT', 'orderId': 2524644782, 'orderListId': 95628380, 'clientOrderId': 'Zz0vlLdq4mRcgVixxL4ZTF', 'price': '34.11000000', 'origQty': '0.46000000', 'executedQty': '0.00000000', 'cummulativeQuoteQty': '0.00000000', 'status': 'CANCELED', 'timeInForce': 'GTC', 'type': 'STOP_LOSS_LIMIT', 'side': 'SELL', 'stopPrice': '35.82000000', 'icebergQty': '0.00000000', 'time': 1702799555587, 'updateTime': 1702959127603, 'isWorking': False, 'workingTime': -1, 'origQuoteOrderQty': '0.00000000', 'selfTradePreventionMode': 'EXPIRE_MAKER'} \n",
      "\n",
      "AVAXUSDT 34.11000000 0.46000000 SELL STOP_LOSS_LIMIT CANCELED\n",
      "\n",
      "{'symbol': 'AVAXUSDT', 'orderId': 2524644783, 'orderListId': 95628380, 'clientOrderId': 'DpWFgbetJtZ4LAPutGBkzj', 'price': '43.47000000', 'origQty': '0.46000000', 'executedQty': '0.00000000', 'cummulativeQuoteQty': '0.00000000', 'status': 'CANCELED', 'timeInForce': 'GTC', 'type': 'LIMIT_MAKER', 'side': 'SELL', 'stopPrice': '0.00000000', 'icebergQty': '0.00000000', 'time': 1702799555587, 'updateTime': 1702959127603, 'isWorking': True, 'workingTime': 1702799555587, 'origQuoteOrderQty': '0.00000000', 'selfTradePreventionMode': 'EXPIRE_MAKER'} \n",
      "\n",
      "AVAXUSDT 43.47000000 0.46000000 SELL LIMIT_MAKER CANCELED\n",
      "\n",
      "{'symbol': 'AVAXUSDT', 'orderId': 2534746374, 'orderListId': -1, 'clientOrderId': 'and_3b21426f689a4542bf73b496782c5b56', 'price': '41.02000000', 'origQty': '0.46000000', 'executedQty': '0.46000000', 'cummulativeQuoteQty': '18.86920000', 'status': 'FILLED', 'timeInForce': 'GTC', 'type': 'LIMIT', 'side': 'SELL', 'stopPrice': '0.00000000', 'icebergQty': '0.00000000', 'time': 1702959135302, 'updateTime': 1702959143726, 'isWorking': True, 'workingTime': 1702959135302, 'origQuoteOrderQty': '0.00000000', 'selfTradePreventionMode': 'EXPIRE_MAKER'} \n",
      "\n",
      "AVAXUSDT 41.02000000 0.46000000 SELL LIMIT FILLED\n",
      "\n",
      "{'symbol': 'AVAXUSDT', 'orderId': 2534834957, 'orderListId': -1, 'clientOrderId': 'AVAXUSDT_1m_buy', 'price': '40.42000000', 'origQty': '0.49000000', 'executedQty': '0.00000000', 'cummulativeQuoteQty': '0.00000000', 'status': 'CANCELED', 'timeInForce': 'GTC', 'type': 'LIMIT', 'side': 'BUY', 'stopPrice': '0.00000000', 'icebergQty': '0.00000000', 'time': 1702960661576, 'updateTime': 1702960696702, 'isWorking': True, 'workingTime': 1702960661576, 'origQuoteOrderQty': '0.00000000', 'selfTradePreventionMode': 'EXPIRE_MAKER'} \n",
      "\n",
      "AVAXUSDT 40.42000000 0.49000000 BUY LIMIT CANCELED\n",
      "\n",
      "{'symbol': 'AVAXUSDT', 'orderId': 2534844379, 'orderListId': -1, 'clientOrderId': 'AVAXUSDT_1m_buy', 'price': '40.43000000', 'origQty': '0.49000000', 'executedQty': '0.49000000', 'cummulativeQuoteQty': '19.80580000', 'status': 'FILLED', 'timeInForce': 'GTC', 'type': 'LIMIT', 'side': 'BUY', 'stopPrice': '0.00000000', 'icebergQty': '0.00000000', 'time': 1702960793307, 'updateTime': 1702960793307, 'isWorking': True, 'workingTime': 1702960793307, 'origQuoteOrderQty': '0.00000000', 'selfTradePreventionMode': 'EXPIRE_MAKER'} \n",
      "\n",
      "AVAXUSDT 40.43000000 0.49000000 BUY LIMIT FILLED\n",
      "\n",
      "{'symbol': 'AVAXUSDT', 'orderId': 2534872930, 'orderListId': -1, 'clientOrderId': 'and_9bbc605044bf465689772a97dbaf0845', 'price': '40.51000000', 'origQty': '0.49000000', 'executedQty': '0.49000000', 'cummulativeQuoteQty': '19.84990000', 'status': 'FILLED', 'timeInForce': 'GTC', 'type': 'LIMIT', 'side': 'SELL', 'stopPrice': '0.00000000', 'icebergQty': '0.00000000', 'time': 1702961258786, 'updateTime': 1702961262027, 'isWorking': True, 'workingTime': 1702961258786, 'origQuoteOrderQty': '0.00000000', 'selfTradePreventionMode': 'EXPIRE_MAKER'} \n",
      "\n",
      "AVAXUSDT 40.51000000 0.49000000 SELL LIMIT FILLED\n",
      "\n",
      "{'symbol': 'AVAXUSDT', 'orderId': 2534876687, 'orderListId': -1, 'clientOrderId': 'AVAXUSDT_1m_buy', 'price': '40.44000000', 'origQty': '0.25000000', 'executedQty': '0.25000000', 'cummulativeQuoteQty': '10.11000000', 'status': 'FILLED', 'timeInForce': 'GTC', 'type': 'LIMIT', 'side': 'BUY', 'stopPrice': '0.00000000', 'icebergQty': '0.00000000', 'time': 1702961313607, 'updateTime': 1702961313607, 'isWorking': True, 'workingTime': 1702961313607, 'origQuoteOrderQty': '0.00000000', 'selfTradePreventionMode': 'EXPIRE_MAKER'} \n",
      "\n",
      "AVAXUSDT 40.44000000 0.25000000 BUY LIMIT FILLED\n",
      "\n",
      "{'symbol': 'AVAXUSDT', 'orderId': 2534880528, 'orderListId': -1, 'clientOrderId': 'and_a6d570b87747461fb735061e05262777', 'price': '40.57000000', 'origQty': '0.25000000', 'executedQty': '0.25000000', 'cummulativeQuoteQty': '10.14250000', 'status': 'FILLED', 'timeInForce': 'GTC', 'type': 'LIMIT', 'side': 'SELL', 'stopPrice': '0.00000000', 'icebergQty': '0.00000000', 'time': 1702961406310, 'updateTime': 1702961406310, 'isWorking': True, 'workingTime': 1702961406310, 'origQuoteOrderQty': '0.00000000', 'selfTradePreventionMode': 'EXPIRE_MAKER'} \n",
      "\n",
      "AVAXUSDT 40.57000000 0.25000000 SELL LIMIT FILLED\n",
      "\n",
      "{'symbol': 'AVAXUSDT', 'orderId': 2534885944, 'orderListId': -1, 'clientOrderId': 'AVAXUSDT_1m_buy', 'price': '40.61000000', 'origQty': '0.25000000', 'executedQty': '0.25000000', 'cummulativeQuoteQty': '10.15000000', 'status': 'FILLED', 'timeInForce': 'GTC', 'type': 'LIMIT', 'side': 'BUY', 'stopPrice': '0.00000000', 'icebergQty': '0.00000000', 'time': 1702961488743, 'updateTime': 1702961488743, 'isWorking': True, 'workingTime': 1702961488743, 'origQuoteOrderQty': '0.00000000', 'selfTradePreventionMode': 'EXPIRE_MAKER'} \n",
      "\n",
      "AVAXUSDT 40.61000000 0.25000000 BUY LIMIT FILLED\n",
      "\n",
      "{'symbol': 'AVAXUSDT', 'orderId': 2534886440, 'orderListId': 95707218, 'clientOrderId': 'AVAXUSDT_1m_stop', 'price': '40.02000000', 'origQty': '0.25000000', 'executedQty': '0.00000000', 'cummulativeQuoteQty': '0.00000000', 'status': 'NEW', 'timeInForce': 'GTC', 'type': 'STOP_LOSS_LIMIT', 'side': 'SELL', 'stopPrice': '40.22000000', 'icebergQty': '0.00000000', 'time': 1702961493850, 'updateTime': 1702961493850, 'isWorking': False, 'workingTime': -1, 'origQuoteOrderQty': '0.00000000', 'selfTradePreventionMode': 'EXPIRE_MAKER'} \n",
      "\n",
      "AVAXUSDT 40.02000000 0.25000000 SELL STOP_LOSS_LIMIT NEW\n",
      "\n",
      "{'symbol': 'AVAXUSDT', 'orderId': 2534886441, 'orderListId': 95707218, 'clientOrderId': 'AVAXUSDT_1m_limit', 'price': '41.04000000', 'origQty': '0.25000000', 'executedQty': '0.00000000', 'cummulativeQuoteQty': '0.00000000', 'status': 'NEW', 'timeInForce': 'GTC', 'type': 'LIMIT_MAKER', 'side': 'SELL', 'stopPrice': '0.00000000', 'icebergQty': '0.00000000', 'time': 1702961493850, 'updateTime': 1702961493850, 'isWorking': True, 'workingTime': 1702961493850, 'origQuoteOrderQty': '0.00000000', 'selfTradePreventionMode': 'EXPIRE_MAKER'} \n",
      "\n",
      "AVAXUSDT 41.04000000 0.25000000 SELL LIMIT_MAKER NEW\n",
      "\n"
     ]
    }
   ],
   "source": [
    "ticker = utils.get_client().get_all_orders(symbol=symbol)\n",
    "\n",
    "for order in ticker:\n",
    "\tprint(order, '\\n')\n",
    "\tprint(f\"{order['symbol']} {order['price']} {order['origQty']} {order['side']} {order['type']} {order['status']}\\n\")"
   ]
  }
 ],
 "metadata": {
  "kernelspec": {
   "display_name": "rapids-23.10",
   "language": "python",
   "name": "python3"
  },
  "language_info": {
   "codemirror_mode": {
    "name": "ipython",
    "version": 3
   },
   "file_extension": ".py",
   "mimetype": "text/x-python",
   "name": "python",
   "nbconvert_exporter": "python",
   "pygments_lexer": "ipython3",
   "version": "3.10.13"
  }
 },
 "nbformat": 4,
 "nbformat_minor": 2
}
