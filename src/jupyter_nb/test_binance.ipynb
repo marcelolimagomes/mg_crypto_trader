{
 "cells": [
  {
   "cell_type": "code",
   "execution_count": 1,
   "metadata": {},
   "outputs": [
    {
     "name": "stdout",
     "output_type": "stream",
     "text": [
      "<built-in method __dir__ of sqlite3.Connection object at 0x7fb8d1ab2840>\n"
     ]
    }
   ],
   "source": [
    "import sys\n",
    "sys.path.insert(0, sys.path[0].removesuffix('/src/jupyter_nb'))\n",
    "from binance import Client\n",
    "from datetime import datetime \n",
    "\n",
    "import src.utils_binance as utils\n",
    "import src.utils as utils2\n",
    "import src.myenv as myenv\n",
    "import time\n",
    "myenv.telegram_key.append(utils2.get_telegram_key())\n",
    "\n",
    "import numpy as np\n",
    "import pandas as pd\n"
   ]
  },
  {
   "cell_type": "code",
   "execution_count": null,
   "metadata": {},
   "outputs": [],
   "source": [
    "utils.get_account_balance()"
   ]
  },
  {
   "cell_type": "code",
   "execution_count": null,
   "metadata": {},
   "outputs": [],
   "source": [
    "#client.get_account_snapshot(type='SPOT')"
   ]
  },
  {
   "cell_type": "code",
   "execution_count": null,
   "metadata": {},
   "outputs": [],
   "source": [
    "symbol = 'SOLUSDT'\n",
    "symbol_info = utils.get_client().get_symbol_info(symbol=symbol)\n",
    "print(f'symbol_info: {symbol_info}')\n"
   ]
  },
  {
   "cell_type": "code",
   "execution_count": null,
   "metadata": {},
   "outputs": [],
   "source": [
    "price_order = utils.get_client().get_symbol_ticker(symbol=symbol)\n",
    "symbol_info, symbol_precision, quote_precision, quantity_precision, price_precision, step_size, tick_size = utils.get_symbol_info(symbol)\n",
    "price = round(float(price_order['price']), symbol_precision)\n",
    "\n",
    "stop_loss, stop_loss = utils.calc_take_profit_stop_loss('LONG', price, 1.0, 1)\n",
    "print((symbol_precision, price_precision, step_size, tick_size))\n",
    "print((f'price: {price} - take_profit: {stop_loss} - stop_loss: {stop_loss}'))"
   ]
  },
  {
   "cell_type": "code",
   "execution_count": null,
   "metadata": {},
   "outputs": [],
   "source": [
    "amount_invested, balance = utils.get_amount_to_invest()  # ok\n",
    "\n",
    "ledger_params = utils.get_params_operation(np.datetime64('now'), symbol, '1m', 'BUY', 1.0, amount_invested, stop_loss, stop_loss,\n",
    "\t\t\t\t\t\t\t\t\t\t\t\tprice, 30.0, stop_loss, 0.0, 1.0, 'LONG', balance, symbol_precision, quote_precision, quantity_precision, price_precision, tick_size, step_size)  # ok\n",
    "print(ledger_params)"
   ]
  },
  {
   "cell_type": "code",
   "execution_count": null,
   "metadata": {},
   "outputs": [],
   "source": [
    "#order_buy_id, order_sell_id = utils.register_operation(ledger_params)\n",
    "#print((order_buy_id, order_sell_id))"
   ]
  },
  {
   "cell_type": "code",
   "execution_count": 3,
   "metadata": {},
   "outputs": [],
   "source": [
    "symbol = 'SOLUSDT'\n",
    "interval = '1m'\n",
    "\n",
    "id_buy = f'{symbol}_{interval}_buy'\n",
    "id_limit = f'{symbol}_{interval}_limit'\n",
    "id_stop = f'{symbol}_{interval}_stop'\n",
    "#orders = utils.get_client().get_all_orders(symbol=symbol)\n",
    "#orders"
   ]
  },
  {
   "cell_type": "code",
   "execution_count": 11,
   "metadata": {},
   "outputs": [
    {
     "name": "stdout",
     "output_type": "stream",
     "text": [
      "{'symbol': 'SOLUSDT', 'orderId': 4683095827, 'orderListId': -1, 'clientOrderId': 'SOLUSDT_30m_buy', 'price': '107.70000000', 'origQty': '0.28000000', 'executedQty': '0.28000000', 'cummulativeQuoteQty': '30.15600000', 'status': 'FILLED', 'timeInForce': 'GTC', 'type': 'LIMIT', 'side': 'BUY', 'stopPrice': '0.00000000', 'icebergQty': '0.00000000', 'time': 1704240761747, 'updateTime': 1704240763291, 'isWorking': True, 'workingTime': 1704240761747, 'origQuoteOrderQty': '0.00000000', 'selfTradePreventionMode': 'EXPIRE_MAKER'}\n",
      "107.7\n"
     ]
    }
   ],
   "source": [
    "symbol = 'SOLUSDT'\n",
    "interval = '30m'\n",
    "\n",
    "id_limit = f'{symbol}_{interval}_BUY'\n",
    "\n",
    "order = utils.get_client().get_order(symbol=symbol, origClientOrderId=id_limit)\n",
    "print(order)\n",
    "purchased_price = float(order['price'])\n",
    "print(purchased_price)"
   ]
  },
  {
   "cell_type": "code",
   "execution_count": 10,
   "metadata": {},
   "outputs": [
    {
     "name": "stdout",
     "output_type": "stream",
     "text": [
      "{'symbol': 'SOLUSDT', 'orderId': 4683097653, 'orderListId': 96467264, 'clientOrderId': 'SOLUSDT_30m_limit', 'price': '109.32000000', 'origQty': '0.28000000', 'executedQty': '0.00000000', 'cummulativeQuoteQty': '0.00000000', 'status': 'NEW', 'timeInForce': 'GTC', 'type': 'LIMIT_MAKER', 'side': 'SELL', 'stopPrice': '0.00000000', 'icebergQty': '0.00000000', 'time': 1704240773093, 'updateTime': 1704240773093, 'isWorking': True, 'workingTime': 1704240773093, 'origQuoteOrderQty': '0.00000000', 'selfTradePreventionMode': 'EXPIRE_MAKER'}\n",
      "109.32\n"
     ]
    }
   ],
   "source": [
    "id_limit = f'{symbol}_{interval}_limit'\n",
    "\n",
    "order = utils.get_client().get_order(symbol=symbol, origClientOrderId=id_limit)\n",
    "print(order)\n",
    "stop_loss = float(order['price'])\n",
    "print(stop_loss)"
   ]
  },
  {
   "cell_type": "code",
   "execution_count": 13,
   "metadata": {},
   "outputs": [
    {
     "name": "stdout",
     "output_type": "stream",
     "text": [
      "{'symbol': 'SOLUSDT', 'orderId': 4683097652, 'orderListId': 96467264, 'clientOrderId': 'SOLUSDT_30m_stop', 'price': '93.11000000', 'origQty': '0.28000000', 'executedQty': '0.00000000', 'cummulativeQuoteQty': '0.00000000', 'status': 'NEW', 'timeInForce': 'GTC', 'type': 'STOP_LOSS_LIMIT', 'side': 'SELL', 'stopPrice': '98.01000000', 'icebergQty': '0.00000000', 'time': 1704240773093, 'updateTime': 1704240773093, 'isWorking': False, 'workingTime': -1, 'origQuoteOrderQty': '0.00000000', 'selfTradePreventionMode': 'EXPIRE_MAKER'}\n",
      "98.01\n"
     ]
    }
   ],
   "source": [
    "id_limit = f'{symbol}_{interval}_stop'\n",
    "\n",
    "order = utils.get_client().get_order(symbol=symbol, origClientOrderId=id_limit)\n",
    "print(order)\n",
    "stop_loss = float(order['stopPrice'])\n",
    "print(stop_loss)"
   ]
  },
  {
   "cell_type": "code",
   "execution_count": null,
   "metadata": {},
   "outputs": [],
   "source": [
    "purshased_price = 0.0\n",
    "stop_loss = 0.0\n",
    "stop_loss = 0.0\n",
    "df_order = pd.DataFrame(orders)\n",
    "key = (df_order['clientOrderId'] == id_buy) | (df_order['clientOrderId'] == id_limit) | (df_order['clientOrderId'] == id_stop)\n",
    "if True: # key.sum() > 0:\n",
    "\tdf_order = df_order[key]\n",
    "\tis_purchased = df_order['status'].isin([Client.ORDER_STATUS_NEW, Client.ORDER_STATUS_PARTIALLY_FILLED, Client.ORDER_STATUS_PENDING_CANCEL]).sum() > 0\n",
    "\tif is_purchased:\n",
    "\t\thas_buy = df_order['clientOrderId'] == id_buy\n",
    "\t\tif has_buy.sum() > 0:\n",
    "\t\t\tpurshased_price = float(df_order[has_buy].tail(1)['price'].values[0])\n",
    "\t\thas_limit = df_order['clientOrderId'] == id_limit\n",
    "\t\tif has_limit.sum() > 0:\n",
    "\t\t\tstop_loss = float(df_order[has_limit].tail(1)['price'].values[0])\n",
    "\t\thas_stop = df_order['clientOrderId'] == id_stop\n",
    "\t\tif has_stop.sum() > 0:\n",
    "\t\t\tstop_loss = float(df_order[has_stop].tail(1)['price'].values[0])\n",
    "\n",
    "print(f'purshased_price: {purshased_price} - stop_loss: {stop_loss} - take_profit: {stop_loss}')\n",
    "#df_order.info()\n",
    "df_order"
   ]
  },
  {
   "cell_type": "code",
   "execution_count": null,
   "metadata": {},
   "outputs": [],
   "source": [
    "purchased, purchase_price, amount_invested, stop_loss, stop_loss = utils.is_purchased(symbol, interval)\n",
    "\n",
    "print((f'symbol: {symbol} - interval: {interval} - purchased: {purchased} - purchase_price: {purchase_price} - amount_invested: {amount_invested} - take_profit: {stop_loss} - stop_loss: {stop_loss}'))"
   ]
  },
  {
   "cell_type": "code",
   "execution_count": null,
   "metadata": {},
   "outputs": [],
   "source": [
    "symbol_info, symbol_precision, quote_precision, quantity_precision, price_precision, step_size, tick_size = utils.get_symbol_info(symbol)\n",
    "\n",
    "_time = pd.DataFrame(data=[utils.get_client().get_server_time()])\t\t\t\t \n",
    "\n",
    "stop_loss, stop_loss = utils.calc_take_profit_stop_loss('LONG', 3.048, 4.5, 2) \n",
    "\n",
    "ledger_params = utils.get_params_operation(_time['serverTime'].values[0], symbol, interval, 'BUY', 4.5, 10.0,\n",
    "\t\t\t\t\t\t\t\t\t\t\tstop_loss, stop_loss, 3.048, 0, stop_loss, 0.0, 0.0, 'LONG', balance,\n",
    "\t\t\t\t\t\t\t\t\t\t\tsymbol_precision, quote_precision, quantity_precision, price_precision, step_size, tick_size)  # ok\n",
    "print(ledger_params)"
   ]
  },
  {
   "cell_type": "code",
   "execution_count": null,
   "metadata": {},
   "outputs": [],
   "source": [
    "utils.register_operation(ledger_params)"
   ]
  }
 ],
 "metadata": {
  "kernelspec": {
   "display_name": "rapids-23.10",
   "language": "python",
   "name": "python3"
  },
  "language_info": {
   "codemirror_mode": {
    "name": "ipython",
    "version": 3
   },
   "file_extension": ".py",
   "mimetype": "text/x-python",
   "name": "python",
   "nbconvert_exporter": "python",
   "pygments_lexer": "ipython3",
   "version": "3.10.13"
  }
 },
 "nbformat": 4,
 "nbformat_minor": 2
}
