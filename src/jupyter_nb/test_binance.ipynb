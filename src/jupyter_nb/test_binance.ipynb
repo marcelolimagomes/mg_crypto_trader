{
 "cells": [
  {
   "cell_type": "code",
   "execution_count": 1,
   "metadata": {},
   "outputs": [],
   "source": [
    "import sys\n",
    "sys.path.insert(0, sys.path[0].removesuffix('/src/jupyter_nb'))\n",
    "from binance import Client\n",
    "from datetime import datetime \n",
    "\n",
    "import src.utils_binance as utils\n",
    "import time\n"
   ]
  },
  {
   "cell_type": "code",
   "execution_count": 2,
   "metadata": {},
   "outputs": [
    {
     "name": "stdout",
     "output_type": "stream",
     "text": [
      "New Instance of Client: <binance.client.Client object at 0x7fa65b0951e0>\n"
     ]
    },
    {
     "data": {
      "text/plain": [
       "{'ipRestrict': True,\n",
       " 'createTime': 1701981408000,\n",
       " 'enableMargin': False,\n",
       " 'enableFutures': False,\n",
       " 'enableVanillaOptions': False,\n",
       " 'enableReading': True,\n",
       " 'enableSpotAndMarginTrading': True,\n",
       " 'enableWithdrawals': False,\n",
       " 'enableInternalTransfer': False,\n",
       " 'permitsUniversalTransfer': False,\n",
       " 'enablePortfolioMarginTrading': False}"
      ]
     },
     "execution_count": 2,
     "metadata": {},
     "output_type": "execute_result"
    }
   ],
   "source": [
    "client = utils.get_client()\n",
    "client.get_account_api_permissions()"
   ]
  },
  {
   "cell_type": "code",
   "execution_count": null,
   "metadata": {},
   "outputs": [],
   "source": [
    "#client.get_account_snapshot(type='SPOT')"
   ]
  },
  {
   "cell_type": "code",
   "execution_count": 3,
   "metadata": {},
   "outputs": [],
   "source": [
    "def get_asset_balance(asset):\n",
    "\tasset_balance = utils.get_client().get_asset_balance(asset)\n",
    "\treturn float(asset_balance['free'])\n",
    "\n",
    "def get_price_precision(minPrice: float):\n",
    "\tresult = 8\n",
    "\tif minPrice >= 1.0:\n",
    "\t\tresult = 0\n",
    "\telif minPrice >= 0.1:\n",
    "\t\tresult = 1\n",
    "\telif minPrice >= 0.01:\n",
    "\t\tresult = 2\n",
    "\telif minPrice >= 0.001:\n",
    "\t\tresult = 3\n",
    "\telif minPrice >= 0.0001:\n",
    "\t\tresult = 4\n",
    "\telif minPrice >= 0.00001:\n",
    "\t\tresult = 5\n",
    "\telif minPrice >= 0.000001:\n",
    "\t\tresult = 6\n",
    "\telif minPrice >= 0.0000001:\n",
    "\t\tresult = 7\n",
    "\treturn result"
   ]
  },
  {
   "cell_type": "code",
   "execution_count": 5,
   "metadata": {},
   "outputs": [
    {
     "name": "stdout",
     "output_type": "stream",
     "text": [
      "symbol_info: {'symbol': 'UNIUSDT', 'status': 'TRADING', 'baseAsset': 'UNI', 'baseAssetPrecision': 8, 'quoteAsset': 'USDT', 'quotePrecision': 8, 'quoteAssetPrecision': 8, 'baseCommissionPrecision': 8, 'quoteCommissionPrecision': 8, 'orderTypes': ['LIMIT', 'LIMIT_MAKER', 'MARKET', 'STOP_LOSS_LIMIT', 'TAKE_PROFIT_LIMIT'], 'icebergAllowed': True, 'ocoAllowed': True, 'quoteOrderQtyMarketAllowed': True, 'allowTrailingStop': True, 'cancelReplaceAllowed': True, 'isSpotTradingAllowed': True, 'isMarginTradingAllowed': True, 'filters': [{'filterType': 'PRICE_FILTER', 'minPrice': '0.00100000', 'maxPrice': '10000.00000000', 'tickSize': '0.00100000'}, {'filterType': 'LOT_SIZE', 'minQty': '0.01000000', 'maxQty': '90000.00000000', 'stepSize': '0.01000000'}, {'filterType': 'ICEBERG_PARTS', 'limit': 10}, {'filterType': 'MARKET_LOT_SIZE', 'minQty': '0.00000000', 'maxQty': '90734.54108786', 'stepSize': '0.00000000'}, {'filterType': 'TRAILING_DELTA', 'minTrailingAboveDelta': 10, 'maxTrailingAboveDelta': 2000, 'minTrailingBelowDelta': 10, 'maxTrailingBelowDelta': 2000}, {'filterType': 'PERCENT_PRICE_BY_SIDE', 'bidMultiplierUp': '5', 'bidMultiplierDown': '0.2', 'askMultiplierUp': '5', 'askMultiplierDown': '0.2', 'avgPriceMins': 5}, {'filterType': 'NOTIONAL', 'minNotional': '5.00000000', 'applyMinToMarket': True, 'maxNotional': '9000000.00000000', 'applyMaxToMarket': False, 'avgPriceMins': 5}, {'filterType': 'MAX_NUM_ORDERS', 'maxNumOrders': 200}, {'filterType': 'MAX_NUM_ALGO_ORDERS', 'maxNumAlgoOrders': 5}], 'permissions': ['SPOT', 'MARGIN', 'TRD_GRP_004', 'TRD_GRP_005', 'TRD_GRP_006', 'TRD_GRP_009', 'TRD_GRP_010', 'TRD_GRP_011', 'TRD_GRP_012', 'TRD_GRP_013', 'TRD_GRP_014', 'TRD_GRP_015', 'TRD_GRP_016', 'TRD_GRP_017', 'TRD_GRP_018', 'TRD_GRP_019', 'TRD_GRP_020', 'TRD_GRP_021', 'TRD_GRP_022', 'TRD_GRP_023', 'TRD_GRP_024', 'TRD_GRP_025'], 'defaultSelfTradePreventionMode': 'EXPIRE_MAKER', 'allowedSelfTradePreventionModes': ['EXPIRE_TAKER', 'EXPIRE_MAKER', 'EXPIRE_BOTH']}\n",
      "price_precision: 3\n"
     ]
    }
   ],
   "source": [
    "order_to_buy = 'UNIUSDT'\n",
    "symbol_info = client.get_symbol_info(symbol=order_to_buy)\n",
    "symbol_precision = int(symbol_info['baseAssetPrecision'])\n",
    "print(f'symbol_info: {symbol_info}')\n",
    "price_precision = get_price_precision(float(symbol_info['filters'][0]['tickSize']))\n",
    "print(f'price_precision: {price_precision}')"
   ]
  },
  {
   "cell_type": "code",
   "execution_count": null,
   "metadata": {},
   "outputs": [],
   "source": [
    "amount = 10.00\n",
    "usdt_asset_balance = client.get_asset_balance('USDT')\n",
    "print(usdt_asset_balance)\n",
    "balance = float(usdt_asset_balance['free'])\n",
    "if balance < 5.00:\n",
    "\tprint(f'Not enough balance: {balance:.2f} USDT')\n",
    "elif balance < amount and balance >= 5.00:\n",
    "\tamount = balance\n",
    "print(f'Enough balance: {balance:.2f} USDT - Amount to buy: {amount:.2f} USDT')\n"
   ]
  },
  {
   "cell_type": "code",
   "execution_count": null,
   "metadata": {},
   "outputs": [],
   "source": [
    "price_order = client.get_symbol_ticker(symbol=order_to_buy)\n",
    "price = round(float(price_order['price']), symbol_precision)\n",
    "print(price_order)\n",
    "quantity = round(amount / price, 2)\n",
    "print(f'quantity: {quantity}')"
   ]
  },
  {
   "cell_type": "code",
   "execution_count": null,
   "metadata": {},
   "outputs": [],
   "source": [
    "order_buy_id = client.order_limit_buy(\n",
    "\tsymbol=order_to_buy,\n",
    "\tquantity=quantity,\n",
    "\tprice=str(price)\n",
    ")\n",
    "\n",
    "order_buy_id"
   ]
  },
  {
   "cell_type": "code",
   "execution_count": 6,
   "metadata": {},
   "outputs": [
    {
     "name": "stdout",
     "output_type": "stream",
     "text": [
      "{'symbol': 'UNIUSDT', 'orderId': 1938289125, 'orderListId': -1, 'clientOrderId': 'IqhzIE2h8fXJhQ8FBoYzkO', 'price': '6.21600000', 'origQty': '3.22000000', 'executedQty': '3.22000000', 'cummulativeQuoteQty': '20.01552000', 'status': 'FILLED', 'timeInForce': 'GTC', 'type': 'LIMIT', 'side': 'BUY', 'stopPrice': '0.00000000', 'icebergQty': '0.00000000', 'time': 1702614616088, 'updateTime': 1702614616088, 'isWorking': True, 'workingTime': 1702614616088, 'origQuoteOrderQty': '0.00000000', 'selfTradePreventionMode': 'EXPIRE_MAKER'} \n",
      "\n",
      "UNIUSDT 6.21600000 3.22000000 BUY LIMIT FILLED\n",
      "\n",
      "{'symbol': 'UNIUSDT', 'orderId': 1938289152, 'orderListId': 95549120, 'clientOrderId': 'CeRMxioAE6OBbS1bMgprZL', 'price': '5.59400000', 'origQty': '3.22000000', 'executedQty': '3.22000000', 'cummulativeQuoteQty': '18.91428000', 'status': 'FILLED', 'timeInForce': 'GTC', 'type': 'STOP_LOSS_LIMIT', 'side': 'SELL', 'stopPrice': '5.87400000', 'icebergQty': '0.00000000', 'time': 1702614619016, 'updateTime': 1702868147038, 'isWorking': True, 'workingTime': 1702868147038, 'origQuoteOrderQty': '0.00000000', 'selfTradePreventionMode': 'EXPIRE_MAKER'} \n",
      "\n",
      "UNIUSDT 5.59400000 3.22000000 SELL STOP_LOSS_LIMIT FILLED\n",
      "\n",
      "{'symbol': 'UNIUSDT', 'orderId': 1938289153, 'orderListId': 95549120, 'clientOrderId': 'pYDyLzhjBCbCRDFX9g3B7y', 'price': '6.37100000', 'origQty': '3.22000000', 'executedQty': '0.00000000', 'cummulativeQuoteQty': '0.00000000', 'status': 'EXPIRED', 'timeInForce': 'GTC', 'type': 'LIMIT_MAKER', 'side': 'SELL', 'stopPrice': '0.00000000', 'icebergQty': '0.00000000', 'time': 1702614619016, 'updateTime': 1702868147038, 'isWorking': True, 'workingTime': 1702614619016, 'origQuoteOrderQty': '0.00000000', 'selfTradePreventionMode': 'EXPIRE_MAKER'} \n",
      "\n",
      "UNIUSDT 6.37100000 3.22000000 SELL LIMIT_MAKER EXPIRED\n",
      "\n",
      "{'symbol': 'UNIUSDT', 'orderId': 1942454644, 'orderListId': -1, 'clientOrderId': 'XOiuIb6tM5Ax7sxaWBGU1U', 'price': '5.67700000', 'origQty': '1.40000000', 'executedQty': '1.40000000', 'cummulativeQuoteQty': '7.94780000', 'status': 'FILLED', 'timeInForce': 'GTC', 'type': 'LIMIT', 'side': 'BUY', 'stopPrice': '0.00000000', 'icebergQty': '0.00000000', 'time': 1702895126446, 'updateTime': 1702895133944, 'isWorking': True, 'workingTime': 1702895126446, 'origQuoteOrderQty': '0.00000000', 'selfTradePreventionMode': 'EXPIRE_MAKER'} \n",
      "\n",
      "UNIUSDT 5.67700000 1.40000000 BUY LIMIT FILLED\n",
      "\n",
      "{'symbol': 'UNIUSDT', 'orderId': 1942455352, 'orderListId': 95672845, 'clientOrderId': 'jV8RpSBj7DJf5Bl5tp7Edl', 'price': '5.11000000', 'origQty': '1.40000000', 'executedQty': '0.00000000', 'cummulativeQuoteQty': '0.00000000', 'status': 'EXPIRED', 'timeInForce': 'GTC', 'type': 'STOP_LOSS_LIMIT', 'side': 'SELL', 'stopPrice': '5.36600000', 'icebergQty': '0.00000000', 'time': 1702895135319, 'updateTime': 1702926544909, 'isWorking': False, 'workingTime': -1, 'origQuoteOrderQty': '0.00000000', 'selfTradePreventionMode': 'EXPIRE_MAKER'} \n",
      "\n",
      "UNIUSDT 5.11000000 1.40000000 SELL STOP_LOSS_LIMIT EXPIRED\n",
      "\n",
      "{'symbol': 'UNIUSDT', 'orderId': 1942455353, 'orderListId': 95672845, 'clientOrderId': '6uPH1fGAMui6qCyR9urG0J', 'price': '5.82000000', 'origQty': '1.40000000', 'executedQty': '1.40000000', 'cummulativeQuoteQty': '8.14800000', 'status': 'FILLED', 'timeInForce': 'GTC', 'type': 'LIMIT_MAKER', 'side': 'SELL', 'stopPrice': '0.00000000', 'icebergQty': '0.00000000', 'time': 1702895135319, 'updateTime': 1702926544909, 'isWorking': True, 'workingTime': 1702895135319, 'origQuoteOrderQty': '0.00000000', 'selfTradePreventionMode': 'EXPIRE_MAKER'} \n",
      "\n",
      "UNIUSDT 5.82000000 1.40000000 SELL LIMIT_MAKER FILLED\n",
      "\n",
      "{'symbol': 'UNIUSDT', 'orderId': 1943074886, 'orderListId': -1, 'clientOrderId': 'qiCT7a1JIYoVybcNk0ph0M', 'price': '5.78000000', 'origQty': '1.41000000', 'executedQty': '1.41000000', 'cummulativeQuoteQty': '8.14849000', 'status': 'FILLED', 'timeInForce': 'GTC', 'type': 'LIMIT', 'side': 'BUY', 'stopPrice': '0.00000000', 'icebergQty': '0.00000000', 'time': 1702930747354, 'updateTime': 1702930747354, 'isWorking': True, 'workingTime': 1702930747354, 'origQuoteOrderQty': '0.00000000', 'selfTradePreventionMode': 'EXPIRE_MAKER'} \n",
      "\n",
      "UNIUSDT 5.78000000 1.41000000 BUY LIMIT FILLED\n",
      "\n",
      "{'symbol': 'UNIUSDT', 'orderId': 1943074924, 'orderListId': 95691601, 'clientOrderId': 'XCm48u1CuurIsxylqZkzs3', 'price': '5.20200000', 'origQty': '1.40000000', 'executedQty': '0.00000000', 'cummulativeQuoteQty': '0.00000000', 'status': 'EXPIRED', 'timeInForce': 'GTC', 'type': 'STOP_LOSS_LIMIT', 'side': 'SELL', 'stopPrice': '5.46200000', 'icebergQty': '0.00000000', 'time': 1702930750197, 'updateTime': 1702936070306, 'isWorking': False, 'workingTime': -1, 'origQuoteOrderQty': '0.00000000', 'selfTradePreventionMode': 'EXPIRE_MAKER'} \n",
      "\n",
      "UNIUSDT 5.20200000 1.40000000 SELL STOP_LOSS_LIMIT EXPIRED\n",
      "\n",
      "{'symbol': 'UNIUSDT', 'orderId': 1943074925, 'orderListId': 95691601, 'clientOrderId': 'j3fi1422KmDdcQO6b7gDJ3', 'price': '5.92500000', 'origQty': '1.40000000', 'executedQty': '1.40000000', 'cummulativeQuoteQty': '8.29500000', 'status': 'FILLED', 'timeInForce': 'GTC', 'type': 'LIMIT_MAKER', 'side': 'SELL', 'stopPrice': '0.00000000', 'icebergQty': '0.00000000', 'time': 1702930750197, 'updateTime': 1702936070306, 'isWorking': True, 'workingTime': 1702930750197, 'origQuoteOrderQty': '0.00000000', 'selfTradePreventionMode': 'EXPIRE_MAKER'} \n",
      "\n",
      "UNIUSDT 5.92500000 1.40000000 SELL LIMIT_MAKER FILLED\n",
      "\n",
      "{'symbol': 'UNIUSDT', 'orderId': 1943257632, 'orderListId': -1, 'clientOrderId': 'Hw8R14bktGd39OrM9TcAkU', 'price': '5.90900000', 'origQty': '1.37000000', 'executedQty': '1.37000000', 'cummulativeQuoteQty': '8.09533000', 'status': 'FILLED', 'timeInForce': 'GTC', 'type': 'LIMIT', 'side': 'BUY', 'stopPrice': '0.00000000', 'icebergQty': '0.00000000', 'time': 1702944835070, 'updateTime': 1702944835070, 'isWorking': True, 'workingTime': 1702944835070, 'origQuoteOrderQty': '0.00000000', 'selfTradePreventionMode': 'EXPIRE_MAKER'} \n",
      "\n",
      "UNIUSDT 5.90900000 1.37000000 BUY LIMIT FILLED\n",
      "\n",
      "{'symbol': 'UNIUSDT', 'orderId': 1943257701, 'orderListId': 95699618, 'clientOrderId': 'DOPbMrM4G0H1GAHcR68mZl', 'price': '5.31800000', 'origQty': '1.37000000', 'executedQty': '0.00000000', 'cummulativeQuoteQty': '0.00000000', 'status': 'NEW', 'timeInForce': 'GTC', 'type': 'STOP_LOSS_LIMIT', 'side': 'SELL', 'stopPrice': '5.58400000', 'icebergQty': '0.00000000', 'time': 1702944837243, 'updateTime': 1702944837243, 'isWorking': False, 'workingTime': -1, 'origQuoteOrderQty': '0.00000000', 'selfTradePreventionMode': 'EXPIRE_MAKER'} \n",
      "\n",
      "UNIUSDT 5.31800000 1.37000000 SELL STOP_LOSS_LIMIT NEW\n",
      "\n",
      "{'symbol': 'UNIUSDT', 'orderId': 1943257702, 'orderListId': 95699618, 'clientOrderId': 'siYemHgMbiioxbag05Vk9D', 'price': '6.05700000', 'origQty': '1.37000000', 'executedQty': '0.00000000', 'cummulativeQuoteQty': '0.00000000', 'status': 'NEW', 'timeInForce': 'GTC', 'type': 'LIMIT_MAKER', 'side': 'SELL', 'stopPrice': '0.00000000', 'icebergQty': '0.00000000', 'time': 1702944837243, 'updateTime': 1702944837243, 'isWorking': True, 'workingTime': 1702944837243, 'origQuoteOrderQty': '0.00000000', 'selfTradePreventionMode': 'EXPIRE_MAKER'} \n",
      "\n",
      "UNIUSDT 6.05700000 1.37000000 SELL LIMIT_MAKER NEW\n",
      "\n"
     ]
    }
   ],
   "source": [
    "ticker = utils.get_client().get_all_orders(symbol=order_to_buy)\n",
    "\n",
    "for order in ticker:\n",
    "\tprint(order, '\\n')\n",
    "\tprint(f\"{order['symbol']} {order['price']} {order['origQty']} {order['side']} {order['type']} {order['status']}\\n\")"
   ]
  },
  {
   "cell_type": "code",
   "execution_count": null,
   "metadata": {},
   "outputs": [],
   "source": [
    "margin = 0.015\n",
    "multiplier = 2\n",
    "\n",
    "price_precision = utils.get_precision(float(params['price_precision']))\n",
    "take_profit = round(float(params['take_profit']), price_precision)\n",
    "stop_loss_target = round(float(params['stop_loss']), price_precision)\n",
    "stop_loss_trigger = round(stop_loss_target * 1.05, price_precision)\n",
    "purchase_price = params['purchase_price']\n",
    "\n",
    "filled_asset_balance = client.get_asset_balance(params['symbol'].split('USDT')[0])\n",
    "int_quantity = filled_asset_balance['free'].split('.')[0]\n",
    "frac_quantity = filled_asset_balance['free'].split('.')[1][:price_precision + 1]\n",
    "quantity = float(int_quantity + '.' + frac_quantity)\n",
    "\n",
    "oder_oco_sell_id = None\n",
    "# oder_oco_sell_id = client.order_oco_sell(symbol=params['symbol'], quantity=quantity, price=str(take_profit), stopPrice=str(stop_loss_trigger), stopLimitPrice=str(stop_loss_target), stopLimitTimeInForce='GTC')\n",
    "\n",
    "info_msg = f'ORDER SELL: symbol: {params[\"symbol\"]} purchase_price: {purchase_price} price_precision: {price_precision} quantity: {quantity} take_profit: {take_profit} stop_loss_target: {stop_loss_target} stop_loss_trigger: {stop_loss_trigger}'\n",
    "log.info(info_msg)\n",
    "sm.send_to_telegram(info_msg)\n",
    "\n",
    "log.info(f'oder_oco_sell_id: {oder_oco_sell_id}')"
   ]
  }
 ],
 "metadata": {
  "kernelspec": {
   "display_name": "rapids-23.10",
   "language": "python",
   "name": "python3"
  },
  "language_info": {
   "codemirror_mode": {
    "name": "ipython",
    "version": 3
   },
   "file_extension": ".py",
   "mimetype": "text/x-python",
   "name": "python",
   "nbconvert_exporter": "python",
   "pygments_lexer": "ipython3",
   "version": "3.10.13"
  }
 },
 "nbformat": 4,
 "nbformat_minor": 2
}
