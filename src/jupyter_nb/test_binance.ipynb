{
 "cells": [
  {
   "cell_type": "code",
   "execution_count": 37,
   "metadata": {},
   "outputs": [],
   "source": [
    "import sys\n",
    "sys.path.insert(0, sys.path[0].removesuffix('/src/jupyter_nb'))\n",
    "from binance import Client\n",
    "from datetime import datetime \n",
    "\n",
    "import src.utils_binance as utils\n",
    "import src.utils as utils2\n",
    "import src.myenv as myenv\n",
    "import time\n",
    "myenv.telegram_key.append(utils2.get_telegram_key())\n",
    "\n",
    "import numpy as np\n",
    "import pandas as pd\n"
   ]
  },
  {
   "cell_type": "code",
   "execution_count": 38,
   "metadata": {},
   "outputs": [
    {
     "data": {
      "text/plain": [
       "0.06316951"
      ]
     },
     "execution_count": 38,
     "metadata": {},
     "output_type": "execute_result"
    }
   ],
   "source": [
    "utils.get_account_balance()"
   ]
  },
  {
   "cell_type": "code",
   "execution_count": null,
   "metadata": {},
   "outputs": [],
   "source": [
    "#client.get_account_snapshot(type='SPOT')"
   ]
  },
  {
   "cell_type": "code",
   "execution_count": null,
   "metadata": {},
   "outputs": [],
   "source": [
    "symbol = 'AVAXUSDT'\n",
    "symbol_info = utils.get_client().get_symbol_info(symbol=symbol)\n",
    "print(f'symbol_info: {symbol_info}')\n"
   ]
  },
  {
   "cell_type": "code",
   "execution_count": null,
   "metadata": {},
   "outputs": [],
   "source": [
    "price_order = utils.get_client().get_symbol_ticker(symbol=symbol)\n",
    "symbol_info, symbol_precision, price_precision, step_size, tick_size = utils.get_symbol_info(symbol)\n",
    "price = round(float(price_order['price']), symbol_precision)\n",
    "\n",
    "take_profit, stop_loss = utils.calc_take_profit_stop_loss('LONG', price, 1.0, 1)\n",
    "print((symbol_precision, price_precision, step_size, tick_size))\n",
    "print((f'price: {price} - take_profit: {take_profit} - stop_loss: {stop_loss}'))"
   ]
  },
  {
   "cell_type": "code",
   "execution_count": null,
   "metadata": {},
   "outputs": [],
   "source": [
    "amount_invested, balance = utils.get_amount_to_invest()  # ok\n",
    "\n",
    "ledger_params = utils.get_params_operation(np.datetime64('now'), symbol, '1m', 'BUY', 1.0, amount_invested, take_profit, stop_loss,\n",
    "\t\t\t\t\t\t\t\t\t\t\t\tprice, 30.0, take_profit, 0.0, 1.0, 'LONG', balance, symbol_precision, price_precision, tick_size, step_size)  # ok\n",
    "print(ledger_params)"
   ]
  },
  {
   "cell_type": "code",
   "execution_count": null,
   "metadata": {},
   "outputs": [],
   "source": [
    "order_buy_id, order_sell_id = utils.register_operation(ledger_params)\n",
    "print((order_buy_id, order_sell_id))"
   ]
  },
  {
   "cell_type": "code",
   "execution_count": 39,
   "metadata": {},
   "outputs": [],
   "source": [
    "symbol = 'ATOMUSDT'\n",
    "interval = '5m'\n",
    "\n",
    "id_buy = f'{symbol}_{interval}_buy'\n",
    "id_limit = f'{symbol}_{interval}_limit'\n",
    "id_stop = f'{symbol}_{interval}_stop'\n",
    "orders = utils.get_client().get_all_orders(symbol=symbol)"
   ]
  },
  {
   "cell_type": "code",
   "execution_count": 40,
   "metadata": {},
   "outputs": [
    {
     "name": "stdout",
     "output_type": "stream",
     "text": [
      "purshased_price: 10.8 - stop_loss: 9.029 - take_profit: 11.016\n",
      "<class 'pandas.core.frame.DataFrame'>\n",
      "Int64Index: 3 entries, 20 to 22\n",
      "Data columns (total 20 columns):\n",
      " #   Column                   Non-Null Count  Dtype \n",
      "---  ------                   --------------  ----- \n",
      " 0   symbol                   3 non-null      object\n",
      " 1   orderId                  3 non-null      int64 \n",
      " 2   orderListId              3 non-null      int64 \n",
      " 3   clientOrderId            3 non-null      object\n",
      " 4   price                    3 non-null      object\n",
      " 5   origQty                  3 non-null      object\n",
      " 6   executedQty              3 non-null      object\n",
      " 7   cummulativeQuoteQty      3 non-null      object\n",
      " 8   status                   3 non-null      object\n",
      " 9   timeInForce              3 non-null      object\n",
      " 10  type                     3 non-null      object\n",
      " 11  side                     3 non-null      object\n",
      " 12  stopPrice                3 non-null      object\n",
      " 13  icebergQty               3 non-null      object\n",
      " 14  time                     3 non-null      int64 \n",
      " 15  updateTime               3 non-null      int64 \n",
      " 16  isWorking                3 non-null      bool  \n",
      " 17  workingTime              3 non-null      int64 \n",
      " 18  origQuoteOrderQty        3 non-null      object\n",
      " 19  selfTradePreventionMode  3 non-null      object\n",
      "dtypes: bool(1), int64(5), object(14)\n",
      "memory usage: 483.0+ bytes\n"
     ]
    },
    {
     "data": {
      "text/html": [
       "<div>\n",
       "<style scoped>\n",
       "    .dataframe tbody tr th:only-of-type {\n",
       "        vertical-align: middle;\n",
       "    }\n",
       "\n",
       "    .dataframe tbody tr th {\n",
       "        vertical-align: top;\n",
       "    }\n",
       "\n",
       "    .dataframe thead th {\n",
       "        text-align: right;\n",
       "    }\n",
       "</style>\n",
       "<table border=\"1\" class=\"dataframe\">\n",
       "  <thead>\n",
       "    <tr style=\"text-align: right;\">\n",
       "      <th></th>\n",
       "      <th>symbol</th>\n",
       "      <th>orderId</th>\n",
       "      <th>orderListId</th>\n",
       "      <th>clientOrderId</th>\n",
       "      <th>price</th>\n",
       "      <th>origQty</th>\n",
       "      <th>executedQty</th>\n",
       "      <th>cummulativeQuoteQty</th>\n",
       "      <th>status</th>\n",
       "      <th>timeInForce</th>\n",
       "      <th>type</th>\n",
       "      <th>side</th>\n",
       "      <th>stopPrice</th>\n",
       "      <th>icebergQty</th>\n",
       "      <th>time</th>\n",
       "      <th>updateTime</th>\n",
       "      <th>isWorking</th>\n",
       "      <th>workingTime</th>\n",
       "      <th>origQuoteOrderQty</th>\n",
       "      <th>selfTradePreventionMode</th>\n",
       "    </tr>\n",
       "  </thead>\n",
       "  <tbody>\n",
       "    <tr>\n",
       "      <th>20</th>\n",
       "      <td>ATOMUSDT</td>\n",
       "      <td>2572241869</td>\n",
       "      <td>-1</td>\n",
       "      <td>ATOMUSDT_5m_buy</td>\n",
       "      <td>10.80000000</td>\n",
       "      <td>0.93000000</td>\n",
       "      <td>0.93000000</td>\n",
       "      <td>10.04400000</td>\n",
       "      <td>FILLED</td>\n",
       "      <td>GTC</td>\n",
       "      <td>LIMIT</td>\n",
       "      <td>BUY</td>\n",
       "      <td>0.00000000</td>\n",
       "      <td>0.00000000</td>\n",
       "      <td>1702983042484</td>\n",
       "      <td>1702983045138</td>\n",
       "      <td>True</td>\n",
       "      <td>1702983042484</td>\n",
       "      <td>0.00000000</td>\n",
       "      <td>EXPIRE_MAKER</td>\n",
       "    </tr>\n",
       "    <tr>\n",
       "      <th>21</th>\n",
       "      <td>ATOMUSDT</td>\n",
       "      <td>2572242025</td>\n",
       "      <td>95719071</td>\n",
       "      <td>ATOMUSDT_5m_stop</td>\n",
       "      <td>9.02900000</td>\n",
       "      <td>0.93000000</td>\n",
       "      <td>0.00000000</td>\n",
       "      <td>0.00000000</td>\n",
       "      <td>NEW</td>\n",
       "      <td>GTC</td>\n",
       "      <td>STOP_LOSS_LIMIT</td>\n",
       "      <td>SELL</td>\n",
       "      <td>9.50400000</td>\n",
       "      <td>0.00000000</td>\n",
       "      <td>1702983048373</td>\n",
       "      <td>1702983048373</td>\n",
       "      <td>False</td>\n",
       "      <td>-1</td>\n",
       "      <td>0.00000000</td>\n",
       "      <td>EXPIRE_MAKER</td>\n",
       "    </tr>\n",
       "    <tr>\n",
       "      <th>22</th>\n",
       "      <td>ATOMUSDT</td>\n",
       "      <td>2572242026</td>\n",
       "      <td>95719071</td>\n",
       "      <td>ATOMUSDT_5m_limit</td>\n",
       "      <td>11.01600000</td>\n",
       "      <td>0.93000000</td>\n",
       "      <td>0.00000000</td>\n",
       "      <td>0.00000000</td>\n",
       "      <td>NEW</td>\n",
       "      <td>GTC</td>\n",
       "      <td>LIMIT_MAKER</td>\n",
       "      <td>SELL</td>\n",
       "      <td>0.00000000</td>\n",
       "      <td>0.00000000</td>\n",
       "      <td>1702983048373</td>\n",
       "      <td>1702983048373</td>\n",
       "      <td>True</td>\n",
       "      <td>1702983048373</td>\n",
       "      <td>0.00000000</td>\n",
       "      <td>EXPIRE_MAKER</td>\n",
       "    </tr>\n",
       "  </tbody>\n",
       "</table>\n",
       "</div>"
      ],
      "text/plain": [
       "      symbol     orderId  orderListId      clientOrderId        price  \\\n",
       "20  ATOMUSDT  2572241869           -1    ATOMUSDT_5m_buy  10.80000000   \n",
       "21  ATOMUSDT  2572242025     95719071   ATOMUSDT_5m_stop   9.02900000   \n",
       "22  ATOMUSDT  2572242026     95719071  ATOMUSDT_5m_limit  11.01600000   \n",
       "\n",
       "       origQty executedQty cummulativeQuoteQty  status timeInForce  \\\n",
       "20  0.93000000  0.93000000         10.04400000  FILLED         GTC   \n",
       "21  0.93000000  0.00000000          0.00000000     NEW         GTC   \n",
       "22  0.93000000  0.00000000          0.00000000     NEW         GTC   \n",
       "\n",
       "               type  side   stopPrice  icebergQty           time  \\\n",
       "20            LIMIT   BUY  0.00000000  0.00000000  1702983042484   \n",
       "21  STOP_LOSS_LIMIT  SELL  9.50400000  0.00000000  1702983048373   \n",
       "22      LIMIT_MAKER  SELL  0.00000000  0.00000000  1702983048373   \n",
       "\n",
       "       updateTime  isWorking    workingTime origQuoteOrderQty  \\\n",
       "20  1702983045138       True  1702983042484        0.00000000   \n",
       "21  1702983048373      False             -1        0.00000000   \n",
       "22  1702983048373       True  1702983048373        0.00000000   \n",
       "\n",
       "   selfTradePreventionMode  \n",
       "20            EXPIRE_MAKER  \n",
       "21            EXPIRE_MAKER  \n",
       "22            EXPIRE_MAKER  "
      ]
     },
     "execution_count": 40,
     "metadata": {},
     "output_type": "execute_result"
    }
   ],
   "source": [
    "purshased_price = 0.0\n",
    "stop_loss = 0.0\n",
    "take_profit = 0.0\n",
    "df_order = pd.DataFrame(orders)\n",
    "key = (df_order['clientOrderId'] == id_buy) | (df_order['clientOrderId'] == id_limit) | (df_order['clientOrderId'] == id_stop)\n",
    "if key.sum() > 0:\n",
    "\tdf_order = df_order[key]\n",
    "\tis_purchased = df_order['status'].isin([Client.ORDER_STATUS_NEW, Client.ORDER_STATUS_PARTIALLY_FILLED, Client.ORDER_STATUS_PENDING_CANCEL]).sum() > 0\n",
    "\tif is_purchased:\n",
    "\t\thas_buy = df_order['clientOrderId'] == id_buy\n",
    "\t\tif has_buy.sum() > 0:\n",
    "\t\t\tpurshased_price = float(df_order[has_buy].tail(1)['price'].values[0])\n",
    "\t\thas_limit = df_order['clientOrderId'] == id_limit\n",
    "\t\tif has_limit.sum() > 0:\n",
    "\t\t\ttake_profit = float(df_order[has_limit].tail(1)['price'].values[0])\n",
    "\t\thas_stop = df_order['clientOrderId'] == id_stop\n",
    "\t\tif has_stop.sum() > 0:\n",
    "\t\t\tstop_loss = float(df_order[has_stop].tail(1)['price'].values[0])\n",
    "\n",
    "print(f'purshased_price: {purshased_price} - stop_loss: {stop_loss} - take_profit: {take_profit}')\n",
    "df_order.info()\n",
    "df_order"
   ]
  }
 ],
 "metadata": {
  "kernelspec": {
   "display_name": "rapids-23.10",
   "language": "python",
   "name": "python3"
  },
  "language_info": {
   "codemirror_mode": {
    "name": "ipython",
    "version": 3
   },
   "file_extension": ".py",
   "mimetype": "text/x-python",
   "name": "python",
   "nbconvert_exporter": "python",
   "pygments_lexer": "ipython3",
   "version": "3.10.13"
  }
 },
 "nbformat": 4,
 "nbformat_minor": 2
}
