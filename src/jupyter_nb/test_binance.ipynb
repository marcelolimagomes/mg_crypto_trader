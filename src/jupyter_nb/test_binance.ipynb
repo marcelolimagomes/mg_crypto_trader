{
 "cells": [
  {
   "cell_type": "code",
   "execution_count": null,
   "metadata": {},
   "outputs": [],
   "source": [
    "import sys\n",
    "sys.path.insert(0, sys.path[0].removesuffix('/src/jupyter_nb'))\n",
    "from binance import Client\n",
    "from datetime import datetime \n",
    "\n",
    "import src.utils_binance as utils\n",
    "import time\n"
   ]
  },
  {
   "cell_type": "code",
   "execution_count": null,
   "metadata": {},
   "outputs": [],
   "source": [
    "client = utils.login_binance()\n",
    "client.get_account_api_permissions()"
   ]
  },
  {
   "cell_type": "code",
   "execution_count": null,
   "metadata": {},
   "outputs": [],
   "source": [
    "#client.get_account_snapshot(type='SPOT')"
   ]
  },
  {
   "cell_type": "code",
   "execution_count": null,
   "metadata": {},
   "outputs": [],
   "source": [
    "def get_asset_balance(asset):\n",
    "\tasset_balance = client.get_asset_balance(asset)\n",
    "\treturn float(asset_balance['free'])\n",
    "\n",
    "def get_price_precision(minPrice: float):\n",
    "\tresult = 8\n",
    "\tif minPrice >= 1.0:\n",
    "\t\tresult = 0\n",
    "\telif minPrice >= 0.1:\n",
    "\t\tresult = 1\n",
    "\telif minPrice >= 0.01:\n",
    "\t\tresult = 2\n",
    "\telif minPrice >= 0.001:\n",
    "\t\tresult = 3\n",
    "\telif minPrice >= 0.0001:\n",
    "\t\tresult = 4\n",
    "\telif minPrice >= 0.00001:\n",
    "\t\tresult = 5\n",
    "\telif minPrice >= 0.000001:\n",
    "\t\tresult = 6\n",
    "\telif minPrice >= 0.0000001:\n",
    "\t\tresult = 7\n",
    "\treturn result"
   ]
  },
  {
   "cell_type": "code",
   "execution_count": null,
   "metadata": {},
   "outputs": [],
   "source": [
    "order_to_buy = 'XMRUSDT'\n",
    "symbol_info = client.get_symbol_info(symbol=order_to_buy)\n",
    "symbol_precision = int(symbol_info['baseAssetPrecision'])\n",
    "print(f'symbol_info: {symbol_info}')\n",
    "price_precision = get_price_precision(float(symbol_info['filters'][0]['tickSize']))\n",
    "print(f'price_precision: {price_precision}')"
   ]
  },
  {
   "cell_type": "code",
   "execution_count": null,
   "metadata": {},
   "outputs": [],
   "source": [
    "amount = 10.00\n",
    "usdt_asset_balance = client.get_asset_balance('USDT')\n",
    "print(usdt_asset_balance)\n",
    "balance = float(usdt_asset_balance['free'])\n",
    "if balance < 5.00:\n",
    "\tprint(f'Not enough balance: {balance:.2f} USDT')\n",
    "elif balance < amount and balance >= 5.00:\n",
    "\tamount = balance\n",
    "print(f'Enough balance: {balance:.2f} USDT - Amount to buy: {amount:.2f} USDT')\n"
   ]
  },
  {
   "cell_type": "code",
   "execution_count": null,
   "metadata": {},
   "outputs": [],
   "source": [
    "price_order = client.get_symbol_ticker(symbol=order_to_buy)\n",
    "price = round(float(price_order['price']), symbol_precision)\n",
    "print(price_order)\n",
    "quantity = round(amount / price, 2)\n",
    "print(f'quantity: {quantity}')"
   ]
  },
  {
   "cell_type": "code",
   "execution_count": null,
   "metadata": {},
   "outputs": [],
   "source": [
    "order_buy_id = client.order_limit_buy(\n",
    "\tsymbol=order_to_buy,\n",
    "\tquantity=quantity,\n",
    "\tprice=str(price)\n",
    ")\n",
    "\n",
    "order_buy_id"
   ]
  },
  {
   "cell_type": "code",
   "execution_count": null,
   "metadata": {},
   "outputs": [],
   "source": [
    "ticker = client.get_all_orders(symbol=order_to_buy)\n",
    "\n",
    "for order in ticker:\n",
    "\tprint(order, '\\n')\n",
    "\tprint(f\"{order['symbol']} {order['price']} {order['origQty']} {order['side']} {order['type']} {order['status']}\\n\")"
   ]
  },
  {
   "cell_type": "code",
   "execution_count": null,
   "metadata": {},
   "outputs": [],
   "source": [
    "margin = 0.015\n",
    "multiplier = 2\n",
    "\n",
    "oder_filled = client.get_order(symbol=order_buy_id['symbol'], orderId=order_buy_id['orderId'])\n",
    "print(oder_filled)\n",
    "price_filled = float(oder_filled['price'])\n",
    "#executed_qty = float(oder_filled['executedQty'])\n",
    "\n",
    "take_profit = round(price_filled * (1 + margin), price_precision)\n",
    "stop_loss_target = round(price_filled * (1 - (multiplier * margin)), price_precision)\n",
    "stop_loss_trigger = round(stop_loss_target * 1.005, price_precision)\n",
    "print(f'price_filled: {price_filled} take_profit: {take_profit} stop_loss_target: {stop_loss_target} stop_loss_trigger: {stop_loss_trigger}')"
   ]
  },
  {
   "cell_type": "code",
   "execution_count": null,
   "metadata": {},
   "outputs": [],
   "source": [
    "import math\n",
    "filled_asset_balance = client.get_asset_balance(oder_filled['symbol'].split('USDT')[0])\n",
    "print(filled_asset_balance)\n",
    "\n",
    "int_quantity = filled_asset_balance['free'].split('.')[0]\n",
    "frac_quantity = filled_asset_balance['free'].split('.')[1][:price_precision]\n",
    "quantity = float(int_quantity + '.' + frac_quantity)\n",
    "print(f'price_filled: {price_filled} quantity: {quantity} take_profit: {take_profit} stop_loss_target: {stop_loss_target} stop_loss_trigger: {stop_loss_trigger}')"
   ]
  },
  {
   "cell_type": "code",
   "execution_count": null,
   "metadata": {},
   "outputs": [],
   "source": [
    "oder_oco_sell_id = client.order_oco_sell(\n",
    "\tsymbol=order_to_buy,\n",
    "\tquantity=quantity,\n",
    "\tprice=str(take_profit),\n",
    "\tstopPrice=str(stop_loss_trigger),\n",
    "\tstopLimitPrice=str(stop_loss_target),\n",
    "\tstopLimitTimeInForce='GTC',\n",
    ")\n",
    "\n",
    "oder_oco_sell_id"
   ]
  }
 ],
 "metadata": {
  "kernelspec": {
   "display_name": "rapids-23.10",
   "language": "python",
   "name": "python3"
  },
  "language_info": {
   "codemirror_mode": {
    "name": "ipython",
    "version": 3
   },
   "file_extension": ".py",
   "mimetype": "text/x-python",
   "name": "python",
   "nbconvert_exporter": "python",
   "pygments_lexer": "ipython3",
   "version": "3.10.13"
  }
 },
 "nbformat": 4,
 "nbformat_minor": 2
}
