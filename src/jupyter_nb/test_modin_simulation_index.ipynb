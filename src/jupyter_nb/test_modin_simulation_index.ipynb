{
 "cells": [
  {
   "cell_type": "code",
   "execution_count": 1,
   "metadata": {},
   "outputs": [
    {
     "ename": "ModuleNotFoundError",
     "evalue": "No module named 'plotly'",
     "output_type": "error",
     "traceback": [
      "\u001b[0;31m---------------------------------------------------------------------------\u001b[0m",
      "\u001b[0;31mModuleNotFoundError\u001b[0m                       Traceback (most recent call last)",
      "\u001b[1;32m/home/marcelo/des/mg_crypto_trader/src/jupyter_nb/test_modin_simulation_index.ipynb Célula 1\u001b[0m line \u001b[0;36m2\n\u001b[1;32m     <a href='vscode-notebook-cell:/home/marcelo/des/mg_crypto_trader/src/jupyter_nb/test_modin_simulation_index.ipynb#W1sZmlsZQ%3D%3D?line=17'>18</a>\u001b[0m     \u001b[39mimport\u001b[39;00m \u001b[39msrc\u001b[39;00m\u001b[39m.\u001b[39;00m\u001b[39mmyenv\u001b[39;00m \u001b[39mas\u001b[39;00m \u001b[39mmyenv\u001b[39;00m\n\u001b[1;32m     <a href='vscode-notebook-cell:/home/marcelo/des/mg_crypto_trader/src/jupyter_nb/test_modin_simulation_index.ipynb#W1sZmlsZQ%3D%3D?line=18'>19</a>\u001b[0m \u001b[39melse\u001b[39;00m:\n\u001b[0;32m---> <a href='vscode-notebook-cell:/home/marcelo/des/mg_crypto_trader/src/jupyter_nb/test_modin_simulation_index.ipynb#W1sZmlsZQ%3D%3D?line=19'>20</a>\u001b[0m     \u001b[39mimport\u001b[39;00m \u001b[39msrc\u001b[39;00m\u001b[39m.\u001b[39;00m\u001b[39mutils\u001b[39;00m \u001b[39mas\u001b[39;00m \u001b[39mutils\u001b[39;00m\n\u001b[1;32m     <a href='vscode-notebook-cell:/home/marcelo/des/mg_crypto_trader/src/jupyter_nb/test_modin_simulation_index.ipynb#W1sZmlsZQ%3D%3D?line=20'>21</a>\u001b[0m     \u001b[39mimport\u001b[39;00m \u001b[39msrc\u001b[39;00m\u001b[39m.\u001b[39;00m\u001b[39mcalcEMA\u001b[39;00m \u001b[39mas\u001b[39;00m \u001b[39mcalc_utils\u001b[39;00m\n",
      "File \u001b[0;32m~/des/mg_crypto_trader/src/utils.py:6\u001b[0m\n\u001b[1;32m      3\u001b[0m \u001b[39mimport\u001b[39;00m \u001b[39mtraceback\u001b[39;00m\n\u001b[1;32m      5\u001b[0m \u001b[39mimport\u001b[39;00m \u001b[39mpandas\u001b[39;00m \u001b[39mas\u001b[39;00m \u001b[39mpd\u001b[39;00m\n\u001b[0;32m----> 6\u001b[0m \u001b[39mimport\u001b[39;00m \u001b[39mplotly\u001b[39;00m\u001b[39m.\u001b[39;00m\u001b[39mexpress\u001b[39;00m \u001b[39mas\u001b[39;00m \u001b[39mpx\u001b[39;00m\n\u001b[1;32m      7\u001b[0m \u001b[39mimport\u001b[39;00m \u001b[39mgc\u001b[39;00m\n\u001b[1;32m      8\u001b[0m \u001b[39mimport\u001b[39;00m \u001b[39mlogging\u001b[39;00m\n",
      "\u001b[0;31mModuleNotFoundError\u001b[0m: No module named 'plotly'"
     ]
    }
   ],
   "source": [
    "USE_MOD = False\n",
    "\n",
    "def get_root_dir(path):\n",
    "    for s in path:\n",
    "        if 'jupyter_nb' in s:\n",
    "            return s\n",
    "    return ''\n",
    "import sys\n",
    "local_path = get_root_dir(sys.path).removesuffix('src/jupyter_nb')\n",
    "sys.path.insert(0, local_path)\n",
    "\n",
    "import src.myenv as myenv\n",
    "\n",
    "if USE_MOD:\n",
    "    import src\n",
    "    import src.modin_utils as utils\n",
    "    import src.modin_calc_ema as calc_utils\n",
    "    import src.myenv as myenv\n",
    "else:\n",
    "    import src.utils as utils\n",
    "    import src.calcEMA as calc_utils\n",
    "\n",
    "\n"
   ]
  },
  {
   "cell_type": "code",
   "execution_count": null,
   "metadata": {},
   "outputs": [],
   "source": [
    "if USE_MOD:\n",
    "\timport modin.pandas as pd\n",
    "\timport ray\n",
    "\tray.init(runtime_env={\"py_modules\": [src], 'env_vars': {'__MODIN_AUTOIMPORT_PANDAS__': '1'}}, num_cpus=20)    \n",
    "else:\n",
    "\timport pandas as pd\t"
   ]
  },
  {
   "cell_type": "code",
   "execution_count": null,
   "metadata": {},
   "outputs": [],
   "source": [
    "symbol = 'BTCUSDT'\n",
    "interval = '1h'\n",
    "start_amount_invested = 100.0\n",
    "target_margin = 1.0\n",
    "p_ema = 200\n",
    "min_rsi = 28\n",
    "max_rsi = 80\n",
    "stop_loss_multiplier = 5"
   ]
  },
  {
   "cell_type": "code",
   "execution_count": null,
   "metadata": {},
   "outputs": [],
   "source": [
    "data = utils.get_data(\n",
    "    symbol=symbol,\n",
    "    interval=interval,\n",
    "    updata_data_from_web=False)\n",
    "data = utils.truncate_data_in_days(data, myenv.days_to_validate_train)\n",
    "data"
   ]
  },
  {
   "cell_type": "code",
   "execution_count": null,
   "metadata": {},
   "outputs": [],
   "source": [
    "data = calc_utils.calc_RSI(data)\n",
    "data"
   ]
  },
  {
   "cell_type": "code",
   "execution_count": null,
   "metadata": {},
   "outputs": [],
   "source": [
    "data = calc_utils.calc_ema_periods(data, periods_of_time=[200])\n",
    "data.dropna(inplace=True)\n",
    "data"
   ]
  },
  {
   "cell_type": "code",
   "execution_count": null,
   "metadata": {},
   "outputs": [],
   "source": [
    "df_result_simulation_list = {}\n",
    "\n",
    "df_result_simulation_list[f'{symbol}_{interval}'] = None\n",
    "\n",
    "train_param = {}\n",
    "train_param['all_data'] = data\n",
    "train_param['symbol'] = symbol\n",
    "train_param['interval'] = interval\n",
    "train_param['p_ema'] = 200\n",
    "train_param['target_margin'] = 2.0\n",
    "train_param['min_rsi'] = 30\n",
    "train_param['max_rsi'] = 70\n",
    "train_param['stop_loss_multiplier'] = myenv.stop_loss_multiplier\n",
    "train_param['arguments'] = ''\n",
    "\n",
    "utils.finalize_index_train(train_param=train_param, df_result_simulation_list=df_result_simulation_list, count=1)"
   ]
  }
 ],
 "metadata": {
  "kernelspec": {
   "display_name": "intel",
   "language": "python",
   "name": "python3"
  },
  "language_info": {
   "codemirror_mode": {
    "name": "ipython",
    "version": 3
   },
   "file_extension": ".py",
   "mimetype": "text/x-python",
   "name": "python",
   "nbconvert_exporter": "python",
   "pygments_lexer": "ipython3",
   "version": "3.10.13"
  }
 },
 "nbformat": 4,
 "nbformat_minor": 2
}
