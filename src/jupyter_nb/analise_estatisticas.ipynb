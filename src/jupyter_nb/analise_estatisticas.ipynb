{
 "cells": [
  {
   "cell_type": "code",
   "execution_count": null,
   "metadata": {},
   "outputs": [],
   "source": [
    "import sys\n",
    "sys.path.insert(0, sys.path[0].removesuffix('/src/jupyter_nb'))\n",
    "from pycaret.classification import *\n",
    "from src.utils import *\n",
    "from src.calcEMA import *\n",
    "from src.myenv import *\n",
    "import plotly.express as px\n",
    "cols = myenv.float_kline_cols + ['number_of_trades']"
   ]
  },
  {
   "cell_type": "code",
   "execution_count": null,
   "metadata": {},
   "outputs": [],
   "source": [
    "dados = get_database('BTCUSDT', columns=myenv.all_cols)\n",
    "dados.sort_index(inplace=True)\n",
    "dados.drop(columns=['open_time', 'close_time', 'ignore'], inplace=True)"
   ]
  },
  {
   "cell_type": "code",
   "execution_count": null,
   "metadata": {},
   "outputs": [],
   "source": [
    "dados = calc_RSI(dados)\n",
    "dados.dropna(inplace=True)\n",
    "dados"
   ]
  },
  {
   "cell_type": "code",
   "execution_count": null,
   "metadata": {},
   "outputs": [],
   "source": [
    "_dados = regression_PnL(dados.copy(), 'status', diff_percent=2.0, max_regression_profit_and_loss=24, drop_na=False, drop_calc_cols=False)\n",
    "_dados.dropna(inplace=True)\n",
    "_dados"
   ]
  },
  {
   "cell_type": "code",
   "execution_count": null,
   "metadata": {},
   "outputs": [],
   "source": [
    "pd.set_option('display.max_columns', None)\n",
    "\n",
    "stop_loss=2.0\n",
    "max_regression_profit_and_loss = 24\n",
    "prefix_col_diff = 'd_'\n",
    "label = 'status'\n",
    "\n",
    "# Valida \n",
    "diff_cols = []\n",
    "for s in range(1, max_regression_profit_and_loss + 1):\n",
    "  #diff_cols.append(f'c_{s}')\n",
    "  diff_cols.append(f'd_{s}')\n",
    "_dados[['close', label, *diff_cols]].round(1)"
   ]
  },
  {
   "cell_type": "code",
   "execution_count": null,
   "metadata": {},
   "outputs": [],
   "source": [
    "_dados.loc[_dados['status']=='ESTAVEL'][['close', 'status', *diff_cols]].round(1)"
   ]
  },
  {
   "cell_type": "code",
   "execution_count": null,
   "metadata": {},
   "outputs": [],
   "source": [
    "print(_dados.shape)\n",
    "print(_dados.groupby('status')['status'].count())"
   ]
  }
 ],
 "metadata": {
  "kernelspec": {
   "display_name": ".env",
   "language": "python",
   "name": "python3"
  },
  "language_info": {
   "codemirror_mode": {
    "name": "ipython",
    "version": 3
   },
   "file_extension": ".py",
   "mimetype": "text/x-python",
   "name": "python",
   "nbconvert_exporter": "python",
   "pygments_lexer": "ipython3",
   "version": "3.10.12"
  },
  "orig_nbformat": 4
 },
 "nbformat": 4,
 "nbformat_minor": 2
}
