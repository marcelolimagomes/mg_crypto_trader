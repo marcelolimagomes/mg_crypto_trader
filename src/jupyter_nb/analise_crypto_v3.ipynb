{
 "cells": [
  {
   "cell_type": "code",
   "execution_count": null,
   "metadata": {},
   "outputs": [],
   "source": [
    "import sys\n",
    "sys.path.insert(0, sys.path[0].removesuffix('/src/jupyter_nb'))\n",
    "from pycaret.classification import *\n",
    "from src.utils import *\n",
    "from src.calcEMA import *\n",
    "from src.myenv import *\n",
    "import plotly.express as px\n"
   ]
  },
  {
   "cell_type": "code",
   "execution_count": null,
   "metadata": {},
   "outputs": [],
   "source": [
    "# Variables\n",
    "# ETCUSDT BTCUSDT\n",
    "# symbol = 'ETHUSDT'\n",
    "symbol = 'BTCUSDT'\n",
    "# lightgbm  xgboost\n",
    "estimator = 'xgboost'\n",
    "_compare_models = False\n",
    "\n",
    "start_train_date = '2010-01-01'  # train < and test >=\n",
    "start_test_date = '2023-01-01'  # train < and test >=\n",
    "\n",
    "stop_loss = 2.0\n",
    "label = 'status'\n",
    "regression_times = 24 * 30 * 2  # horas\n",
    "regression_profit_and_loss = 24\n",
    "# numeric_features=['open', 'high', 'low', 'volume', 'close', 'rsi']\n",
    "numeric_features = ['open', 'high', 'low', 'volume', 'close', ]\n",
    "_calc_rsi = True"
   ]
  },
  {
   "cell_type": "markdown",
   "metadata": {},
   "source": [
    "### Metadata\n",
    "\n",
    "<code>\n",
    "Field Name - Description</br>\n",
    "open_time - Kline Open time in unix time format</br>\n",
    "open - Open Price</br>\n",
    "high - High Price</br>\n",
    "low\t- Low Price</br>\n",
    "close\t- Close Price</br>\n",
    "volume - Volume</br>\n",
    "close_time - Kline Close time in unix time format</br>\n",
    "quote_volume - Quote Asset Volume</br>\n",
    "count\t- Number of Trades</br>\n",
    "taker_buy_volume - Taker buy base asset volume during this period</br>\n",
    "taker_buy_quote_volume - Taker buy quote asset volume during this period</br>\n",
    "ignore - Ignore</br>\n",
    "</code>"
   ]
  },
  {
   "cell_type": "code",
   "execution_count": null,
   "metadata": {},
   "outputs": [],
   "source": [
    "use_cols = date_features + numeric_features\n",
    "print(use_cols)\n",
    "all_data = read_data(f'{datadir}/{symbol}', all_cols=None, use_cols=use_cols)\n",
    "\n",
    "# Filter all data\n",
    "all_data = all_data[(all_data['open_time'] >= start_train_date)].copy()\n",
    "\n",
    "print(all_data.info())"
   ]
  },
  {
   "cell_type": "code",
   "execution_count": null,
   "metadata": {},
   "outputs": [],
   "source": [
    "if _calc_rsi:\n",
    "  all_data = calc_RSI(all_data)\n",
    "  numeric_features.append('rsi')\n",
    "  all_data.dropna(inplace=True)\n",
    "print(all_data.info())"
   ]
  },
  {
   "cell_type": "code",
   "execution_count": null,
   "metadata": {},
   "outputs": [],
   "source": [
    "all_cols = date_features + numeric_features\n",
    "print('All Columns: ', all_cols)\n",
    "all_data[all_cols]\n",
    "#all_data = all_data[[all_cols]].copy()"
   ]
  },
  {
   "cell_type": "code",
   "execution_count": null,
   "metadata": {},
   "outputs": [],
   "source": [
    "def regress_until_diff(data: pd.DataFrame, diff_percent: float, max_regression_profit_and_loss=6):\n",
    "    data['close_shift_x'] = 0.0\n",
    "    data['diff_shift_x'] = 0.0\n",
    "    data['shift_x'] = 0\n",
    "    data[label] = 'ESTAVEL'\n",
    "    for row_nu in range(1, data.shape[0]):\n",
    "        diff = 0\n",
    "        i = 1\n",
    "\n",
    "        while (abs(diff) <= diff_percent):\n",
    "            if (i > max_regression_profit_and_loss) or ((row_nu + i) >= data.shape[0]):\n",
    "                break\n",
    "\n",
    "            close = data.iloc[row_nu:row_nu + 1]['close'].values[0]\n",
    "            close_px = data.iloc[row_nu + i:row_nu + i + 1]['close'].values[0]\n",
    "            diff = -100 * (close - close_px) / close\n",
    "            # print(f'ROW_NU: {row_nu} - regresssion_times: {i} - diff: {diff}')\n",
    "            i += 1\n",
    "\n",
    "        data['close_shift_x'].iloc[row_nu:row_nu + 1] = close_px\n",
    "        data['diff_shift_x'].iloc[row_nu:row_nu + 1] = diff\n",
    "        data['shift_x'].iloc[row_nu:row_nu + 1] = i - 1 if i == max_regression_profit_and_loss + 1 else i\n",
    "\n",
    "        if diff >= diff_percent:\n",
    "            data[label].iloc[row_nu:row_nu + 1] = 'SOBE_' + str(diff_percent)\n",
    "            \n",
    "        elif diff <= -diff_percent:\n",
    "            data[label].iloc[row_nu:row_nu + 1] = 'CAI_' + str(diff_percent)\n",
    "\n",
    "    return data.drop(columns=['close_shift_x', 'diff_shift_x', 'shift_x'])"
   ]
  },
  {
   "cell_type": "code",
   "execution_count": null,
   "metadata": {},
   "outputs": [],
   "source": [
    "all_data = regress_until_diff(all_data, stop_loss, regression_profit_and_loss)\n",
    "\n",
    "all_data"
   ]
  },
  {
   "cell_type": "code",
   "execution_count": null,
   "metadata": {},
   "outputs": [],
   "source": [
    "for nf in numeric_features.copy():\n",
    "    for i in range(1, regression_times + 1):\n",
    "        col = nf + \"_\" + str(i)\n",
    "        all_data[col] = all_data[nf].shift(i)\n",
    "        numeric_features.append(col)\n",
    "\n",
    "all_data.dropna(inplace=True)\n",
    "all_data.info()"
   ]
  },
  {
   "cell_type": "code",
   "execution_count": null,
   "metadata": {},
   "outputs": [],
   "source": [
    "train_data = all_data[(all_data['open_time'] >= start_train_date) & (all_data['open_time'] < start_test_date)]\n",
    "train_data = train_data.sort_values(date_features)\n",
    "train_data"
   ]
  },
  {
   "cell_type": "code",
   "execution_count": null,
   "metadata": {},
   "outputs": [],
   "source": [
    "setup = setup(train_data,\n",
    "              train_size=0.7,\n",
    "              target=label,\n",
    "              numeric_features=numeric_features,\n",
    "              date_features=['open_time'],\n",
    "              create_date_columns=[\"hour\", \"day\", \"month\"],\n",
    "              fold_strategy='timeseries',\n",
    "              fold=3,\n",
    "              session_id=123,\n",
    "              normalize=True,\n",
    "              use_gpu=False,\n",
    "              verbose=True,\n",
    "              n_jobs=20,\n",
    "              )"
   ]
  },
  {
   "cell_type": "code",
   "execution_count": null,
   "metadata": {},
   "outputs": [],
   "source": [
    "#Accuracy\tAUC\tRecall\tPrec.\tF1\tKappa\tMCC\n",
    "#model_name = 'lightgbm' 'xgboost'\n",
    "if _compare_models:\n",
    "  best = setup.compare_models()\n",
    "  estimator = best.__class__.__name__\n",
    "else:\n",
    "  best = setup.create_model(estimator)\n",
    "\n",
    "best"
   ]
  },
  {
   "cell_type": "code",
   "execution_count": null,
   "metadata": {},
   "outputs": [],
   "source": [
    "test_data = all_data[all_data['open_time'] >= start_test_date]\n",
    "test_data = test_data.sort_values(date_features)"
   ]
  },
  {
   "cell_type": "code",
   "execution_count": null,
   "metadata": {},
   "outputs": [],
   "source": [
    "# predict on test set\n",
    "holdout_pred = predict_model(best)\n",
    "print(holdout_pred['prediction_score'].mean())\n",
    "\n",
    "holdout_pred[[label, 'prediction_score']].groupby(label).mean()"
   ]
  },
  {
   "cell_type": "code",
   "execution_count": null,
   "metadata": {},
   "outputs": [],
   "source": [
    "predict = predict_model(best, data=test_data.drop(columns=[label]))\n",
    "predict[label] = test_data[label]\n",
    "predict['_score'] = predict['prediction_label'] == predict[label]\n",
    "print('Score Mean:', predict['_score'].mean())"
   ]
  },
  {
   "cell_type": "code",
   "execution_count": null,
   "metadata": {},
   "outputs": [],
   "source": [
    "predict[[label, '_score']].groupby(label).mean()"
   ]
  },
  {
   "cell_type": "code",
   "execution_count": null,
   "metadata": {},
   "outputs": [],
   "source": [
    "final_predict = finalize_model(best) # data=test_data.sort_values(date_features).drop(columns=[label]))"
   ]
  },
  {
   "cell_type": "code",
   "execution_count": null,
   "metadata": {},
   "outputs": [],
   "source": [
    "_predict = predict_model(final_predict, data=test_data.sort_values(date_features).drop(columns=[label]))\n",
    "_predict[label] = test_data[label]\n",
    "_predict['_score'] = _predict['prediction_label'] == _predict[label]\n",
    "print('Score Mean:', _predict['_score'].mean())"
   ]
  },
  {
   "cell_type": "code",
   "execution_count": null,
   "metadata": {},
   "outputs": [],
   "source": [
    "_predict[[label, '_score']].groupby(label).mean()"
   ]
  },
  {
   "cell_type": "code",
   "execution_count": null,
   "metadata": {},
   "outputs": [],
   "source": [
    "for i in range(1, 9999):\n",
    "  filename = f'{symbol}_{estimator}_SL_{stop_loss}_RT_{regression_times}_RPL_{regression_profit_and_loss}_{i}'\n",
    "  print('Model file name: ', filename + '.pkl')\n",
    "  if os.path.exists(filename + '.pkl'):\n",
    "    continue\n",
    "  else:    \n",
    "    save_model(final_predict, filename)\n",
    "    break"
   ]
  }
 ],
 "metadata": {
  "kernelspec": {
   "display_name": "conda_env3.10",
   "language": "python",
   "name": "python3"
  },
  "language_info": {
   "codemirror_mode": {
    "name": "ipython",
    "version": 3
   },
   "file_extension": ".py",
   "mimetype": "text/x-python",
   "name": "python",
   "nbconvert_exporter": "python",
   "pygments_lexer": "ipython3",
   "version": "3.10.12"
  },
  "orig_nbformat": 4
 },
 "nbformat": 4,
 "nbformat_minor": 2
}
