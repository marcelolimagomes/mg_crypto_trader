{
 "cells": [
  {
   "cell_type": "code",
   "execution_count": null,
   "metadata": {},
   "outputs": [],
   "source": [
    "import sys\n",
    "sys.path.insert(0, sys.path[0].removesuffix('/src/crypto'))\n",
    "print(sys.path)"
   ]
  },
  {
   "cell_type": "code",
   "execution_count": null,
   "metadata": {},
   "outputs": [],
   "source": [
    "import pandas as pd\n",
    "from datetime import datetime\n",
    "from pycaret.time_series import *\n",
    "from pycaret import show_versions\n",
    "import os\n",
    "from src.calcEMA import calc_RSI\n",
    "\n",
    "show_versions()"
   ]
  },
  {
   "cell_type": "code",
   "execution_count": null,
   "metadata": {},
   "outputs": [],
   "source": [
    "# Variables\n",
    "datadir = './data'\n",
    "label = 'close'\n",
    "use_cols = ['open_time', 'close']"
   ]
  },
  {
   "cell_type": "markdown",
   "metadata": {},
   "source": [
    "### Metadata\n",
    "\n",
    "<code>\n",
    "Field Name - Description</br>\n",
    "open_time - Kline Open time in unix time format</br>\n",
    "open - Open Price</br>\n",
    "high - High Price</br>\n",
    "low\t- Low Price</br>\n",
    "close\t- Close Price</br>\n",
    "volume - Volume</br>\n",
    "close_time - Kline Close time in unix time format</br>\n",
    "quote_volume - Quote Asset Volume</br>\n",
    "count\t- Number of Trades</br>\n",
    "taker_buy_volume - Taker buy base asset volume during this period</br>\n",
    "taker_buy_quote_volume - Taker buy quote asset volume during this period</br>\n",
    "ignore - Ignore</br>\n",
    "</code>"
   ]
  },
  {
   "cell_type": "code",
   "execution_count": null,
   "metadata": {},
   "outputs": [],
   "source": [
    "def date_parser(x):\n",
    "  return pd.to_datetime(x, unit='ms')\n",
    "\n",
    "def read_data(dir, use_cols = ['open_time', 'close'] ):\n",
    "  filenames = []\n",
    "\n",
    "  for file in os.listdir(dir):\n",
    "      if file.endswith(\".csv\"):\n",
    "          filenames.append(os.path.join(dir, file))\n",
    "\n",
    "  all_cols = ['open_time',\t'open',\t'high',\t'low',\t'close',\t'volume', 'close_time', 'quote_volume', 'count', 'taker_buy_volume', 'taker_buy_quote_volume', 'ignore']   \n",
    "  parse_dates = ['open_time']\n",
    "\n",
    "  dataframes = []\n",
    "\n",
    "  for filename in filenames:\n",
    "    df = pd.read_csv(filename, names=all_cols, parse_dates=parse_dates, date_parser=date_parser, sep=',', decimal='.', usecols=use_cols)\n",
    "    dataframes.append(df)\n",
    "\n",
    "  # Concatenate all DataFrames into a single DataFrame\n",
    "  combined_df = pd.concat(dataframes, ignore_index=True)\n",
    "  combined_df.sort_values(['open_time'], inplace=True)\n",
    "  combined_df['symbol'] = 'BTCUSDT'  \n",
    "  combined_df.index = combined_df['open_time']\n",
    "  combined_df.drop(columns=['open_time'], inplace=True)\n",
    "  return combined_df\n",
    "\n",
    "train_data = read_data(datadir, use_cols)\n",
    "train_data = calc_RSI(train_data, label)\n",
    "train_data.drop(columns=['symbol'], inplace=True)\n",
    "train_data.dropna(inplace=True)\n",
    "train_data = train_data.asfreq('H')\n",
    "train_data['close'] = train_data['close'].ffill()\n",
    "train_data['rsi'] = train_data['rsi'].ffill()\n",
    "print(train_data.info())\n",
    "print(train_data.shape)\n",
    "train_data"
   ]
  },
  {
   "cell_type": "code",
   "execution_count": null,
   "metadata": {},
   "outputs": [],
   "source": [
    "train_data.tail(20)"
   ]
  },
  {
   "cell_type": "code",
   "execution_count": null,
   "metadata": {},
   "outputs": [],
   "source": [
    "categorial_features = ['symbol']\n",
    "#numeric_features = ['open',\t'high',\t'low','volume', 'close', 'rsi' ]\n",
    "numeric_features = use_cols + ['rsi']\n",
    "date_features = ['open_time']\n",
    "\n",
    "exp_name = setup(data = train_data,\n",
    "                 target = label,\n",
    "                 fold = 3,\n",
    "                 session_id = 123,\n",
    "                 n_jobs = -1,\n",
    "                 )"
   ]
  },
  {
   "cell_type": "code",
   "execution_count": null,
   "metadata": {},
   "outputs": [],
   "source": [
    "#best = compare_models(sort = 'MAE') # \n",
    "best = 'huber_cds_dt' #'arima' # 'naive' 'auto_arima' 'rf_cds_dt' 'huber_cds_dt'"
   ]
  },
  {
   "cell_type": "code",
   "execution_count": null,
   "metadata": {},
   "outputs": [],
   "source": [
    "model = create_model(best)"
   ]
  },
  {
   "cell_type": "code",
   "execution_count": null,
   "metadata": {},
   "outputs": [],
   "source": [
    "prediction_holdout = predict_model(model, fh=720)\n",
    "prediction_holdout.head(5)"
   ]
  },
  {
   "cell_type": "code",
   "execution_count": null,
   "metadata": {},
   "outputs": [],
   "source": [
    "prediction_holdout.index = pd.DatetimeIndex(prediction_holdout.index.to_timestamp())"
   ]
  },
  {
   "cell_type": "code",
   "execution_count": null,
   "metadata": {},
   "outputs": [],
   "source": [
    "test_dir = './test'\n",
    "test_data = read_data(test_dir, use_cols=use_cols)\n",
    "test_data['original_label'] = test_data[label]\n",
    "test_data = calc_RSI(test_data, label)\n",
    "test_data.dropna(inplace=True)\n",
    "#print(test_data.info())\n",
    "test_data.head()"
   ]
  },
  {
   "cell_type": "code",
   "execution_count": null,
   "metadata": {},
   "outputs": [],
   "source": [
    "test_data['prediction_label'] = prediction_holdout['y_pred']"
   ]
  },
  {
   "cell_type": "code",
   "execution_count": null,
   "metadata": {},
   "outputs": [],
   "source": [
    "import plotly.express as px\n",
    "\n",
    "start_date = test_data.index.min().strftime(\"%Y-%m-%d\")\n",
    "end_date = test_data.index.max().strftime(\"%Y-%m-%d\")\n",
    "now = datetime.now().strftime(\"%Y-%m-%d\")\n",
    "\n",
    "filtered_date = test_data.loc[(test_data.index >= start_date) & (test_data.index <= end_date)]\n",
    "\n",
    "fig1 = px.line(\n",
    "    test_data, x=test_data.index, y=['original_label', 'prediction_label'], template = 'plotly_dark', \n",
    "    range_x=[start_date, end_date], title=f'Data: {end_date} \\nPredição: {now}')\n",
    "fig1.show()"
   ]
  },
  {
   "cell_type": "code",
   "execution_count": null,
   "metadata": {},
   "outputs": [],
   "source": [
    "test_data['close'].plot()"
   ]
  }
 ],
 "metadata": {
  "kernelspec": {
   "display_name": "conda_env3.10",
   "language": "python",
   "name": "python3"
  },
  "language_info": {
   "codemirror_mode": {
    "name": "ipython",
    "version": 3
   },
   "file_extension": ".py",
   "mimetype": "text/x-python",
   "name": "python",
   "nbconvert_exporter": "python",
   "pygments_lexer": "ipython3",
   "version": "3.10.12"
  },
  "orig_nbformat": 4
 },
 "nbformat": 4,
 "nbformat_minor": 2
}
