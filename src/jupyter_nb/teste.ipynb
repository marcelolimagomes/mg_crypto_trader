{
 "cells": [
  {
   "cell_type": "code",
   "execution_count": null,
   "metadata": {},
   "outputs": [],
   "source": [
    "import sys\n",
    "sys.path.insert(0, sys.path[0].removesuffix('/src/jupyter_nb'))\n",
    "sys.path.insert(1, sys.path[0] + '/src')\n",
    "print(sys.path)\n",
    "import pandas as pd\n",
    "from src.robo import *\n",
    "from src.utils import *\n",
    "from src.calcEMA import *\n",
    "from src.myenv import *\n",
    "\n",
    "tail = regression_times + 50\n",
    "use_cols = ['open_time', 'close']\n",
    "\n",
    "estimator = 'lightgbm'"
   ]
  },
  {
   "cell_type": "code",
   "execution_count": null,
   "metadata": {},
   "outputs": [],
   "source": [
    "symbol = 'BTCUSDT'\n",
    "experiment, model = load_model(symbol, estimator)  # cassification_experiment"
   ]
  },
  {
   "cell_type": "code",
   "execution_count": null,
   "metadata": {},
   "outputs": [],
   "source": [
    "df = get_data(symbol, save_database=False, interval='1h', tail=tail, adjust_index=True)\n",
    "df.to_csv('log_after_1st_get_data.csv', sep=';', index=False)\n",
    "df"
   ]
  },
  {
   "cell_type": "code",
   "execution_count": null,
   "metadata": {},
   "outputs": [],
   "source": [
    "df = calc_RSI(df)\n",
    "df.to_csv('log_after_1st_calc_RSI.csv', sep=';', index=False)\n",
    "df"
   ]
  },
  {
   "cell_type": "code",
   "execution_count": null,
   "metadata": {},
   "outputs": [],
   "source": [
    "df.dropna(inplace=True)\n",
    "df"
   ]
  },
  {
   "cell_type": "code",
   "execution_count": null,
   "metadata": {},
   "outputs": [],
   "source": [
    "numeric_features = ['close', 'rsi']\n",
    "df, _ = regresstion_times(df, numeric_features, regression_times)\n",
    "df.to_csv('log_after_1st_regresstion_times.csv', sep=';')\n",
    "df"
   ]
  },
  {
   "cell_type": "code",
   "execution_count": null,
   "metadata": {},
   "outputs": [],
   "source": [
    "df.info()"
   ]
  },
  {
   "cell_type": "code",
   "execution_count": null,
   "metadata": {},
   "outputs": [],
   "source": [
    "window = 14\n",
    "close_price = 'close'\n",
    "count = df.shape[0]\n",
    "df.iloc[count-1:count]['rsi'] = 0\n",
    "\n",
    "\n",
    "#print(df[['close', 'rsi']].tail())\n",
    "# _df = df.tail(window + 10)[[close_price, 'rsi']].copy()\n",
    "_df = df[[close_price, 'rsi']].tail(window+50).copy()\n",
    "_count = _df.shape[0]\n",
    "#print(_df)\n",
    "_df['change'] = _df[close_price].diff()\n",
    "_df['gain'] = _df.change.mask(_df.change < 0, 0.0)\n",
    "_df['loss'] = -_df.change.mask(_df.change > 0, -0.0)\n",
    "_df['avg_gain'] = rma(_df.gain.to_numpy(), window)\n",
    "_df['avg_loss'] = rma(_df.loss.to_numpy(), window)\n",
    "\n",
    "_df['rs'] = _df.avg_gain / _df.avg_loss\n",
    "_df['rsi'] = 100 - (100 / (1 + _df.rs))\n",
    "#print(_df)\n",
    "\n",
    "#print(df.iloc[count-1:count]['rsi'])\n",
    "#print(_df.iloc[_count-1:_count]['rsi'])\n",
    "\n",
    "df.update(_df.iloc[_count-1:_count]['rsi'])\n",
    "\n",
    "df.tail()"
   ]
  },
  {
   "cell_type": "code",
   "execution_count": null,
   "metadata": {},
   "outputs": [],
   "source": [
    "cont = 0"
   ]
  },
  {
   "cell_type": "code",
   "execution_count": null,
   "metadata": {},
   "outputs": [],
   "source": [
    "#while True:\n",
    "\n",
    "# df = get_data(symbol, save_database=False, interval='1h', tail=tail)\n",
    "_df = get_klines(symbol, interval='1h', max_date=None, limit=1, adjust_index=True)\n",
    "_df.to_csv(f'log_after_{cont}_get_klines.csv', sep=';', index=False)\n",
    "\n",
    "#df = pd.concat([df, _df]).drop_duplicates(keep='last')\n",
    "if _df.index.isin(df.index):\n",
    "    df.update(_df)\n",
    "else:\n",
    "    df = pd.concat([df, _df])   \n",
    "df.to_csv(f'log_after_{cont}_merge.csv', sep=';', index=False)\n",
    "\n",
    "df = calc_RSI(df, last_one=True)\n",
    "df.to_csv(f'log_after_{cont}_calc_RSI.csv', sep=';', index=False)\n",
    "\n",
    "df, _ = regresstion_times(df, numeric_features, regression_times, last_one=True)\n",
    "df.to_csv(f'log_after_{cont}_regresstion_times.csv', sep=';', index=False)\n",
    "\n",
    "df[['open_time'] + numeric_features].to_csv('log_experiment_data.log', sep=';', index=False)\n",
    "df_predict = experiment.predict_model(model, df.tail(1))\n",
    "df_predict.to_csv(f'log_after_{cont}_df_predict.csv', sep=';', index=False)\n",
    "\n",
    "operacao = df_predict['prediction_label'].values[0]\n",
    "if (operacao.startswith('SOBE') or operacao.startswith('CAI')):\n",
    "    send_message(df_predict)\n",
    "time.sleep(sleep_refresh)\n",
    "cont += 1"
   ]
  },
  {
   "cell_type": "code",
   "execution_count": null,
   "metadata": {},
   "outputs": [],
   "source": [
    "import pandas as pd\n",
    "df1 = pd.DataFrame({'open_time': [1, 55, 32, 234], 'close': [3, 4, 5, 6], 'C': [5, 6, 34, 5], 'D': [7, 8, 54, 66], 'label': ['A', 'A', 'B', 'B']}, index=[0,1,2,3])\n",
    "df1"
   ]
  },
  {
   "cell_type": "code",
   "execution_count": null,
   "metadata": {},
   "outputs": [],
   "source": [
    "df2 = pd.DataFrame({'open_time': [55], 'close': [77]}, index=[1])\n",
    "df2"
   ]
  },
  {
   "cell_type": "code",
   "execution_count": null,
   "metadata": {},
   "outputs": [],
   "source": [
    "i = df2.iloc[df2.shape[0]-1:df2.shape[0]].index\n",
    "i"
   ]
  },
  {
   "cell_type": "code",
   "execution_count": null,
   "metadata": {},
   "outputs": [],
   "source": [
    "df2.index.isin(df1.index)"
   ]
  },
  {
   "cell_type": "code",
   "execution_count": null,
   "metadata": {},
   "outputs": [],
   "source": [
    "_df = get_klines('BTCUSDT', interval='1h', max_date=None, limit=200, adjust_index=True)\n",
    "_df"
   ]
  },
  {
   "cell_type": "code",
   "execution_count": null,
   "metadata": {},
   "outputs": [],
   "source": [
    "from pycaret.classification.oop import ClassificationExperiment\n",
    "\n",
    "ca = ClassificationExperiment()\n",
    "setup = ca.setup(_df, target='symbol')"
   ]
  },
  {
   "cell_type": "code",
   "execution_count": null,
   "metadata": {},
   "outputs": [],
   "source": [
    "best = setup.compare_models()\n",
    "\n",
    "best"
   ]
  },
  {
   "cell_type": "code",
   "execution_count": null,
   "metadata": {},
   "outputs": [],
   "source": [
    "setup.pull().index[0]"
   ]
  },
  {
   "cell_type": "code",
   "execution_count": 2,
   "metadata": {},
   "outputs": [
    {
     "data": {
      "text/plain": [
       "'2023-09-08 10:54:22'"
      ]
     },
     "execution_count": 2,
     "metadata": {},
     "output_type": "execute_result"
    }
   ],
   "source": [
    "import datetime \n",
    "datetime.datetime.now().strftime(\"%Y-%m-%d %H:%M:%S\") "
   ]
  },
  {
   "cell_type": "code",
   "execution_count": 9,
   "metadata": {},
   "outputs": [
    {
     "name": "stdout",
     "output_type": "stream",
     "text": [
      "{'model_name': 'BTCUSDT_lr_SL_2.0_RT_1440_RPL_24_1', 'data': '2023-09-08 11:01:40', 'symbol': 'BTCUSDT', 'estimator': 'lightgbm', 'train_size': 0.7, 'start_train_date': '2023-06-01', 'start_test_date': '2023-08-08', 'regression_times': 720, 'regression_profit_and_loss': 24, 'stop_loss': 2.0, 'fold': 3, 'saldo_inicial': 100.0, 'saldo_final': 91.87}\n"
     ]
    }
   ],
   "source": [
    "import pandas as pd\n",
    "import datetime\n",
    "import os\n",
    "\n",
    "df_resultado_simulacao = pd.DataFrame()\n",
    "if (os.path.exists('resultado_simulacao.csv')):\n",
    "    df_resultado_simulacao = pd.read_csv('resultado_simulacao.csv', sep=';')\n",
    "\n",
    "result_simulado = {}\n",
    "result_simulado['model_name'] = 'BTCUSDT_lr_SL_2.0_RT_1440_RPL_24_1'\n",
    "result_simulado['data'] = datetime.datetime.now().strftime(\"%Y-%m-%d %H:%M:%S\")\n",
    "result_simulado['symbol'] = 'BTCUSDT'\n",
    "result_simulado['estimator'] = 'lightgbm'\n",
    "result_simulado['train_size'] = 0.7 \n",
    "result_simulado['start_train_date'] = '2023-06-01'\n",
    "result_simulado['start_test_date'] = '2023-08-08'\n",
    "result_simulado['regression_times'] = 24*30\n",
    "result_simulado['regression_profit_and_loss'] = 24\n",
    "result_simulado['stop_loss'] = 2.0\n",
    "result_simulado['fold'] = 3\n",
    "result_simulado['saldo_inicial'] = 100.00\n",
    "result_simulado['saldo_final'] = 91.87\n",
    "\n",
    "print(result_simulado)\n",
    "\n",
    "df = pd.DataFrame.from_dict([result_simulado])\n",
    "\n",
    "df_resultado_simulacao = pd.concat([df_resultado_simulacao, df], ignore_index=True)\n",
    "df_resultado_simulacao.sort_values('saldo_final', inplace=True)\n",
    "\n",
    "df_resultado_simulacao.to_csv('resultado_simulacao.csv', sep=';', index=False)"
   ]
  },
  {
   "cell_type": "code",
   "execution_count": 2,
   "metadata": {},
   "outputs": [],
   "source": [
    "from binance.client import Client\n",
    "client = Client()\n",
    "klines = client.get_historical_klines(symbol='BTCUSDT', interval='1h', start_str='2010-01-01', limit=1000)\n",
    "\n"
   ]
  },
  {
   "cell_type": "code",
   "execution_count": 7,
   "metadata": {},
   "outputs": [],
   "source": [
    "import pandas as pd\n",
    "\n",
    "\n",
    "all_klines_cols = ['open_time', 'open', 'high', 'low', 'close', 'volume', 'close_time', 'quote_asset_volume',\n",
    "                   'number_of_trades', 'taker_buy_base_asset_volume', 'taker_buy_quote_asset_volume', 'ignore']\n",
    "\n",
    "columns = ['open_time', 'open', 'high', 'low', 'close', 'volume', 'quote_asset_volume', 'taker_buy_base_asset_volume', 'taker_buy_quote_asset_volume', 'number_of_trades', 'ignore', 'close_time']\n",
    "\n",
    "df_klines = pd.DataFrame(data=klines, columns=all_klines_cols)[columns]\n",
    "df_klines['open_time'] = pd.to_datetime(df_klines['open_time'], unit='ms')\n",
    "df_klines['close_time'] = pd.to_datetime(df_klines['close_time'], unit='ms')"
   ]
  },
  {
   "cell_type": "code",
   "execution_count": 8,
   "metadata": {},
   "outputs": [
    {
     "data": {
      "text/html": [
       "<div>\n",
       "<style scoped>\n",
       "    .dataframe tbody tr th:only-of-type {\n",
       "        vertical-align: middle;\n",
       "    }\n",
       "\n",
       "    .dataframe tbody tr th {\n",
       "        vertical-align: top;\n",
       "    }\n",
       "\n",
       "    .dataframe thead th {\n",
       "        text-align: right;\n",
       "    }\n",
       "</style>\n",
       "<table border=\"1\" class=\"dataframe\">\n",
       "  <thead>\n",
       "    <tr style=\"text-align: right;\">\n",
       "      <th></th>\n",
       "      <th>open_time</th>\n",
       "      <th>open</th>\n",
       "      <th>high</th>\n",
       "      <th>low</th>\n",
       "      <th>close</th>\n",
       "      <th>volume</th>\n",
       "      <th>quote_asset_volume</th>\n",
       "      <th>taker_buy_base_asset_volume</th>\n",
       "      <th>taker_buy_quote_asset_volume</th>\n",
       "      <th>number_of_trades</th>\n",
       "      <th>ignore</th>\n",
       "      <th>close_time</th>\n",
       "    </tr>\n",
       "  </thead>\n",
       "  <tbody>\n",
       "    <tr>\n",
       "      <th>0</th>\n",
       "      <td>2017-08-17 04:00:00</td>\n",
       "      <td>4261.48000000</td>\n",
       "      <td>4313.62000000</td>\n",
       "      <td>4261.32000000</td>\n",
       "      <td>4308.83000000</td>\n",
       "      <td>47.18100900</td>\n",
       "      <td>202366.13839304</td>\n",
       "      <td>35.16050300</td>\n",
       "      <td>150952.47794304</td>\n",
       "      <td>171</td>\n",
       "      <td>0</td>\n",
       "      <td>2017-08-17 04:59:59.999</td>\n",
       "    </tr>\n",
       "    <tr>\n",
       "      <th>1</th>\n",
       "      <td>2017-08-17 05:00:00</td>\n",
       "      <td>4308.83000000</td>\n",
       "      <td>4328.69000000</td>\n",
       "      <td>4291.37000000</td>\n",
       "      <td>4315.32000000</td>\n",
       "      <td>23.23491600</td>\n",
       "      <td>100304.82356749</td>\n",
       "      <td>21.44807100</td>\n",
       "      <td>92608.27972836</td>\n",
       "      <td>102</td>\n",
       "      <td>0</td>\n",
       "      <td>2017-08-17 05:59:59.999</td>\n",
       "    </tr>\n",
       "    <tr>\n",
       "      <th>2</th>\n",
       "      <td>2017-08-17 06:00:00</td>\n",
       "      <td>4330.29000000</td>\n",
       "      <td>4345.45000000</td>\n",
       "      <td>4309.37000000</td>\n",
       "      <td>4324.35000000</td>\n",
       "      <td>7.22969100</td>\n",
       "      <td>31282.31266989</td>\n",
       "      <td>4.80286100</td>\n",
       "      <td>20795.31722405</td>\n",
       "      <td>36</td>\n",
       "      <td>0</td>\n",
       "      <td>2017-08-17 06:59:59.999</td>\n",
       "    </tr>\n",
       "    <tr>\n",
       "      <th>3</th>\n",
       "      <td>2017-08-17 07:00:00</td>\n",
       "      <td>4316.62000000</td>\n",
       "      <td>4349.99000000</td>\n",
       "      <td>4287.41000000</td>\n",
       "      <td>4349.99000000</td>\n",
       "      <td>4.44324900</td>\n",
       "      <td>19241.05829986</td>\n",
       "      <td>2.60229200</td>\n",
       "      <td>11291.34701534</td>\n",
       "      <td>25</td>\n",
       "      <td>0</td>\n",
       "      <td>2017-08-17 07:59:59.999</td>\n",
       "    </tr>\n",
       "    <tr>\n",
       "      <th>4</th>\n",
       "      <td>2017-08-17 08:00:00</td>\n",
       "      <td>4333.32000000</td>\n",
       "      <td>4377.85000000</td>\n",
       "      <td>4333.32000000</td>\n",
       "      <td>4360.69000000</td>\n",
       "      <td>0.97280700</td>\n",
       "      <td>4239.50358563</td>\n",
       "      <td>0.81465500</td>\n",
       "      <td>3552.74681715</td>\n",
       "      <td>28</td>\n",
       "      <td>0</td>\n",
       "      <td>2017-08-17 08:59:59.999</td>\n",
       "    </tr>\n",
       "    <tr>\n",
       "      <th>...</th>\n",
       "      <td>...</td>\n",
       "      <td>...</td>\n",
       "      <td>...</td>\n",
       "      <td>...</td>\n",
       "      <td>...</td>\n",
       "      <td>...</td>\n",
       "      <td>...</td>\n",
       "      <td>...</td>\n",
       "      <td>...</td>\n",
       "      <td>...</td>\n",
       "      <td>...</td>\n",
       "      <td>...</td>\n",
       "    </tr>\n",
       "    <tr>\n",
       "      <th>52995</th>\n",
       "      <td>2023-09-08 15:00:00</td>\n",
       "      <td>25831.24000000</td>\n",
       "      <td>25900.00000000</td>\n",
       "      <td>25818.40000000</td>\n",
       "      <td>25844.64000000</td>\n",
       "      <td>1676.76165000</td>\n",
       "      <td>43366622.55950750</td>\n",
       "      <td>1014.86634000</td>\n",
       "      <td>26248043.92137060</td>\n",
       "      <td>26793</td>\n",
       "      <td>0</td>\n",
       "      <td>2023-09-08 15:59:59.999</td>\n",
       "    </tr>\n",
       "    <tr>\n",
       "      <th>52996</th>\n",
       "      <td>2023-09-08 16:00:00</td>\n",
       "      <td>25844.64000000</td>\n",
       "      <td>25875.15000000</td>\n",
       "      <td>25719.80000000</td>\n",
       "      <td>25796.69000000</td>\n",
       "      <td>1772.39260000</td>\n",
       "      <td>45739438.39591560</td>\n",
       "      <td>896.55165000</td>\n",
       "      <td>23141016.37179960</td>\n",
       "      <td>36637</td>\n",
       "      <td>0</td>\n",
       "      <td>2023-09-08 16:59:59.999</td>\n",
       "    </tr>\n",
       "    <tr>\n",
       "      <th>52997</th>\n",
       "      <td>2023-09-08 17:00:00</td>\n",
       "      <td>25796.69000000</td>\n",
       "      <td>25849.10000000</td>\n",
       "      <td>25746.00000000</td>\n",
       "      <td>25829.01000000</td>\n",
       "      <td>868.12163000</td>\n",
       "      <td>22401500.02390530</td>\n",
       "      <td>463.73080000</td>\n",
       "      <td>11965796.64501530</td>\n",
       "      <td>24745</td>\n",
       "      <td>0</td>\n",
       "      <td>2023-09-08 17:59:59.999</td>\n",
       "    </tr>\n",
       "    <tr>\n",
       "      <th>52998</th>\n",
       "      <td>2023-09-08 18:00:00</td>\n",
       "      <td>25829.01000000</td>\n",
       "      <td>25834.97000000</td>\n",
       "      <td>25766.21000000</td>\n",
       "      <td>25798.34000000</td>\n",
       "      <td>710.58889000</td>\n",
       "      <td>18336134.65578370</td>\n",
       "      <td>321.07817000</td>\n",
       "      <td>8284515.57731030</td>\n",
       "      <td>24054</td>\n",
       "      <td>0</td>\n",
       "      <td>2023-09-08 18:59:59.999</td>\n",
       "    </tr>\n",
       "    <tr>\n",
       "      <th>52999</th>\n",
       "      <td>2023-09-08 19:00:00</td>\n",
       "      <td>25798.34000000</td>\n",
       "      <td>25798.35000000</td>\n",
       "      <td>25795.51000000</td>\n",
       "      <td>25795.52000000</td>\n",
       "      <td>4.09798000</td>\n",
       "      <td>105713.79267620</td>\n",
       "      <td>1.60765000</td>\n",
       "      <td>41471.42659690</td>\n",
       "      <td>228</td>\n",
       "      <td>0</td>\n",
       "      <td>2023-09-08 19:59:59.999</td>\n",
       "    </tr>\n",
       "  </tbody>\n",
       "</table>\n",
       "<p>53000 rows × 12 columns</p>\n",
       "</div>"
      ],
      "text/plain": [
       "                open_time            open            high             low  \\\n",
       "0     2017-08-17 04:00:00   4261.48000000   4313.62000000   4261.32000000   \n",
       "1     2017-08-17 05:00:00   4308.83000000   4328.69000000   4291.37000000   \n",
       "2     2017-08-17 06:00:00   4330.29000000   4345.45000000   4309.37000000   \n",
       "3     2017-08-17 07:00:00   4316.62000000   4349.99000000   4287.41000000   \n",
       "4     2017-08-17 08:00:00   4333.32000000   4377.85000000   4333.32000000   \n",
       "...                   ...             ...             ...             ...   \n",
       "52995 2023-09-08 15:00:00  25831.24000000  25900.00000000  25818.40000000   \n",
       "52996 2023-09-08 16:00:00  25844.64000000  25875.15000000  25719.80000000   \n",
       "52997 2023-09-08 17:00:00  25796.69000000  25849.10000000  25746.00000000   \n",
       "52998 2023-09-08 18:00:00  25829.01000000  25834.97000000  25766.21000000   \n",
       "52999 2023-09-08 19:00:00  25798.34000000  25798.35000000  25795.51000000   \n",
       "\n",
       "                close         volume quote_asset_volume  \\\n",
       "0       4308.83000000    47.18100900    202366.13839304   \n",
       "1       4315.32000000    23.23491600    100304.82356749   \n",
       "2       4324.35000000     7.22969100     31282.31266989   \n",
       "3       4349.99000000     4.44324900     19241.05829986   \n",
       "4       4360.69000000     0.97280700      4239.50358563   \n",
       "...               ...            ...                ...   \n",
       "52995  25844.64000000  1676.76165000  43366622.55950750   \n",
       "52996  25796.69000000  1772.39260000  45739438.39591560   \n",
       "52997  25829.01000000   868.12163000  22401500.02390530   \n",
       "52998  25798.34000000   710.58889000  18336134.65578370   \n",
       "52999  25795.52000000     4.09798000    105713.79267620   \n",
       "\n",
       "      taker_buy_base_asset_volume taker_buy_quote_asset_volume  \\\n",
       "0                     35.16050300              150952.47794304   \n",
       "1                     21.44807100               92608.27972836   \n",
       "2                      4.80286100               20795.31722405   \n",
       "3                      2.60229200               11291.34701534   \n",
       "4                      0.81465500                3552.74681715   \n",
       "...                           ...                          ...   \n",
       "52995               1014.86634000            26248043.92137060   \n",
       "52996                896.55165000            23141016.37179960   \n",
       "52997                463.73080000            11965796.64501530   \n",
       "52998                321.07817000             8284515.57731030   \n",
       "52999                  1.60765000               41471.42659690   \n",
       "\n",
       "       number_of_trades ignore              close_time  \n",
       "0                   171      0 2017-08-17 04:59:59.999  \n",
       "1                   102      0 2017-08-17 05:59:59.999  \n",
       "2                    36      0 2017-08-17 06:59:59.999  \n",
       "3                    25      0 2017-08-17 07:59:59.999  \n",
       "4                    28      0 2017-08-17 08:59:59.999  \n",
       "...                 ...    ...                     ...  \n",
       "52995             26793      0 2023-09-08 15:59:59.999  \n",
       "52996             36637      0 2023-09-08 16:59:59.999  \n",
       "52997             24745      0 2023-09-08 17:59:59.999  \n",
       "52998             24054      0 2023-09-08 18:59:59.999  \n",
       "52999               228      0 2023-09-08 19:59:59.999  \n",
       "\n",
       "[53000 rows x 12 columns]"
      ]
     },
     "execution_count": 8,
     "metadata": {},
     "output_type": "execute_result"
    }
   ],
   "source": [
    "df_klines"
   ]
  }
 ],
 "metadata": {
  "kernelspec": {
   "display_name": "env",
   "language": "python",
   "name": "python3"
  },
  "language_info": {
   "codemirror_mode": {
    "name": "ipython",
    "version": 3
   },
   "file_extension": ".py",
   "mimetype": "text/x-python",
   "name": "python",
   "nbconvert_exporter": "python",
   "pygments_lexer": "ipython3",
   "version": "3.10.12"
  },
  "orig_nbformat": 4
 },
 "nbformat": 4,
 "nbformat_minor": 2
}
