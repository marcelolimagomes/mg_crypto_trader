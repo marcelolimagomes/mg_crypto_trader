{
 "cells": [
  {
   "cell_type": "code",
   "execution_count": null,
   "metadata": {},
   "outputs": [],
   "source": [
    "import sys\n",
    "sys.path.insert(0, sys.path[0].removesuffix('/src/jupyter_nb'))\n",
    "sys.path.insert(1, sys.path[0] + '/src')\n",
    "print(sys.path)\n",
    "import pandas as pd\n",
    "from src.robo import *\n",
    "from src.utils import *\n",
    "from src.calcEMA import *\n",
    "from src.myenv import *\n",
    "from src.train import *\n",
    "\n",
    "tail = regression_times + 50\n",
    "use_cols = ['open_time', 'close']\n",
    "\n",
    "estimator = 'lightgbm'"
   ]
  },
  {
   "cell_type": "code",
   "execution_count": null,
   "metadata": {},
   "outputs": [],
   "source": [
    "symbol = 'BTCUSDT'\n",
    "experiment, model = load_model(symbol, estimator)  # cassification_experiment"
   ]
  },
  {
   "cell_type": "code",
   "execution_count": null,
   "metadata": {},
   "outputs": [],
   "source": [
    "df = get_data(symbol, save_database=False, interval='1h', tail=tail)\n",
    "df.to_csv('log_after_1st_get_data.csv', sep=';', index=False)\n",
    "df"
   ]
  },
  {
   "cell_type": "code",
   "execution_count": null,
   "metadata": {},
   "outputs": [],
   "source": [
    "df = calc_RSI(df)\n",
    "df.to_csv('log_after_1st_calc_RSI.csv', sep=';', index=False)\n",
    "df"
   ]
  },
  {
   "cell_type": "code",
   "execution_count": null,
   "metadata": {},
   "outputs": [],
   "source": [
    "df.dropna(inplace=True)\n",
    "df"
   ]
  },
  {
   "cell_type": "code",
   "execution_count": null,
   "metadata": {},
   "outputs": [],
   "source": [
    "numeric_features = ['close', 'rsi']\n",
    "df, _ = regresstion_times(df, numeric_features, regression_times)\n",
    "df.to_csv('log_after_1st_regresstion_times.csv', sep=';')\n",
    "df"
   ]
  },
  {
   "cell_type": "code",
   "execution_count": null,
   "metadata": {},
   "outputs": [],
   "source": [
    "df.info()"
   ]
  },
  {
   "cell_type": "code",
   "execution_count": null,
   "metadata": {},
   "outputs": [],
   "source": [
    "window = 14\n",
    "close_price = 'close'\n",
    "count = df.shape[0]\n",
    "df.iloc[count-1:count]['rsi'] = 0\n",
    "\n",
    "\n",
    "#print(df[['close', 'rsi']].tail())\n",
    "# _df = df.tail(window + 10)[[close_price, 'rsi']].copy()\n",
    "_df = df[[close_price, 'rsi']].tail(window+50).copy()\n",
    "_count = _df.shape[0]\n",
    "#print(_df)\n",
    "_df['change'] = _df[close_price].diff()\n",
    "_df['gain'] = _df.change.mask(_df.change < 0, 0.0)\n",
    "_df['loss'] = -_df.change.mask(_df.change > 0, -0.0)\n",
    "_df['avg_gain'] = rma(_df.gain.to_numpy(), window)\n",
    "_df['avg_loss'] = rma(_df.loss.to_numpy(), window)\n",
    "\n",
    "_df['rs'] = _df.avg_gain / _df.avg_loss\n",
    "_df['rsi'] = 100 - (100 / (1 + _df.rs))\n",
    "#print(_df)\n",
    "\n",
    "#print(df.iloc[count-1:count]['rsi'])\n",
    "#print(_df.iloc[_count-1:_count]['rsi'])\n",
    "\n",
    "df.update(_df.iloc[_count-1:_count]['rsi'])\n",
    "\n",
    "df.tail()"
   ]
  },
  {
   "cell_type": "code",
   "execution_count": null,
   "metadata": {},
   "outputs": [],
   "source": [
    "cont = 0"
   ]
  },
  {
   "cell_type": "code",
   "execution_count": null,
   "metadata": {},
   "outputs": [],
   "source": [
    "#while True:\n",
    "\n",
    "# df = get_data(symbol, save_database=False, interval='1h', tail=tail)\n",
    "_df = get_klines(symbol, interval='1h', max_date=None, limit=1)\n",
    "_df.to_csv(f'log_after_{cont}_get_klines.csv', sep=';', index=False)\n",
    "\n",
    "#df = pd.concat([df, _df]).drop_duplicates(keep='last')\n",
    "if _df.index.isin(df.index):\n",
    "    df.update(_df)\n",
    "else:\n",
    "    df = pd.concat([df, _df])   \n",
    "df.to_csv(f'log_after_{cont}_merge.csv', sep=';', index=False)\n",
    "\n",
    "df = calc_RSI(df, last_one=True)\n",
    "df.to_csv(f'log_after_{cont}_calc_RSI.csv', sep=';', index=False)\n",
    "\n",
    "df, _ = regresstion_times(df, numeric_features, regression_times, last_one=True)\n",
    "df.to_csv(f'log_after_{cont}_regresstion_times.csv', sep=';', index=False)\n",
    "\n",
    "df[['open_time'] + numeric_features].to_csv('log_experiment_data.log', sep=';', index=False)\n",
    "df_predict = experiment.predict_model(model, df.tail(1))\n",
    "df_predict.to_csv(f'log_after_{cont}_df_predict.csv', sep=';', index=False)\n",
    "\n",
    "operacao = df_predict['prediction_label'].values[0]\n",
    "if (operacao.startswith('SOBE') or operacao.startswith('CAI')):\n",
    "    send_message(df_predict)\n",
    "time.sleep(sleep_refresh)\n",
    "cont += 1"
   ]
  },
  {
   "cell_type": "code",
   "execution_count": null,
   "metadata": {},
   "outputs": [],
   "source": [
    "import pandas as pd\n",
    "df1 = pd.DataFrame({'open_time': [1, 55, 32, 234], 'close': [3, 4, 5, 6], 'C': [5, 6, 34, 5], 'D': [7, 8, 54, 66], 'label': ['A', 'A', 'B', 'B']}, index=[0,1,2,3])\n",
    "df1"
   ]
  },
  {
   "cell_type": "code",
   "execution_count": null,
   "metadata": {},
   "outputs": [],
   "source": [
    "df2 = pd.DataFrame({'open_time': [55], 'close': [77]}, index=[1])\n",
    "df2"
   ]
  },
  {
   "cell_type": "code",
   "execution_count": null,
   "metadata": {},
   "outputs": [],
   "source": [
    "i = df2.iloc[df2.shape[0]-1:df2.shape[0]].index\n",
    "i"
   ]
  },
  {
   "cell_type": "code",
   "execution_count": null,
   "metadata": {},
   "outputs": [],
   "source": [
    "df2.index.isin(df1.index)"
   ]
  },
  {
   "cell_type": "code",
   "execution_count": null,
   "metadata": {},
   "outputs": [],
   "source": [
    "_df = get_klines('BTCUSDT', interval='1h', max_date=None, limit=200)\n",
    "_df"
   ]
  },
  {
   "cell_type": "code",
   "execution_count": null,
   "metadata": {},
   "outputs": [],
   "source": [
    "from pycaret.classification.oop import ClassificationExperiment\n",
    "\n",
    "ca = ClassificationExperiment()\n",
    "setup = ca.setup(_df, target='symbol')"
   ]
  },
  {
   "cell_type": "code",
   "execution_count": null,
   "metadata": {},
   "outputs": [],
   "source": [
    "best = setup.compare_models()\n",
    "\n",
    "best"
   ]
  },
  {
   "cell_type": "code",
   "execution_count": null,
   "metadata": {},
   "outputs": [],
   "source": [
    "setup.pull().index[0]"
   ]
  },
  {
   "cell_type": "code",
   "execution_count": null,
   "metadata": {},
   "outputs": [],
   "source": [
    "import datetime \n",
    "datetime.datetime.now().strftime(\"%Y-%m-%d %H:%M:%S\") "
   ]
  },
  {
   "cell_type": "code",
   "execution_count": null,
   "metadata": {},
   "outputs": [],
   "source": [
    "import pandas as pd\n",
    "import datetime\n",
    "import os\n",
    "\n",
    "df_resultado_simulacao = pd.DataFrame()\n",
    "if (os.path.exists('resultado_simulacao.csv')):\n",
    "    df_resultado_simulacao = pd.read_csv('resultado_simulacao.csv', sep=';')\n",
    "\n",
    "result_simulado = {}\n",
    "result_simulado['model_name'] = 'BTCUSDT_lr_SL_2.0_RT_1440_RPL_24_1'\n",
    "result_simulado['data'] = datetime.datetime.now().strftime(\"%Y-%m-%d %H:%M:%S\")\n",
    "result_simulado['symbol'] = 'BTCUSDT'\n",
    "result_simulado['estimator'] = 'lightgbm'\n",
    "result_simulado['train_size'] = 0.7 \n",
    "result_simulado['start_train_date'] = '2023-06-01'\n",
    "result_simulado['start_test_date'] = '2023-08-08'\n",
    "result_simulado['regression_times'] = 24*30\n",
    "result_simulado['times_regression_profit_and_loss'] = 24\n",
    "result_simulado['stop_loss'] = 2.0\n",
    "result_simulado['fold'] = 3\n",
    "result_simulado['saldo_inicial'] = 100.00\n",
    "result_simulado['saldo_final'] = 91.87\n",
    "\n",
    "print(result_simulado)\n",
    "\n",
    "df = pd.DataFrame.from_dict([result_simulado])\n",
    "\n",
    "df_resultado_simulacao = pd.concat([df_resultado_simulacao, df], ignore_index=True)\n",
    "df_resultado_simulacao.sort_values('saldo_final', inplace=True)\n",
    "\n",
    "df_resultado_simulacao.to_csv('resultado_simulacao.csv', sep=';', index=False)"
   ]
  },
  {
   "cell_type": "code",
   "execution_count": null,
   "metadata": {},
   "outputs": [],
   "source": [
    "from binance.client import Client\n",
    "client = Client()\n",
    "klines = client.get_historical_klines(symbol='BTCUSDT', interval='1h', start_str='2010-01-01', limit=1000)\n",
    "\n"
   ]
  },
  {
   "cell_type": "code",
   "execution_count": null,
   "metadata": {},
   "outputs": [],
   "source": [
    "import pandas as pd\n",
    "\n",
    "\n",
    "all_klines_cols = ['open_time', 'open', 'high', 'low', 'close', 'volume', 'close_time', 'quote_asset_volume',\n",
    "                   'number_of_trades', 'taker_buy_base_asset_volume', 'taker_buy_quote_asset_volume', 'ignore']\n",
    "\n",
    "columns = ['open_time', 'open', 'high', 'low', 'close', 'volume', 'quote_asset_volume', 'taker_buy_base_asset_volume', 'taker_buy_quote_asset_volume', 'number_of_trades', 'ignore', 'close_time']\n",
    "\n",
    "df_klines = pd.DataFrame(data=klines, columns=all_klines_cols)[columns]\n",
    "df_klines['open_time'] = pd.to_datetime(df_klines['open_time'], unit='ms')\n",
    "df_klines['close_time'] = pd.to_datetime(df_klines['close_time'], unit='ms')"
   ]
  },
  {
   "cell_type": "code",
   "execution_count": null,
   "metadata": {},
   "outputs": [],
   "source": [
    "df_klines"
   ]
  },
  {
   "cell_type": "code",
   "execution_count": null,
   "metadata": {},
   "outputs": [],
   "source": [
    "download_data()\n"
   ]
  },
  {
   "cell_type": "code",
   "execution_count": null,
   "metadata": {},
   "outputs": [],
   "source": [
    "all_data = get_data('BTCUSDT', save_database=False, interval='1h', tail=-1, columns=['open_time', 'close'])\n",
    "all_data"
   ]
  },
  {
   "cell_type": "code",
   "execution_count": null,
   "metadata": {},
   "outputs": [],
   "source": [
    "import numpy as np\n",
    "\n",
    "at = all_data.tail(1).open_time.dt.strftime('%Y-%m-%d %H').values[0]\n"
   ]
  },
  {
   "cell_type": "code",
   "execution_count": null,
   "metadata": {},
   "outputs": [],
   "source": [
    "list_of_elements = ['close','open','high','low','volume']\n",
    "fix_it='close'\n",
    "\n",
    "combinations_list = []\n",
    "if len(list_of_elements) > 0:    \n",
    "    for i in range(1, len(list_of_elements) + 1):\n",
    "        a = combinations(list_of_elements, i)\n",
    "        for s in a:\n",
    "            res = ''\n",
    "            for j in s:\n",
    "                res += f'{j},'\n",
    "            combinations_list.append(res[0:len(res) - 1])\n",
    "\n",
    "combinations_list"
   ]
  },
  {
   "cell_type": "code",
   "execution_count": null,
   "metadata": {},
   "outputs": [],
   "source": [
    "from itertools import combinations\n",
    "import pandas as pd\n",
    "\n",
    "comb = combinations(range(1, 25 + 1), 15)\n",
    "cols = ['col_' + str(i) for i in range(1, 15 + 1)]\n",
    "resultado = pd.DataFrame(list(comb), columns=cols)\n",
    "resultado"
   ]
  },
  {
   "cell_type": "code",
   "execution_count": null,
   "metadata": {},
   "outputs": [],
   "source": [
    "resultado.query('col_1 in (1,2,3,4) and col_15 in (22,23,24,25)')"
   ]
  },
  {
   "cell_type": "code",
   "execution_count": null,
   "metadata": {},
   "outputs": [],
   "source": [
    "import pandas as pd\n",
    "results = ['a','b','c','d','d','d','d','d',]\n",
    "\n",
    "pd.DataFrame(results, columns=['status'])['status'].value_counts()"
   ]
  },
  {
   "cell_type": "code",
   "execution_count": null,
   "metadata": {},
   "outputs": [],
   "source": [
    "import pandas as pd\n",
    "import sys\n",
    "print(sys.path)\n",
    "sys.path.insert(0, sys.path[0].replace('/src/jupyter_nb', ''))\n",
    "print(sys.path)\n",
    "import src.utils as utils\n",
    "import src.myenv as myenv\n",
    "import logging\n",
    "\n",
    "logging.basicConfig(\n",
    "    level=logging.DEBUG,  # Set the minimum level to be logged\n",
    "    format=\"%(asctime)s [%(levelname)s]: %(message)s\",\n",
    "    handlers=[logging.StreamHandler()])\n",
    "\n",
    "\n",
    "df = pd.read_csv('../../data/ADAUSDT/ADAUSDT.csv', sep=\";\", index_col='open_time')\n",
    "df['open_time'] = pd.to_datetime(df.index, unit='ms')\n",
    "df"
   ]
  },
  {
   "cell_type": "code",
   "execution_count": null,
   "metadata": {},
   "outputs": [],
   "source": [
    "df.sort_index(inplace=True)\n",
    "df.index.duplicated().sum()"
   ]
  },
  {
   "cell_type": "code",
   "execution_count": null,
   "metadata": {},
   "outputs": [],
   "source": [
    "all_data = utils.regression_PnL(\n",
    "            df,\n",
    "            label=myenv.label,\n",
    "            diff_percent=1.0,\n",
    "            max_regression_profit_and_loss=6,\n",
    "            drop_na=True,\n",
    "            drop_calc_cols=True,\n",
    "            strategy=None)\n",
    "\n",
    "all_data\n",
    "            "
   ]
  },
  {
   "cell_type": "code",
   "execution_count": null,
   "metadata": {},
   "outputs": [],
   "source": [
    "all_data['prediction_label'] = all_data['status']\n",
    "all_data = utils.simule_trading_crypto(all_data, '2023-06-01', '2023-09-19', 100, 1.0)\n",
    "all_data "
   ]
  },
  {
   "cell_type": "code",
   "execution_count": 1,
   "metadata": {},
   "outputs": [
    {
     "name": "stdout",
     "output_type": "stream",
     "text": [
      "['/home/marcelo/des/mg_crypto_trader/src/jupyter_nb', '/usr/lib64/python310.zip', '/usr/lib64/python3.10', '/usr/lib64/python3.10/lib-dynload', '', '/home/marcelo/des/mg_crypto_trader/.env/lib64/python3.10/site-packages', '/home/marcelo/des/mg_crypto_trader/.env/lib/python3.10/site-packages', '/home/marcelo/des/mg_crypto_trader/.env/lib64/python3.10/site-packages/IPython/extensions', '/home/marcelo/.ipython']\n",
      "['/home/marcelo/des/mg_crypto_trader', '/home/marcelo/des/mg_crypto_trader/src/jupyter_nb', '/usr/lib64/python310.zip', '/usr/lib64/python3.10', '/usr/lib64/python3.10/lib-dynload', '', '/home/marcelo/des/mg_crypto_trader/.env/lib64/python3.10/site-packages', '/home/marcelo/des/mg_crypto_trader/.env/lib/python3.10/site-packages', '/home/marcelo/des/mg_crypto_trader/.env/lib64/python3.10/site-packages/IPython/extensions', '/home/marcelo/.ipython']\n"
     ]
    }
   ],
   "source": [
    "import sys\n",
    "print(sys.path)\n",
    "sys.path.insert(0, sys.path[0].replace('/src/jupyter_nb', ''))\n",
    "print(sys.path)\n",
    "import src.utils as utils\n",
    "import src.myenv as myenv\n",
    "import os\n",
    "import glob\n",
    "import pandas as pd\n",
    "\n"
   ]
  },
  {
   "cell_type": "code",
   "execution_count": null,
   "metadata": {},
   "outputs": [],
   "source": [
    "file_list = glob.glob(os.path.join(f'{myenv.datadir}/', 'resultado_simulacao_*.csv'))\n",
    "top_params = []\n",
    "columns = None\n",
    "df_top_params = pd.DataFrame()\n",
    "for file_path in file_list:\n",
    "    if os.path.isfile(file_path):\n",
    "        df = pd.read_csv(file_path, sep=';')\n",
    "        df_top_params = pd.concat([df_top_params, df.tail(1)], ignore_index=True)\n",
    "\n",
    "\n",
    "df_top_params.to_csv(f'{myenv.datadir}/top_params.csv', sep=';', index=False)\n",
    "return df_top_params.to_dict(orient='records')"
   ]
  },
  {
   "cell_type": "code",
   "execution_count": null,
   "metadata": {},
   "outputs": [],
   "source": [
    "import pandas as pd\n",
    "df = pd.DataFrame({'a': [1,674,3,674], 'b': [3,2,4,1], 'c': [23,35,7,78], 'd': [878,432,66,88]})\n",
    "df"
   ]
  },
  {
   "cell_type": "code",
   "execution_count": null,
   "metadata": {},
   "outputs": [],
   "source": [
    "df.sort_values(['a', 'b'],  ascending=[False, True])"
   ]
  },
  {
   "cell_type": "code",
   "execution_count": null,
   "metadata": {},
   "outputs": [],
   "source": [
    "df.insert(0, 'dd', [212,4,52,2])\n",
    "df"
   ]
  },
  {
   "cell_type": "code",
   "execution_count": null,
   "metadata": {},
   "outputs": [],
   "source": [
    "df['tt'] = 'adf,fasd,gasdf,asdf'\n",
    "df.loc[0, 'tt'] = 'as,f,as,fd,asd,f,asd,f,asd,f,as,df,'\n",
    "df['c_tt'] = df['tt'].apply(lambda x: len(x.split(',')))\n",
    "df"
   ]
  },
  {
   "cell_type": "code",
   "execution_count": null,
   "metadata": {},
   "outputs": [],
   "source": [
    "utils.prepare_best_params()"
   ]
  },
  {
   "cell_type": "code",
   "execution_count": null,
   "metadata": {},
   "outputs": [],
   "source": [
    "top_params"
   ]
  },
  {
   "cell_type": "code",
   "execution_count": 20,
   "metadata": {},
   "outputs": [
    {
     "name": "stdout",
     "output_type": "stream",
     "text": [
      "Done! /home/marcelo/des/mg_crypto_trader/data/BTCUSDT/BTCUSDT_5m\n"
     ]
    }
   ],
   "source": [
    "symbol = 'BTCUSDT'\n",
    "it = '5m'\n",
    "filename = f'{myenv.datadir}/{symbol}/{symbol}_{it}'\n",
    "df = pd.read_csv(f'{filename}.csv', sep=';')\n",
    "# df.info()\n",
    "df.to_csv(f'{filename}.dat', sep=';', index=False, compression=dict(method='zip'))\n",
    "print(f'Done! {filename}')"
   ]
  },
  {
   "cell_type": "code",
   "execution_count": 23,
   "metadata": {},
   "outputs": [
    {
     "name": "stdout",
     "output_type": "stream",
     "text": [
      "Done! /home/marcelo/des/mg_crypto_trader/data/BTCUSDT/BTCUSDT_1h\n",
      "Done! /home/marcelo/des/mg_crypto_trader/data/BTCUSDT/BTCUSDT_5m\n",
      "Done! /home/marcelo/des/mg_crypto_trader/data/ETHUSDT/ETHUSDT_1h\n",
      "Done! /home/marcelo/des/mg_crypto_trader/data/ETHUSDT/ETHUSDT_5m\n",
      "Done! /home/marcelo/des/mg_crypto_trader/data/BNBUSDT/BNBUSDT_1h\n",
      "Done! /home/marcelo/des/mg_crypto_trader/data/BNBUSDT/BNBUSDT_5m\n",
      "Done! /home/marcelo/des/mg_crypto_trader/data/XRPUSDT/XRPUSDT_1h\n",
      "Done! /home/marcelo/des/mg_crypto_trader/data/XRPUSDT/XRPUSDT_5m\n",
      "Done! /home/marcelo/des/mg_crypto_trader/data/ADAUSDT/ADAUSDT_1h\n",
      "Done! /home/marcelo/des/mg_crypto_trader/data/ADAUSDT/ADAUSDT_5m\n",
      "Done! /home/marcelo/des/mg_crypto_trader/data/DOGEUSDT/DOGEUSDT_1h\n",
      "Done! /home/marcelo/des/mg_crypto_trader/data/DOGEUSDT/DOGEUSDT_5m\n",
      "Done! /home/marcelo/des/mg_crypto_trader/data/SOLUSDT/SOLUSDT_1h\n",
      "Done! /home/marcelo/des/mg_crypto_trader/data/SOLUSDT/SOLUSDT_5m\n",
      "Done! /home/marcelo/des/mg_crypto_trader/data/TRXUSDT/TRXUSDT_1h\n",
      "Done! /home/marcelo/des/mg_crypto_trader/data/TRXUSDT/TRXUSDT_5m\n",
      "Done! /home/marcelo/des/mg_crypto_trader/data/DOTUSDT/DOTUSDT_1h\n",
      "Done! /home/marcelo/des/mg_crypto_trader/data/DOTUSDT/DOTUSDT_5m\n",
      "Done! /home/marcelo/des/mg_crypto_trader/data/MATICUSDT/MATICUSDT_1h\n",
      "Done! /home/marcelo/des/mg_crypto_trader/data/MATICUSDT/MATICUSDT_5m\n",
      "Done! /home/marcelo/des/mg_crypto_trader/data/LTCUSDT/LTCUSDT_1h\n",
      "Done! /home/marcelo/des/mg_crypto_trader/data/LTCUSDT/LTCUSDT_5m\n",
      "Done! /home/marcelo/des/mg_crypto_trader/data/SHIBUSDT/SHIBUSDT_1h\n",
      "Done! /home/marcelo/des/mg_crypto_trader/data/SHIBUSDT/SHIBUSDT_5m\n",
      "Done! /home/marcelo/des/mg_crypto_trader/data/WBTCUSDT/WBTCUSDT_1h\n",
      "Done! /home/marcelo/des/mg_crypto_trader/data/WBTCUSDT/WBTCUSDT_5m\n",
      "Done! /home/marcelo/des/mg_crypto_trader/data/BCHUSDT/BCHUSDT_1h\n",
      "Done! /home/marcelo/des/mg_crypto_trader/data/BCHUSDT/BCHUSDT_5m\n",
      "Done! /home/marcelo/des/mg_crypto_trader/data/AVAXUSDT/AVAXUSDT_1h\n",
      "Done! /home/marcelo/des/mg_crypto_trader/data/AVAXUSDT/AVAXUSDT_5m\n",
      "Done! /home/marcelo/des/mg_crypto_trader/data/XLMUSDT/XLMUSDT_1h\n",
      "Done! /home/marcelo/des/mg_crypto_trader/data/XLMUSDT/XLMUSDT_5m\n",
      "Done! /home/marcelo/des/mg_crypto_trader/data/LINKUSDT/LINKUSDT_1h\n",
      "Done! /home/marcelo/des/mg_crypto_trader/data/LINKUSDT/LINKUSDT_5m\n",
      "Done! /home/marcelo/des/mg_crypto_trader/data/XMRUSDT/XMRUSDT_1h\n",
      "Done! /home/marcelo/des/mg_crypto_trader/data/XMRUSDT/XMRUSDT_5m\n",
      "Done! /home/marcelo/des/mg_crypto_trader/data/UNIUSDT/UNIUSDT_1h\n",
      "Done! /home/marcelo/des/mg_crypto_trader/data/UNIUSDT/UNIUSDT_5m\n",
      "Done! /home/marcelo/des/mg_crypto_trader/data/ATOMUSDT/ATOMUSDT_1h\n",
      "Done! /home/marcelo/des/mg_crypto_trader/data/ATOMUSDT/ATOMUSDT_5m\n"
     ]
    }
   ],
   "source": [
    "df_simb = pd.read_csv(f'{myenv.datadir}/symbol_list.csv')\n",
    "for symbol in df_simb['symbol']:\n",
    "\tfor it in ['1h', '5m']:\n",
    "\t\tfilename = f'{myenv.datadir}/{symbol}/{symbol}_{it}'\n",
    "\t\tdf = pd.read_csv(f'{filename}.csv', sep=';')\n",
    "\t\t# df.info()\n",
    "\t\tdf.to_csv(f'{filename}.dat', sep=';', index=False, compression=dict(method='zip'))\n",
    "\t\tprint(f'Done! {filename}')"
   ]
  },
  {
   "cell_type": "code",
   "execution_count": 22,
   "metadata": {},
   "outputs": [
    {
     "name": "stdout",
     "output_type": "stream",
     "text": [
      "<class 'pandas.core.frame.DataFrame'>\n",
      "RangeIndex: 639835 entries, 0 to 639834\n",
      "Data columns (total 13 columns):\n",
      " #   Column                        Non-Null Count   Dtype  \n",
      "---  ------                        --------------   -----  \n",
      " 0   open_time                     639835 non-null  int64  \n",
      " 1   open                          639835 non-null  float64\n",
      " 2   high                          639835 non-null  float64\n",
      " 3   low                           639835 non-null  float64\n",
      " 4   close                         639835 non-null  float64\n",
      " 5   volume                        639835 non-null  float64\n",
      " 6   close_time                    639835 non-null  int64  \n",
      " 7   quote_asset_volume            639835 non-null  float64\n",
      " 8   number_of_trades              639835 non-null  int64  \n",
      " 9   taker_buy_base_asset_volume   639835 non-null  float64\n",
      " 10  taker_buy_quote_asset_volume  639835 non-null  float64\n",
      " 11  ignore                        639835 non-null  int64  \n",
      " 12  symbol                        639835 non-null  object \n",
      "dtypes: float64(8), int64(4), object(1)\n",
      "memory usage: 63.5+ MB\n"
     ]
    },
    {
     "data": {
      "text/html": [
       "<div>\n",
       "<style scoped>\n",
       "    .dataframe tbody tr th:only-of-type {\n",
       "        vertical-align: middle;\n",
       "    }\n",
       "\n",
       "    .dataframe tbody tr th {\n",
       "        vertical-align: top;\n",
       "    }\n",
       "\n",
       "    .dataframe thead th {\n",
       "        text-align: right;\n",
       "    }\n",
       "</style>\n",
       "<table border=\"1\" class=\"dataframe\">\n",
       "  <thead>\n",
       "    <tr style=\"text-align: right;\">\n",
       "      <th></th>\n",
       "      <th>open_time</th>\n",
       "      <th>open</th>\n",
       "      <th>high</th>\n",
       "      <th>low</th>\n",
       "      <th>close</th>\n",
       "      <th>volume</th>\n",
       "      <th>close_time</th>\n",
       "      <th>quote_asset_volume</th>\n",
       "      <th>number_of_trades</th>\n",
       "      <th>taker_buy_base_asset_volume</th>\n",
       "      <th>taker_buy_quote_asset_volume</th>\n",
       "      <th>ignore</th>\n",
       "      <th>symbol</th>\n",
       "    </tr>\n",
       "  </thead>\n",
       "  <tbody>\n",
       "    <tr>\n",
       "      <th>0</th>\n",
       "      <td>1502942400000</td>\n",
       "      <td>4261.48</td>\n",
       "      <td>4280.56</td>\n",
       "      <td>4261.48</td>\n",
       "      <td>4261.48</td>\n",
       "      <td>2.189061</td>\n",
       "      <td>1502942699999</td>\n",
       "      <td>9.333621e+03</td>\n",
       "      <td>9</td>\n",
       "      <td>0.489061</td>\n",
       "      <td>2089.104962</td>\n",
       "      <td>0</td>\n",
       "      <td>BTCUSDT</td>\n",
       "    </tr>\n",
       "    <tr>\n",
       "      <th>1</th>\n",
       "      <td>1502942700000</td>\n",
       "      <td>4261.48</td>\n",
       "      <td>4261.48</td>\n",
       "      <td>4261.48</td>\n",
       "      <td>4261.48</td>\n",
       "      <td>0.000000</td>\n",
       "      <td>1502942999999</td>\n",
       "      <td>0.000000e+00</td>\n",
       "      <td>0</td>\n",
       "      <td>0.000000</td>\n",
       "      <td>0.000000</td>\n",
       "      <td>0</td>\n",
       "      <td>BTCUSDT</td>\n",
       "    </tr>\n",
       "    <tr>\n",
       "      <th>2</th>\n",
       "      <td>1502943000000</td>\n",
       "      <td>4261.48</td>\n",
       "      <td>4261.48</td>\n",
       "      <td>4261.48</td>\n",
       "      <td>4261.48</td>\n",
       "      <td>0.000000</td>\n",
       "      <td>1502943299999</td>\n",
       "      <td>0.000000e+00</td>\n",
       "      <td>0</td>\n",
       "      <td>0.000000</td>\n",
       "      <td>0.000000</td>\n",
       "      <td>0</td>\n",
       "      <td>BTCUSDT</td>\n",
       "    </tr>\n",
       "    <tr>\n",
       "      <th>3</th>\n",
       "      <td>1502943300000</td>\n",
       "      <td>4261.48</td>\n",
       "      <td>4264.88</td>\n",
       "      <td>4261.48</td>\n",
       "      <td>4261.48</td>\n",
       "      <td>0.484666</td>\n",
       "      <td>1502943599999</td>\n",
       "      <td>2.065448e+03</td>\n",
       "      <td>9</td>\n",
       "      <td>0.085455</td>\n",
       "      <td>364.218136</td>\n",
       "      <td>0</td>\n",
       "      <td>BTCUSDT</td>\n",
       "    </tr>\n",
       "    <tr>\n",
       "      <th>4</th>\n",
       "      <td>1502943600000</td>\n",
       "      <td>4264.88</td>\n",
       "      <td>4266.29</td>\n",
       "      <td>4264.88</td>\n",
       "      <td>4266.29</td>\n",
       "      <td>2.328570</td>\n",
       "      <td>1502943899999</td>\n",
       "      <td>9.931161e+03</td>\n",
       "      <td>11</td>\n",
       "      <td>1.546491</td>\n",
       "      <td>6595.688039</td>\n",
       "      <td>0</td>\n",
       "      <td>BTCUSDT</td>\n",
       "    </tr>\n",
       "    <tr>\n",
       "      <th>...</th>\n",
       "      <td>...</td>\n",
       "      <td>...</td>\n",
       "      <td>...</td>\n",
       "      <td>...</td>\n",
       "      <td>...</td>\n",
       "      <td>...</td>\n",
       "      <td>...</td>\n",
       "      <td>...</td>\n",
       "      <td>...</td>\n",
       "      <td>...</td>\n",
       "      <td>...</td>\n",
       "      <td>...</td>\n",
       "      <td>...</td>\n",
       "    </tr>\n",
       "    <tr>\n",
       "      <th>639830</th>\n",
       "      <td>1695405900000</td>\n",
       "      <td>26580.52</td>\n",
       "      <td>26580.52</td>\n",
       "      <td>26538.73</td>\n",
       "      <td>26551.99</td>\n",
       "      <td>63.688450</td>\n",
       "      <td>1695406199999</td>\n",
       "      <td>1.691367e+06</td>\n",
       "      <td>2089</td>\n",
       "      <td>23.552180</td>\n",
       "      <td>625299.999456</td>\n",
       "      <td>0</td>\n",
       "      <td>BTCUSDT</td>\n",
       "    </tr>\n",
       "    <tr>\n",
       "      <th>639831</th>\n",
       "      <td>1695406200000</td>\n",
       "      <td>26552.00</td>\n",
       "      <td>26557.31</td>\n",
       "      <td>26544.78</td>\n",
       "      <td>26547.87</td>\n",
       "      <td>46.863680</td>\n",
       "      <td>1695406499999</td>\n",
       "      <td>1.244285e+06</td>\n",
       "      <td>2046</td>\n",
       "      <td>21.790310</td>\n",
       "      <td>578553.304583</td>\n",
       "      <td>0</td>\n",
       "      <td>BTCUSDT</td>\n",
       "    </tr>\n",
       "    <tr>\n",
       "      <th>639832</th>\n",
       "      <td>1695406500000</td>\n",
       "      <td>26547.86</td>\n",
       "      <td>26559.39</td>\n",
       "      <td>26545.01</td>\n",
       "      <td>26557.75</td>\n",
       "      <td>37.500310</td>\n",
       "      <td>1695406799999</td>\n",
       "      <td>9.957433e+05</td>\n",
       "      <td>1602</td>\n",
       "      <td>17.683760</td>\n",
       "      <td>469540.147538</td>\n",
       "      <td>0</td>\n",
       "      <td>BTCUSDT</td>\n",
       "    </tr>\n",
       "    <tr>\n",
       "      <th>639833</th>\n",
       "      <td>1695406800000</td>\n",
       "      <td>26557.76</td>\n",
       "      <td>26570.75</td>\n",
       "      <td>26557.75</td>\n",
       "      <td>26570.75</td>\n",
       "      <td>25.929000</td>\n",
       "      <td>1695407099999</td>\n",
       "      <td>6.887455e+05</td>\n",
       "      <td>1272</td>\n",
       "      <td>13.537610</td>\n",
       "      <td>359594.027677</td>\n",
       "      <td>0</td>\n",
       "      <td>BTCUSDT</td>\n",
       "    </tr>\n",
       "    <tr>\n",
       "      <th>639834</th>\n",
       "      <td>1695407100000</td>\n",
       "      <td>26570.75</td>\n",
       "      <td>26589.73</td>\n",
       "      <td>26570.74</td>\n",
       "      <td>26575.33</td>\n",
       "      <td>27.776830</td>\n",
       "      <td>1695407399999</td>\n",
       "      <td>7.383680e+05</td>\n",
       "      <td>1017</td>\n",
       "      <td>10.965990</td>\n",
       "      <td>291469.188615</td>\n",
       "      <td>0</td>\n",
       "      <td>BTCUSDT</td>\n",
       "    </tr>\n",
       "  </tbody>\n",
       "</table>\n",
       "<p>639835 rows × 13 columns</p>\n",
       "</div>"
      ],
      "text/plain": [
       "            open_time      open      high       low     close     volume  \\\n",
       "0       1502942400000   4261.48   4280.56   4261.48   4261.48   2.189061   \n",
       "1       1502942700000   4261.48   4261.48   4261.48   4261.48   0.000000   \n",
       "2       1502943000000   4261.48   4261.48   4261.48   4261.48   0.000000   \n",
       "3       1502943300000   4261.48   4264.88   4261.48   4261.48   0.484666   \n",
       "4       1502943600000   4264.88   4266.29   4264.88   4266.29   2.328570   \n",
       "...               ...       ...       ...       ...       ...        ...   \n",
       "639830  1695405900000  26580.52  26580.52  26538.73  26551.99  63.688450   \n",
       "639831  1695406200000  26552.00  26557.31  26544.78  26547.87  46.863680   \n",
       "639832  1695406500000  26547.86  26559.39  26545.01  26557.75  37.500310   \n",
       "639833  1695406800000  26557.76  26570.75  26557.75  26570.75  25.929000   \n",
       "639834  1695407100000  26570.75  26589.73  26570.74  26575.33  27.776830   \n",
       "\n",
       "           close_time  quote_asset_volume  number_of_trades  \\\n",
       "0       1502942699999        9.333621e+03                 9   \n",
       "1       1502942999999        0.000000e+00                 0   \n",
       "2       1502943299999        0.000000e+00                 0   \n",
       "3       1502943599999        2.065448e+03                 9   \n",
       "4       1502943899999        9.931161e+03                11   \n",
       "...               ...                 ...               ...   \n",
       "639830  1695406199999        1.691367e+06              2089   \n",
       "639831  1695406499999        1.244285e+06              2046   \n",
       "639832  1695406799999        9.957433e+05              1602   \n",
       "639833  1695407099999        6.887455e+05              1272   \n",
       "639834  1695407399999        7.383680e+05              1017   \n",
       "\n",
       "        taker_buy_base_asset_volume  taker_buy_quote_asset_volume  ignore  \\\n",
       "0                          0.489061                   2089.104962       0   \n",
       "1                          0.000000                      0.000000       0   \n",
       "2                          0.000000                      0.000000       0   \n",
       "3                          0.085455                    364.218136       0   \n",
       "4                          1.546491                   6595.688039       0   \n",
       "...                             ...                           ...     ...   \n",
       "639830                    23.552180                 625299.999456       0   \n",
       "639831                    21.790310                 578553.304583       0   \n",
       "639832                    17.683760                 469540.147538       0   \n",
       "639833                    13.537610                 359594.027677       0   \n",
       "639834                    10.965990                 291469.188615       0   \n",
       "\n",
       "         symbol  \n",
       "0       BTCUSDT  \n",
       "1       BTCUSDT  \n",
       "2       BTCUSDT  \n",
       "3       BTCUSDT  \n",
       "4       BTCUSDT  \n",
       "...         ...  \n",
       "639830  BTCUSDT  \n",
       "639831  BTCUSDT  \n",
       "639832  BTCUSDT  \n",
       "639833  BTCUSDT  \n",
       "639834  BTCUSDT  \n",
       "\n",
       "[639835 rows x 13 columns]"
      ]
     },
     "execution_count": 22,
     "metadata": {},
     "output_type": "execute_result"
    }
   ],
   "source": [
    "filename = f'{myenv.datadir}/BTCUSDT/BTCUSDT_5m'\n",
    "df = pd.read_csv(f'{filename}.dat', sep=';', compression=dict(method='zip'))\n",
    "df.info()\n",
    "df\n",
    "#df.to_csv(f'{filename}.csv', sep=';', index=False, compression=dict(method='zip', archive_name=f'{filename}.csv'))"
   ]
  }
 ],
 "metadata": {
  "kernelspec": {
   "display_name": "env",
   "language": "python",
   "name": "python3"
  },
  "language_info": {
   "codemirror_mode": {
    "name": "ipython",
    "version": 3
   },
   "file_extension": ".py",
   "mimetype": "text/x-python",
   "name": "python",
   "nbconvert_exporter": "python",
   "pygments_lexer": "ipython3",
   "version": "3.10.13"
  },
  "orig_nbformat": 4
 },
 "nbformat": 4,
 "nbformat_minor": 2
}
