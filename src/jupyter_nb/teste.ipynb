{
 "cells": [
  {
   "cell_type": "code",
   "execution_count": null,
   "metadata": {},
   "outputs": [],
   "source": [
    "import sys\n",
    "sys.path.insert(0, sys.path[0].removesuffix('/src/jupyter_nb'))\n",
    "sys.path.insert(1, sys.path[0] + '/src')\n",
    "print(sys.path)\n",
    "import pandas as pd\n",
    "from src.robo import *\n",
    "from src.utils import *\n",
    "from src.calcEMA import *\n",
    "from src.myenv import *\n",
    "\n",
    "tail = regression_times + 50\n",
    "use_cols = ['open_time', 'close']\n",
    "\n",
    "estimator = 'lightgbm'"
   ]
  },
  {
   "cell_type": "code",
   "execution_count": null,
   "metadata": {},
   "outputs": [],
   "source": [
    "symbol = 'BTCUSDT'\n",
    "experiment, model = load_model(symbol, estimator)  # cassification_experiment"
   ]
  },
  {
   "cell_type": "code",
   "execution_count": null,
   "metadata": {},
   "outputs": [],
   "source": [
    "df = get_data(symbol, save_database=False, interval='1h', tail=tail, adjust_index=True)\n",
    "df.to_csv('log_after_1st_get_data.csv', sep=';', index=False)\n",
    "df"
   ]
  },
  {
   "cell_type": "code",
   "execution_count": null,
   "metadata": {},
   "outputs": [],
   "source": [
    "df = calc_RSI(df)\n",
    "df.to_csv('log_after_1st_calc_RSI.csv', sep=';', index=False)\n",
    "df"
   ]
  },
  {
   "cell_type": "code",
   "execution_count": null,
   "metadata": {},
   "outputs": [],
   "source": [
    "df.dropna(inplace=True)\n",
    "df"
   ]
  },
  {
   "cell_type": "code",
   "execution_count": null,
   "metadata": {},
   "outputs": [],
   "source": [
    "numeric_features = ['close', 'rsi']\n",
    "df, _ = regresstion_times(df, numeric_features, regression_times)\n",
    "df.to_csv('log_after_1st_regresstion_times.csv', sep=';')\n",
    "df"
   ]
  },
  {
   "cell_type": "code",
   "execution_count": null,
   "metadata": {},
   "outputs": [],
   "source": [
    "df.info()"
   ]
  },
  {
   "cell_type": "code",
   "execution_count": null,
   "metadata": {},
   "outputs": [],
   "source": [
    "window = 14\n",
    "close_price = 'close'\n",
    "count = df.shape[0]\n",
    "df.iloc[count-1:count]['rsi'] = 0\n",
    "\n",
    "\n",
    "#print(df[['close', 'rsi']].tail())\n",
    "# _df = df.tail(window + 10)[[close_price, 'rsi']].copy()\n",
    "_df = df[[close_price, 'rsi']].tail(window+50).copy()\n",
    "_count = _df.shape[0]\n",
    "#print(_df)\n",
    "_df['change'] = _df[close_price].diff()\n",
    "_df['gain'] = _df.change.mask(_df.change < 0, 0.0)\n",
    "_df['loss'] = -_df.change.mask(_df.change > 0, -0.0)\n",
    "_df['avg_gain'] = rma(_df.gain.to_numpy(), window)\n",
    "_df['avg_loss'] = rma(_df.loss.to_numpy(), window)\n",
    "\n",
    "_df['rs'] = _df.avg_gain / _df.avg_loss\n",
    "_df['rsi'] = 100 - (100 / (1 + _df.rs))\n",
    "#print(_df)\n",
    "\n",
    "#print(df.iloc[count-1:count]['rsi'])\n",
    "#print(_df.iloc[_count-1:_count]['rsi'])\n",
    "\n",
    "df.update(_df.iloc[_count-1:_count]['rsi'])\n",
    "\n",
    "df.tail()"
   ]
  },
  {
   "cell_type": "code",
   "execution_count": null,
   "metadata": {},
   "outputs": [],
   "source": [
    "cont = 0"
   ]
  },
  {
   "cell_type": "code",
   "execution_count": null,
   "metadata": {},
   "outputs": [],
   "source": [
    "#while True:\n",
    "\n",
    "# df = get_data(symbol, save_database=False, interval='1h', tail=tail)\n",
    "_df = get_klines(symbol, interval='1h', max_date=None, limit=1, adjust_index=True)\n",
    "_df.to_csv(f'log_after_{cont}_get_klines.csv', sep=';', index=False)\n",
    "\n",
    "#df = pd.concat([df, _df]).drop_duplicates(keep='last')\n",
    "if _df.index.isin(df.index):\n",
    "    df.update(_df)\n",
    "else:\n",
    "    df = pd.concat([df, _df])   \n",
    "df.to_csv(f'log_after_{cont}_merge.csv', sep=';', index=False)\n",
    "\n",
    "df = calc_RSI(df, last_one=True)\n",
    "df.to_csv(f'log_after_{cont}_calc_RSI.csv', sep=';', index=False)\n",
    "\n",
    "df, _ = regresstion_times(df, numeric_features, regression_times, last_one=True)\n",
    "df.to_csv(f'log_after_{cont}_regresstion_times.csv', sep=';', index=False)\n",
    "\n",
    "df[['open_time'] + numeric_features].to_csv('log_experiment_data.log', sep=';', index=False)\n",
    "df_predict = experiment.predict_model(model, df.tail(1))\n",
    "df_predict.to_csv(f'log_after_{cont}_df_predict.csv', sep=';', index=False)\n",
    "\n",
    "operacao = df_predict['prediction_label'].values[0]\n",
    "if (operacao.startswith('SOBE') or operacao.startswith('CAI')):\n",
    "    send_message(df_predict)\n",
    "time.sleep(sleep_refresh)\n",
    "cont += 1"
   ]
  },
  {
   "cell_type": "code",
   "execution_count": null,
   "metadata": {},
   "outputs": [],
   "source": [
    "import pandas as pd\n",
    "df1 = pd.DataFrame({'open_time': [1, 55], 'close': [3, 4], 'C': [5, 6], 'D': [7, 8]}, index=[0,1])\n",
    "df1"
   ]
  },
  {
   "cell_type": "code",
   "execution_count": null,
   "metadata": {},
   "outputs": [],
   "source": [
    "df2 = pd.DataFrame({'open_time': [55], 'close': [77]}, index=[1])\n",
    "df2"
   ]
  },
  {
   "cell_type": "code",
   "execution_count": null,
   "metadata": {},
   "outputs": [],
   "source": [
    "i = df2.iloc[df2.shape[0]-1:df2.shape[0]].index\n",
    "i"
   ]
  },
  {
   "cell_type": "code",
   "execution_count": null,
   "metadata": {},
   "outputs": [],
   "source": [
    "df2.index.isin(df1.index)"
   ]
  }
 ],
 "metadata": {
  "kernelspec": {
   "display_name": "env",
   "language": "python",
   "name": "python3"
  },
  "language_info": {
   "codemirror_mode": {
    "name": "ipython",
    "version": 3
   },
   "file_extension": ".py",
   "mimetype": "text/x-python",
   "name": "python",
   "nbconvert_exporter": "python",
   "pygments_lexer": "ipython3",
   "version": "3.10.12"
  },
  "orig_nbformat": 4
 },
 "nbformat": 4,
 "nbformat_minor": 2
}
