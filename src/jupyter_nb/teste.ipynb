{
  "cells": [
    {
      "cell_type": "code",
      "execution_count": null,
      "metadata": {},
      "outputs": [],
      "source": [
        "import sys\n",
        "\n",
        "sys.path.insert(0, sys.path[0].removesuffix(\"/src/jupyter_nb\"))\n",
        "sys.path.insert(1, sys.path[0] + \"/src\")\n",
        "print(sys.path)\n",
        "import pandas as pd\n",
        "from src.robo import *\n",
        "import src.utils as utils\n",
        "from src.calcEMA import *\n",
        "from src.myenv import *\n",
        "from src.train import *\n",
        "\n",
        "tail = regression_times + 50\n",
        "use_cols = [\"open_time\", \"close\"]\n",
        "\n",
        "estimator = \"lightgbm\""
      ]
    },
    {
      "cell_type": "code",
      "execution_count": null,
      "metadata": {},
      "outputs": [],
      "source": [
        "from datetime import datetime\n",
        "\n",
        "int(datetime.now().timestamp() * 1000000)"
      ]
    },
    {
      "cell_type": "code",
      "execution_count": null,
      "metadata": {},
      "outputs": [],
      "source": [
        "import sys\n",
        "sys.path.insert(0, sys.path[0].removesuffix('/src/jupyter_nb'))\n",
        "sys.path.insert(1, sys.path[0] + '/src')\n",
        "import src.utils as utils\n",
        "\n",
        "has_results = utils.has_results('BTCUSDT',\n",
        "                                '30m',\n",
        "                                'knn',\n",
        "                                'allknn',\n",
        "                                '2010-01-01',\n",
        "                                '2023-01-01 00:30:00',\n",
        "                                'volume',\n",
        "                                48,\n",
        "                                1.0)\n",
        "\n",
        "has_results"
      ]
    },
    {
      "cell_type": "code",
      "execution_count": null,
      "metadata": {},
      "outputs": [],
      "source": [
        "symbol = \"BTCUSDT\"\n",
        "experiment, model = load_model(symbol, estimator)  # cassification_experiment"
      ]
    },
    {
      "cell_type": "code",
      "execution_count": null,
      "metadata": {},
      "outputs": [],
      "source": [
        "df = get_data(symbol, save_database=False, interval=\"1h\", tail=tail)\n",
        "df.to_csv(\"log_after_1st_get_data.csv\", sep=\";\", index=False)\n",
        "df"
      ]
    },
    {
      "cell_type": "code",
      "execution_count": null,
      "metadata": {},
      "outputs": [],
      "source": [
        "df = calc_RSI(df)\n",
        "df.to_csv(\"log_after_1st_calc_RSI.csv\", sep=\";\", index=False)\n",
        "df"
      ]
    },
    {
      "cell_type": "code",
      "execution_count": null,
      "metadata": {},
      "outputs": [],
      "source": [
        "df.dropna(inplace=True)\n",
        "df"
      ]
    },
    {
      "cell_type": "code",
      "execution_count": null,
      "metadata": {},
      "outputs": [],
      "source": [
        "numeric_features = [\"close\", \"rsi\"]\n",
        "df, _ = regresstion_times(df, numeric_features, regression_times)\n",
        "df.to_csv(\"log_after_1st_regresstion_times.csv\", sep=\";\")\n",
        "df"
      ]
    },
    {
      "cell_type": "code",
      "execution_count": null,
      "metadata": {},
      "outputs": [],
      "source": [
        "df.info()"
      ]
    },
    {
      "cell_type": "code",
      "execution_count": null,
      "metadata": {},
      "outputs": [],
      "source": [
        "window = 14\n",
        "close_price = 'close'\n",
        "count = df.shape[0]\n",
        "df.iloc[count - 1:count]['rsi'] = 0\n",
        "\n",
        "\n",
        "# print(df[['close', 'rsi']].tail())\n",
        "# _df = df.tail(window + 10)[[close_price, 'rsi']].copy()\n",
        "_df = df[[close_price, 'rsi']].tail(window + 50).copy()\n",
        "_count = _df.shape[0]\n",
        "# print(_df)\n",
        "_df['change'] = _df[close_price].diff()\n",
        "_df['gain'] = _df.change.mask(_df.change < 0, 0.0)\n",
        "_df['loss'] = -_df.change.mask(_df.change > 0, -0.0)\n",
        "_df['avg_gain'] = rma(_df.gain.to_numpy(), window)\n",
        "_df['avg_loss'] = rma(_df.loss.to_numpy(), window)\n",
        "\n",
        "_df['rs'] = _df.avg_gain / _df.avg_loss\n",
        "_df['rsi'] = 100 - (100 / (1 + _df.rs))\n",
        "# print(_df)\n",
        "\n",
        "# print(df.iloc[count-1:count]['rsi'])\n",
        "# print(_df.iloc[_count-1:_count]['rsi'])\n",
        "\n",
        "df.update(_df.iloc[_count - 1:_count]['rsi'])\n",
        "\n",
        "df.tail()"
      ]
    },
    {
      "cell_type": "code",
      "execution_count": null,
      "metadata": {},
      "outputs": [],
      "source": [
        "cont = 0"
      ]
    },
    {
      "cell_type": "code",
      "execution_count": null,
      "metadata": {},
      "outputs": [],
      "source": [
        "# while True:\n",
        "\n",
        "# df = get_data(symbol, save_database=False, interval='1h', tail=tail)\n",
        "_df = get_klines(symbol, interval='1h', max_date=None, limit=1)\n",
        "_df.to_csv(f'log_after_{cont}_get_klines.csv', sep=';', index=False)\n",
        "\n",
        "# df = pd.concat([df, _df]).drop_duplicates(keep='last')\n",
        "if _df.index.isin(df.index):\n",
        "    df.update(_df)\n",
        "else:\n",
        "    df = pd.concat([df, _df])\n",
        "df.to_csv(f'log_after_{cont}_merge.csv', sep=';', index=False)\n",
        "\n",
        "df = calc_RSI(df, last_one=True)\n",
        "df.to_csv(f'log_after_{cont}_calc_RSI.csv', sep=';', index=False)\n",
        "\n",
        "df, _ = regresstion_times(df, numeric_features, regression_times, last_one=True)\n",
        "df.to_csv(f'log_after_{cont}_regresstion_times.csv', sep=';', index=False)\n",
        "\n",
        "df[['open_time'] + numeric_features].to_csv('log_experiment_data.log', sep=';', index=False)\n",
        "df_predict = experiment.predict_model(model, df.tail(1))\n",
        "df_predict.to_csv(f'log_after_{cont}_df_predict.csv', sep=';', index=False)\n",
        "\n",
        "operacao = df_predict['prediction_label'].values[0]\n",
        "if (operacao.startswith('LONG') or operacao.startswith('SHORT')):\n",
        "    send_message(df_predict)\n",
        "time.sleep(sleep_refresh)\n",
        "cont += 1"
      ]
    },
    {
      "cell_type": "code",
      "execution_count": null,
      "metadata": {},
      "outputs": [],
      "source": [
        "import pandas as pd\n",
        "df1 = pd.DataFrame({'open_time': [1, 55, 32, 234], 'close': [3, 4, 5, 6], 'C': [5, 6, 34, 5], 'D': [7, 8, 54, 66], 'label': ['A', 'A', 'B', 'B']}, index=[0, 1, 2, 3])\n",
        "df1"
      ]
    },
    {
      "cell_type": "code",
      "execution_count": null,
      "metadata": {},
      "outputs": [],
      "source": [
        "df2 = pd.DataFrame({\"open_time\": [55], \"close\": [77]}, index=[1])\n",
        "df2"
      ]
    },
    {
      "cell_type": "code",
      "execution_count": null,
      "metadata": {},
      "outputs": [],
      "source": [
        "i = df2.iloc[df2.shape[0] - 1:df2.shape[0]].index\n",
        "i"
      ]
    },
    {
      "cell_type": "code",
      "execution_count": null,
      "metadata": {},
      "outputs": [],
      "source": [
        "df2.index.isin(df1.index)"
      ]
    },
    {
      "cell_type": "code",
      "execution_count": null,
      "metadata": {},
      "outputs": [],
      "source": [
        "_df = get_klines(\"BTCUSDT\", interval=\"1h\", max_date=None, limit=200)\n",
        "_df"
      ]
    },
    {
      "cell_type": "code",
      "execution_count": null,
      "metadata": {},
      "outputs": [],
      "source": [
        "from pycaret.classification.oop import ClassificationExperiment\n",
        "\n",
        "ca = ClassificationExperiment()\n",
        "setup = ca.setup(_df, target=\"symbol\")"
      ]
    },
    {
      "cell_type": "code",
      "execution_count": null,
      "metadata": {},
      "outputs": [],
      "source": [
        "best = setup.compare_models()\n",
        "\n",
        "best"
      ]
    },
    {
      "cell_type": "code",
      "execution_count": null,
      "metadata": {},
      "outputs": [],
      "source": [
        "setup.pull().index[0]"
      ]
    },
    {
      "cell_type": "code",
      "execution_count": null,
      "metadata": {},
      "outputs": [],
      "source": [
        "import datetime\n",
        "datetime.datetime.now().strftime(\"%Y-%m-%d %H:%M:%S\")"
      ]
    },
    {
      "cell_type": "code",
      "execution_count": null,
      "metadata": {},
      "outputs": [],
      "source": [
        "import pandas as pd\n",
        "import datetime\n",
        "import os\n",
        "\n",
        "df_resultado_simulacao = pd.DataFrame()\n",
        "if (os.path.exists('resultado_simulacao.csv')):\n",
        "    df_resultado_simulacao = pd.read_csv('resultado_simulacao.csv', sep=';')\n",
        "\n",
        "result_simulado = {}\n",
        "result_simulado['model_name'] = 'BTCUSDT_lr_SL_2.0_RT_1440_RPL_24_1'\n",
        "result_simulado['data'] = datetime.datetime.now().strftime(\"%Y-%m-%d %H:%M:%S\")\n",
        "result_simulado['symbol'] = 'BTCUSDT'\n",
        "result_simulado['estimator'] = 'lightgbm'\n",
        "result_simulado['train_size'] = 0.7\n",
        "result_simulado['start_train_date'] = '2023-06-01'\n",
        "result_simulado['start_test_date'] = '2023-08-08'\n",
        "result_simulado['regression_times'] = 24 * 30\n",
        "result_simulado['times_regression_profit_and_loss'] = 24\n",
        "result_simulado['stop_loss'] = 2.0\n",
        "result_simulado['fold'] = 3\n",
        "result_simulado['saldo_inicial'] = 100.00\n",
        "result_simulado['saldo_final'] = 91.87\n",
        "\n",
        "print(result_simulado)\n",
        "\n",
        "df = pd.DataFrame.from_dict([result_simulado])\n",
        "\n",
        "df_resultado_simulacao = pd.concat([df_resultado_simulacao, df], ignore_index=True)\n",
        "df_resultado_simulacao.sort_values('saldo_final', inplace=True)\n",
        "\n",
        "df_resultado_simulacao.to_csv('resultado_simulacao.csv', sep=';', index=False)"
      ]
    },
    {
      "cell_type": "code",
      "execution_count": null,
      "metadata": {},
      "outputs": [],
      "source": [
        "from binance.client import Client\n",
        "client = Client()\n",
        "klines = client.get_historical_klines(symbol='BTCUSDT', interval='1m', start_str='2023-09-01', limit=1000)\n",
        "klines"
      ]
    },
    {
      "cell_type": "code",
      "execution_count": null,
      "metadata": {},
      "outputs": [],
      "source": [
        "import pandas as pd\n",
        "\n",
        "pd.to_datetime(1695036000000, unit=\"ms\")"
      ]
    },
    {
      "cell_type": "code",
      "execution_count": null,
      "metadata": {},
      "outputs": [],
      "source": [
        "import pandas as pd\n",
        "\n",
        "\n",
        "all_klines_cols = [\n",
        "    \"open_time\",\n",
        "    \"open\",\n",
        "    \"high\",\n",
        "    \"low\",\n",
        "    \"close\",\n",
        "    \"volume\",\n",
        "    \"close_time\",\n",
        "    \"quote_asset_volume\",\n",
        "    \"number_of_trades\",\n",
        "    \"taker_buy_base_asset_volume\",\n",
        "    \"taker_buy_quote_asset_volume\",\n",
        "    \"ignore\",\n",
        "]\n",
        "\n",
        "columns = [\n",
        "    \"open_time\",\n",
        "    \"open\",\n",
        "    \"high\",\n",
        "    \"low\",\n",
        "    \"close\",\n",
        "    \"volume\",\n",
        "    \"quote_asset_volume\",\n",
        "    \"taker_buy_base_asset_volume\",\n",
        "    \"taker_buy_quote_asset_volume\",\n",
        "    \"number_of_trades\",\n",
        "    \"ignore\",\n",
        "    \"close_time\",\n",
        "]\n",
        "\n",
        "df_klines = pd.DataFrame(data=klines, columns=all_klines_cols)[columns]\n",
        "df_klines[\"open_time\"] = pd.to_datetime(df_klines[\"open_time\"], unit=\"ms\")\n",
        "df_klines[\"close_time\"] = pd.to_datetime(df_klines[\"close_time\"], unit=\"ms\")"
      ]
    },
    {
      "cell_type": "code",
      "execution_count": null,
      "metadata": {},
      "outputs": [],
      "source": [
        "df_klines"
      ]
    },
    {
      "cell_type": "code",
      "execution_count": null,
      "metadata": {},
      "outputs": [],
      "source": [
        "download_data()"
      ]
    },
    {
      "cell_type": "code",
      "execution_count": null,
      "metadata": {},
      "outputs": [],
      "source": [
        "all_data = get_data(\n",
        "    \"BTCUSDT\",\n",
        "    save_database=False,\n",
        "    interval=\"1h\",\n",
        "    tail=-1,\n",
        "    columns=[\"open_time\", \"close\"],\n",
        ")\n",
        "all_data"
      ]
    },
    {
      "cell_type": "code",
      "execution_count": null,
      "metadata": {},
      "outputs": [],
      "source": [
        "import numpy as np\n",
        "\n",
        "at = all_data.tail(1).open_time.dt.strftime('%Y-%m-%d %H').values[0]"
      ]
    },
    {
      "cell_type": "code",
      "execution_count": null,
      "metadata": {},
      "outputs": [],
      "source": [
        "list_of_elements = ['close', 'open', 'high', 'low', 'volume']\n",
        "fix_it = 'close'\n",
        "\n",
        "combinations_list = []\n",
        "if len(list_of_elements) > 0:\n",
        "    for i in range(1, len(list_of_elements) + 1):\n",
        "        a = combinations(list_of_elements, i)\n",
        "        for s in a:\n",
        "            res = ''\n",
        "            for j in s:\n",
        "                res += f'{j},'\n",
        "            combinations_list.append(res[0:len(res) - 1])\n",
        "\n",
        "combinations_list"
      ]
    },
    {
      "cell_type": "code",
      "execution_count": null,
      "metadata": {},
      "outputs": [],
      "source": [
        "from itertools import combinations\n",
        "import pandas as pd\n",
        "\n",
        "comb = combinations(range(1, 25 + 1), 15)\n",
        "cols = [\"col_\" + str(i) for i in range(1, 15 + 1)]\n",
        "resultado = pd.DataFrame(list(comb), columns=cols)\n",
        "resultado"
      ]
    },
    {
      "cell_type": "code",
      "execution_count": null,
      "metadata": {},
      "outputs": [],
      "source": [
        "resultado.query(\"col_1 in (1,2,3,4) and col_15 in (22,23,24,25)\")"
      ]
    },
    {
      "cell_type": "code",
      "execution_count": null,
      "metadata": {},
      "outputs": [],
      "source": [
        "import pandas as pd\n",
        "results = ['a', 'b', 'c', 'd', 'd', 'd', 'd', 'd',]\n",
        "\n",
        "pd.DataFrame(results, columns=['status'])['status'].value_counts()"
      ]
    },
    {
      "cell_type": "code",
      "execution_count": null,
      "metadata": {},
      "outputs": [],
      "source": [
        "import pandas as pd\n",
        "import sys\n",
        "\n",
        "print(sys.path)\n",
        "sys.path.insert(0, sys.path[0].replace(\"/src/jupyter_nb\", \"\"))\n",
        "print(sys.path)\n",
        "import src.utils as utils\n",
        "import src.myenv as myenv\n",
        "import logging\n",
        "\n",
        "logging.basicConfig(\n",
        "    level=logging.DEBUG,  # Set the minimum level to be logged\n",
        "    format=\"%(asctime)s [%(levelname)s]: %(message)s\",\n",
        "    handlers=[logging.StreamHandler()],\n",
        ")\n",
        "\n",
        "\n",
        "df = pd.read_csv(\"../../data/ADAUSDT/ADAUSDT.csv\", sep=\";\", index_col=\"open_time\")\n",
        "df[\"open_time\"] = pd.to_datetime(df.index, unit=\"ms\")\n",
        "df"
      ]
    },
    {
      "cell_type": "code",
      "execution_count": null,
      "metadata": {},
      "outputs": [],
      "source": [
        "df.sort_index(inplace=True)\n",
        "df.index.duplicated().sum()"
      ]
    },
    {
      "cell_type": "code",
      "execution_count": null,
      "metadata": {},
      "outputs": [],
      "source": [
        "all_data = utils.regression_PnL(\n",
        "    df,\n",
        "    label=myenv.label,\n",
        "    diff_percent=1.0,\n",
        "    max_regression_profit_and_loss=6,\n",
        "    drop_na=True,\n",
        "    drop_calc_cols=True,\n",
        "    strategy=None)\n",
        "\n",
        "all_data"
      ]
    },
    {
      "cell_type": "code",
      "execution_count": null,
      "metadata": {},
      "outputs": [],
      "source": [
        "all_data['prediction_label'] = all_data['status']\n",
        "all_data = utils.simule_trading_crypto(all_data, '2023-06-01', '2023-09-19', 100, 1.0)\n",
        "all_data"
      ]
    },
    {
      "cell_type": "code",
      "execution_count": null,
      "metadata": {},
      "outputs": [],
      "source": [
        "import sys\n",
        "sys.path.insert(0, sys.path[0].replace('/src/jupyter_nb', ''))\n",
        "import src.utils as utils\n",
        "import src.myenv as myenv\n",
        "import src.send_message as sm\n",
        "import os\n",
        "import glob\n",
        "import pandas as pd"
      ]
    },
    {
      "cell_type": "code",
      "execution_count": null,
      "metadata": {},
      "outputs": [],
      "source": [
        "symbol, interval = 'BTCUSDT', '1h'\n",
        "\n",
        "cont = 0\n",
        "cont_aviso = 101\n",
        "\n",
        "purchased = False\n",
        "purchase_price = 0.0\n",
        "actual_price = 0.0\n",
        "amount_invested = 0.0\n",
        "# balance = 0.0\n",
        "take_profit_price = 0.0\n",
        "stop_loss_price = 0.0\n",
        "profit_and_loss = 0.0\n",
        "operation = ''\n",
        "margin = 0.0\n",
        "margin_operation = 0.0\n",
        "rsi = 0.0\n",
        "latest_closed_candle_open_time_aux = None\n",
        "\n",
        "balance = 1000.00\n",
        "\n",
        "params_operation = utils.get_latest_operation(symbol, interval)\n",
        "print(params_operation)\n",
        "if len(params_operation) > 0 and params_operation['operation'] == 'BUY':\n",
        "    purchased = True\n",
        "    purchase_price = float(params_operation['purchase_price'])\n",
        "    take_profit_price = float(params_operation['take_profit'])\n",
        "    stop_loss_price = float(params_operation['stop_loss'])\n",
        "    operation = params_operation['status']\n",
        "    latest_closed_candle_open_time_aux = params_operation[\"operation_date\"]\n",
        "    amount_invested = float(params_operation['amount_invested'])\n",
        "    rsi = float(params_operation['rsi'])\n",
        "    margin_operation = round(((take_profit_price - purchase_price) / purchase_price) * 100, 2)\n",
        "\n",
        "    print(latest_closed_candle_open_time_aux, operation, purchase_price, amount_invested, balance, margin_operation, take_profit_price, stop_loss_price)"
      ]
    },
    {
      "cell_type": "code",
      "execution_count": null,
      "metadata": {},
      "outputs": [],
      "source": [
        "symbol = 'TESTUSDT'\n",
        "interval = '1m'\n",
        "\n",
        "\n",
        "def calc_sl_pnl(operation, actual_value, margin):\n",
        "    take_profit_value = 0.0\n",
        "    stop_loss_value = 0.0\n",
        "    if operation.startswith('SHORT'):  # Short\n",
        "        take_profit_value = actual_value * (1 - margin / 100)\n",
        "        stop_loss_value = actual_value * (1 + (margin * myenv.stop_loss_multiplier) / 100)\n",
        "    elif operation.startswith('LONG'):  # Long\n",
        "        take_profit_value = actual_value * (1 + margin / 100)\n",
        "        stop_loss_value = actual_value * (1 - (margin * myenv.stop_loss_multiplier) / 100)\n",
        "    return take_profit_value, stop_loss_value\n",
        "\n",
        "\n",
        "def log_selling(open_time, operation, purchase_price, actual_price, margin, amount_invested, profit_and_loss, balance, take_profit_price,\n",
        "                stop_loss_price, margin_operation):\n",
        "    msg = f'*SELLING*: Symbol: {symbol}_{interval} - Open Time: {open_time} - Operation: {operation} - Target Margin: {margin_operation:.2f}% '\n",
        "    msg += f'- Purchased Price: $ {purchase_price:.6f} - Actual Price: $ {actual_price:.6f} - Margin: {100*margin:.2f}% - Amount invested: $ {amount_invested:.2f} '\n",
        "    msg += f'- PnL: $ {profit_and_loss:.2f} - Take Profit: $ {take_profit_price:.6f} - Stop Loss: $ {stop_loss_price:.6f} - Balance: $ {balance:.2f}'\n",
        "    print(f'{msg}')"
      ]
    },
    {
      "cell_type": "code",
      "execution_count": null,
      "metadata": {},
      "outputs": [],
      "source": [
        "\n",
        "purchased = True\n",
        "operation = 'LONG'\n",
        "margin_operation = 1.5\n",
        "actual_price = 1014\n",
        "purchase_price = 1000\n",
        "amount_invested = 100\n",
        "balance = 9900\n",
        "rsi = 70\n",
        "latest_closed_candle_open_time = '2023-01-01'\n",
        "\n",
        "take_profit_price, stop_loss_price = calc_sl_pnl(operation, purchase_price, margin_operation)\n",
        "\n",
        "if purchased:  # and (operation.startswith('LONG') or operation.startswith('SHORT')):\n",
        "    perform_sell = False\n",
        "    if operation == 'LONG':  # self.is_long(operation):\n",
        "        print('1')\n",
        "        margin = (actual_price - purchase_price) / purchase_price\n",
        "        print(f'actual_price: {actual_price} - take_profit_price: {take_profit_price} - stop_loss_price: {stop_loss_price} -  purchase_price: {purchase_price} - margin: {margin} => {actual_price - purchase_price}')\n",
        "        if ((actual_price >= take_profit_price) or (actual_price <= stop_loss_price)):  # Long ==> Sell - Take Profit / Stop Loss\n",
        "            print('2')\n",
        "            perform_sell = True\n",
        "    elif operation == 'SHORT':  # self.is_short(operation):\n",
        "        print('3')\n",
        "        margin = (purchase_price - actual_price) / purchase_price\n",
        "        if ((actual_price <= take_profit_price) or (actual_price >= stop_loss_price)):  # Short ==> Sell - Take Profit / Stop Loss\n",
        "            print('4')\n",
        "            perform_sell = True\n",
        "\n",
        "    profit_and_loss = amount_invested * margin\n",
        "    print(f'Perform Sell: {perform_sell} - Margin: {margin} - PnL: $ {profit_and_loss}')\n",
        "    if perform_sell:  # Register Sell\n",
        "        balance += profit_and_loss\n",
        "        params_operation = utils.get_params_operation(symbol, interval, 'SELL', amount_invested, balance, take_profit_price, stop_loss_price,\n",
        "                                                      purchase_price, actual_price, profit_and_loss, rsi, operation)\n",
        "        # utils.register_operation(params_operation)\n",
        "        # utils.register_account_balance(balance)\n",
        "        log_selling(latest_closed_candle_open_time, operation, purchase_price, actual_price, margin, amount_invested, profit_and_loss, balance,\n",
        "                    take_profit_price, stop_loss_price, margin_operation)"
      ]
    },
    {
      "cell_type": "code",
      "execution_count": null,
      "metadata": {},
      "outputs": [],
      "source": [
        "purchased = True\n",
        "purchase_price = 1000.00\n",
        "now_price = 900.00\n",
        "operation = 'SHORT_1.5'\n",
        "purchase_operation = operation\n",
        "amount_invested = 100.00\n",
        "stop_loss = 1.5\n",
        "symbol = 'TESTUSDT'\n",
        "interval = '1m'\n",
        "rsi = 70.00\n",
        "\n",
        "margin = float(operation.split('_')[1])\n",
        "take_profit = now_price * (1 + margin)\n",
        "stop_loss = now_price * (1 - (2 * margin))\n",
        "\n",
        "open_time = datetime.datetime.now().strftime('%Y-%m-%d %H:%M:%S')\n",
        "\n",
        "# Sell operation\n",
        "if purchased:\n",
        "    diff = 100 * (now_price - purchase_price) / purchase_price\n",
        "    profit_and_loss = 0.0\n",
        "    if purchase_operation.startswith('LONG'):\n",
        "        profit_and_loss += amount_invested * (diff / 100)\n",
        "    else:\n",
        "        profit_and_loss += amount_invested * (-diff / 100)\n",
        "\n",
        "if (abs(diff) >= stop_loss) and purchased:\n",
        "    account_balance = utils.get_account_balance()\n",
        "    balance = account_balance['balance']\n",
        "    balance += profit_and_loss\n",
        "    params_operation = {'operation_date': int(datetime.datetime.now().timestamp() * 1000),\n",
        "                        'symbol': symbol,\n",
        "                        'interval': interval,\n",
        "                        'operation': 'SELL',\n",
        "                        'amount_invested': f'{amount_invested:.2f}',\n",
        "                        'balance': f'{balance:.2f}',\n",
        "                        'take_profit': f'{take_profit:.6f}',\n",
        "                        'stop_loss': f'{stop_loss:.6f}',\n",
        "                        'purchase_price': f'{purchase_price:.6f}',\n",
        "                        'sell_price': f'{now_price:.6f}',\n",
        "                        'PnL': f'{(amount_invested - profit_and_loss):.2f}',\n",
        "                        'rsi': f'{rsi:.2f}',\n",
        "                        'status': operation,\n",
        "                        }\n",
        "\n",
        "    utils.register_operation(params_operation)\n",
        "    utils.register_account_balance(balance)\n",
        "\n",
        "    msg = f'Venda: Symbol: {symbol}_{interval} - open_time: {open_time} - Operação: {purchase_operation} - Valor Comprado: $ {purchase_price:.6f} - \\\n",
        "Valor Venda: $ {now_price:.6f} - Variação: {diff:.2f}% - PnL: $ {(amount_invested-profit_and_loss):.2f} - Balance: $ {balance:.2f}'\n",
        "    print(msg)\n",
        "    # Reset variaveis\n",
        "    purchased = False\n",
        "    purchase_price = 0.0\n",
        "    purchase_operation = ''\n",
        "    amount_invested = 0.0\n",
        "# End Sell Calcs\n",
        "print(params_operation)"
      ]
    },
    {
      "cell_type": "code",
      "execution_count": null,
      "metadata": {},
      "outputs": [],
      "source": [
        "import datetime\n",
        "params_operation = {'operation_date': int(datetime.datetime.now().timestamp() * 1000),\n",
        "                    'symbol': 'TESTUSDT',\n",
        "                    'interval': '1h',\n",
        "                    'operation': 'SELL',\n",
        "                    'amount_invested': 200.00,\n",
        "                    'balance': 9100.11,\n",
        "                    'take_profit': 4342.24,\n",
        "                    'stop_loss': 2323.23,\n",
        "                    'purchase_price': 232323.32,\n",
        "                    'sell_price': 23424.23,\n",
        "                    'PnL': 32424.24,\n",
        "                    'rsi': 43.44,\n",
        "                    'status': 'SHORT_2.9',\n",
        "                    }\n",
        "print(params_operation)\n",
        "# pd.DataFrame(data=[params_operation], index=[0])\n",
        "utils.register_operation(params_operation)"
      ]
    },
    {
      "cell_type": "code",
      "execution_count": null,
      "metadata": {},
      "outputs": [],
      "source": [
        "utils.get_account_balance()"
      ]
    },
    {
      "cell_type": "code",
      "execution_count": null,
      "metadata": {},
      "outputs": [],
      "source": [
        "filename = f'{myenv.datadir}/account_balance.dat'\n",
        "params = {}\n",
        "params['operation_date'] = int(datetime.datetime.now().timestamp() * 1000)\n",
        "params['balance'] = 100.99\n",
        "params['params'] = None\n",
        "data = pd.DataFrame(data=[params], index=[0])\n",
        "if os.path.exists(filename):\n",
        "    base = pd.read_csv(filename, sep=';')\n",
        "    data = pd.concat([base, data], ignore_index=True)\n",
        "    data.sort_values('operation_date', inplace=True)\n",
        "data.to_csv(filename, sep=';', index=False)"
      ]
    },
    {
      "cell_type": "code",
      "execution_count": null,
      "metadata": {},
      "outputs": [],
      "source": [
        "symbol = 'BTCUSDT'\n",
        "interval = '1h'\n",
        "amount_invested = 100\n",
        "\n",
        "params_operation = utils.get_latest_operation(symbol, interval)\n",
        "if len(params_operation) > 0 and params_operation['operation'] == 'BUY':\n",
        "    purchased = True\n",
        "    purchase_price = float(params_operation['purchase_price'])\n",
        "    take_profit = float(params_operation['take_profit'])\n",
        "    stop_loss = float(params_operation['stop_loss'])\n",
        "    purchase_operation = params_operation['status']\n",
        "    amount_invested = params_operation['amount_invested']\n",
        "    rsi = 0\n",
        "\n",
        "    open_time = pd.to_datetime(params_operation[\"operation_date\"], unit='ms').strftime('%Y-%m-%d %H:%M:%S')\n",
        "    msg = f'Compra: Symbol: {symbol} - open_time: {open_time.strftime(\"%Y-%m-%d %H:%M:%S\")} - Operação: {purchase_operation} - Valor Comprado: {purchase_price:.4f} - \\\n",
        "RSI: {rsi:.2f} - PnL: $ {amount_invested:.2f}'\n",
        "    print(msg)\n",
        "    print(\"************ COMPRADO ************\")"
      ]
    },
    {
      "cell_type": "code",
      "execution_count": null,
      "metadata": {},
      "outputs": [],
      "source": [
        "res = utils.get_latest_operation(\"BTCUSDT\", \"1h\")\n",
        "pd.to_datetime(res[\"operation_date\"], unit=\"ms\").strftime(\"%Y-%m-%d %H:%M:%S\")"
      ]
    },
    {
      "cell_type": "code",
      "execution_count": null,
      "metadata": {},
      "outputs": [],
      "source": [
        "filename = f'{myenv.datadir}/account_balance.dat'\n",
        "if os.path.exists(filename):\n",
        "    data = pd.read_csv(filename, sep=';')\n",
        "    data.sort_values('operation_date', inplace=True)\n",
        "    print(data.tail(1).to_dict(orient='records')[0])"
      ]
    },
    {
      "cell_type": "code",
      "execution_count": null,
      "metadata": {},
      "outputs": [],
      "source": [
        "t = utils.get_telegram_key()\n",
        "print(t)\n",
        "myenv.telegram_key.append(t)"
      ]
    },
    {
      "cell_type": "code",
      "execution_count": null,
      "metadata": {},
      "outputs": [],
      "source": [
        "myenv.telegram_key"
      ]
    },
    {
      "cell_type": "code",
      "execution_count": null,
      "metadata": {},
      "outputs": [],
      "source": [
        "import pandas as pd\n",
        "\n",
        "# Sample datetime data\n",
        "date_strings = [\"2023-09-24 10:00:00\", \"2023-09-24 15:30:00\"]\n",
        "dates = pd.to_datetime(date_strings)\n",
        "\n",
        "# Create a Pandas Series or DataFrame with the datetime index\n",
        "# Localize it to the Brazil/Brasilia time zone\n",
        "dates_localized = dates.tz_localize(\"Brazil/East\")\n",
        "\n",
        "# Print the result\n",
        "print(dates_localized)"
      ]
    },
    {
      "cell_type": "code",
      "execution_count": null,
      "metadata": {},
      "outputs": [],
      "source": [
        "from binance.client import Client\n",
        "\n",
        "client = Client()\n",
        "time = client.get_server_time()\n",
        "ix = pd.to_datetime(time[\"serverTime\"], unit=\"ms\")\n",
        "ix"
      ]
    },
    {
      "cell_type": "code",
      "execution_count": null,
      "metadata": {},
      "outputs": [],
      "source": [
        "data = pd.DataFrame(data=client.get_klines(symbol='BTCUSDT', interval='5m', limit=5), columns=myenv.all_klines_cols)\n",
        "data['open_time'] = pd.to_datetime(data['open_time'], unit='ms')\n",
        "data['close_time'] = pd.to_datetime(data['open_time'], unit='ms')\n",
        "data"
      ]
    },
    {
      "cell_type": "code",
      "execution_count": null,
      "metadata": {},
      "outputs": [],
      "source": [
        "data = utils.get_klines(\n",
        "    symbol=\"BTCUSDT\",\n",
        "    interval=\"1h\",\n",
        "    limit=3,\n",
        "    max_date=None,\n",
        "    columns=myenv.all_klines_cols,\n",
        "    parse_data=True,\n",
        ")\n",
        "data"
      ]
    },
    {
      "cell_type": "code",
      "execution_count": null,
      "metadata": {},
      "outputs": [],
      "source": [
        "data.iloc[data.shape[0] - 2:data.shape[0] - 1]"
      ]
    },
    {
      "cell_type": "code",
      "execution_count": null,
      "metadata": {},
      "outputs": [],
      "source": [
        "data.iloc[0:1][\"open_time\"].values[0]"
      ]
    },
    {
      "cell_type": "code",
      "execution_count": null,
      "metadata": {},
      "outputs": [],
      "source": [
        "prediction_label = \"SHORT_3.99\"\n",
        "print(prediction_label.split(\"_\"))\n",
        "\n",
        "operation = prediction_label.split(\"_\")[0]\n",
        "margin = float(prediction_label.split(\"_\")[1])\n",
        "\n",
        "print(f\"operation: {operation} - margin: {margin}\")"
      ]
    },
    {
      "cell_type": "code",
      "execution_count": null,
      "metadata": {},
      "outputs": [],
      "source": [
        "date = utils.get_latest_close_time(\"1h\")\n",
        "date"
      ]
    },
    {
      "cell_type": "code",
      "execution_count": null,
      "metadata": {},
      "outputs": [],
      "source": [
        "actual_value = 100\n",
        "margin = 1.5\n",
        "\n",
        "purchase_value = actual_value\n",
        "take_profit_value = actual_value * (1 + margin / 100)\n",
        "stop_loss_value = actual_value * (1 - margin / 100)\n",
        "\n",
        "print(f'take_profit: {take_profit_value} - stop_loss: {stop_loss_value}')"
      ]
    },
    {
      "cell_type": "code",
      "execution_count": null,
      "metadata": {},
      "outputs": [],
      "source": [
        "# if ix.minute == 0:\n",
        "ix = ix.replace(hour=ix.hour - 1, minute=00, second=00, microsecond=00)\n",
        "ix"
      ]
    },
    {
      "cell_type": "code",
      "execution_count": null,
      "metadata": {},
      "outputs": [],
      "source": [
        "for i in range(0, 61):\n",
        "    if i % 5 == 0:\n",
        "        print(i)"
      ]
    },
    {
      "cell_type": "code",
      "execution_count": null,
      "metadata": {},
      "outputs": [],
      "source": [
        "ix = ix.replace(hour=14, minute=52, second=32, microsecond=0)\n",
        "interval = 1\n",
        "\n",
        "print(ix)\n",
        "_ix_aux = ix.replace(hour=0, minute=0, second=0, microsecond=0)\n",
        "day = ix.day - interval\n",
        "for i in range(day, -1, -1):\n",
        "    # print(f'i: {i} - min: {min} - rest: {i % interval}')\n",
        "    if (i <= day) and (i % interval == 0):\n",
        "        print(f'hour: {i}')\n",
        "        _ix_aux = _ix_aux.replace(day=i, hour=0, minute=0, second=0, microsecond=0)\n",
        "        break\n",
        "print(f'Last Close Time: {_ix_aux}')"
      ]
    },
    {
      "cell_type": "code",
      "execution_count": null,
      "metadata": {},
      "outputs": [],
      "source": [
        "0 % 30"
      ]
    },
    {
      "cell_type": "code",
      "execution_count": null,
      "metadata": {},
      "outputs": [],
      "source": [
        "data = utils.get_data(\"BTCUSDT\", columns=myenv.all_cols)\n",
        "data"
      ]
    },
    {
      "cell_type": "code",
      "execution_count": null,
      "metadata": {},
      "outputs": [],
      "source": [
        "data.loc[ix]"
      ]
    },
    {
      "cell_type": "code",
      "execution_count": null,
      "metadata": {},
      "outputs": [],
      "source": [
        "file_list = glob.glob(os.path.join(f\"{myenv.datadir}/\", \"resultado_simulacao_*.csv\"))\n",
        "top_params = []\n",
        "columns = None\n",
        "df_top_params = pd.DataFrame()\n",
        "for file_path in file_list:\n",
        "    if os.path.isfile(file_path):\n",
        "        df = pd.read_csv(file_path, sep=\";\")\n",
        "        df_top_params = pd.concat([df_top_params, df.tail(1)], ignore_index=True)\n",
        "\n",
        "\n",
        "df_top_params.to_csv(f\"{myenv.datadir}/top_params.csv\", sep=\";\", index=False)\n",
        "return df_top_params.to_dict(orient=\"records\")"
      ]
    },
    {
      "cell_type": "code",
      "execution_count": null,
      "metadata": {},
      "outputs": [],
      "source": [
        "import pandas as pd\n",
        "df = pd.DataFrame({'a': [1, 674, 3, 674], 'b': [3, 2, 4, 1], 'c': [23, 35, 7, 78], 'd': [878, 432, 66, 88]})\n",
        "df"
      ]
    },
    {
      "cell_type": "code",
      "execution_count": null,
      "metadata": {},
      "outputs": [],
      "source": [
        "df.sort_values(['a', 'b'], ascending=[False, True])"
      ]
    },
    {
      "cell_type": "code",
      "execution_count": null,
      "metadata": {},
      "outputs": [],
      "source": [
        "df.insert(0, 'dd', [212, 4, 52, 2])\n",
        "df"
      ]
    },
    {
      "cell_type": "code",
      "execution_count": null,
      "metadata": {},
      "outputs": [],
      "source": [
        "df[\"tt\"] = \"adf,fasd,gasdf,asdf\"\n",
        "df.loc[0, \"tt\"] = \"as,f,as,fd,asd,f,asd,f,asd,f,as,df,\"\n",
        "df[\"c_tt\"] = df[\"tt\"].apply(lambda x: len(x.split(\",\")))\n",
        "df"
      ]
    },
    {
      "cell_type": "code",
      "execution_count": null,
      "metadata": {},
      "outputs": [],
      "source": [
        "utils.prepare_best_params()"
      ]
    },
    {
      "cell_type": "code",
      "execution_count": null,
      "metadata": {},
      "outputs": [],
      "source": [
        "top_params"
      ]
    },
    {
      "cell_type": "code",
      "execution_count": null,
      "metadata": {},
      "outputs": [],
      "source": [
        "symbol = \"BTCUSDT\"\n",
        "it = \"5m\"\n",
        "filename = f\"{myenv.datadir}/{symbol}/{symbol}_{it}\"\n",
        "df = pd.read_csv(f\"{filename}.csv\", sep=\";\")\n",
        "# df.info()\n",
        "df.to_csv(\n",
        "    f\"{filename}.dat\",\n",
        "    sep=\";\",\n",
        "    index=False,\n",
        ")\n",
        "print(f\"Done! {filename}\")"
      ]
    },
    {
      "cell_type": "code",
      "execution_count": null,
      "metadata": {},
      "outputs": [],
      "source": [
        "df_simb = pd.read_csv(f'{myenv.datadir}/symbol_list.csv')\n",
        "for symbol in df_simb['symbol']:\n",
        "    for it in ['1h', '5m']:\n",
        "        filename = f'{myenv.datadir}/{symbol}/{symbol}_{it}'\n",
        "        df = pd.read_csv(f'{filename}.csv', sep=';')\n",
        "        # df.info()\n",
        "        df.to_csv(f'{filename}.dat', sep=';', index=False, )\n",
        "        print(f'Done! {filename}')"
      ]
    },
    {
      "cell_type": "code",
      "execution_count": null,
      "metadata": {},
      "outputs": [],
      "source": [
        "filename = f'{myenv.datadir}/BTCUSDT/BTCUSDT_5m'\n",
        "df = pd.read_csv(f'{filename}.dat', sep=';', )\n",
        "df.info()\n",
        "df\n",
        "# df.to_csv(f'{filename}.csv', sep=';', index=False, compression=dict(method='zip', archive_name=f'{filename}.csv'))"
      ]
    },
    {
      "cell_type": "code",
      "execution_count": null,
      "metadata": {},
      "outputs": [],
      "source": [
        "import datetime\n",
        "import pandas as pd\n",
        "\n",
        "now = datetime.datetime.now()\n",
        "ordinal = int(now.timestamp() * 1000)\n",
        "print(now)\n",
        "print(ordinal)\n",
        "print(pd.to_datetime(ordinal, unit=\"ms\"))"
      ]
    },
    {
      "cell_type": "code",
      "execution_count": null,
      "metadata": {},
      "outputs": [],
      "source": [
        "numeric_features = \"open,close,volume\"\n",
        "date_features = [\"open_time\"]\n",
        "\n",
        "kline_features = date_features + numeric_features.split(\",\")\n",
        "\n",
        "print(kline_features)"
      ]
    },
    {
      "cell_type": "code",
      "execution_count": null,
      "metadata": {},
      "outputs": [],
      "source": [
        "import numpy as np\n",
        "from datetime import datetime\n",
        "import pandas as pd\n",
        "import pytz\n",
        "\n",
        "date_np = np.datetime64(\"2023-10-04T20:00:00.000000000\")\n",
        "print(\n",
        "    f\"{date_np} - {type(date_np)} - {datetime.fromtimestamp(int(date_np.astype(np.int64))/1000000000)} - {type(datetime.fromtimestamp(int(int(date_np)/1000000000)))}\"\n",
        ")"
      ]
    },
    {
      "cell_type": "code",
      "execution_count": null,
      "metadata": {},
      "outputs": [],
      "source": [
        "from binance.client import Client\n",
        "from binance.streams import BinanceSocketManager\n",
        "\n",
        "client = Client()\n",
        "\n",
        "bm = BinanceSocketManager(client)\n",
        "\n",
        "\n",
        "def process_m_message(msg):\n",
        "    print(\"stream: {} data: {}\".format(msg['stream'], msg['data']))\n",
        "\n",
        "\n",
        "conn_key = bm.start_multiplex_socket(['sxpusdt@aggTrade', 'sxpusdt@ticker', 'sxpusdt@markPrice'], process_m_message)\n",
        "bm.start()"
      ]
    },
    {
      "cell_type": "code",
      "execution_count": null,
      "metadata": {},
      "outputs": [],
      "source": [
        "from binance.client import Client\n",
        "\n",
        "client = Client()"
      ]
    },
    {
      "cell_type": "code",
      "execution_count": null,
      "metadata": {},
      "outputs": [],
      "source": [
        "import pandas as pd\n",
        "\n",
        "pd.to_datetime(1502942400000, unit=\"ms\")"
      ]
    },
    {
      "cell_type": "code",
      "execution_count": null,
      "metadata": {},
      "outputs": [],
      "source": [
        "client.get_historical_klines(\n",
        "    symbol=\"BTCUSDT\",\n",
        "    interval=client.KLINE_INTERVAL_1MINUTE,\n",
        "    start_str=\"2010-01-01\",\n",
        "    end_str=\"2017-12-31\",\n",
        "    limit=1000,\n",
        ")"
      ]
    },
    {
      "cell_type": "code",
      "execution_count": null,
      "metadata": {},
      "outputs": [],
      "source": [
        "from itertools import combinations\n",
        "text_numeric_features = 'close,volume,quote_asset_volume,number_of_trades,taker_buy_base_asset_volume,taker_buy_quote_asset_volume,rsi,ema_24p,ema_200p'\n",
        "numeric_features = text_numeric_features.split(',')\n",
        "print(f'Numeric Features: {numeric_features} - size: {len(numeric_features)}\\n')\n",
        "\n",
        "combination_numeric_features = []\n",
        "for size in range(1, len(numeric_features) + 1):\n",
        "    comb = map(list, combinations(numeric_features, size))\n",
        "    for c in comb:\n",
        "        res = ''\n",
        "        for j in c:\n",
        "            res += f'{j},'\n",
        "        combination_numeric_features.append(res[0:len(res) - 1])\n",
        "\n",
        "print(f'Combination Numeric Features: \\n{len(combination_numeric_features)} ')"
      ]
    },
    {
      "cell_type": "code",
      "execution_count": null,
      "metadata": {},
      "outputs": [],
      "source": [
        "import pandas as pd\n",
        "symbol = 'BTCUSDT'\n",
        "interval = '1h'\n",
        "estimator = 'knn'\n",
        "fix_imbalance_method = 'instancehardnessthreshold'\n",
        "features = 'open_time,status,volume,taker_buy_base_asset_volume,rsi'.split(',')\n",
        "print(str(features))\n",
        "\n",
        "simulation_results_filename = f'./resultado_simulacao_{symbol}_{interval}.csv'\n",
        "df_resultado_simulacao = pd.read_csv(simulation_results_filename, sep=';')\n",
        "# df_resultado_simulacao.info()\n",
        "print(df_resultado_simulacao.shape)\n",
        "\n",
        "chave = (df_resultado_simulacao['symbol'] == symbol) & \\\n",
        "    (df_resultado_simulacao['interval'] == interval) & \\\n",
        "    (df_resultado_simulacao['estimator'] == estimator) & \\\n",
        "    (df_resultado_simulacao['fix_imbalance_method'] == fix_imbalance_method) & \\\n",
        "    (df_resultado_simulacao['features'] == str(features))\n",
        "print(chave.sum())"
      ]
    },
    {
      "cell_type": "code",
      "execution_count": null,
      "metadata": {},
      "outputs": [],
      "source": [
        "import pandas as pd\n",
        "\n",
        "data1 = pd.DataFrame({\"a\": [1, 2], \"b\": [3, 4]})\n",
        "data2 = pd.DataFrame({\"c\": [55, 66], \"d\": [77, 88]})\n",
        "\n",
        "data3 = pd.concat([data1, data2], axis=1)\n",
        "\n",
        "data3"
      ]
    },
    {
      "cell_type": "code",
      "execution_count": null,
      "metadata": {},
      "outputs": [],
      "source": [
        "data1[\"a\"] * data2[\"d\"]"
      ]
    },
    {
      "cell_type": "code",
      "execution_count": null,
      "metadata": {},
      "outputs": [],
      "source": [
        "import sys\n",
        "\n",
        "sys.path.insert(0, sys.path[0].replace(\"/src/jupyter_nb\", \"\"))\n",
        "import src.myenv as myenv\n",
        "import src.send_message as sm\n",
        "import os\n",
        "import glob\n",
        "import pandas as pd"
      ]
    },
    {
      "cell_type": "code",
      "execution_count": null,
      "metadata": {},
      "outputs": [],
      "source": [
        "import pycaret as pyc\n",
        "\n",
        "print(pyc.__version__)"
      ]
    },
    {
      "cell_type": "code",
      "execution_count": null,
      "metadata": {},
      "outputs": [],
      "source": [
        "def set_status_PL(row, stop_loss, max_regression_profit_and_loss, prefix_col_diff, strategy='LONG_SHORT'):\n",
        "    for s in range(1, max_regression_profit_and_loss + 1):\n",
        "        if (strategy == 'LONG') or (strategy == 'LONG_SHORT'):\n",
        "            if row[f'{prefix_col_diff}{s}'] >= stop_loss:\n",
        "                return f'LONG_{stop_loss}'\n",
        "        if (strategy == 'SHORT') or (strategy == 'LONG_SHORT'):\n",
        "            if row[f'{prefix_col_diff}{s}'] <= -stop_loss:\n",
        "                return f'SHORT_{stop_loss}'\n",
        "    return 'ESTAVEL'"
      ]
    },
    {
      "cell_type": "code",
      "execution_count": null,
      "metadata": {},
      "outputs": [],
      "source": [
        "def reg_th(_data, label, diff_percent, max_regression_profit_and_loss, diff_col, strategy):\n",
        "    if strategy == 'LONG_SHORT':\n",
        "        _data[label + '_sobe'] = _data.apply(set_status_PL, axis=1, args=[diff_percent, max_regression_profit_and_loss, diff_col, 'LONG'])\n",
        "        _data[label + '_cai'] = _data.apply(set_status_PL, axis=1, args=[diff_percent, max_regression_profit_and_loss, diff_col, 'SHORT'])\n",
        "        _data[label + '_sobe'] = pd.Categorical(_data[label + '_sobe'])\n",
        "        _data[label + '_cai'] = pd.Categorical(_data[label + '_cai'])\n",
        "        return _data\n",
        "    else:\n",
        "        _data[label] = _data.apply(set_status_PL, axis=1, args=[diff_percent, max_regression_profit_and_loss, diff_col, 'LONG_SHORT'])\n",
        "        _data[label] = pd.Categorical(_data[label])\n",
        "        return _data"
      ]
    },
    {
      "cell_type": "code",
      "execution_count": null,
      "metadata": {},
      "outputs": [],
      "source": [
        "def regression_PnL(data: pd.DataFrame, label: str, diff_percent: float, max_regression_profit_and_loss=6, drop_na=True, drop_calc_cols=True, strategy=None):\n",
        "    col = 'c_'\n",
        "    diff_col = 'd_'\n",
        "    cols = []\n",
        "    diff_cols = []\n",
        "    _data = pd.DataFrame()\n",
        "    for i in range(1, max_regression_profit_and_loss + 1):\n",
        "        _data[col + str(i)] = data['close'].shift(-i)\n",
        "        _data[diff_col + str(i)] = 100 * ((_data[col + str(i)] - data['close']) / data['close'])\n",
        "        cols.append(col + str(i))\n",
        "        diff_cols.append(diff_col + str(i))\n",
        "\n",
        "    data_size = data.shape[0]\n",
        "    buff_size = 10000 if data_size > 10000 else data_size\n",
        "    i = 0\n",
        "    print(f'data_size: {data_size} - buff_size: {buff_size} - i: {i}')\n",
        "    new_df = pd.DataFrame()\n",
        "    while True:\n",
        "        print(f'w - data_size: {data_size} - buff_size: {buff_size} - i: {i}')\n",
        "        aux_data = reg_th(_data.iloc[i:i + buff_size], label, diff_percent, max_regression_profit_and_loss, diff_col, None)\n",
        "        new_df = pd.concat([new_df, aux_data])\n",
        "\n",
        "        data_size -= buff_size\n",
        "        if data_size <= 0:\n",
        "            break\n",
        "        if _data.iloc[i:-1].shape[0] >= (2 * buff_size):\n",
        "            i += buff_size\n",
        "            print(f'if - data_size: {data_size} - buff_size: {buff_size} - i: {i}')\n",
        "        else:\n",
        "            buff_size = _data.iloc[i:-1].shape[0] + 1\n",
        "            i += buff_size\n",
        "            print(f'else - data_size: {data_size} - buff_size: {buff_size} - i: {i}')\n",
        "\n",
        "    if drop_calc_cols:\n",
        "        new_df.drop(columns=cols + diff_cols, inplace=True)\n",
        "\n",
        "    data = pd.concat([data, new_df], axis=1)\n",
        "    if drop_na:\n",
        "        data.dropna(inplace=True)\n",
        "\n",
        "    return data"
      ]
    },
    {
      "cell_type": "code",
      "execution_count": null,
      "metadata": {},
      "outputs": [],
      "source": [
        "import src.utils as utils\n",
        "\n",
        "data = utils.get_data(\n",
        "    symbol=\"BTCUSDT\", interval=\"1h\", tail=-1, parse_dates=True, columns=myenv.all_cols\n",
        ")\n",
        "data.info()\n",
        "data = regression_PnL(\n",
        "    data, myenv.label, 1.5, 6, drop_na=True, drop_calc_cols=True, strategy=\"LONG_SHORT\"\n",
        ")\n",
        "data.info()\n",
        "\n",
        "print(data.groupby(\"status\")[\"status\"].count())"
      ]
    },
    {
      "cell_type": "code",
      "execution_count": null,
      "metadata": {},
      "outputs": [],
      "source": [
        "import pandas as pd\n",
        "import sys\n",
        "\n",
        "print(sys.path)\n",
        "sys.path.insert(0, sys.path[0].replace(\"/src/jupyter_nb\", \"\"))\n",
        "print(sys.path)\n",
        "import src.utils as utils\n",
        "import src.myenv as myenv\n",
        "import logging"
      ]
    },
    {
      "cell_type": "code",
      "execution_count": null,
      "metadata": {},
      "outputs": [],
      "source": [
        "utils.get_sum_pnl()"
      ]
    },
    {
      "cell_type": "code",
      "execution_count": null,
      "metadata": {},
      "outputs": [],
      "source": [
        "precision = 3\n",
        "value = 9.999999999\n",
        "print(f\"value={value:.{precision}f}\")"
      ]
    },
    {
      "cell_type": "code",
      "execution_count": 14,
      "metadata": {},
      "outputs": [
        {
          "name": "stdout",
          "output_type": "stream",
          "text": [
            "past: 2023-12-19 19:35:01.504185\n",
            "now: 2023-12-21 21:05:01.504245\n",
            "delta: 2 days, 1 hours, 30 minutes, 0 seconds\n",
            "delta.seconds: 5400\n",
            "interval 1m: to periods: 3060\n",
            "interval 5m: to periods: 612\n",
            "interval 15m: to periods: 204\n",
            "interval 30m: to periods: 102\n",
            "interval 1h: to periods: 51\n"
          ]
        }
      ],
      "source": [
        "from datetime import datetime, timedelta\n",
        "\n",
        "\n",
        "def to_periods(delta: datetime, interval='1h'):\n",
        "    days = delta.days\n",
        "    hours = delta.seconds // 3600\n",
        "    minutes = delta.seconds % 3600 // 60\n",
        "    total_minutes = (days * 24 * 60) +  (hours * 60) + minutes + (delta.seconds // 60)\n",
        "\n",
        "    match(interval):\n",
        "        case '1m':\n",
        "            return total_minutes\n",
        "        case '5m':\n",
        "            return total_minutes // 5\n",
        "        case '15m':\n",
        "            return total_minutes // 15\n",
        "        case '30m':\n",
        "            return total_minutes // 30\n",
        "        case '1h':\n",
        "            return total_minutes // 60\n",
        "\n",
        "\n",
        "past = datetime.now() - timedelta(days=2, hours=1, minutes=30, seconds=0)\n",
        "print(f'past: {past}')\n",
        "\n",
        "now = datetime.now()\n",
        "print(f'now: {now}')\n",
        "\n",
        "delta = now - past\n",
        "print(f'delta: {delta.days} days, {delta.seconds // 3600} hours, {delta.seconds % 3600 // 60} minutes, {delta.seconds % 60} seconds')\n",
        "print(f'delta.seconds: {delta.seconds}')\n",
        "\n",
        "for i in ['1m', '5m', '15m', '30m', '1h']:\n",
        "    print(f'interval {i}: to periods: {to_periods(delta, i)}')"
      ]
    },
    {
      "cell_type": "code",
      "execution_count": 1,
      "metadata": {},
      "outputs": [
        {
          "name": "stdout",
          "output_type": "stream",
          "text": [
            "['/home/marcelo/des/mg_crypto_trader', '/home/marcelo/des/mg_crypto_trader/src', '/home/marcelo/des/mg_crypto_trader/src/jupyter_nb', '/home/marcelo/anaconda3/envs/rapids-23.10/lib/python310.zip', '/home/marcelo/anaconda3/envs/rapids-23.10/lib/python3.10', '/home/marcelo/anaconda3/envs/rapids-23.10/lib/python3.10/lib-dynload', '', '/home/marcelo/anaconda3/envs/rapids-23.10/lib/python3.10/site-packages']\n",
            "<built-in method __dir__ of sqlite3.Connection object at 0x7efd5060a840>\n"
          ]
        }
      ],
      "source": [
        "import sys\n",
        "sys.path.insert(0, sys.path[0].removesuffix(\"/src/jupyter_nb\"))\n",
        "sys.path.insert(1, sys.path[0] + \"/src\")\n",
        "print(sys.path)\n",
        "import pandas as pd\n",
        "from src.robo import *\n",
        "import src.utils_binance as utils\n",
        "from datetime import datetime, timedelta\n",
        "from binance import Client"
      ]
    },
    {
      "cell_type": "code",
      "execution_count": 8,
      "metadata": {},
      "outputs": [
        {
          "data": {
            "text/html": [
              "<div>\n",
              "<style scoped>\n",
              "    .dataframe tbody tr th:only-of-type {\n",
              "        vertical-align: middle;\n",
              "    }\n",
              "\n",
              "    .dataframe tbody tr th {\n",
              "        vertical-align: top;\n",
              "    }\n",
              "\n",
              "    .dataframe thead th {\n",
              "        text-align: right;\n",
              "    }\n",
              "</style>\n",
              "<table border=\"1\" class=\"dataframe\">\n",
              "  <thead>\n",
              "    <tr style=\"text-align: right;\">\n",
              "      <th></th>\n",
              "      <th>open_time</th>\n",
              "      <th>open</th>\n",
              "      <th>high</th>\n",
              "      <th>low</th>\n",
              "      <th>close</th>\n",
              "      <th>volume</th>\n",
              "      <th>close_time</th>\n",
              "      <th>quote_asset_volume</th>\n",
              "      <th>number_of_trades</th>\n",
              "      <th>taker_buy_base_asset_volume</th>\n",
              "      <th>taker_buy_quote_asset_volume</th>\n",
              "      <th>ignore</th>\n",
              "    </tr>\n",
              "    <tr>\n",
              "      <th>ix_open_time</th>\n",
              "      <th></th>\n",
              "      <th></th>\n",
              "      <th></th>\n",
              "      <th></th>\n",
              "      <th></th>\n",
              "      <th></th>\n",
              "      <th></th>\n",
              "      <th></th>\n",
              "      <th></th>\n",
              "      <th></th>\n",
              "      <th></th>\n",
              "      <th></th>\n",
              "    </tr>\n",
              "  </thead>\n",
              "  <tbody>\n",
              "    <tr>\n",
              "      <th>2023-11-10 09:00:00</th>\n",
              "      <td>2023-11-10 09:00:00</td>\n",
              "      <td>36516.300781</td>\n",
              "      <td>36564.250000</td>\n",
              "      <td>36458.449219</td>\n",
              "      <td>36553.191406</td>\n",
              "      <td>1075.571045</td>\n",
              "      <td>1699610399999</td>\n",
              "      <td>3.926076e+07</td>\n",
              "      <td>-30819</td>\n",
              "      <td>636.373901</td>\n",
              "      <td>2.322626e+07</td>\n",
              "      <td>0</td>\n",
              "    </tr>\n",
              "    <tr>\n",
              "      <th>2023-11-10 10:00:00</th>\n",
              "      <td>2023-11-10 10:00:00</td>\n",
              "      <td>36553.179688</td>\n",
              "      <td>36750.000000</td>\n",
              "      <td>36502.000000</td>\n",
              "      <td>36750.000000</td>\n",
              "      <td>1463.989258</td>\n",
              "      <td>1699613999999</td>\n",
              "      <td>5.358875e+07</td>\n",
              "      <td>-20202</td>\n",
              "      <td>805.534912</td>\n",
              "      <td>2.949224e+07</td>\n",
              "      <td>0</td>\n",
              "    </tr>\n",
              "    <tr>\n",
              "      <th>2023-11-10 11:00:00</th>\n",
              "      <td>2023-11-10 11:00:00</td>\n",
              "      <td>36750.000000</td>\n",
              "      <td>37147.199219</td>\n",
              "      <td>36745.800781</td>\n",
              "      <td>37071.089844</td>\n",
              "      <td>3301.219238</td>\n",
              "      <td>1699617599999</td>\n",
              "      <td>1.219921e+08</td>\n",
              "      <td>32311</td>\n",
              "      <td>1848.386597</td>\n",
              "      <td>6.831299e+07</td>\n",
              "      <td>0</td>\n",
              "    </tr>\n",
              "    <tr>\n",
              "      <th>2023-11-10 12:00:00</th>\n",
              "      <td>2023-11-10 12:00:00</td>\n",
              "      <td>37071.101562</td>\n",
              "      <td>37204.000000</td>\n",
              "      <td>36822.000000</td>\n",
              "      <td>37185.320312</td>\n",
              "      <td>2766.775391</td>\n",
              "      <td>1699621199999</td>\n",
              "      <td>1.024326e+08</td>\n",
              "      <td>12622</td>\n",
              "      <td>1465.607910</td>\n",
              "      <td>5.427544e+07</td>\n",
              "      <td>0</td>\n",
              "    </tr>\n",
              "    <tr>\n",
              "      <th>2023-11-10 13:00:00</th>\n",
              "      <td>2023-11-10 13:00:00</td>\n",
              "      <td>37185.328125</td>\n",
              "      <td>37260.191406</td>\n",
              "      <td>36901.101562</td>\n",
              "      <td>36962.238281</td>\n",
              "      <td>2458.741943</td>\n",
              "      <td>1699624799999</td>\n",
              "      <td>9.130283e+07</td>\n",
              "      <td>7307</td>\n",
              "      <td>1198.807495</td>\n",
              "      <td>4.452492e+07</td>\n",
              "      <td>0</td>\n",
              "    </tr>\n",
              "    <tr>\n",
              "      <th>...</th>\n",
              "      <td>...</td>\n",
              "      <td>...</td>\n",
              "      <td>...</td>\n",
              "      <td>...</td>\n",
              "      <td>...</td>\n",
              "      <td>...</td>\n",
              "      <td>...</td>\n",
              "      <td>...</td>\n",
              "      <td>...</td>\n",
              "      <td>...</td>\n",
              "      <td>...</td>\n",
              "      <td>...</td>\n",
              "    </tr>\n",
              "    <tr>\n",
              "      <th>2023-12-21 20:00:00</th>\n",
              "      <td>2023-12-21 20:00:00</td>\n",
              "      <td>43588.789062</td>\n",
              "      <td>43796.800781</td>\n",
              "      <td>43554.011719</td>\n",
              "      <td>43796.800781</td>\n",
              "      <td>1189.440430</td>\n",
              "      <td>1703192399999</td>\n",
              "      <td>5.196809e+07</td>\n",
              "      <td>-11935</td>\n",
              "      <td>584.536072</td>\n",
              "      <td>2.553763e+07</td>\n",
              "      <td>0</td>\n",
              "    </tr>\n",
              "    <tr>\n",
              "      <th>2023-12-21 21:00:00</th>\n",
              "      <td>2023-12-21 21:00:00</td>\n",
              "      <td>43796.800781</td>\n",
              "      <td>44119.199219</td>\n",
              "      <td>43719.769531</td>\n",
              "      <td>43994.929688</td>\n",
              "      <td>1591.097656</td>\n",
              "      <td>1703195999999</td>\n",
              "      <td>6.987061e+07</td>\n",
              "      <td>3081</td>\n",
              "      <td>841.588989</td>\n",
              "      <td>3.695533e+07</td>\n",
              "      <td>0</td>\n",
              "    </tr>\n",
              "    <tr>\n",
              "      <th>2023-12-21 22:00:00</th>\n",
              "      <td>2023-12-21 22:00:00</td>\n",
              "      <td>43994.929688</td>\n",
              "      <td>44020.398438</td>\n",
              "      <td>43885.531250</td>\n",
              "      <td>43949.441406</td>\n",
              "      <td>785.468567</td>\n",
              "      <td>1703199599999</td>\n",
              "      <td>3.452684e+07</td>\n",
              "      <td>-26707</td>\n",
              "      <td>337.515808</td>\n",
              "      <td>1.483646e+07</td>\n",
              "      <td>0</td>\n",
              "    </tr>\n",
              "    <tr>\n",
              "      <th>2023-12-21 23:00:00</th>\n",
              "      <td>2023-12-21 23:00:00</td>\n",
              "      <td>43949.429688</td>\n",
              "      <td>43950.000000</td>\n",
              "      <td>43793.339844</td>\n",
              "      <td>43861.800781</td>\n",
              "      <td>780.417358</td>\n",
              "      <td>1703203199999</td>\n",
              "      <td>3.424058e+07</td>\n",
              "      <td>-28777</td>\n",
              "      <td>363.473785</td>\n",
              "      <td>1.594621e+07</td>\n",
              "      <td>0</td>\n",
              "    </tr>\n",
              "    <tr>\n",
              "      <th>2023-12-22 00:00:00</th>\n",
              "      <td>2023-12-22 00:00:00</td>\n",
              "      <td>43861.789062</td>\n",
              "      <td>43870.570312</td>\n",
              "      <td>43846.000000</td>\n",
              "      <td>43846.011719</td>\n",
              "      <td>41.856251</td>\n",
              "      <td>1703206799999</td>\n",
              "      <td>1.835881e+06</td>\n",
              "      <td>2634</td>\n",
              "      <td>16.116699</td>\n",
              "      <td>7.068906e+05</td>\n",
              "      <td>0</td>\n",
              "    </tr>\n",
              "  </tbody>\n",
              "</table>\n",
              "<p>1000 rows × 12 columns</p>\n",
              "</div>"
            ],
            "text/plain": [
              "                              open_time          open          high  \\\n",
              "ix_open_time                                                          \n",
              "2023-11-10 09:00:00 2023-11-10 09:00:00  36516.300781  36564.250000   \n",
              "2023-11-10 10:00:00 2023-11-10 10:00:00  36553.179688  36750.000000   \n",
              "2023-11-10 11:00:00 2023-11-10 11:00:00  36750.000000  37147.199219   \n",
              "2023-11-10 12:00:00 2023-11-10 12:00:00  37071.101562  37204.000000   \n",
              "2023-11-10 13:00:00 2023-11-10 13:00:00  37185.328125  37260.191406   \n",
              "...                                 ...           ...           ...   \n",
              "2023-12-21 20:00:00 2023-12-21 20:00:00  43588.789062  43796.800781   \n",
              "2023-12-21 21:00:00 2023-12-21 21:00:00  43796.800781  44119.199219   \n",
              "2023-12-21 22:00:00 2023-12-21 22:00:00  43994.929688  44020.398438   \n",
              "2023-12-21 23:00:00 2023-12-21 23:00:00  43949.429688  43950.000000   \n",
              "2023-12-22 00:00:00 2023-12-22 00:00:00  43861.789062  43870.570312   \n",
              "\n",
              "                              low         close       volume     close_time  \\\n",
              "ix_open_time                                                                  \n",
              "2023-11-10 09:00:00  36458.449219  36553.191406  1075.571045  1699610399999   \n",
              "2023-11-10 10:00:00  36502.000000  36750.000000  1463.989258  1699613999999   \n",
              "2023-11-10 11:00:00  36745.800781  37071.089844  3301.219238  1699617599999   \n",
              "2023-11-10 12:00:00  36822.000000  37185.320312  2766.775391  1699621199999   \n",
              "2023-11-10 13:00:00  36901.101562  36962.238281  2458.741943  1699624799999   \n",
              "...                           ...           ...          ...            ...   \n",
              "2023-12-21 20:00:00  43554.011719  43796.800781  1189.440430  1703192399999   \n",
              "2023-12-21 21:00:00  43719.769531  43994.929688  1591.097656  1703195999999   \n",
              "2023-12-21 22:00:00  43885.531250  43949.441406   785.468567  1703199599999   \n",
              "2023-12-21 23:00:00  43793.339844  43861.800781   780.417358  1703203199999   \n",
              "2023-12-22 00:00:00  43846.000000  43846.011719    41.856251  1703206799999   \n",
              "\n",
              "                     quote_asset_volume  number_of_trades  \\\n",
              "ix_open_time                                                \n",
              "2023-11-10 09:00:00        3.926076e+07            -30819   \n",
              "2023-11-10 10:00:00        5.358875e+07            -20202   \n",
              "2023-11-10 11:00:00        1.219921e+08             32311   \n",
              "2023-11-10 12:00:00        1.024326e+08             12622   \n",
              "2023-11-10 13:00:00        9.130283e+07              7307   \n",
              "...                                 ...               ...   \n",
              "2023-12-21 20:00:00        5.196809e+07            -11935   \n",
              "2023-12-21 21:00:00        6.987061e+07              3081   \n",
              "2023-12-21 22:00:00        3.452684e+07            -26707   \n",
              "2023-12-21 23:00:00        3.424058e+07            -28777   \n",
              "2023-12-22 00:00:00        1.835881e+06              2634   \n",
              "\n",
              "                     taker_buy_base_asset_volume  \\\n",
              "ix_open_time                                       \n",
              "2023-11-10 09:00:00                   636.373901   \n",
              "2023-11-10 10:00:00                   805.534912   \n",
              "2023-11-10 11:00:00                  1848.386597   \n",
              "2023-11-10 12:00:00                  1465.607910   \n",
              "2023-11-10 13:00:00                  1198.807495   \n",
              "...                                          ...   \n",
              "2023-12-21 20:00:00                   584.536072   \n",
              "2023-12-21 21:00:00                   841.588989   \n",
              "2023-12-21 22:00:00                   337.515808   \n",
              "2023-12-21 23:00:00                   363.473785   \n",
              "2023-12-22 00:00:00                    16.116699   \n",
              "\n",
              "                     taker_buy_quote_asset_volume  ignore  \n",
              "ix_open_time                                               \n",
              "2023-11-10 09:00:00                  2.322626e+07       0  \n",
              "2023-11-10 10:00:00                  2.949224e+07       0  \n",
              "2023-11-10 11:00:00                  6.831299e+07       0  \n",
              "2023-11-10 12:00:00                  5.427544e+07       0  \n",
              "2023-11-10 13:00:00                  4.452492e+07       0  \n",
              "...                                           ...     ...  \n",
              "2023-12-21 20:00:00                  2.553763e+07       0  \n",
              "2023-12-21 21:00:00                  3.695533e+07       0  \n",
              "2023-12-21 22:00:00                  1.483646e+07       0  \n",
              "2023-12-21 23:00:00                  1.594621e+07       0  \n",
              "2023-12-22 00:00:00                  7.068906e+05       0  \n",
              "\n",
              "[1000 rows x 12 columns]"
            ]
          },
          "execution_count": 8,
          "metadata": {},
          "output_type": "execute_result"
        }
      ],
      "source": [
        "client = Client()\n",
        "start_time = datetime.now()\n",
        "max_date = None\n",
        "limit = 1000\n",
        "interval = '1h'\n",
        "symbol = 'BTCUSDT'\n",
        "klines = client.get_historical_klines(symbol=symbol, interval=interval, start_str=max_date, limit=limit)\n",
        "\n",
        "# log.info('get_klines: columns: ', columns)\n",
        "df_klines = pd.DataFrame(data=klines, columns=myenv.all_klines_cols)\n",
        "df_klines = parse_type_fields(df_klines, parse_dates=True)\n",
        "df_klines = adjust_index(df_klines)\n",
        "delta = datetime.now() - start_time\n",
        "# Print the delta time in days, hours, minutes, and seconds\n",
        "log.debug(f'get_klines: shape: {df_klines.shape} - Delta time: {delta.seconds % 60} seconds')\n",
        "df_klines"
      ]
    },
    {
      "cell_type": "code",
      "execution_count": 19,
      "metadata": {},
      "outputs": [
        {
          "name": "stdout",
          "output_type": "stream",
          "text": [
            "past: 2023-11-10 09:00:00\n",
            "now: 2023-12-21 21:06:55.467334\n",
            "delta: 41 days, 12 hours, 6 minutes, 55 seconds\n"
          ]
        },
        {
          "data": {
            "text/plain": [
              "1008"
            ]
          },
          "execution_count": 19,
          "metadata": {},
          "output_type": "execute_result"
        }
      ],
      "source": [
        "past = pd.to_datetime(df_klines.head(1)['open_time'].values[0])\n",
        "print(f'past: {past}')\n",
        "\n",
        "now = datetime.now()\n",
        "print(f'now: {now}')\n",
        "\n",
        "delta = now - past\n",
        "print(f'delta: {delta.days} days, {delta.seconds // 3600} hours, {delta.seconds % 3600 // 60} minutes, {delta.seconds % 60} seconds')\n",
        "\n",
        "to_periods(delta, interval)"
      ]
    }
  ],
  "metadata": {
    "kernelspec": {
      "display_name": "env",
      "language": "python",
      "name": "python3"
    },
    "language_info": {
      "codemirror_mode": {
        "name": "ipython",
        "version": 3
      },
      "file_extension": ".py",
      "mimetype": "text/x-python",
      "name": "python",
      "nbconvert_exporter": "python",
      "pygments_lexer": "ipython3",
      "version": "3.10.13"
    },
    "orig_nbformat": 4
  },
  "nbformat": 4,
  "nbformat_minor": 2
}
