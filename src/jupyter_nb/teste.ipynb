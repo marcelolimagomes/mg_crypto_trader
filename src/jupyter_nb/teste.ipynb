{
 "cells": [
  {
   "cell_type": "code",
   "execution_count": null,
   "metadata": {},
   "outputs": [],
   "source": [
    "import sys\n",
    "sys.path.insert(0, sys.path[0].removesuffix('/src/jupyter_nb'))\n",
    "sys.path.insert(1, sys.path[0] + '/src')\n",
    "print(sys.path)\n",
    "import pandas as pd\n",
    "from src.robo import *\n",
    "from src.utils import *\n",
    "from src.calcEMA import *\n",
    "from src.myenv import *\n",
    "from src.train import *\n",
    "\n",
    "tail = regression_times + 50\n",
    "use_cols = ['open_time', 'close']\n",
    "\n",
    "estimator = 'lightgbm'"
   ]
  },
  {
   "cell_type": "code",
   "execution_count": null,
   "metadata": {},
   "outputs": [],
   "source": [
    "symbol = 'BTCUSDT'\n",
    "experiment, model = load_model(symbol, estimator)  # cassification_experiment"
   ]
  },
  {
   "cell_type": "code",
   "execution_count": null,
   "metadata": {},
   "outputs": [],
   "source": [
    "df = get_data(symbol, save_database=False, interval='1h', tail=tail)\n",
    "df.to_csv('log_after_1st_get_data.csv', sep=';', index=False)\n",
    "df"
   ]
  },
  {
   "cell_type": "code",
   "execution_count": null,
   "metadata": {},
   "outputs": [],
   "source": [
    "df = calc_RSI(df)\n",
    "df.to_csv('log_after_1st_calc_RSI.csv', sep=';', index=False)\n",
    "df"
   ]
  },
  {
   "cell_type": "code",
   "execution_count": null,
   "metadata": {},
   "outputs": [],
   "source": [
    "df.dropna(inplace=True)\n",
    "df"
   ]
  },
  {
   "cell_type": "code",
   "execution_count": null,
   "metadata": {},
   "outputs": [],
   "source": [
    "numeric_features = ['close', 'rsi']\n",
    "df, _ = regresstion_times(df, numeric_features, regression_times)\n",
    "df.to_csv('log_after_1st_regresstion_times.csv', sep=';')\n",
    "df"
   ]
  },
  {
   "cell_type": "code",
   "execution_count": null,
   "metadata": {},
   "outputs": [],
   "source": [
    "df.info()"
   ]
  },
  {
   "cell_type": "code",
   "execution_count": null,
   "metadata": {},
   "outputs": [],
   "source": [
    "window = 14\n",
    "close_price = 'close'\n",
    "count = df.shape[0]\n",
    "df.iloc[count-1:count]['rsi'] = 0\n",
    "\n",
    "\n",
    "#print(df[['close', 'rsi']].tail())\n",
    "# _df = df.tail(window + 10)[[close_price, 'rsi']].copy()\n",
    "_df = df[[close_price, 'rsi']].tail(window+50).copy()\n",
    "_count = _df.shape[0]\n",
    "#print(_df)\n",
    "_df['change'] = _df[close_price].diff()\n",
    "_df['gain'] = _df.change.mask(_df.change < 0, 0.0)\n",
    "_df['loss'] = -_df.change.mask(_df.change > 0, -0.0)\n",
    "_df['avg_gain'] = rma(_df.gain.to_numpy(), window)\n",
    "_df['avg_loss'] = rma(_df.loss.to_numpy(), window)\n",
    "\n",
    "_df['rs'] = _df.avg_gain / _df.avg_loss\n",
    "_df['rsi'] = 100 - (100 / (1 + _df.rs))\n",
    "#print(_df)\n",
    "\n",
    "#print(df.iloc[count-1:count]['rsi'])\n",
    "#print(_df.iloc[_count-1:_count]['rsi'])\n",
    "\n",
    "df.update(_df.iloc[_count-1:_count]['rsi'])\n",
    "\n",
    "df.tail()"
   ]
  },
  {
   "cell_type": "code",
   "execution_count": null,
   "metadata": {},
   "outputs": [],
   "source": [
    "cont = 0"
   ]
  },
  {
   "cell_type": "code",
   "execution_count": null,
   "metadata": {},
   "outputs": [],
   "source": [
    "#while True:\n",
    "\n",
    "# df = get_data(symbol, save_database=False, interval='1h', tail=tail)\n",
    "_df = get_klines(symbol, interval='1h', max_date=None, limit=1)\n",
    "_df.to_csv(f'log_after_{cont}_get_klines.csv', sep=';', index=False)\n",
    "\n",
    "#df = pd.concat([df, _df]).drop_duplicates(keep='last')\n",
    "if _df.index.isin(df.index):\n",
    "    df.update(_df)\n",
    "else:\n",
    "    df = pd.concat([df, _df])   \n",
    "df.to_csv(f'log_after_{cont}_merge.csv', sep=';', index=False)\n",
    "\n",
    "df = calc_RSI(df, last_one=True)\n",
    "df.to_csv(f'log_after_{cont}_calc_RSI.csv', sep=';', index=False)\n",
    "\n",
    "df, _ = regresstion_times(df, numeric_features, regression_times, last_one=True)\n",
    "df.to_csv(f'log_after_{cont}_regresstion_times.csv', sep=';', index=False)\n",
    "\n",
    "df[['open_time'] + numeric_features].to_csv('log_experiment_data.log', sep=';', index=False)\n",
    "df_predict = experiment.predict_model(model, df.tail(1))\n",
    "df_predict.to_csv(f'log_after_{cont}_df_predict.csv', sep=';', index=False)\n",
    "\n",
    "operacao = df_predict['prediction_label'].values[0]\n",
    "if (operacao.startswith('SOBE') or operacao.startswith('CAI')):\n",
    "    send_message(df_predict)\n",
    "time.sleep(sleep_refresh)\n",
    "cont += 1"
   ]
  },
  {
   "cell_type": "code",
   "execution_count": null,
   "metadata": {},
   "outputs": [],
   "source": [
    "import pandas as pd\n",
    "df1 = pd.DataFrame({'open_time': [1, 55, 32, 234], 'close': [3, 4, 5, 6], 'C': [5, 6, 34, 5], 'D': [7, 8, 54, 66], 'label': ['A', 'A', 'B', 'B']}, index=[0,1,2,3])\n",
    "df1"
   ]
  },
  {
   "cell_type": "code",
   "execution_count": null,
   "metadata": {},
   "outputs": [],
   "source": [
    "df2 = pd.DataFrame({'open_time': [55], 'close': [77]}, index=[1])\n",
    "df2"
   ]
  },
  {
   "cell_type": "code",
   "execution_count": null,
   "metadata": {},
   "outputs": [],
   "source": [
    "i = df2.iloc[df2.shape[0]-1:df2.shape[0]].index\n",
    "i"
   ]
  },
  {
   "cell_type": "code",
   "execution_count": null,
   "metadata": {},
   "outputs": [],
   "source": [
    "df2.index.isin(df1.index)"
   ]
  },
  {
   "cell_type": "code",
   "execution_count": null,
   "metadata": {},
   "outputs": [],
   "source": [
    "_df = get_klines('BTCUSDT', interval='1h', max_date=None, limit=200)\n",
    "_df"
   ]
  },
  {
   "cell_type": "code",
   "execution_count": null,
   "metadata": {},
   "outputs": [],
   "source": [
    "from pycaret.classification.oop import ClassificationExperiment\n",
    "\n",
    "ca = ClassificationExperiment()\n",
    "setup = ca.setup(_df, target='symbol')"
   ]
  },
  {
   "cell_type": "code",
   "execution_count": null,
   "metadata": {},
   "outputs": [],
   "source": [
    "best = setup.compare_models()\n",
    "\n",
    "best"
   ]
  },
  {
   "cell_type": "code",
   "execution_count": null,
   "metadata": {},
   "outputs": [],
   "source": [
    "setup.pull().index[0]"
   ]
  },
  {
   "cell_type": "code",
   "execution_count": null,
   "metadata": {},
   "outputs": [],
   "source": [
    "import datetime \n",
    "datetime.datetime.now().strftime(\"%Y-%m-%d %H:%M:%S\") "
   ]
  },
  {
   "cell_type": "code",
   "execution_count": null,
   "metadata": {},
   "outputs": [],
   "source": [
    "import pandas as pd\n",
    "import datetime\n",
    "import os\n",
    "\n",
    "df_resultado_simulacao = pd.DataFrame()\n",
    "if (os.path.exists('resultado_simulacao.csv')):\n",
    "    df_resultado_simulacao = pd.read_csv('resultado_simulacao.csv', sep=';')\n",
    "\n",
    "result_simulado = {}\n",
    "result_simulado['model_name'] = 'BTCUSDT_lr_SL_2.0_RT_1440_RPL_24_1'\n",
    "result_simulado['data'] = datetime.datetime.now().strftime(\"%Y-%m-%d %H:%M:%S\")\n",
    "result_simulado['symbol'] = 'BTCUSDT'\n",
    "result_simulado['estimator'] = 'lightgbm'\n",
    "result_simulado['train_size'] = 0.7 \n",
    "result_simulado['start_train_date'] = '2023-06-01'\n",
    "result_simulado['start_test_date'] = '2023-08-08'\n",
    "result_simulado['regression_times'] = 24*30\n",
    "result_simulado['times_regression_profit_and_loss'] = 24\n",
    "result_simulado['stop_loss'] = 2.0\n",
    "result_simulado['fold'] = 3\n",
    "result_simulado['saldo_inicial'] = 100.00\n",
    "result_simulado['saldo_final'] = 91.87\n",
    "\n",
    "print(result_simulado)\n",
    "\n",
    "df = pd.DataFrame.from_dict([result_simulado])\n",
    "\n",
    "df_resultado_simulacao = pd.concat([df_resultado_simulacao, df], ignore_index=True)\n",
    "df_resultado_simulacao.sort_values('saldo_final', inplace=True)\n",
    "\n",
    "df_resultado_simulacao.to_csv('resultado_simulacao.csv', sep=';', index=False)"
   ]
  },
  {
   "cell_type": "code",
   "execution_count": null,
   "metadata": {},
   "outputs": [],
   "source": [
    "from binance.client import Client\n",
    "client = Client()\n",
    "klines = client.get_historical_klines(symbol='BTCUSDT', interval='1m', start_str='2023-09-01', limit=1000)\n",
    "klines\n",
    "\n"
   ]
  },
  {
   "cell_type": "code",
   "execution_count": null,
   "metadata": {},
   "outputs": [],
   "source": [
    "import pandas as pd\n",
    "pd.to_datetime(1695036000000, unit='ms')"
   ]
  },
  {
   "cell_type": "code",
   "execution_count": null,
   "metadata": {},
   "outputs": [],
   "source": [
    "import pandas as pd\n",
    "\n",
    "\n",
    "all_klines_cols = ['open_time', 'open', 'high', 'low', 'close', 'volume', 'close_time', 'quote_asset_volume',\n",
    "                   'number_of_trades', 'taker_buy_base_asset_volume', 'taker_buy_quote_asset_volume', 'ignore']\n",
    "\n",
    "columns = ['open_time', 'open', 'high', 'low', 'close', 'volume', 'quote_asset_volume', 'taker_buy_base_asset_volume', 'taker_buy_quote_asset_volume', 'number_of_trades', 'ignore', 'close_time']\n",
    "\n",
    "df_klines = pd.DataFrame(data=klines, columns=all_klines_cols)[columns]\n",
    "df_klines['open_time'] = pd.to_datetime(df_klines['open_time'], unit='ms')\n",
    "df_klines['close_time'] = pd.to_datetime(df_klines['close_time'], unit='ms')"
   ]
  },
  {
   "cell_type": "code",
   "execution_count": null,
   "metadata": {},
   "outputs": [],
   "source": [
    "df_klines"
   ]
  },
  {
   "cell_type": "code",
   "execution_count": null,
   "metadata": {},
   "outputs": [],
   "source": [
    "download_data()\n"
   ]
  },
  {
   "cell_type": "code",
   "execution_count": null,
   "metadata": {},
   "outputs": [],
   "source": [
    "all_data = get_data('BTCUSDT', save_database=False, interval='1h', tail=-1, columns=['open_time', 'close'])\n",
    "all_data"
   ]
  },
  {
   "cell_type": "code",
   "execution_count": null,
   "metadata": {},
   "outputs": [],
   "source": [
    "import numpy as np\n",
    "\n",
    "at = all_data.tail(1).open_time.dt.strftime('%Y-%m-%d %H').values[0]\n"
   ]
  },
  {
   "cell_type": "code",
   "execution_count": null,
   "metadata": {},
   "outputs": [],
   "source": [
    "list_of_elements = ['close','open','high','low','volume']\n",
    "fix_it='close'\n",
    "\n",
    "combinations_list = []\n",
    "if len(list_of_elements) > 0:    \n",
    "    for i in range(1, len(list_of_elements) + 1):\n",
    "        a = combinations(list_of_elements, i)\n",
    "        for s in a:\n",
    "            res = ''\n",
    "            for j in s:\n",
    "                res += f'{j},'\n",
    "            combinations_list.append(res[0:len(res) - 1])\n",
    "\n",
    "combinations_list"
   ]
  },
  {
   "cell_type": "code",
   "execution_count": null,
   "metadata": {},
   "outputs": [],
   "source": [
    "from itertools import combinations\n",
    "import pandas as pd\n",
    "\n",
    "comb = combinations(range(1, 25 + 1), 15)\n",
    "cols = ['col_' + str(i) for i in range(1, 15 + 1)]\n",
    "resultado = pd.DataFrame(list(comb), columns=cols)\n",
    "resultado"
   ]
  },
  {
   "cell_type": "code",
   "execution_count": null,
   "metadata": {},
   "outputs": [],
   "source": [
    "resultado.query('col_1 in (1,2,3,4) and col_15 in (22,23,24,25)')"
   ]
  },
  {
   "cell_type": "code",
   "execution_count": null,
   "metadata": {},
   "outputs": [],
   "source": [
    "import pandas as pd\n",
    "results = ['a','b','c','d','d','d','d','d',]\n",
    "\n",
    "pd.DataFrame(results, columns=['status'])['status'].value_counts()"
   ]
  },
  {
   "cell_type": "code",
   "execution_count": null,
   "metadata": {},
   "outputs": [],
   "source": [
    "import pandas as pd\n",
    "import sys\n",
    "print(sys.path)\n",
    "sys.path.insert(0, sys.path[0].replace('/src/jupyter_nb', ''))\n",
    "print(sys.path)\n",
    "import src.utils as utils\n",
    "import src.myenv as myenv\n",
    "import logging\n",
    "\n",
    "logging.basicConfig(\n",
    "    level=logging.DEBUG,  # Set the minimum level to be logged\n",
    "    format=\"%(asctime)s [%(levelname)s]: %(message)s\",\n",
    "    handlers=[logging.StreamHandler()])\n",
    "\n",
    "\n",
    "df = pd.read_csv('../../data/ADAUSDT/ADAUSDT.csv', sep=\";\", index_col='open_time')\n",
    "df['open_time'] = pd.to_datetime(df.index, unit='ms')\n",
    "df"
   ]
  },
  {
   "cell_type": "code",
   "execution_count": null,
   "metadata": {},
   "outputs": [],
   "source": [
    "df.sort_index(inplace=True)\n",
    "df.index.duplicated().sum()"
   ]
  },
  {
   "cell_type": "code",
   "execution_count": null,
   "metadata": {},
   "outputs": [],
   "source": [
    "all_data = utils.regression_PnL(\n",
    "            df,\n",
    "            label=myenv.label,\n",
    "            diff_percent=1.0,\n",
    "            max_regression_profit_and_loss=6,\n",
    "            drop_na=True,\n",
    "            drop_calc_cols=True,\n",
    "            strategy=None)\n",
    "\n",
    "all_data\n",
    "            "
   ]
  },
  {
   "cell_type": "code",
   "execution_count": null,
   "metadata": {},
   "outputs": [],
   "source": [
    "all_data['prediction_label'] = all_data['status']\n",
    "all_data = utils.simule_trading_crypto(all_data, '2023-06-01', '2023-09-19', 100, 1.0)\n",
    "all_data "
   ]
  },
  {
   "cell_type": "code",
   "execution_count": 2,
   "metadata": {},
   "outputs": [],
   "source": [
    "import sys\n",
    "sys.path.insert(0, sys.path[0].replace('/src/jupyter_nb', ''))\n",
    "import src.utils as utils\n",
    "import src.myenv as myenv\n",
    "import src.send_message as sm\n",
    "import os\n",
    "import glob\n",
    "import pandas as pd\n",
    "\n"
   ]
  },
  {
   "cell_type": "code",
   "execution_count": 7,
   "metadata": {},
   "outputs": [
    {
     "name": "stdout",
     "output_type": "stream",
     "text": [
      "{'operation_date': 1696154831441, 'symbol': 'BTCUSDT', 'interval': '1h', 'operation': 'BUY', 'amount_invested': 100.0, 'balance': 3093.85, 'take_profit': 27520.874531, 'stop_loss': 26703.422813, 'purchase_price': 27248.390625, 'sell_price': 0.0, 'PnL': 0.0, 'rsi': 75.06, 'status': 'SOBE'}\n",
      "1696154831441 SOBE 27248.390625 100.0 1000.0 1.0 27520.874531 26703.422813\n"
     ]
    }
   ],
   "source": [
    "symbol, interval = 'BTCUSDT', '1h'\n",
    "\n",
    "cont = 0\n",
    "cont_aviso = 101\n",
    "\n",
    "purchased = False\n",
    "purchase_price = 0.0\n",
    "actual_price = 0.0\n",
    "amount_invested = 0.0\n",
    "# balance = 0.0\n",
    "take_profit_price = 0.0\n",
    "stop_loss_price = 0.0\n",
    "profit_and_loss = 0.0\n",
    "operation = ''\n",
    "margin = 0.0\n",
    "margin_operation = 0.0\n",
    "rsi = 0.0\n",
    "latest_closed_candle_open_time_aux = None\n",
    "\n",
    "balance = 1000.00\n",
    "\n",
    "params_operation = utils.get_latest_operation(symbol, interval)\n",
    "print(params_operation)\n",
    "if len(params_operation) > 0 and params_operation['operation'] == 'BUY':\n",
    "\tpurchased = True\n",
    "\tpurchase_price = float(params_operation['purchase_price'])\n",
    "\ttake_profit_price = float(params_operation['take_profit'])\n",
    "\tstop_loss_price = float(params_operation['stop_loss'])\n",
    "\toperation = params_operation['status']\n",
    "\tlatest_closed_candle_open_time_aux = params_operation[\"operation_date\"]\n",
    "\tamount_invested = float(params_operation['amount_invested'])\n",
    "\trsi = float(params_operation['rsi'])\n",
    "\tmargin_operation = round(((take_profit_price - purchase_price) / purchase_price) * 100, 2)\n",
    "\n",
    "\tprint(latest_closed_candle_open_time_aux, operation, purchase_price, amount_invested, balance, margin_operation, take_profit_price, stop_loss_price)"
   ]
  },
  {
   "cell_type": "code",
   "execution_count": null,
   "metadata": {},
   "outputs": [],
   "source": [
    "symbol = 'TESTUSDT'\n",
    "interval = '1m'\n",
    "def calc_sl_pnl(operation, actual_value, margin):\n",
    "\ttake_profit_value = 0.0\n",
    "\tstop_loss_value = 0.0\n",
    "\tif operation.startswith('CAI'):  # Short\n",
    "\t\ttake_profit_value = actual_value * (1 - margin / 100)\n",
    "\t\tstop_loss_value = actual_value * (1 + (margin * myenv.stop_loss_multiplier) / 100)\n",
    "\telif operation.startswith('SOBE'):  # Long\n",
    "\t\ttake_profit_value = actual_value * (1 + margin / 100)\n",
    "\t\tstop_loss_value = actual_value * (1 - (margin * myenv.stop_loss_multiplier) / 100)\n",
    "\treturn take_profit_value, stop_loss_value\n",
    "\n",
    "def log_selling(open_time, operation, purchase_price, actual_price, margin, amount_invested, profit_and_loss, balance, take_profit_price,\n",
    "\t\t\t\t\t\t\t\tstop_loss_price, margin_operation):\n",
    "\tmsg = f'*SELLING*: Symbol: {symbol}_{interval} - Open Time: {open_time} - Operation: {operation} - Target Margin: {margin_operation:.2f}% '\n",
    "\tmsg += f'- Purchased Price: $ {purchase_price:.6f} - Actual Price: $ {actual_price:.6f} - Margin: {100*margin:.2f}% - Amount invested: $ {amount_invested:.2f} '\n",
    "\tmsg += f'- PnL: $ {profit_and_loss:.2f} - Take Profit: $ {take_profit_price:.6f} - Stop Loss: $ {stop_loss_price:.6f} - Balance: $ {balance:.2f}'\n",
    "\tprint(f'{msg}')"
   ]
  },
  {
   "cell_type": "code",
   "execution_count": null,
   "metadata": {},
   "outputs": [],
   "source": [
    "\n",
    "purchased = True\n",
    "operation = 'SOBE'\n",
    "margin_operation = 1.5\n",
    "actual_price = 1014\n",
    "purchase_price = 1000\n",
    "amount_invested = 100\n",
    "balance = 9900\n",
    "rsi = 70\n",
    "latest_closed_candle_open_time = '2023-01-01'\n",
    "\n",
    "take_profit_price, stop_loss_price = calc_sl_pnl(operation, purchase_price, margin_operation)\n",
    "\n",
    "if purchased:  # and (operation.startswith('SOBE') or operation.startswith('CAI')):\n",
    "\tperform_sell = False\n",
    "\tif operation == 'SOBE': #self.is_long(operation):\n",
    "\t\tprint('1')\n",
    "\t\tmargin = (actual_price - purchase_price) / purchase_price\n",
    "\t\tprint(f'actual_price: {actual_price} - take_profit_price: {take_profit_price} - stop_loss_price: {stop_loss_price} -  purchase_price: {purchase_price} - margin: {margin} => {actual_price - purchase_price}')\n",
    "\t\tif ((actual_price >= take_profit_price) or (actual_price <= stop_loss_price)):  # Long ==> Sell - Take Profit / Stop Loss\n",
    "\t\t\tprint('2')\n",
    "\t\t\tperform_sell = True\n",
    "\telif operation == 'CAI': #self.is_short(operation):\n",
    "\t\tprint('3')\n",
    "\t\tmargin = (purchase_price - actual_price) / purchase_price\n",
    "\t\tif ((actual_price <= take_profit_price) or (actual_price >= stop_loss_price)):  # Short ==> Sell - Take Profit / Stop Loss\n",
    "\t\t\tprint('4')\n",
    "\t\t\tperform_sell = True\n",
    "\n",
    "\tprofit_and_loss = amount_invested * margin\n",
    "\tprint(f'Perform Sell: {perform_sell} - Margin: {margin} - PnL: $ {profit_and_loss}')\n",
    "\tif perform_sell:  # Register Sell\n",
    "\t\tbalance += profit_and_loss\n",
    "\t\tparams_operation = utils.get_params_operation(symbol, interval, 'SELL', amount_invested, balance, take_profit_price, stop_loss_price,\n",
    "\t\t\t\t\t\t\t\t\t\t\t\t\t\t\t\t\t\t\t\t\t\t\t\t\tpurchase_price, actual_price, profit_and_loss, rsi, operation)\n",
    "\t\t#utils.register_operation(params_operation)\n",
    "\t\t#utils.register_account_balance(balance)\n",
    "\t\tlog_selling(latest_closed_candle_open_time, operation, purchase_price, actual_price, margin, amount_invested, profit_and_loss, balance,\n",
    "\t\t\t\t\t\t\t\t\t\t\ttake_profit_price, stop_loss_price, margin_operation)"
   ]
  },
  {
   "cell_type": "code",
   "execution_count": null,
   "metadata": {},
   "outputs": [],
   "source": [
    "purchased = True\n",
    "purchase_price = 1000.00\n",
    "now_price = 900.00\n",
    "operation = 'CAI_1.5'\n",
    "purchase_operation = operation\n",
    "amount_invested = 100.00\n",
    "stop_loss = 1.5\n",
    "symbol = 'TESTUSDT'\n",
    "interval = '1m'\n",
    "rsi = 70.00\n",
    "\n",
    "margin = float(operation.split('_')[1])\n",
    "take_profit = now_price * (1 + margin)\n",
    "stop_loss = now_price * (1 - (2 * margin))\n",
    "\n",
    "open_time = datetime.datetime.now().strftime('%Y-%m-%d %H:%M:%S')\n",
    "\n",
    "# Sell operation\n",
    "if purchased:\n",
    "\tdiff = 100 * (now_price - purchase_price) / purchase_price\n",
    "\tprofit_and_loss = 0.0\n",
    "\tif purchase_operation.startswith('SOBE'):\n",
    "\t\tprofit_and_loss += amount_invested * (diff / 100)\n",
    "\telse:\n",
    "\t\tprofit_and_loss += amount_invested * (-diff / 100)\n",
    "\n",
    "if (abs(diff) >= stop_loss) and purchased:\n",
    "\taccount_balance = utils.get_account_balance()\n",
    "\tbalance = account_balance['balance']\t\n",
    "\tbalance += profit_and_loss\n",
    "\tparams_operation = {'operation_date': int(datetime.datetime.now().timestamp() * 1000),\n",
    "\t\t\t\t\t\t\t\t\t\t\t'symbol': symbol,\n",
    "\t\t\t\t\t\t\t\t\t\t\t'interval': interval,\n",
    "\t\t\t\t\t\t\t\t\t\t\t'operation': 'SELL',\n",
    "\t\t\t\t\t\t\t\t\t\t\t'amount_invested': f'{amount_invested:.2f}',\n",
    "\t\t\t\t\t\t\t\t\t\t\t'balance': f'{balance:.2f}',\n",
    "\t\t\t\t\t\t\t\t\t\t\t'take_profit': f'{take_profit:.6f}',\n",
    "\t\t\t\t\t\t\t\t\t\t\t'stop_loss': f'{stop_loss:.6f}',\n",
    "\t\t\t\t\t\t\t\t\t\t\t'purchase_price': f'{purchase_price:.6f}',\n",
    "\t\t\t\t\t\t\t\t\t\t\t'sell_price': f'{now_price:.6f}',\n",
    "\t\t\t\t\t\t\t\t\t\t\t'PnL': f'{(amount_invested - profit_and_loss):.2f}',\n",
    "\t\t\t\t\t\t\t\t\t\t\t'rsi': f'{rsi:.2f}',\n",
    "\t\t\t\t\t\t\t\t\t\t\t'status': operation,\n",
    "\t\t\t\t\t\t\t\t\t\t\t}\n",
    "\n",
    "\tutils.register_operation(params_operation)\n",
    "\tutils.register_account_balance(balance)\n",
    "\n",
    "\tmsg = f'Venda: Symbol: {symbol}_{interval} - open_time: {open_time} - Operação: {purchase_operation} - Valor Comprado: $ {purchase_price:.6f} - \\\n",
    "Valor Venda: $ {now_price:.6f} - Variação: {diff:.2f}% - PnL: $ {(amount_invested-profit_and_loss):.2f} - Balance: $ {balance:.2f}'\n",
    "\tprint(msg)\n",
    "\t# Reset variaveis\n",
    "\tpurchased = False\n",
    "\tpurchase_price = 0.0\n",
    "\tpurchase_operation = ''\n",
    "\tamount_invested = 0.0\n",
    "# End Sell Calcs\n",
    "print(params_operation)"
   ]
  },
  {
   "cell_type": "code",
   "execution_count": null,
   "metadata": {},
   "outputs": [],
   "source": [
    "import datetime\n",
    "params_operation = {'operation_date': int(datetime.datetime.now().timestamp() * 1000),\n",
    "\t\t\t\t\t\t\t\t\t\t'symbol': 'TESTUSDT',\n",
    "\t\t\t\t\t\t\t\t\t\t'interval': '1h',\n",
    "\t\t\t\t\t\t\t\t\t\t'operation': 'SELL',\n",
    "\t\t\t\t\t\t\t\t\t\t'amount_invested': 200.00,\n",
    "\t\t\t\t\t\t\t\t\t\t'balance': 9100.11,\n",
    "\t\t\t\t\t\t\t\t\t\t'take_profit': 4342.24,\n",
    "\t\t\t\t\t\t\t\t\t\t'stop_loss': 2323.23,\n",
    "\t\t\t\t\t\t\t\t\t\t'purchase_price': 232323.32,\n",
    "\t\t\t\t\t\t\t\t\t\t'sell_price': 23424.23,\n",
    "\t\t\t\t\t\t\t\t\t\t'PnL': 32424.24,\n",
    "\t\t\t\t\t\t\t\t\t\t'rsi': 43.44,\n",
    "\t\t\t\t\t\t\t\t\t\t'status': 'CAI_2.9',\n",
    "\t\t\t\t\t\t\t\t\t\t}\n",
    "print(params_operation)\n",
    "#pd.DataFrame(data=[params_operation], index=[0])\n",
    "utils.register_operation(params_operation)"
   ]
  },
  {
   "cell_type": "code",
   "execution_count": null,
   "metadata": {},
   "outputs": [],
   "source": [
    "utils.get_account_balance()"
   ]
  },
  {
   "cell_type": "code",
   "execution_count": null,
   "metadata": {},
   "outputs": [],
   "source": [
    "filename = f'{myenv.datadir}/account_balance.dat'\n",
    "params = {}\n",
    "params['operation_date'] = int(datetime.datetime.now().timestamp() * 1000)\n",
    "params['balance'] = 100.99\n",
    "params['params'] = None\n",
    "data = pd.DataFrame(data=[params], index=[0])\n",
    "if os.path.exists(filename):\n",
    "\tbase = pd.read_csv(filename, sep=';')\n",
    "\tdata = pd.concat([base, data], ignore_index=True)\n",
    "\tdata.sort_values('operation_date', inplace=True)\n",
    "data.to_csv(filename, sep=';', index=False)"
   ]
  },
  {
   "cell_type": "code",
   "execution_count": null,
   "metadata": {},
   "outputs": [],
   "source": [
    "symbol = 'BTCUSDT'\n",
    "interval = '1h'\n",
    "amount_invested = 100\n",
    "\n",
    "params_operation = utils.get_latest_operation(symbol, interval)\n",
    "if len(params_operation) > 0 and params_operation['operation'] == 'BUY':\n",
    "\tpurchased = True\n",
    "\tpurchase_price = float(params_operation['purchase_price'])\n",
    "\ttake_profit = float(params_operation['take_profit'])\n",
    "\tstop_loss = float(params_operation['stop_loss'])\n",
    "\tpurchase_operation = params_operation['status']\n",
    "\tamount_invested = params_operation['amount_invested']\n",
    "\trsi = 0\n",
    "\t\n",
    "\topen_time = pd.to_datetime(params_operation[\"operation_date\"], unit='ms').strftime('%Y-%m-%d %H:%M:%S')\n",
    "\tmsg = f'Compra: Symbol: {symbol} - open_time: {open_time.strftime(\"%Y-%m-%d %H:%M:%S\")} - Operação: {purchase_operation} - Valor Comprado: {purchase_price:.4f} - \\\n",
    "RSI: {rsi:.2f} - PnL: $ {amount_invested:.2f}'\n",
    "\tprint(msg)\n",
    "\tprint(\"************ COMPRADO ************\")"
   ]
  },
  {
   "cell_type": "code",
   "execution_count": null,
   "metadata": {},
   "outputs": [],
   "source": [
    "res = utils.get_latest_operation('BTCUSDT', '1h')\n",
    "pd.to_datetime(res['operation_date'], unit='ms').strftime('%Y-%m-%d %H:%M:%S')"
   ]
  },
  {
   "cell_type": "code",
   "execution_count": null,
   "metadata": {},
   "outputs": [],
   "source": [
    "filename = f'{myenv.datadir}/account_balance.dat'\n",
    "if os.path.exists(filename):\n",
    "\tdata = pd.read_csv(filename, sep=';')\n",
    "\tdata.sort_values('operation_date', inplace=True)\n",
    "\tprint(data.tail(1).to_dict(orient='records')[0])"
   ]
  },
  {
   "cell_type": "code",
   "execution_count": null,
   "metadata": {},
   "outputs": [],
   "source": [
    "t = utils.get_telegram_key()\n",
    "print(t)\n",
    "myenv.telegram_key.append(t)"
   ]
  },
  {
   "cell_type": "code",
   "execution_count": null,
   "metadata": {},
   "outputs": [],
   "source": [
    "myenv.telegram_key"
   ]
  },
  {
   "cell_type": "code",
   "execution_count": null,
   "metadata": {},
   "outputs": [],
   "source": [
    "import pandas as pd\n",
    "\n",
    "# Sample datetime data\n",
    "date_strings = [\"2023-09-24 10:00:00\", \"2023-09-24 15:30:00\"]\n",
    "dates = pd.to_datetime(date_strings)\n",
    "\n",
    "# Create a Pandas Series or DataFrame with the datetime index\n",
    "# Localize it to the Brazil/Brasilia time zone\n",
    "dates_localized = dates.tz_localize('Brazil/East')\n",
    "\n",
    "# Print the result\n",
    "print(dates_localized)"
   ]
  },
  {
   "cell_type": "code",
   "execution_count": null,
   "metadata": {},
   "outputs": [],
   "source": [
    "from binance.client import Client\n",
    "client = Client()\n",
    "time = client.get_server_time()\n",
    "ix = pd.to_datetime(time['serverTime'], unit='ms')\n",
    "ix"
   ]
  },
  {
   "cell_type": "code",
   "execution_count": null,
   "metadata": {},
   "outputs": [],
   "source": [
    "data = pd.DataFrame(data = client.get_klines(symbol='BTCUSDT', interval='5m', limit=5), columns=myenv.all_klines_cols)\n",
    "data['open_time'] = pd.to_datetime(data['open_time'], unit='ms')\n",
    "data['close_time'] = pd.to_datetime(data['open_time'], unit='ms')\n",
    "data"
   ]
  },
  {
   "cell_type": "code",
   "execution_count": null,
   "metadata": {},
   "outputs": [],
   "source": [
    "data = utils.get_klines(symbol='BTCUSDT', interval='1h', limit=3, max_date=None, columns=myenv.all_klines_cols, parse_data=True)\n",
    "data"
   ]
  },
  {
   "cell_type": "code",
   "execution_count": null,
   "metadata": {},
   "outputs": [],
   "source": [
    "data.iloc[data.shape[0]-2:data.shape[0]-1]"
   ]
  },
  {
   "cell_type": "code",
   "execution_count": null,
   "metadata": {},
   "outputs": [],
   "source": [
    "data.iloc[0:1]['open_time'].values[0]"
   ]
  },
  {
   "cell_type": "code",
   "execution_count": null,
   "metadata": {},
   "outputs": [],
   "source": [
    "prediction_label = 'CAI_3.99'\n",
    "print(prediction_label.split('_'))\n",
    "\n",
    "operation = prediction_label.split('_')[0]\n",
    "margin = float(prediction_label.split('_')[1])\n",
    "\n",
    "print(f'operation: {operation} - margin: {margin}')"
   ]
  },
  {
   "cell_type": "code",
   "execution_count": null,
   "metadata": {},
   "outputs": [],
   "source": [
    "date = utils.get_latest_close_time('1h')\n",
    "date"
   ]
  },
  {
   "cell_type": "code",
   "execution_count": null,
   "metadata": {},
   "outputs": [],
   "source": [
    "actual_value = 100\n",
    "margin = 1.5\n",
    "\n",
    "purchase_value = actual_value\n",
    "take_profit_value = actual_value * (1 + margin/100)\n",
    "stop_loss_value = actual_value * (1 - margin/100)\n",
    "\n",
    "print(f'take_profit: {take_profit_value} - stop_loss: {stop_loss_value}')"
   ]
  },
  {
   "cell_type": "code",
   "execution_count": null,
   "metadata": {},
   "outputs": [],
   "source": [
    "#if ix.minute == 0:\n",
    "ix = ix.replace(hour=ix.hour-1, minute=00, second=00, microsecond=00)\n",
    "ix"
   ]
  },
  {
   "cell_type": "code",
   "execution_count": null,
   "metadata": {},
   "outputs": [],
   "source": [
    "for i in range(0, 61):\n",
    "\tif  i % 5 == 0:\n",
    "\t\tprint(i)"
   ]
  },
  {
   "cell_type": "code",
   "execution_count": null,
   "metadata": {},
   "outputs": [],
   "source": [
    "ix = ix.replace(hour=14, minute=52, second=32, microsecond=0)\n",
    "interval = 1\n",
    "\n",
    "print(ix)\n",
    "_ix_aux = ix.replace(hour=0, minute=0, second=0, microsecond=0)\n",
    "day = ix.day-interval\n",
    "for i in range(day, -1, -1):\n",
    "\t#print(f'i: {i} - min: {min} - rest: {i % interval}')\n",
    "\tif  (i <= day) and(i % interval == 0):\n",
    "\t\tprint(f'hour: {i}')\n",
    "\t\t_ix_aux = _ix_aux.replace(day=i, hour=0, minute=0, second=0, microsecond=0)\n",
    "\t\tbreak\n",
    "print(f'Last Close Time: {_ix_aux}')\n"
   ]
  },
  {
   "cell_type": "code",
   "execution_count": null,
   "metadata": {},
   "outputs": [],
   "source": [
    "0 % 30"
   ]
  },
  {
   "cell_type": "code",
   "execution_count": null,
   "metadata": {},
   "outputs": [],
   "source": [
    "data = utils.get_data('BTCUSDT', columns=myenv.all_cols)\n",
    "data"
   ]
  },
  {
   "cell_type": "code",
   "execution_count": null,
   "metadata": {},
   "outputs": [],
   "source": [
    "data.loc[ix]"
   ]
  },
  {
   "cell_type": "code",
   "execution_count": null,
   "metadata": {},
   "outputs": [],
   "source": [
    "file_list = glob.glob(os.path.join(f'{myenv.datadir}/', 'resultado_simulacao_*.csv'))\n",
    "top_params = []\n",
    "columns = None\n",
    "df_top_params = pd.DataFrame()\n",
    "for file_path in file_list:\n",
    "    if os.path.isfile(file_path):\n",
    "        df = pd.read_csv(file_path, sep=';')\n",
    "        df_top_params = pd.concat([df_top_params, df.tail(1)], ignore_index=True)\n",
    "\n",
    "\n",
    "df_top_params.to_csv(f'{myenv.datadir}/top_params.csv', sep=';', index=False)\n",
    "return df_top_params.to_dict(orient='records')"
   ]
  },
  {
   "cell_type": "code",
   "execution_count": null,
   "metadata": {},
   "outputs": [],
   "source": [
    "import pandas as pd\n",
    "df = pd.DataFrame({'a': [1,674,3,674], 'b': [3,2,4,1], 'c': [23,35,7,78], 'd': [878,432,66,88]})\n",
    "df"
   ]
  },
  {
   "cell_type": "code",
   "execution_count": null,
   "metadata": {},
   "outputs": [],
   "source": [
    "df.sort_values(['a', 'b'],  ascending=[False, True])"
   ]
  },
  {
   "cell_type": "code",
   "execution_count": null,
   "metadata": {},
   "outputs": [],
   "source": [
    "df.insert(0, 'dd', [212,4,52,2])\n",
    "df"
   ]
  },
  {
   "cell_type": "code",
   "execution_count": null,
   "metadata": {},
   "outputs": [],
   "source": [
    "df['tt'] = 'adf,fasd,gasdf,asdf'\n",
    "df.loc[0, 'tt'] = 'as,f,as,fd,asd,f,asd,f,asd,f,as,df,'\n",
    "df['c_tt'] = df['tt'].apply(lambda x: len(x.split(',')))\n",
    "df"
   ]
  },
  {
   "cell_type": "code",
   "execution_count": null,
   "metadata": {},
   "outputs": [],
   "source": [
    "utils.prepare_best_params()"
   ]
  },
  {
   "cell_type": "code",
   "execution_count": null,
   "metadata": {},
   "outputs": [],
   "source": [
    "top_params"
   ]
  },
  {
   "cell_type": "code",
   "execution_count": null,
   "metadata": {},
   "outputs": [],
   "source": [
    "symbol = 'BTCUSDT'\n",
    "it = '5m'\n",
    "filename = f'{myenv.datadir}/{symbol}/{symbol}_{it}'\n",
    "df = pd.read_csv(f'{filename}.csv', sep=';')\n",
    "# df.info()\n",
    "df.to_csv(f'{filename}.dat', sep=';', index=False, compression=dict(method='zip'))\n",
    "print(f'Done! {filename}')"
   ]
  },
  {
   "cell_type": "code",
   "execution_count": null,
   "metadata": {},
   "outputs": [],
   "source": [
    "df_simb = pd.read_csv(f'{myenv.datadir}/symbol_list.csv')\n",
    "for symbol in df_simb['symbol']:\n",
    "\tfor it in ['1h', '5m']:\n",
    "\t\tfilename = f'{myenv.datadir}/{symbol}/{symbol}_{it}'\n",
    "\t\tdf = pd.read_csv(f'{filename}.csv', sep=';')\n",
    "\t\t# df.info()\n",
    "\t\tdf.to_csv(f'{filename}.dat', sep=';', index=False, compression=dict(method='zip'))\n",
    "\t\tprint(f'Done! {filename}')"
   ]
  },
  {
   "cell_type": "code",
   "execution_count": null,
   "metadata": {},
   "outputs": [],
   "source": [
    "filename = f'{myenv.datadir}/BTCUSDT/BTCUSDT_5m'\n",
    "df = pd.read_csv(f'{filename}.dat', sep=';', compression=dict(method='zip'))\n",
    "df.info()\n",
    "df\n",
    "#df.to_csv(f'{filename}.csv', sep=';', index=False, compression=dict(method='zip', archive_name=f'{filename}.csv'))"
   ]
  },
  {
   "cell_type": "code",
   "execution_count": null,
   "metadata": {},
   "outputs": [],
   "source": [
    "import datetime\n",
    "import pandas as pd\n",
    "\n",
    "now = datetime.datetime.now()\n",
    "ordinal = int(now.timestamp() * 1000)\n",
    "print(now)\n",
    "print(ordinal)\n",
    "print(pd.to_datetime(ordinal, unit='ms'))"
   ]
  },
  {
   "cell_type": "code",
   "execution_count": null,
   "metadata": {},
   "outputs": [],
   "source": [
    "numeric_features = 'open,close,volume'\n",
    "date_features = ['open_time']\n",
    "\n",
    "kline_features = date_features + numeric_features.split(',')\n",
    "\n",
    "print(kline_features)"
   ]
  },
  {
   "cell_type": "code",
   "execution_count": 6,
   "metadata": {},
   "outputs": [
    {
     "name": "stdout",
     "output_type": "stream",
     "text": [
      "2023-10-04T20:00:00.000000000 - <class 'numpy.datetime64'> - 2023-10-04 17:00:00 - <class 'datetime.datetime'>\n"
     ]
    }
   ],
   "source": [
    "import numpy as np\n",
    "from datetime import datetime\n",
    "import pandas as pd\n",
    "import pytz\n",
    "\n",
    "date_np = np.datetime64('2023-10-04T20:00:00.000000000')\n",
    "print(f'{date_np} - {type(date_np)} - {datetime.fromtimestamp(int(date_np.astype(np.int64))/1000000000)} - {type(datetime.fromtimestamp(int(int(date_np)/1000000000)))}')"
   ]
  }
 ],
 "metadata": {
  "kernelspec": {
   "display_name": "env",
   "language": "python",
   "name": "python3"
  },
  "language_info": {
   "codemirror_mode": {
    "name": "ipython",
    "version": 3
   },
   "file_extension": ".py",
   "mimetype": "text/x-python",
   "name": "python",
   "nbconvert_exporter": "python",
   "pygments_lexer": "ipython3",
   "version": "3.10.13"
  },
  "orig_nbformat": 4
 },
 "nbformat": 4,
 "nbformat_minor": 2
}
