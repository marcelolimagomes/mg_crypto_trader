{
 "cells": [
  {
   "cell_type": "code",
   "execution_count": null,
   "metadata": {},
   "outputs": [],
   "source": [
    "import sys\n",
    "sys.path.insert(0, sys.path[0].removesuffix('/src/jupyter_nb'))\n",
    "sys.path.insert(1, sys.path[0] + '/src')\n",
    "print(sys.path)\n",
    "import pandas as pd\n",
    "from src.robo import *\n",
    "from src.utils import *\n",
    "from src.calcEMA import *\n",
    "from src.myenv import *\n",
    "from src.train import *\n",
    "\n",
    "tail = regression_times + 50\n",
    "use_cols = ['open_time', 'close']\n",
    "\n",
    "estimator = 'lightgbm'"
   ]
  },
  {
   "cell_type": "code",
   "execution_count": null,
   "metadata": {},
   "outputs": [],
   "source": [
    "symbol = 'BTCUSDT'\n",
    "experiment, model = load_model(symbol, estimator)  # cassification_experiment"
   ]
  },
  {
   "cell_type": "code",
   "execution_count": null,
   "metadata": {},
   "outputs": [],
   "source": [
    "df = get_data(symbol, save_database=False, interval='1h', tail=tail)\n",
    "df.to_csv('log_after_1st_get_data.csv', sep=';', index=False)\n",
    "df"
   ]
  },
  {
   "cell_type": "code",
   "execution_count": null,
   "metadata": {},
   "outputs": [],
   "source": [
    "df = calc_RSI(df)\n",
    "df.to_csv('log_after_1st_calc_RSI.csv', sep=';', index=False)\n",
    "df"
   ]
  },
  {
   "cell_type": "code",
   "execution_count": null,
   "metadata": {},
   "outputs": [],
   "source": [
    "df.dropna(inplace=True)\n",
    "df"
   ]
  },
  {
   "cell_type": "code",
   "execution_count": null,
   "metadata": {},
   "outputs": [],
   "source": [
    "numeric_features = ['close', 'rsi']\n",
    "df, _ = regresstion_times(df, numeric_features, regression_times)\n",
    "df.to_csv('log_after_1st_regresstion_times.csv', sep=';')\n",
    "df"
   ]
  },
  {
   "cell_type": "code",
   "execution_count": null,
   "metadata": {},
   "outputs": [],
   "source": [
    "df.info()"
   ]
  },
  {
   "cell_type": "code",
   "execution_count": null,
   "metadata": {},
   "outputs": [],
   "source": [
    "window = 14\n",
    "close_price = 'close'\n",
    "count = df.shape[0]\n",
    "df.iloc[count-1:count]['rsi'] = 0\n",
    "\n",
    "\n",
    "#print(df[['close', 'rsi']].tail())\n",
    "# _df = df.tail(window + 10)[[close_price, 'rsi']].copy()\n",
    "_df = df[[close_price, 'rsi']].tail(window+50).copy()\n",
    "_count = _df.shape[0]\n",
    "#print(_df)\n",
    "_df['change'] = _df[close_price].diff()\n",
    "_df['gain'] = _df.change.mask(_df.change < 0, 0.0)\n",
    "_df['loss'] = -_df.change.mask(_df.change > 0, -0.0)\n",
    "_df['avg_gain'] = rma(_df.gain.to_numpy(), window)\n",
    "_df['avg_loss'] = rma(_df.loss.to_numpy(), window)\n",
    "\n",
    "_df['rs'] = _df.avg_gain / _df.avg_loss\n",
    "_df['rsi'] = 100 - (100 / (1 + _df.rs))\n",
    "#print(_df)\n",
    "\n",
    "#print(df.iloc[count-1:count]['rsi'])\n",
    "#print(_df.iloc[_count-1:_count]['rsi'])\n",
    "\n",
    "df.update(_df.iloc[_count-1:_count]['rsi'])\n",
    "\n",
    "df.tail()"
   ]
  },
  {
   "cell_type": "code",
   "execution_count": null,
   "metadata": {},
   "outputs": [],
   "source": [
    "cont = 0"
   ]
  },
  {
   "cell_type": "code",
   "execution_count": null,
   "metadata": {},
   "outputs": [],
   "source": [
    "#while True:\n",
    "\n",
    "# df = get_data(symbol, save_database=False, interval='1h', tail=tail)\n",
    "_df = get_klines(symbol, interval='1h', max_date=None, limit=1)\n",
    "_df.to_csv(f'log_after_{cont}_get_klines.csv', sep=';', index=False)\n",
    "\n",
    "#df = pd.concat([df, _df]).drop_duplicates(keep='last')\n",
    "if _df.index.isin(df.index):\n",
    "    df.update(_df)\n",
    "else:\n",
    "    df = pd.concat([df, _df])   \n",
    "df.to_csv(f'log_after_{cont}_merge.csv', sep=';', index=False)\n",
    "\n",
    "df = calc_RSI(df, last_one=True)\n",
    "df.to_csv(f'log_after_{cont}_calc_RSI.csv', sep=';', index=False)\n",
    "\n",
    "df, _ = regresstion_times(df, numeric_features, regression_times, last_one=True)\n",
    "df.to_csv(f'log_after_{cont}_regresstion_times.csv', sep=';', index=False)\n",
    "\n",
    "df[['open_time'] + numeric_features].to_csv('log_experiment_data.log', sep=';', index=False)\n",
    "df_predict = experiment.predict_model(model, df.tail(1))\n",
    "df_predict.to_csv(f'log_after_{cont}_df_predict.csv', sep=';', index=False)\n",
    "\n",
    "operacao = df_predict['prediction_label'].values[0]\n",
    "if (operacao.startswith('SOBE') or operacao.startswith('CAI')):\n",
    "    send_message(df_predict)\n",
    "time.sleep(sleep_refresh)\n",
    "cont += 1"
   ]
  },
  {
   "cell_type": "code",
   "execution_count": null,
   "metadata": {},
   "outputs": [],
   "source": [
    "import pandas as pd\n",
    "df1 = pd.DataFrame({'open_time': [1, 55, 32, 234], 'close': [3, 4, 5, 6], 'C': [5, 6, 34, 5], 'D': [7, 8, 54, 66], 'label': ['A', 'A', 'B', 'B']}, index=[0,1,2,3])\n",
    "df1"
   ]
  },
  {
   "cell_type": "code",
   "execution_count": null,
   "metadata": {},
   "outputs": [],
   "source": [
    "df2 = pd.DataFrame({'open_time': [55], 'close': [77]}, index=[1])\n",
    "df2"
   ]
  },
  {
   "cell_type": "code",
   "execution_count": null,
   "metadata": {},
   "outputs": [],
   "source": [
    "i = df2.iloc[df2.shape[0]-1:df2.shape[0]].index\n",
    "i"
   ]
  },
  {
   "cell_type": "code",
   "execution_count": null,
   "metadata": {},
   "outputs": [],
   "source": [
    "df2.index.isin(df1.index)"
   ]
  },
  {
   "cell_type": "code",
   "execution_count": null,
   "metadata": {},
   "outputs": [],
   "source": [
    "_df = get_klines('BTCUSDT', interval='1h', max_date=None, limit=200)\n",
    "_df"
   ]
  },
  {
   "cell_type": "code",
   "execution_count": null,
   "metadata": {},
   "outputs": [],
   "source": [
    "from pycaret.classification.oop import ClassificationExperiment\n",
    "\n",
    "ca = ClassificationExperiment()\n",
    "setup = ca.setup(_df, target='symbol')"
   ]
  },
  {
   "cell_type": "code",
   "execution_count": null,
   "metadata": {},
   "outputs": [],
   "source": [
    "best = setup.compare_models()\n",
    "\n",
    "best"
   ]
  },
  {
   "cell_type": "code",
   "execution_count": null,
   "metadata": {},
   "outputs": [],
   "source": [
    "setup.pull().index[0]"
   ]
  },
  {
   "cell_type": "code",
   "execution_count": null,
   "metadata": {},
   "outputs": [],
   "source": [
    "import datetime \n",
    "datetime.datetime.now().strftime(\"%Y-%m-%d %H:%M:%S\") "
   ]
  },
  {
   "cell_type": "code",
   "execution_count": null,
   "metadata": {},
   "outputs": [],
   "source": [
    "import pandas as pd\n",
    "import datetime\n",
    "import os\n",
    "\n",
    "df_resultado_simulacao = pd.DataFrame()\n",
    "if (os.path.exists('resultado_simulacao.csv')):\n",
    "    df_resultado_simulacao = pd.read_csv('resultado_simulacao.csv', sep=';')\n",
    "\n",
    "result_simulado = {}\n",
    "result_simulado['model_name'] = 'BTCUSDT_lr_SL_2.0_RT_1440_RPL_24_1'\n",
    "result_simulado['data'] = datetime.datetime.now().strftime(\"%Y-%m-%d %H:%M:%S\")\n",
    "result_simulado['symbol'] = 'BTCUSDT'\n",
    "result_simulado['estimator'] = 'lightgbm'\n",
    "result_simulado['train_size'] = 0.7 \n",
    "result_simulado['start_train_date'] = '2023-06-01'\n",
    "result_simulado['start_test_date'] = '2023-08-08'\n",
    "result_simulado['regression_times'] = 24*30\n",
    "result_simulado['times_regression_profit_and_loss'] = 24\n",
    "result_simulado['stop_loss'] = 2.0\n",
    "result_simulado['fold'] = 3\n",
    "result_simulado['saldo_inicial'] = 100.00\n",
    "result_simulado['saldo_final'] = 91.87\n",
    "\n",
    "print(result_simulado)\n",
    "\n",
    "df = pd.DataFrame.from_dict([result_simulado])\n",
    "\n",
    "df_resultado_simulacao = pd.concat([df_resultado_simulacao, df], ignore_index=True)\n",
    "df_resultado_simulacao.sort_values('saldo_final', inplace=True)\n",
    "\n",
    "df_resultado_simulacao.to_csv('resultado_simulacao.csv', sep=';', index=False)"
   ]
  },
  {
   "cell_type": "code",
   "execution_count": null,
   "metadata": {},
   "outputs": [],
   "source": [
    "from binance.client import Client\n",
    "client = Client()\n",
    "klines = client.get_historical_klines(symbol='BTCUSDT', interval='1h', start_str='2010-01-01', limit=1000)\n",
    "\n"
   ]
  },
  {
   "cell_type": "code",
   "execution_count": null,
   "metadata": {},
   "outputs": [],
   "source": [
    "import pandas as pd\n",
    "\n",
    "\n",
    "all_klines_cols = ['open_time', 'open', 'high', 'low', 'close', 'volume', 'close_time', 'quote_asset_volume',\n",
    "                   'number_of_trades', 'taker_buy_base_asset_volume', 'taker_buy_quote_asset_volume', 'ignore']\n",
    "\n",
    "columns = ['open_time', 'open', 'high', 'low', 'close', 'volume', 'quote_asset_volume', 'taker_buy_base_asset_volume', 'taker_buy_quote_asset_volume', 'number_of_trades', 'ignore', 'close_time']\n",
    "\n",
    "df_klines = pd.DataFrame(data=klines, columns=all_klines_cols)[columns]\n",
    "df_klines['open_time'] = pd.to_datetime(df_klines['open_time'], unit='ms')\n",
    "df_klines['close_time'] = pd.to_datetime(df_klines['close_time'], unit='ms')"
   ]
  },
  {
   "cell_type": "code",
   "execution_count": null,
   "metadata": {},
   "outputs": [],
   "source": [
    "df_klines"
   ]
  },
  {
   "cell_type": "code",
   "execution_count": null,
   "metadata": {},
   "outputs": [],
   "source": [
    "download_data()\n"
   ]
  },
  {
   "cell_type": "code",
   "execution_count": null,
   "metadata": {},
   "outputs": [],
   "source": [
    "all_data = get_data('BTCUSDT', save_database=False, interval='1h', tail=-1, columns=['open_time', 'close'])\n",
    "all_data"
   ]
  },
  {
   "cell_type": "code",
   "execution_count": null,
   "metadata": {},
   "outputs": [],
   "source": [
    "import numpy as np\n",
    "\n",
    "at = all_data.tail(1).open_time.dt.strftime('%Y-%m-%d %H').values[0]\n"
   ]
  },
  {
   "cell_type": "code",
   "execution_count": null,
   "metadata": {},
   "outputs": [],
   "source": [
    "list_of_elements = ['close','open','high','low','volume']\n",
    "fix_it='close'\n",
    "\n",
    "combinations_list = []\n",
    "if len(list_of_elements) > 0:    \n",
    "    for i in range(1, len(list_of_elements) + 1):\n",
    "        a = combinations(list_of_elements, i)\n",
    "        for s in a:\n",
    "            res = ''\n",
    "            for j in s:\n",
    "                res += f'{j},'\n",
    "            combinations_list.append(res[0:len(res) - 1])\n",
    "\n",
    "combinations_list"
   ]
  },
  {
   "cell_type": "code",
   "execution_count": null,
   "metadata": {},
   "outputs": [],
   "source": [
    "from itertools import combinations\n",
    "import pandas as pd\n",
    "\n",
    "comb = combinations(range(1, 25 + 1), 15)\n",
    "cols = ['col_' + str(i) for i in range(1, 15 + 1)]\n",
    "resultado = pd.DataFrame(list(comb), columns=cols)\n",
    "resultado"
   ]
  },
  {
   "cell_type": "code",
   "execution_count": null,
   "metadata": {},
   "outputs": [],
   "source": [
    "resultado.query('col_1 in (1,2,3,4) and col_15 in (22,23,24,25)')"
   ]
  },
  {
   "cell_type": "code",
   "execution_count": null,
   "metadata": {},
   "outputs": [],
   "source": [
    "import pandas as pd\n",
    "results = ['a','b','c','d','d','d','d','d',]\n",
    "\n",
    "pd.DataFrame(results, columns=['status'])['status'].value_counts()"
   ]
  },
  {
   "cell_type": "code",
   "execution_count": null,
   "metadata": {},
   "outputs": [],
   "source": [
    "import pandas as pd\n",
    "import sys\n",
    "print(sys.path)\n",
    "sys.path.insert(0, sys.path[0].replace('/src/jupyter_nb', ''))\n",
    "print(sys.path)\n",
    "import src.utils as utils\n",
    "import src.myenv as myenv\n",
    "import logging\n",
    "\n",
    "logging.basicConfig(\n",
    "    level=logging.DEBUG,  # Set the minimum level to be logged\n",
    "    format=\"%(asctime)s [%(levelname)s]: %(message)s\",\n",
    "    handlers=[logging.StreamHandler()])\n",
    "\n",
    "\n",
    "df = pd.read_csv('../../data/ADAUSDT/ADAUSDT.csv', sep=\";\", index_col='open_time')\n",
    "df['open_time'] = pd.to_datetime(df.index, unit='ms')\n",
    "df"
   ]
  },
  {
   "cell_type": "code",
   "execution_count": null,
   "metadata": {},
   "outputs": [],
   "source": [
    "df.sort_index(inplace=True)\n",
    "df.index.duplicated().sum()"
   ]
  },
  {
   "cell_type": "code",
   "execution_count": null,
   "metadata": {},
   "outputs": [],
   "source": [
    "all_data = utils.regression_PnL(\n",
    "            df,\n",
    "            label=myenv.label,\n",
    "            diff_percent=1.0,\n",
    "            max_regression_profit_and_loss=6,\n",
    "            drop_na=True,\n",
    "            drop_calc_cols=True,\n",
    "            strategy=None)\n",
    "\n",
    "all_data\n",
    "            "
   ]
  },
  {
   "cell_type": "code",
   "execution_count": null,
   "metadata": {},
   "outputs": [],
   "source": [
    "all_data['prediction_label'] = all_data['status']\n",
    "all_data = utils.simule_trading_crypto(all_data, '2023-06-01', '2023-09-19', 100, 1.0)\n",
    "all_data "
   ]
  },
  {
   "cell_type": "code",
   "execution_count": null,
   "metadata": {},
   "outputs": [],
   "source": [
    "import sys\n",
    "print(sys.path)\n",
    "sys.path.insert(0, sys.path[0].replace('/src/jupyter_nb', ''))\n",
    "print(sys.path)\n",
    "import src.utils as utils\n",
    "import src.myenv as myenv\n",
    "import os\n",
    "import glob\n",
    "import pandas as pd\n",
    "\n"
   ]
  },
  {
   "cell_type": "code",
   "execution_count": 39,
   "metadata": {},
   "outputs": [
    {
     "data": {
      "text/plain": [
       "[{'data': '2023-09-20 11:19:52',\n",
       "  'symbol': 'SOL',\n",
       "  'interval': '1h',\n",
       "  'estimator': 'knn',\n",
       "  'stop_loss': 2.0,\n",
       "  'regression_times': 0,\n",
       "  'times_regression_profit_and_loss': 6,\n",
       "  'profit_and_loss_value': 191.74,\n",
       "  'start_value': 100.0,\n",
       "  'final_value': 291.74,\n",
       "  'numeric_features': 'close,quote_asset_volume,taker_buy_base_asset_volume,taker_buy_quote_asset_volume',\n",
       "  'regression_features': nan,\n",
       "  'train_size': 0.7,\n",
       "  'use-all-data-to-train': False,\n",
       "  'start_train_date': '2010-01-01',\n",
       "  'start_test_date': '2023-06-01 01:00:00',\n",
       "  'fold': 3,\n",
       "  'no-tune': True,\n",
       "  'score': '[CAI_2.0=0.41][ESTAVEL=0.50][SOBE_2.0=0.21]',\n",
       "  'model_name': '<< NOT SAVED >>',\n",
       "  'arguments': \"['-batch-training', '-calc-rsi', '-normalize', '-verbose', '-no-tune', '-n-jobs=20', '-start-train-date=2010-01-01', '-start-test-date=2023-06-01', '-symbol-list=SOL', '-interval-list=1h', '-estimator-list=knn', '-stop-loss-list=1.0,1.5,2.0,2.5,3.0,3.5', '-regression-PnL-list=6,12,24', '-regression-times-list=0', '-numeric-features=open,high,low,close,volume,quote_asset_volume,taker_buy_base_asset_volume,taker_buy_quote_asset_volume,number_of_trades']\"},\n",
       " {'data': '2023-09-19 23:54:52',\n",
       "  'symbol': 'DOGE',\n",
       "  'interval': '1h',\n",
       "  'estimator': 'knn',\n",
       "  'stop_loss': 1.5,\n",
       "  'regression_times': 0,\n",
       "  'times_regression_profit_and_loss': 6,\n",
       "  'profit_and_loss_value': 60.1,\n",
       "  'start_value': 100.0,\n",
       "  'final_value': 160.1,\n",
       "  'numeric_features': 'close,high,low,volume,quote_asset_volume,taker_buy_quote_asset_volume,number_of_trades',\n",
       "  'regression_features': nan,\n",
       "  'train_size': 0.7,\n",
       "  'use-all-data-to-train': False,\n",
       "  'start_train_date': '2010-01-01',\n",
       "  'start_test_date': '2023-06-01 01:00:00',\n",
       "  'fold': 3,\n",
       "  'no-tune': True,\n",
       "  'score': '[CAI_1.5=0.19][ESTAVEL=0.83][SOBE_1.5=0.06]',\n",
       "  'model_name': '<< NOT SAVED >>',\n",
       "  'arguments': \"['-batch-training', '-calc-rsi', '-normalize', '-verbose', '-no-tune', '-n-jobs=20', '-start-train-date=2010-01-01', '-start-test-date=2023-06-01', '-symbol-list=ADA,DOGE,SOL,TRX,DOT,MATIC,LTC,BTC,ETH,BNB,XRP', '-interval-list=1h', '-estimator-list=knn', '-stop-loss-list=1.0,1.5,2.0,2.5,3.0,3.5', '-regression-PnL-list=6,12,24', '-regression-times-list=0', '-numeric-features=open,high,low,close,volume,quote_asset_volume,taker_buy_base_asset_volume,taker_buy_quote_asset_volume,number_of_trades']\"}]"
      ]
     },
     "execution_count": 39,
     "metadata": {},
     "output_type": "execute_result"
    }
   ],
   "source": [
    "file_list = glob.glob(os.path.join(f'{myenv.datadir}/', 'resultado_simulacao_*.csv'))\n",
    "top_params = []\n",
    "columns = None\n",
    "df_top_params = pd.DataFrame()\n",
    "for file_path in file_list:\n",
    "    if os.path.isfile(file_path):\n",
    "        df = pd.read_csv(file_path, sep=';')\n",
    "        df_top_params = pd.concat([df_top_params, df.tail(1)], ignore_index=True)\n",
    "\n",
    "\n",
    "df_top_params.to_csv(f'{myenv.datadir}/top_params.csv', sep=';', index=False)\n",
    "return df_top_params.to_dict(orient='records')"
   ]
  },
  {
   "cell_type": "code",
   "execution_count": 17,
   "metadata": {},
   "outputs": [
    {
     "data": {
      "text/html": [
       "<div>\n",
       "<style scoped>\n",
       "    .dataframe tbody tr th:only-of-type {\n",
       "        vertical-align: middle;\n",
       "    }\n",
       "\n",
       "    .dataframe tbody tr th {\n",
       "        vertical-align: top;\n",
       "    }\n",
       "\n",
       "    .dataframe thead th {\n",
       "        text-align: right;\n",
       "    }\n",
       "</style>\n",
       "<table border=\"1\" class=\"dataframe\">\n",
       "  <thead>\n",
       "    <tr style=\"text-align: right;\">\n",
       "      <th></th>\n",
       "      <th>a</th>\n",
       "      <th>b</th>\n",
       "      <th>c</th>\n",
       "      <th>d</th>\n",
       "    </tr>\n",
       "  </thead>\n",
       "  <tbody>\n",
       "    <tr>\n",
       "      <th>0</th>\n",
       "      <td>1</td>\n",
       "      <td>3</td>\n",
       "      <td>23</td>\n",
       "      <td>878</td>\n",
       "    </tr>\n",
       "    <tr>\n",
       "      <th>1</th>\n",
       "      <td>674</td>\n",
       "      <td>2</td>\n",
       "      <td>35</td>\n",
       "      <td>432</td>\n",
       "    </tr>\n",
       "    <tr>\n",
       "      <th>2</th>\n",
       "      <td>3</td>\n",
       "      <td>4</td>\n",
       "      <td>7</td>\n",
       "      <td>66</td>\n",
       "    </tr>\n",
       "    <tr>\n",
       "      <th>3</th>\n",
       "      <td>674</td>\n",
       "      <td>1</td>\n",
       "      <td>78</td>\n",
       "      <td>88</td>\n",
       "    </tr>\n",
       "  </tbody>\n",
       "</table>\n",
       "</div>"
      ],
      "text/plain": [
       "     a  b   c    d\n",
       "0    1  3  23  878\n",
       "1  674  2  35  432\n",
       "2    3  4   7   66\n",
       "3  674  1  78   88"
      ]
     },
     "execution_count": 17,
     "metadata": {},
     "output_type": "execute_result"
    }
   ],
   "source": [
    "import pandas as pd\n",
    "df = pd.DataFrame({'a': [1,674,3,674], 'b': [3,2,4,1], 'c': [23,35,7,78], 'd': [878,432,66,88]})\n",
    "df"
   ]
  },
  {
   "cell_type": "code",
   "execution_count": 18,
   "metadata": {},
   "outputs": [
    {
     "data": {
      "text/html": [
       "<div>\n",
       "<style scoped>\n",
       "    .dataframe tbody tr th:only-of-type {\n",
       "        vertical-align: middle;\n",
       "    }\n",
       "\n",
       "    .dataframe tbody tr th {\n",
       "        vertical-align: top;\n",
       "    }\n",
       "\n",
       "    .dataframe thead th {\n",
       "        text-align: right;\n",
       "    }\n",
       "</style>\n",
       "<table border=\"1\" class=\"dataframe\">\n",
       "  <thead>\n",
       "    <tr style=\"text-align: right;\">\n",
       "      <th></th>\n",
       "      <th>a</th>\n",
       "      <th>b</th>\n",
       "      <th>c</th>\n",
       "      <th>d</th>\n",
       "    </tr>\n",
       "  </thead>\n",
       "  <tbody>\n",
       "    <tr>\n",
       "      <th>3</th>\n",
       "      <td>674</td>\n",
       "      <td>1</td>\n",
       "      <td>78</td>\n",
       "      <td>88</td>\n",
       "    </tr>\n",
       "    <tr>\n",
       "      <th>1</th>\n",
       "      <td>674</td>\n",
       "      <td>2</td>\n",
       "      <td>35</td>\n",
       "      <td>432</td>\n",
       "    </tr>\n",
       "    <tr>\n",
       "      <th>2</th>\n",
       "      <td>3</td>\n",
       "      <td>4</td>\n",
       "      <td>7</td>\n",
       "      <td>66</td>\n",
       "    </tr>\n",
       "    <tr>\n",
       "      <th>0</th>\n",
       "      <td>1</td>\n",
       "      <td>3</td>\n",
       "      <td>23</td>\n",
       "      <td>878</td>\n",
       "    </tr>\n",
       "  </tbody>\n",
       "</table>\n",
       "</div>"
      ],
      "text/plain": [
       "     a  b   c    d\n",
       "3  674  1  78   88\n",
       "1  674  2  35  432\n",
       "2    3  4   7   66\n",
       "0    1  3  23  878"
      ]
     },
     "execution_count": 18,
     "metadata": {},
     "output_type": "execute_result"
    }
   ],
   "source": [
    "df.sort_values(['a', 'b'],  ascending=[False, True])"
   ]
  },
  {
   "cell_type": "code",
   "execution_count": 19,
   "metadata": {},
   "outputs": [
    {
     "data": {
      "text/html": [
       "<div>\n",
       "<style scoped>\n",
       "    .dataframe tbody tr th:only-of-type {\n",
       "        vertical-align: middle;\n",
       "    }\n",
       "\n",
       "    .dataframe tbody tr th {\n",
       "        vertical-align: top;\n",
       "    }\n",
       "\n",
       "    .dataframe thead th {\n",
       "        text-align: right;\n",
       "    }\n",
       "</style>\n",
       "<table border=\"1\" class=\"dataframe\">\n",
       "  <thead>\n",
       "    <tr style=\"text-align: right;\">\n",
       "      <th></th>\n",
       "      <th>dd</th>\n",
       "      <th>a</th>\n",
       "      <th>b</th>\n",
       "      <th>c</th>\n",
       "      <th>d</th>\n",
       "    </tr>\n",
       "  </thead>\n",
       "  <tbody>\n",
       "    <tr>\n",
       "      <th>0</th>\n",
       "      <td>212</td>\n",
       "      <td>1</td>\n",
       "      <td>3</td>\n",
       "      <td>23</td>\n",
       "      <td>878</td>\n",
       "    </tr>\n",
       "    <tr>\n",
       "      <th>1</th>\n",
       "      <td>4</td>\n",
       "      <td>674</td>\n",
       "      <td>2</td>\n",
       "      <td>35</td>\n",
       "      <td>432</td>\n",
       "    </tr>\n",
       "    <tr>\n",
       "      <th>2</th>\n",
       "      <td>52</td>\n",
       "      <td>3</td>\n",
       "      <td>4</td>\n",
       "      <td>7</td>\n",
       "      <td>66</td>\n",
       "    </tr>\n",
       "    <tr>\n",
       "      <th>3</th>\n",
       "      <td>2</td>\n",
       "      <td>674</td>\n",
       "      <td>1</td>\n",
       "      <td>78</td>\n",
       "      <td>88</td>\n",
       "    </tr>\n",
       "  </tbody>\n",
       "</table>\n",
       "</div>"
      ],
      "text/plain": [
       "    dd    a  b   c    d\n",
       "0  212    1  3  23  878\n",
       "1    4  674  2  35  432\n",
       "2   52    3  4   7   66\n",
       "3    2  674  1  78   88"
      ]
     },
     "execution_count": 19,
     "metadata": {},
     "output_type": "execute_result"
    }
   ],
   "source": [
    "df.insert(0, 'dd', [212,4,52,2])\n",
    "df"
   ]
  },
  {
   "cell_type": "code",
   "execution_count": 43,
   "metadata": {},
   "outputs": [
    {
     "data": {
      "text/html": [
       "<div>\n",
       "<style scoped>\n",
       "    .dataframe tbody tr th:only-of-type {\n",
       "        vertical-align: middle;\n",
       "    }\n",
       "\n",
       "    .dataframe tbody tr th {\n",
       "        vertical-align: top;\n",
       "    }\n",
       "\n",
       "    .dataframe thead th {\n",
       "        text-align: right;\n",
       "    }\n",
       "</style>\n",
       "<table border=\"1\" class=\"dataframe\">\n",
       "  <thead>\n",
       "    <tr style=\"text-align: right;\">\n",
       "      <th></th>\n",
       "      <th>dd</th>\n",
       "      <th>a</th>\n",
       "      <th>b</th>\n",
       "      <th>c</th>\n",
       "      <th>d</th>\n",
       "      <th>tt</th>\n",
       "      <th>c_tt</th>\n",
       "    </tr>\n",
       "  </thead>\n",
       "  <tbody>\n",
       "    <tr>\n",
       "      <th>0</th>\n",
       "      <td>212</td>\n",
       "      <td>1</td>\n",
       "      <td>3</td>\n",
       "      <td>23</td>\n",
       "      <td>878</td>\n",
       "      <td>as,f,as,fd,asd,f,asd,f,asd,f,as,df,</td>\n",
       "      <td>13</td>\n",
       "    </tr>\n",
       "    <tr>\n",
       "      <th>1</th>\n",
       "      <td>4</td>\n",
       "      <td>674</td>\n",
       "      <td>2</td>\n",
       "      <td>35</td>\n",
       "      <td>432</td>\n",
       "      <td>adf,fasd,gasdf,asdf</td>\n",
       "      <td>4</td>\n",
       "    </tr>\n",
       "    <tr>\n",
       "      <th>2</th>\n",
       "      <td>52</td>\n",
       "      <td>3</td>\n",
       "      <td>4</td>\n",
       "      <td>7</td>\n",
       "      <td>66</td>\n",
       "      <td>adf,fasd,gasdf,asdf</td>\n",
       "      <td>4</td>\n",
       "    </tr>\n",
       "    <tr>\n",
       "      <th>3</th>\n",
       "      <td>2</td>\n",
       "      <td>674</td>\n",
       "      <td>1</td>\n",
       "      <td>78</td>\n",
       "      <td>88</td>\n",
       "      <td>adf,fasd,gasdf,asdf</td>\n",
       "      <td>4</td>\n",
       "    </tr>\n",
       "  </tbody>\n",
       "</table>\n",
       "</div>"
      ],
      "text/plain": [
       "    dd    a  b   c    d                                   tt  c_tt\n",
       "0  212    1  3  23  878  as,f,as,fd,asd,f,asd,f,asd,f,as,df,    13\n",
       "1    4  674  2  35  432                  adf,fasd,gasdf,asdf     4\n",
       "2   52    3  4   7   66                  adf,fasd,gasdf,asdf     4\n",
       "3    2  674  1  78   88                  adf,fasd,gasdf,asdf     4"
      ]
     },
     "execution_count": 43,
     "metadata": {},
     "output_type": "execute_result"
    }
   ],
   "source": [
    "df['tt'] = 'adf,fasd,gasdf,asdf'\n",
    "df.loc[0, 'tt'] = 'as,f,as,fd,asd,f,asd,f,asd,f,as,df,'\n",
    "df['c_tt'] = df['tt'].apply(lambda x: len(x.split(',')))\n",
    "df"
   ]
  }
 ],
 "metadata": {
  "kernelspec": {
   "display_name": "env",
   "language": "python",
   "name": "python3"
  },
  "language_info": {
   "codemirror_mode": {
    "name": "ipython",
    "version": 3
   },
   "file_extension": ".py",
   "mimetype": "text/x-python",
   "name": "python",
   "nbconvert_exporter": "python",
   "pygments_lexer": "ipython3",
   "version": "3.10.13"
  },
  "orig_nbformat": 4
 },
 "nbformat": 4,
 "nbformat_minor": 2
}
