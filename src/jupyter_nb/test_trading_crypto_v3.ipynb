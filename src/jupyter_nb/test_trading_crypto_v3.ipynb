{
 "cells": [
  {
   "cell_type": "code",
   "execution_count": null,
   "metadata": {},
   "outputs": [],
   "source": [
    "import sys\n",
    "sys.path.insert(0, sys.path[0].removesuffix('/src/crypto'))\n",
    "\n",
    "from pycaret.classification import ClassificationExperiment\n",
    "from src.utils import *\n",
    "from src.calcEMA import calc_RSI\n",
    "import plotly.express as px\n",
    "from sklearn.model_selection import train_test_split\n",
    "import pandas as pd"
   ]
  },
  {
   "cell_type": "code",
   "execution_count": null,
   "metadata": {},
   "outputs": [],
   "source": [
    "# Variables\n",
    "currency = 'USDT'\n",
    "crypto = 'BTC'\n",
    "\n",
    "stop_loss = 2.0\n",
    "regression_times = 24*30 # horas\n",
    "\n",
    "datadir = './data/' + crypto + currency\n",
    "label = 'status'\n",
    "\n",
    "#numeric_features=['open', 'high', 'low', 'volume', 'close', 'rsi']\n",
    "numeric_features=['close',]\n",
    "_calc_rsi = True"
   ]
  },
  {
   "cell_type": "markdown",
   "metadata": {},
   "source": [
    "### Metadata\n",
    "\n",
    "<code>\n",
    "Field Name - Description</br>\n",
    "open_time - Kline Open time in unix time format</br>\n",
    "open - Open Price</br>\n",
    "high - High Price</br>\n",
    "low\t- Low Price</br>\n",
    "close\t- Close Price</br>\n",
    "volume - Volume</br>\n",
    "close_time - Kline Close time in unix time format</br>\n",
    "quote_volume - Quote Asset Volume</br>\n",
    "count\t- Number of Trades</br>\n",
    "taker_buy_volume - Taker buy base asset volume during this period</br>\n",
    "taker_buy_quote_volume - Taker buy quote asset volume during this period</br>\n",
    "ignore - Ignore</br>\n",
    "</code>"
   ]
  },
  {
   "cell_type": "code",
   "execution_count": null,
   "metadata": {},
   "outputs": [],
   "source": [
    "use_cols = date_features + numeric_features\n",
    "print(use_cols)\n",
    "all_data = read_data(datadir, all_cols=None, use_cols=use_cols)\n",
    "print(all_data.info())"
   ]
  },
  {
   "cell_type": "code",
   "execution_count": null,
   "metadata": {},
   "outputs": [],
   "source": [
    "if _calc_rsi:\n",
    "  all_data = calc_RSI(all_data)\n",
    "  numeric_features.append('rsi')\n",
    "  all_data.dropna(inplace=True)\n",
    "print(all_data.info())"
   ]
  },
  {
   "cell_type": "code",
   "execution_count": null,
   "metadata": {},
   "outputs": [],
   "source": [
    "all_cols = date_features + numeric_features\n",
    "print('All Columns: ', all_cols)\n",
    "all_data[all_cols]\n",
    "#all_data = all_data[[all_cols]].copy()"
   ]
  },
  {
   "cell_type": "code",
   "execution_count": null,
   "metadata": {},
   "outputs": [],
   "source": [
    "ca = ClassificationExperiment()\n",
    "best = ca.load_model('xgboost_SL_2.0_RT_720_RPL_24_1')"
   ]
  },
  {
   "cell_type": "code",
   "execution_count": null,
   "metadata": {},
   "outputs": [],
   "source": [
    "def regress_until_diff(data: pd.DataFrame, diff_percent: float, max_regression_times=6):\n",
    "    data['close_shift_x'] = 0.0\n",
    "    data['diff_shift_x'] = 0.0\n",
    "    data['shift_x'] = 0\n",
    "    data[label] = 'ESTAVEL'\n",
    "    for row_nu in range(1, data.shape[0]):\n",
    "        diff = 0\n",
    "        i = 1\n",
    "        while (abs(diff) <= diff_percent):\n",
    "            if (i > max_regression_times) or ((row_nu + i) >= data.shape[0]):\n",
    "                break\n",
    "\n",
    "            close = data.iloc[row_nu:row_nu + 1]['close'].values[0]\n",
    "            close_px = data.iloc[row_nu + i:row_nu + i + 1]['close'].values[0]\n",
    "            diff = -100 * (close - close_px) / close\n",
    "            # print(f'ROW_NU: {row_nu} - regresssion_times: {i} - diff: {diff}')\n",
    "            i += 1\n",
    "        data['close_shift_x'].iloc[row_nu:row_nu + 1] = close_px\n",
    "        data['diff_shift_x'].iloc[row_nu:row_nu + 1] = diff\n",
    "        data['shift_x'].iloc[row_nu:row_nu + 1] = i - 1 if i == max_regression_times + 1 else i\n",
    "        if diff >= diff_percent:\n",
    "            data[label].iloc[row_nu:row_nu + 1] = 'SOBE_' + str(diff_percent)\n",
    "        elif diff <= -diff_percent:\n",
    "            data[label].iloc[row_nu:row_nu + 1] = 'CAI_' + str(diff_percent)\n",
    "\n",
    "    return data.drop(columns=['close_shift_x', 'diff_shift_x', 'shift_x'])\n",
    "\n",
    "\n",
    "all_cols = date_features + numeric_features\n",
    "print('All Columns: ', all_cols)\n",
    "_data = all_data[all_cols].copy()\n",
    "\n",
    "#_data = regress_until_diff(_data, stop_loss, 6)\n",
    "\n",
    "for nf in numeric_features.copy():\n",
    "    for i in range(1, regression_times + 1):\n",
    "        col = nf + \"_\" + str(i)\n",
    "        _data[col] = _data[nf].shift(i)\n",
    "        numeric_features.append(col)\n",
    "\n",
    "_data.dropna(inplace=True)\n",
    "_data = _data.round(2)"
   ]
  },
  {
   "cell_type": "code",
   "execution_count": null,
   "metadata": {},
   "outputs": [],
   "source": [
    "_data.dropna().tail(10)"
   ]
  },
  {
   "cell_type": "code",
   "execution_count": null,
   "metadata": {},
   "outputs": [],
   "source": [
    "test_data = _data.tail(24*30*4).copy()\n",
    "\n",
    "predict = ca.predict_model(best, data=test_data)\n",
    "#predict[label] = test_data[label]\n",
    "#predict['_score'] = predict['prediction_label'] == predict[label]\n",
    "#print('Score Mean:', predict['_score'].mean())\n",
    "predict = predict.sort_values(date_features)"
   ]
  },
  {
   "cell_type": "code",
   "execution_count": null,
   "metadata": {},
   "outputs": [],
   "source": [
    "#predict[[label, '_score']].groupby(label).mean()"
   ]
  },
  {
   "cell_type": "code",
   "execution_count": null,
   "metadata": {},
   "outputs": [],
   "source": [
    "#predict[[label, '_score']].groupby(label).count()"
   ]
  },
  {
   "cell_type": "code",
   "execution_count": null,
   "metadata": {},
   "outputs": [],
   "source": [
    "def test_trading_crypto_v3(data: pd.DataFrame, start_date, end_date, value: float, stop_loss = 3.0):\n",
    "  _data = data.copy()\n",
    "  _data.index = _data['open_time']\n",
    "  _data = _data[(_data.index >= start_date) & (_data.index <= end_date)]\n",
    "  saldo = value\n",
    "  operacao = ''\n",
    "  comprado = False\n",
    "  valor_compra = 0 \n",
    "  valor_venda = 0\n",
    "  diff = 0.0\n",
    "  \n",
    "  operacao_compra = ''\n",
    "  for row_nu in range(1, _data.shape[0]):\n",
    "    open_time = pd.to_datetime(_data.iloc[row_nu:row_nu+1]['open_time'].values[0]).strftime(\"%Y-%m-%d %Hh\")\n",
    "    type(open_time)\n",
    "    operacao = _data.iloc[row_nu:row_nu+1]['prediction_label'].values[0]\n",
    "    #print(operacao)\n",
    "    if (operacao.startswith('SOBE') or operacao.startswith('CAI')) and not comprado:\n",
    "      operacao_compra = operacao\n",
    "      valor_compra = round(_data.iloc[row_nu:row_nu+1]['close'].values[0], 2)\n",
    "      print(f'[{row_nu}][{operacao_compra}][{open_time}] => Compra: {valor_compra}')\n",
    "      comprado = True\n",
    "\n",
    "    if comprado:\n",
    "      diff = 100 * (_data.iloc[row_nu:row_nu+1]['close'].values[0] - valor_compra) / valor_compra\n",
    "      print(f'[{row_nu}][{operacao_compra}][{open_time}] Diff ==> {round(diff,2)}% - Comprado: {comprado}')\n",
    "    \n",
    "    if (abs(diff) >= stop_loss) and comprado:\n",
    "      valor_venda = round(_data.iloc[row_nu:row_nu+1]['close'].values[0],2)\n",
    "      if operacao_compra.startswith('SOBE'):\n",
    "        saldo += round(saldo * (diff/100), 2)\n",
    "      else:\n",
    "        saldo += round(saldo * (-diff/100), 2)\n",
    "      print(f'[{row_nu}][{operacao_compra}][{open_time}] => Venda: {valor_venda} => Diff: {round(diff,2)}% ==> Saldo: {saldo}')\n",
    "      comprado = False\n",
    "\n",
    "  print(f'Saldo: {saldo}')\n",
    "  return saldo\n",
    "\n",
    "print('Min Data: ', predict['open_time'].min())\n",
    "print('Max Data: ', predict['open_time'].max())\n",
    "test_trading_crypto_v3(predict, '2023-01-01', predict['open_time'].max(), 100.0, stop_loss)"
   ]
  }
 ],
 "metadata": {
  "kernelspec": {
   "display_name": "conda_env3.10",
   "language": "python",
   "name": "python3"
  },
  "language_info": {
   "codemirror_mode": {
    "name": "ipython",
    "version": 3
   },
   "file_extension": ".py",
   "mimetype": "text/x-python",
   "name": "python",
   "nbconvert_exporter": "python",
   "pygments_lexer": "ipython3",
   "version": "3.10.12"
  },
  "orig_nbformat": 4
 },
 "nbformat": 4,
 "nbformat_minor": 2
}
