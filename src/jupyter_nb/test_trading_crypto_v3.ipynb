{
  "cells": [
    {
      "cell_type": "code",
      "execution_count": null,
      "metadata": {},
      "outputs": [],
      "source": [
        "import sys\n",
        "sys.path.insert(0, sys.path[0].removesuffix('/src/jupyter_nb'))\n",
        "print(sys.path)\n",
        "from src.utils import *\n",
        "from src.calcEMA import *\n",
        "from src.robo import *\n",
        "from src.myenv import *\n",
        "import plotly.express as px"
      ]
    },
    {
      "cell_type": "code",
      "execution_count": null,
      "metadata": {},
      "outputs": [],
      "source": [
        "# Variables\n",
        "# ETCUSDT BTCUSDT\n",
        "# symbol = 'ETHUSDT'\n",
        "symbol = 'BTCUSDT'\n",
        "# lightgbm  xgboost\n",
        "estimator = 'lr'\n",
        "_compare_models = False\n",
        "\n",
        "start_train_date = '2023-06-01'  # train < and test >=\n",
        "start_test_date = '2023-08-08'  # train < and test >=\n",
        "\n",
        "stop_loss = 2.0\n",
        "label = 'status'\n",
        "regression_times = 24 * 30 * 2  # horas\n",
        "times_regression_profit_and_loss = 24\n",
        "# numeric_features=['open', 'high', 'low', 'volume', 'close', 'rsi']\n",
        "numeric_features = ['open', 'high', 'low', 'volume', 'close' ]\n",
        "calc_rsi = True\n"
      ]
    },
    {
      "cell_type": "markdown",
      "metadata": {},
      "source": [
        "### Metadata\n",
        "\n",
        "<code>\n",
        "Field Name - Description</br>\n",
        "open_time - Kline Open time in unix time format</br>\n",
        "open - Open Price</br>\n",
        "high - High Price</br>\n",
        "low\t- Low Price</br>\n",
        "close\t- Close Price</br>\n",
        "volume - Volume</br>\n",
        "close_time - Kline Close time in unix time format</br>\n",
        "quote_volume - Quote Asset Volume</br>\n",
        "count\t- Number of Trades</br>\n",
        "taker_buy_volume - Taker buy base asset volume during this period</br>\n",
        "taker_buy_quote_volume - Taker buy quote asset volume during this period</br>\n",
        "ignore - Ignore</br>\n",
        "</code>"
      ]
    },
    {
      "cell_type": "code",
      "execution_count": null,
      "metadata": {},
      "outputs": [],
      "source": [
        "use_cols = date_features + numeric_features\n",
        "print('start_train_engine: use cols: ', use_cols)\n",
        "print(f'start_train_engine: reading data - start date: {start_train_date}...')\n",
        "all_data = get_data(symbol, save_database=False, interval='1h', tail=-1, columns=use_cols)\n",
        "print('start_train_engine: get_data  all_data duplicated: ', all_data.index.duplicated().sum())\n",
        "\n",
        "all_data = all_data[(all_data['open_time'] >= start_train_date)]  # .copy()\n",
        "print('start_train_engine: info after reading data: ')\n",
        "all_data.info()\n",
        "print('start_train_engine: filter start_train_date all_data duplicated: ', all_data.index.duplicated().sum())\n",
        "\n",
        "if calc_rsi:\n",
        "    print('start_train_engine: calculating RSI...')\n",
        "    all_data = calc_RSI(all_data)\n",
        "    numeric_features.append('rsi')\n",
        "    all_data.dropna(inplace=True)\n",
        "print('start_train_engine: info after calculating RSI: ')\n",
        "all_data.info()\n",
        "print('start_train_engine: all_data duplicated: ', all_data.index.duplicated().sum())\n",
        "\n",
        "print('start_train_engine: calculating regresstion_times...')\n",
        "all_data, features_added = regresstion_times(all_data, numeric_features, regression_times, last_one=False)\n",
        "print('start_train_engine: info after calculating regresstion_times: ')\n",
        "all_data.info()\n",
        "print('start_train_engine: all_data duplicated: ', all_data.index.duplicated().sum())"
      ]
    },
    {
      "cell_type": "code",
      "execution_count": null,
      "metadata": {},
      "outputs": [],
      "source": [
        "print(f'start_train_engine: Filtering test_data: start_test_date: {start_test_date}')\n",
        "test_data = all_data[all_data['open_time'] >= start_test_date]\n",
        "print('start_train_engine: info after filtering test_data: ')\n",
        "test_data.info()\n",
        "print('start_train_engine: test_data duplicated: ', test_data.index.duplicated().sum())"
      ]
    },
    {
      "cell_type": "code",
      "execution_count": null,
      "metadata": {},
      "outputs": [],
      "source": [
        "experiment, model = load_model(symbol, estimator)  # cassification_experiment"
      ]
    },
    {
      "cell_type": "code",
      "execution_count": null,
      "metadata": {},
      "outputs": [],
      "source": [
        "predict = experiment.predict_model(model, data=test_data)\n",
        "predict = predict.sort_values(date_features)"
      ]
    },
    {
      "cell_type": "code",
      "execution_count": null,
      "metadata": {},
      "outputs": [],
      "source": [
        "def test_trading_crypto_v3(data: pd.DataFrame, start_date, end_date, value: float, stop_loss = 3.0):\n",
        "  _data = data.copy()\n",
        "  _data.index = _data['open_time']\n",
        "  _data = _data[(_data.index >= start_date) & (_data.index <= end_date)]\n",
        "  saldo = value\n",
        "  operacao = ''\n",
        "  comprado = False\n",
        "  valor_compra = 0 \n",
        "  valor_venda = 0\n",
        "  diff = 0.0\n",
        "  \n",
        "  operacao_compra = ''\n",
        "  for row_nu in range(1, _data.shape[0]):\n",
        "    open_time = pd.to_datetime(_data.iloc[row_nu:row_nu+1]['open_time'].values[0]).strftime(\"%Y-%m-%d %Hh\")\n",
        "    type(open_time)\n",
        "    operacao = _data.iloc[row_nu:row_nu+1]['prediction_label'].values[0]\n",
        "    #print(operacao)\n",
        "    if (operacao.startswith('LONG') or operacao.startswith('SHORT')) and not comprado:\n",
        "      operacao_compra = operacao\n",
        "      valor_compra = round(_data.iloc[row_nu:row_nu+1]['close'].values[0], 2)\n",
        "      print(f'[{row_nu}][{operacao_compra}][{open_time}] => Compra: {valor_compra}')\n",
        "      comprado = True\n",
        "\n",
        "    if comprado:\n",
        "      diff = 100 * (_data.iloc[row_nu:row_nu+1]['close'].values[0] - valor_compra) / valor_compra\n",
        "      #print(f'[{row_nu}][{operacao_compra}][{open_time}] Diff ==> {round(diff,2)}% - Comprado: {comprado}')\n",
        "    \n",
        "    if (abs(diff) >= stop_loss) and comprado:\n",
        "      valor_venda = round(_data.iloc[row_nu:row_nu+1]['close'].values[0],2)\n",
        "      if operacao_compra.startswith('LONG'):\n",
        "        saldo += round(saldo * (diff/100), 2)\n",
        "      else:\n",
        "        saldo += round(saldo * (-diff/100), 2)\n",
        "      print(f'[{row_nu}][{operacao_compra}][{open_time}] => Venda: {valor_venda} => Diff: {round(diff,2)}% ==> Saldo: {saldo}')\n",
        "      comprado = False\n",
        "\n",
        "  print(f'Saldo: {saldo}')\n",
        "  return saldo\n",
        "\n",
        "print('Min Data: ', predict['open_time'].min())\n",
        "print('Max Data: ', predict['open_time'].max())\n",
        "test_trading_crypto_v3(predict, '2023-01-01', predict['open_time'].max(), 100.0, stop_loss)"
      ]
    }
  ],
  "metadata": {
    "kernelspec": {
      "display_name": "conda_env3.10",
      "language": "python",
      "name": "python3"
    },
    "language_info": {
      "codemirror_mode": {
        "name": "ipython",
        "version": 3
      },
      "file_extension": ".py",
      "mimetype": "text/x-python",
      "name": "python",
      "nbconvert_exporter": "python",
      "pygments_lexer": "ipython3",
      "version": "3.10.12"
    },
    "orig_nbformat": 4
  },
  "nbformat": 4,
  "nbformat_minor": 2
}