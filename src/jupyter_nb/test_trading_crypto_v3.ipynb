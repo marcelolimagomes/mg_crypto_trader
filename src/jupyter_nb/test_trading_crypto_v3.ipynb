{
 "cells": [
  {
   "cell_type": "code",
   "execution_count": 1,
   "metadata": {},
   "outputs": [
    {
     "name": "stdout",
     "output_type": "stream",
     "text": [
      "['/home/marcelo/des/mg_crypto_trader', '/home/marcelo/des/mg_crypto_trader/src/jupyter_nb', '/usr/lib64/python310.zip', '/usr/lib64/python3.10', '/usr/lib64/python3.10/lib-dynload', '', '/home/marcelo/des/mg_crypto_trader/.env/lib64/python3.10/site-packages', '/home/marcelo/des/mg_crypto_trader/.env/lib/python3.10/site-packages', '/home/marcelo/des/mg_crypto_trader/.env/lib64/python3.10/site-packages/IPython/extensions', '/home/marcelo/.ipython']\n"
     ]
    }
   ],
   "source": [
    "import sys\n",
    "sys.path.insert(0, sys.path[0].removesuffix('/src/jupyter_nb'))\n",
    "print(sys.path)\n",
    "from src.utils import *\n",
    "from src.calcEMA import *\n",
    "from src.robo import *\n",
    "from src.myenv import *\n",
    "import plotly.express as px"
   ]
  },
  {
   "cell_type": "code",
   "execution_count": 2,
   "metadata": {},
   "outputs": [],
   "source": [
    "# Variables\n",
    "# ETCUSDT BTCUSDT\n",
    "# symbol = 'ETHUSDT'\n",
    "symbol = 'BTCUSDT'\n",
    "# lightgbm  xgboost\n",
    "estimator = 'lr'\n",
    "_compare_models = False\n",
    "\n",
    "start_train_date = '2023-06-01'  # train < and test >=\n",
    "start_test_date = '2023-08-08'  # train < and test >=\n",
    "\n",
    "stop_loss = 2.0\n",
    "label = 'status'\n",
    "regression_times = 24 * 30 * 2  # horas\n",
    "regression_profit_and_loss = 24\n",
    "# numeric_features=['open', 'high', 'low', 'volume', 'close', 'rsi']\n",
    "numeric_features = ['open', 'high', 'low', 'volume', 'close' ]\n",
    "calc_rsi = True\n"
   ]
  },
  {
   "cell_type": "markdown",
   "metadata": {},
   "source": [
    "### Metadata\n",
    "\n",
    "<code>\n",
    "Field Name - Description</br>\n",
    "open_time - Kline Open time in unix time format</br>\n",
    "open - Open Price</br>\n",
    "high - High Price</br>\n",
    "low\t- Low Price</br>\n",
    "close\t- Close Price</br>\n",
    "volume - Volume</br>\n",
    "close_time - Kline Close time in unix time format</br>\n",
    "quote_volume - Quote Asset Volume</br>\n",
    "count\t- Number of Trades</br>\n",
    "taker_buy_volume - Taker buy base asset volume during this period</br>\n",
    "taker_buy_quote_volume - Taker buy quote asset volume during this period</br>\n",
    "ignore - Ignore</br>\n",
    "</code>"
   ]
  },
  {
   "cell_type": "code",
   "execution_count": 3,
   "metadata": {},
   "outputs": [
    {
     "name": "stdout",
     "output_type": "stream",
     "text": [
      "start_train_engine: use cols:  ['open_time', 'open', 'high', 'low', 'volume', 'close']\n",
      "start_train_engine: reading data - start date: 2023-06-01...\n",
      "get_database: name:  /home/marcelo/des/mg_crypto_trader/src/data/BTCUSDT/BTCUSDT.csv\n",
      "get_database: count_rows: 52910 - symbol: BTCUSDT - tail: -1 - adjust_index: True\n",
      "get_database: duplicated: 0\n",
      "get_data: Downloading data for symbol: BTCUSDT\n",
      "get_data: Max date database:  2023-09-07 22:00:00\n",
      "start_train_engine: get_data  all_data duplicated:  0\n",
      "start_train_engine: info after reading data: \n",
      "<class 'pandas.core.frame.DataFrame'>\n",
      "DatetimeIndex: 2375 entries, 2023-06-01 00:00:00 to 2023-09-07 22:00:00\n",
      "Data columns (total 7 columns):\n",
      " #   Column     Non-Null Count  Dtype         \n",
      "---  ------     --------------  -----         \n",
      " 0   open_time  2375 non-null   datetime64[ns]\n",
      " 1   open       2375 non-null   float32       \n",
      " 2   high       2375 non-null   float32       \n",
      " 3   low        2375 non-null   float32       \n",
      " 4   volume     2375 non-null   float32       \n",
      " 5   close      2375 non-null   float32       \n",
      " 6   symbol     2375 non-null   category      \n",
      "dtypes: category(1), datetime64[ns](1), float32(5)\n",
      "memory usage: 85.9 KB\n",
      "start_train_engine: filter start_train_date all_data duplicated:  0\n",
      "start_train_engine: calculating RSI...\n",
      "start_train_engine: info after calculating RSI: \n",
      "<class 'pandas.core.frame.DataFrame'>\n",
      "DatetimeIndex: 2361 entries, 2023-06-01 14:00:00 to 2023-09-07 22:00:00\n",
      "Data columns (total 8 columns):\n",
      " #   Column     Non-Null Count  Dtype         \n",
      "---  ------     --------------  -----         \n",
      " 0   open_time  2361 non-null   datetime64[ns]\n",
      " 1   open       2361 non-null   float32       \n",
      " 2   high       2361 non-null   float32       \n",
      " 3   low        2361 non-null   float32       \n",
      " 4   volume     2361 non-null   float32       \n",
      " 5   close      2361 non-null   float32       \n",
      " 6   symbol     2361 non-null   category      \n",
      " 7   rsi        2361 non-null   float32       \n",
      "dtypes: category(1), datetime64[ns](1), float32(6)\n",
      "memory usage: 94.6 KB\n",
      "start_train_engine: all_data duplicated:  0\n",
      "start_train_engine: calculating regresstion_times...\n",
      "start_train_engine: info after calculating regresstion_times: \n",
      "<class 'pandas.core.frame.DataFrame'>\n",
      "DatetimeIndex: 921 entries, 2023-07-31 14:00:00 to 2023-09-07 22:00:00\n",
      "Columns: 8648 entries, open_time to rsi_1440\n",
      "dtypes: category(1), datetime64[ns](1), float32(8646)\n",
      "memory usage: 30.4 MB\n",
      "start_train_engine: all_data duplicated:  0\n"
     ]
    }
   ],
   "source": [
    "use_cols = date_features + numeric_features\n",
    "print('start_train_engine: use cols: ', use_cols)\n",
    "print(f'start_train_engine: reading data - start date: {start_train_date}...')\n",
    "all_data = get_data(symbol, save_database=False, interval='1h', tail=-1, adjust_index=True, columns=use_cols)\n",
    "print('start_train_engine: get_data  all_data duplicated: ', all_data.index.duplicated().sum())\n",
    "\n",
    "all_data = all_data[(all_data['open_time'] >= start_train_date)]  # .copy()\n",
    "print('start_train_engine: info after reading data: ')\n",
    "all_data.info()\n",
    "print('start_train_engine: filter start_train_date all_data duplicated: ', all_data.index.duplicated().sum())\n",
    "\n",
    "if calc_rsi:\n",
    "    print('start_train_engine: calculating RSI...')\n",
    "    all_data = calc_RSI(all_data)\n",
    "    numeric_features.append('rsi')\n",
    "    all_data.dropna(inplace=True)\n",
    "print('start_train_engine: info after calculating RSI: ')\n",
    "all_data.info()\n",
    "print('start_train_engine: all_data duplicated: ', all_data.index.duplicated().sum())\n",
    "\n",
    "print('start_train_engine: calculating regresstion_times...')\n",
    "all_data, features_added = regresstion_times(all_data, numeric_features, regression_times, last_one=False)\n",
    "print('start_train_engine: info after calculating regresstion_times: ')\n",
    "all_data.info()\n",
    "print('start_train_engine: all_data duplicated: ', all_data.index.duplicated().sum())"
   ]
  },
  {
   "cell_type": "code",
   "execution_count": 4,
   "metadata": {},
   "outputs": [
    {
     "name": "stdout",
     "output_type": "stream",
     "text": [
      "start_train_engine: Filtering test_data: start_test_date: 2023-08-08\n",
      "start_train_engine: info after filtering test_data: \n",
      "<class 'pandas.core.frame.DataFrame'>\n",
      "DatetimeIndex: 743 entries, 2023-08-08 00:00:00 to 2023-09-07 22:00:00\n",
      "Columns: 8648 entries, open_time to rsi_1440\n",
      "dtypes: category(1), datetime64[ns](1), float32(8646)\n",
      "memory usage: 24.5 MB\n",
      "start_train_engine: test_data duplicated:  0\n"
     ]
    }
   ],
   "source": [
    "print(f'start_train_engine: Filtering test_data: start_test_date: {start_test_date}')\n",
    "test_data = all_data[all_data['open_time'] >= start_test_date]\n",
    "print('start_train_engine: info after filtering test_data: ')\n",
    "test_data.info()\n",
    "print('start_train_engine: test_data duplicated: ', test_data.index.duplicated().sum())"
   ]
  },
  {
   "cell_type": "code",
   "execution_count": 5,
   "metadata": {},
   "outputs": [
    {
     "name": "stdout",
     "output_type": "stream",
     "text": [
      "load_model: Loading model: BTCUSDT_lr_SL_2.0_RT_1440_RPL_24_2\n",
      "load_model: Model obj: Pipeline(memory=FastMemory(location=/tmp/joblib),\n",
      "         steps=[('label_encoding',\n",
      "                 TransformerWrapperWithInverse(transformer=LabelEncoder())),\n",
      "                ('date_feature_extractor',\n",
      "                 TransformerWrapper(include=['open_time'],\n",
      "                                    transformer=ExtractDateTimeFeatures(features=['hour',\n",
      "                                                                                  'day',\n",
      "                                                                                  'month']))),\n",
      "                ('numerical_imputer',\n",
      "                 TransformerWrapper(include=['open', 'high', 'low', 'volume',\n",
      "                                             '...\n",
      "                 TransformerWrapper(include=['symbol'],\n",
      "                                    transformer=SimpleImputer(strategy='most_frequent'))),\n",
      "                ('onehot_encoding',\n",
      "                 TransformerWrapper(include=['symbol'],\n",
      "                                    transformer=OneHotEncoder(cols=['symbol'],\n",
      "                                                              handle_missing='return_nan',\n",
      "                                                              use_cat_names=True))),\n",
      "                ('normalize', TransformerWrapper(transformer=StandardScaler())),\n",
      "                ('actual_estimator',\n",
      "                 LogisticRegression(max_iter=1000, random_state=123))])\n"
     ]
    }
   ],
   "source": [
    "experiment, model = load_model(symbol, estimator)  # cassification_experiment"
   ]
  },
  {
   "cell_type": "code",
   "execution_count": 6,
   "metadata": {},
   "outputs": [],
   "source": [
    "predict = experiment.predict_model(model, data=test_data)\n",
    "predict = predict.sort_values(date_features)"
   ]
  },
  {
   "cell_type": "code",
   "execution_count": 7,
   "metadata": {},
   "outputs": [
    {
     "name": "stdout",
     "output_type": "stream",
     "text": [
      "Min Data:  2023-08-08 00:00:00\n",
      "Max Data:  2023-09-07 22:00:00\n",
      "[1][SOBE_2.0][2023-08-08 01h] => Compra: 29151.859375\n",
      "[16][SOBE_2.0][2023-08-08 16h] => Venda: 29748.0 => Diff: 2.04% ==> Saldo: 102.04\n",
      "[53][SOBE_2.0][2023-08-10 05h] => Compra: 29585.83984375\n",
      "[212][SOBE_2.0][2023-08-16 20h] => Venda: 28974.009765625 => Diff: -2.07% ==> Saldo: 99.93\n",
      "[214][SOBE_2.0][2023-08-16 22h] => Compra: 28910.0\n",
      "[231][SOBE_2.0][2023-08-17 15h] => Venda: 27934.01953125 => Diff: -3.38% ==> Saldo: 96.56\n",
      "[232][SOBE_2.0][2023-08-17 16h] => Compra: 27937.349609375\n",
      "[237][SOBE_2.0][2023-08-17 21h] => Venda: 26253.919921875 => Diff: -6.03% ==> Saldo: 90.74000000000001\n",
      "[238][SOBE_2.0][2023-08-17 22h] => Compra: 26801.2890625\n",
      "[253][SOBE_2.0][2023-08-18 13h] => Venda: 26241.779296875 => Diff: -2.09% ==> Saldo: 88.85000000000001\n",
      "[254][SOBE_2.0][2023-08-18 14h] => Compra: 26012.080078125\n",
      "[377][SOBE_2.0][2023-08-23 17h] => Venda: 26539.33984375 => Diff: 2.03% ==> Saldo: 90.65\n",
      "[378][SOBE_2.0][2023-08-23 18h] => Compra: 26462.970703125\n",
      "[422][SOBE_2.0][2023-08-25 14h] => Venda: 25833.580078125 => Diff: -2.38% ==> Saldo: 88.49000000000001\n",
      "[423][SOBE_2.0][2023-08-25 15h] => Compra: 25932.009765625\n",
      "[518][SOBE_2.0][2023-08-29 14h] => Venda: 27492.029296875 => Diff: 6.02% ==> Saldo: 93.81\n",
      "[519][SOBE_2.0][2023-08-29 15h] => Compra: 27423.439453125\n",
      "[520][SOBE_2.0][2023-08-29 16h] => Venda: 27999.990234375 => Diff: 2.1% ==> Saldo: 95.78\n",
      "[521][SOBE_2.0][2023-08-29 17h] => Compra: 27892.0703125\n",
      "[542][SOBE_2.0][2023-08-30 14h] => Venda: 27110.009765625 => Diff: -2.8% ==> Saldo: 93.09\n",
      "[543][SOBE_2.0][2023-08-30 15h] => Compra: 27201.630859375\n",
      "[568][SOBE_2.0][2023-08-31 16h] => Venda: 26234.23046875 => Diff: -3.56% ==> Saldo: 89.78\n",
      "[569][SOBE_2.0][2023-08-31 17h] => Compra: 26329.0703125\n",
      "[590][SOBE_2.0][2023-09-01 14h] => Venda: 25717.0 => Diff: -2.32% ==> Saldo: 87.69\n",
      "[591][SOBE_2.0][2023-09-01 15h] => Compra: 25811.0\n",
      "[742][SOBE_2.0][2023-09-07 22h] => Venda: 26406.0 => Diff: 2.31% ==> Saldo: 89.71\n",
      "Saldo: 89.71\n"
     ]
    },
    {
     "data": {
      "text/plain": [
       "89.71"
      ]
     },
     "execution_count": 7,
     "metadata": {},
     "output_type": "execute_result"
    }
   ],
   "source": [
    "def test_trading_crypto_v3(data: pd.DataFrame, start_date, end_date, value: float, stop_loss = 3.0):\n",
    "  _data = data.copy()\n",
    "  _data.index = _data['open_time']\n",
    "  _data = _data[(_data.index >= start_date) & (_data.index <= end_date)]\n",
    "  saldo = value\n",
    "  operacao = ''\n",
    "  comprado = False\n",
    "  valor_compra = 0 \n",
    "  valor_venda = 0\n",
    "  diff = 0.0\n",
    "  \n",
    "  operacao_compra = ''\n",
    "  for row_nu in range(1, _data.shape[0]):\n",
    "    open_time = pd.to_datetime(_data.iloc[row_nu:row_nu+1]['open_time'].values[0]).strftime(\"%Y-%m-%d %Hh\")\n",
    "    type(open_time)\n",
    "    operacao = _data.iloc[row_nu:row_nu+1]['prediction_label'].values[0]\n",
    "    #print(operacao)\n",
    "    if (operacao.startswith('SOBE') or operacao.startswith('CAI')) and not comprado:\n",
    "      operacao_compra = operacao\n",
    "      valor_compra = round(_data.iloc[row_nu:row_nu+1]['close'].values[0], 2)\n",
    "      print(f'[{row_nu}][{operacao_compra}][{open_time}] => Compra: {valor_compra}')\n",
    "      comprado = True\n",
    "\n",
    "    if comprado:\n",
    "      diff = 100 * (_data.iloc[row_nu:row_nu+1]['close'].values[0] - valor_compra) / valor_compra\n",
    "      #print(f'[{row_nu}][{operacao_compra}][{open_time}] Diff ==> {round(diff,2)}% - Comprado: {comprado}')\n",
    "    \n",
    "    if (abs(diff) >= stop_loss) and comprado:\n",
    "      valor_venda = round(_data.iloc[row_nu:row_nu+1]['close'].values[0],2)\n",
    "      if operacao_compra.startswith('SOBE'):\n",
    "        saldo += round(saldo * (diff/100), 2)\n",
    "      else:\n",
    "        saldo += round(saldo * (-diff/100), 2)\n",
    "      print(f'[{row_nu}][{operacao_compra}][{open_time}] => Venda: {valor_venda} => Diff: {round(diff,2)}% ==> Saldo: {saldo}')\n",
    "      comprado = False\n",
    "\n",
    "  print(f'Saldo: {saldo}')\n",
    "  return saldo\n",
    "\n",
    "print('Min Data: ', predict['open_time'].min())\n",
    "print('Max Data: ', predict['open_time'].max())\n",
    "test_trading_crypto_v3(predict, '2023-01-01', predict['open_time'].max(), 100.0, stop_loss)"
   ]
  }
 ],
 "metadata": {
  "kernelspec": {
   "display_name": "conda_env3.10",
   "language": "python",
   "name": "python3"
  },
  "language_info": {
   "codemirror_mode": {
    "name": "ipython",
    "version": 3
   },
   "file_extension": ".py",
   "mimetype": "text/x-python",
   "name": "python",
   "nbconvert_exporter": "python",
   "pygments_lexer": "ipython3",
   "version": "3.10.12"
  },
  "orig_nbformat": 4
 },
 "nbformat": 4,
 "nbformat_minor": 2
}
