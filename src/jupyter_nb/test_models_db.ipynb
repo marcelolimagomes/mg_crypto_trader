{
  "cells": [
    {
      "cell_type": "code",
      "execution_count": 3,
      "metadata": {},
      "outputs": [],
      "source": [
        "import sys\n",
        "sys.path.insert(0, sys.path[0].removesuffix('/src/jupyter_nb'))\n",
        "from src.utils import *\n",
        "from src.calcEMA import *\n",
        "from src.myenv import *\n",
        "from src.models import models\n",
        "\n",
        "from sqlalchemy.orm import Session"
      ]
    },
    {
      "cell_type": "code",
      "execution_count": null,
      "metadata": {},
      "outputs": [],
      "source": [
        "from sqlalchemy.orm import Session\n",
        "with Session(models.engine) as session:\n",
        "\tab = models.AccountBalance(operation_date= datetime.datetime.now(),\n",
        "\t\tsymbol= 'xxxTUSDT'\t,\n",
        "\t\tinterval= '3h',\n",
        "\t\toperation= 'SHORT',\n",
        "\t\ttarget_margin= 1.445,\n",
        "\t\tamount_invested= 9999.00,\n",
        "\t\ttake_profit= 9886.33,\n",
        "\t\tstop_loss= 453.11,\n",
        "\t\tpurchase_price= 6866.22,\n",
        "\t\tsell_price= 4855.44,\n",
        "\t\tPnL= 434.11,\n",
        "\t\trsi= 545.0,\n",
        "\t\tprediction_label= 'LONG_1.5',\n",
        "\t\tmargin_operation= 41.45,\n",
        "\t\tbalance= 49922.22)\n",
        "\tsession.add(ab)\n",
        "\tsession.commit()"
      ]
    },
    {
      "cell_type": "code",
      "execution_count": 4,
      "metadata": {},
      "outputs": [
        {
          "name": "stdout",
          "output_type": "stream",
          "text": [
            "2023-10-03 19:22:51,415 INFO sqlalchemy.engine.Engine BEGIN (implicit)\n",
            "2023-10-03 19:22:51,416 INFO sqlalchemy.engine.Engine SELECT account_balance.id AS account_balance_id, account_balance.balance AS account_balance_balance, account_balance.created_at AS account_balance_created_at \n",
            "FROM account_balance\n",
            "2023-10-03 19:22:51,416 INFO sqlalchemy.engine.Engine [cached since 9.175s ago] ()\n",
            "2023-10-03 19:22:51,417 INFO sqlalchemy.engine.Engine ROLLBACK\n",
            "10000.0\n"
          ]
        }
      ],
      "source": [
        "with Session(models.engine) as session:\n",
        "\tlist_ab = session.query(models.AccountBalance).all()\n",
        "\n",
        "for ab in list_ab:\n",
        "\tprint(ab.balance)"
      ]
    },
    {
      "cell_type": "code",
      "execution_count": null,
      "metadata": {},
      "outputs": [],
      "source": [
        "from sqlalchemy import desc\n",
        "with Session(models.engine) as session:\n",
        "\tab = session.query(models.AccountBalance).order_by(desc(models.AccountBalance.created_at)).first()\n",
        "print(ab.amount_invested, ab.operation_date, ab.created_at)"
      ]
    },
    {
      "cell_type": "markdown",
      "metadata": {},
      "source": []
    }
  ],
  "metadata": {
    "kernelspec": {
      "display_name": ".env",
      "language": "python",
      "name": "python3"
    },
    "language_info": {
      "codemirror_mode": {
        "name": "ipython",
        "version": 3
      },
      "file_extension": ".py",
      "mimetype": "text/x-python",
      "name": "python",
      "nbconvert_exporter": "python",
      "pygments_lexer": "ipython3",
      "version": "3.10.13"
    },
    "orig_nbformat": 4
  },
  "nbformat": 4,
  "nbformat_minor": 2
}