{
  "cells": [
    {
      "cell_type": "code",
      "execution_count": null,
      "metadata": {},
      "outputs": [],
      "source": [
        "import sys\n",
        "print(sys.path)\n",
        "sys.path.insert(0, sys.path[0].replace('/src/jupyter_nb', ''))\n",
        "print(sys.path)\n",
        "import src.utils as utils\n",
        "import src.myenv as myenv\n",
        "import pandas as pd"
      ]
    },
    {
      "cell_type": "code",
      "execution_count": null,
      "metadata": {},
      "outputs": [],
      "source": [
        "from datetime import datetime, timedelta\n",
        "import pytz\n",
        "\n",
        "def get_start_timestamp_for_interval(interval):\n",
        "\tdate = None\n",
        "\tmatch interval:\n",
        "\t\tcase '1m':\n",
        "\t\t\tdate = datetime.now(pytz.utc) - timedelta(days=30*3) # datetime(2023, 6, 1, 0, 0, 0, 0, pytz.utc)\n",
        "\t\tcase '5m':\n",
        "\t\t\tdate = datetime.now(pytz.utc) - timedelta(days=30*9) # datetime(2023, 1, 1, 0, 0, 0, 0, pytz.utc)\n",
        "\t\tcase '15m':\n",
        "\t\t\tdate = datetime.now(pytz.utc) - timedelta(days=365*2) # datetime(2022, 1, 1, 0, 0, 0, 0, pytz.utc)\n",
        "\t\tcase '30m':\n",
        "\t\t\tdate = datetime.now(pytz.utc) - timedelta(days=365*3) # datetime(2021, 1, 1, 0, 0, 0, 0, pytz.utc)\n",
        "\t\tcase '1h':\n",
        "\t\t\tdate = datetime.now(pytz.utc) - timedelta(days=365*5) # datetime(2017, 1, 1, 0, 0, 0, 0, pytz.utc)\n",
        "\t\n",
        "\treturn int(date.timestamp() * 1000)\n",
        "\t\n",
        "\n",
        "def reduce_database(interval_list = ['1m', '5m', '15m', '30m', '1h']):\t\t\n",
        "\tfor symbol in utils.get_symbol_list():\n",
        "\t\tfor interval in interval_list:\n",
        "\t\t\tdata_file = f'{myenv.datadir}/{symbol}/{symbol}_{interval}.dat'\n",
        "\t\t\tparsed_date = get_start_timestamp_for_interval(interval)\n",
        "\t\t\tprint(data_file)\n",
        "\t\t\tdata = utils.get_data(symbol=symbol, save_database=False, interval=interval, columns=myenv.all_klines_cols, parse_dates=False)\n",
        "\t\t\tdata.info()\n",
        "\t\t\tdata = data[(data['open_time'] >= parsed_date)]\n",
        "\t\t\tdata.info()\n",
        "\t\t\tdata.to_csv(data_file, sep=';', index=False, compression=dict(method='zip'))\n",
        "\t"
      ]
    },
    {
      "cell_type": "code",
      "execution_count": null,
      "metadata": {},
      "outputs": [],
      "source": [
        "reduce_database()\n",
        "\t\n",
        "\n"
      ]
    },
    {
      "cell_type": "code",
      "execution_count": null,
      "metadata": {},
      "outputs": [],
      "source": [
        "from datetime import datetime, timedelta\n",
        "print(\"Current time: \", datetime.now())\n",
        "print(datetime.now() - timedelta(days=365))"
      ]
    }
  ],
  "metadata": {
    "kernelspec": {
      "display_name": ".env",
      "language": "python",
      "name": "python3"
    },
    "language_info": {
      "codemirror_mode": {
        "name": "ipython",
        "version": 3
      },
      "file_extension": ".py",
      "mimetype": "text/x-python",
      "name": "python",
      "nbconvert_exporter": "python",
      "pygments_lexer": "ipython3",
      "version": "3.10.13"
    },
    "orig_nbformat": 4
  },
  "nbformat": 4,
  "nbformat_minor": 2
}