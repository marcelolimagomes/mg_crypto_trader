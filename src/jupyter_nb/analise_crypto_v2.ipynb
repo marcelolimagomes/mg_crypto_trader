{
 "cells": [
  {
   "cell_type": "markdown",
   "metadata": {},
   "source": [
    "<code>\n",
    "Model\tMAE\tMSE\tRMSE\tR2\tRMSLE\tMAPE\tTT (Sec)\n",
    "<br>huber\tHuber Regressor\t176.5214\t87177.3210\t295.2018\t0.9995\t0.0076\t0.0048\t0.2767\n",
    "<br>omp\tOrthogonal Matching Pursuit\t176.8994\t87074.0508\t295.0281\t0.9995\t0.0076\t0.0048\t0.2200\n",
    "<br>llar\tLasso Least Angle Regression\t176.9285\t87099.6957\t295.0704\t0.9995\t0.0076\t0.0048\t0.2167\n",
    "<br>lasso\tLasso Regression\t176.9336\t87099.0767\t295.0690\t0.9995\t0.0076\t0.0048\t0.3600\n",
    "<br>lr\tLinear Regression\t176.9777\t87128.9787\t295.1192\t0.9995\t0.0076\t0.0048\t0.3633\n",
    "<br>lar\tLeast Angle Regression\t176.9777\t87128.9787\t295.1192\t0.9995\t0.0076\t0.0048\t0.4300\n",
    "<br>br\tBayesian Ridge\t176.9778\t87128.8999\t295.1190\t0.9995\t0.0076\t0.0048\t0.2533\n",
    "<br>ridge\tRidge Regression\t177.0186\t87108.0300\t295.0839\t0.9995\t0.0076\t0.0048\t0.3833\n",
    "<br>par\tPassive Aggressive Regressor\t177.6973\t87356.2870\t295.5045\t0.9995\t0.0076\t0.0048\t0.2000\n",
    "<br>lightgbm\tLight Gradient Boosting Machine\t195.5358\t99140.7557\t314.6561\t0.9995\t0.0081\t0.0053\t0.9300\n",
    "<br>rf\tRandom Forest Regressor\t199.4361\t101335.1889\t318.2649\t0.9994\t0.0083\t0.0054\t5.1033\n",
    "<br>gbr\tGradient Boosting Regressor\t201.3509\t99449.4057\t315.2657\t0.9995\t0.0083\t0.0056\t1.7800\n",
    "<br>et\tExtra Trees Regressor\t201.5587\t105765.2161\t325.1893\t0.9994\t0.0084\t0.0054\t2.1867\n",
    "<br>xgboost\tExtreme Gradient Boosting\t210.7075\t108984.0729\t329.9108\t0.9994\t0.0086\t0.0058\t1.3700\n",
    "<br>dt\tDecision Tree Regressor\t263.7993\t175515.6021\t418.9104\t0.9990\t0.0109\t0.0072\t0.2100\n",
    "<br>catboost\tCatBoost Regressor\t364.3085\t253714.2094\t503.3081\t0.9986\t0.0134\t0.0103\t17.0400\n",
    "<br>ada\tAdaBoost Regressor\t615.4694\t637822.1677\t798.6293\t0.9965\t0.0349\t0.0231\t0.8600\n",
    "<br>knn\tK Neighbors Regressor\t772.0608\t1201267.8542\t1074.7690\t0.9934\t0.0333\t0.0234\t0.2367\n",
    "<br>en\tElastic Net\t3640.4392\t18414889.5698\t4291.1610\t0.8990\t0.1410\t0.1205\t0.3700\n",
    "<br>dummy\tDummy Regressor\t11623.2256\t182392298.6667\t13505.1523\t-0.0005\t0.4012\t0.3887\t0.2167\n",
    "</code>"
   ]
  },
  {
   "cell_type": "code",
   "execution_count": null,
   "metadata": {},
   "outputs": [],
   "source": [
    "import sys\n",
    "sys.path.insert(0, sys.path[0].removesuffix('/src/crypto'))\n",
    "print(sys.path)\n",
    "\n",
    "from pycaret.regression import *\n",
    "from src.utils import *\n",
    "import plotly.express as px"
   ]
  },
  {
   "cell_type": "code",
   "execution_count": null,
   "metadata": {},
   "outputs": [],
   "source": [
    "# Variables\n",
    "datadir = './data'\n",
    "test_dir = './test'\n",
    "label = 'close'\n",
    "regression_times = 24*14\n",
    "days_to_forecasting = 2"
   ]
  },
  {
   "cell_type": "markdown",
   "metadata": {},
   "source": [
    "### Metadata\n",
    "\n",
    "<code>\n",
    "Field Name - Description</br>\n",
    "open_time - Kline Open time in unix time format</br>\n",
    "open - Open Price</br>\n",
    "high - High Price</br>\n",
    "low\t- Low Price</br>\n",
    "close\t- Close Price</br>\n",
    "volume - Volume</br>\n",
    "close_time - Kline Close time in unix time format</br>\n",
    "quote_volume - Quote Asset Volume</br>\n",
    "count\t- Number of Trades</br>\n",
    "taker_buy_volume - Taker buy base asset volume during this period</br>\n",
    "taker_buy_quote_volume - Taker buy quote asset volume during this period</br>\n",
    "ignore - Ignore</br>\n",
    "</code>"
   ]
  },
  {
   "cell_type": "code",
   "execution_count": null,
   "metadata": {},
   "outputs": [],
   "source": [
    "use_cols = ['open_time',  'close']\n",
    "print(use_cols)\n",
    "data = read_data(datadir, use_cols=use_cols)\n",
    "data.head()"
   ]
  },
  {
   "cell_type": "code",
   "execution_count": null,
   "metadata": {},
   "outputs": [],
   "source": [
    "#data = calc_RSI(data, label)\n",
    "data.dropna(inplace=True)\n",
    "print(data.info())\n",
    "data.tail(1)"
   ]
  },
  {
   "cell_type": "code",
   "execution_count": null,
   "metadata": {},
   "outputs": [],
   "source": [
    "features = data.columns.drop(['open_time', 'close']).tolist()\n",
    "print(features)"
   ]
  },
  {
   "cell_type": "code",
   "execution_count": null,
   "metadata": {},
   "outputs": [],
   "source": [
    "cut_index = 524 +48+24\n",
    "\n",
    "validation_data = read_data(test_dir, use_cols=use_cols)\n",
    "data = pd.concat([data, validation_data.loc[validation_data.index <=cut_index]])\n",
    "validation_data = validation_data.drop( validation_data.loc[validation_data.index <= cut_index].index )\n",
    "\n",
    "validation_data = validation_data.sort_values('open_time').reset_index(drop=True)\n",
    "data = data.sort_values('open_time').reset_index(drop=True)\n",
    "\n",
    "print(data.info())\n",
    "#test_data = calc_RSI(test_data, label)\n",
    "#validation_data.dropna(inplace=True)\n",
    "print(validation_data.info())\n",
    "validation_data"
   ]
  },
  {
   "cell_type": "markdown",
   "metadata": {},
   "source": [
    "lightgbm,0.9245669704449424\n",
    "ransac,0.9307958184672452\n",
    "lr,0.9390178731190032\n",
    "br,0.9443476762573038\n",
    "lar,0.9492107752862536\n",
    "rf,0.9611762069705837\n",
    "et,0.9617265438315517\n",
    "gbr,0.964064753714489\n",
    "xgboost,0.9677531861170903\n",
    "ridge,0.9680058491786502\n",
    "ada,0.9780636390202075\n",
    "ard,0.9809946396743481\n",
    "omp,0.9924010327397162\n",
    "llar,0.9981280703091872\n",
    "lasso,1.0211292308564999\n",
    "en,1.0250608630535183\n",
    "huber,1.2774587533287396\n",
    "svm,1.3615563150926815\n",
    "catboost,1.404995664107966\n",
    "tr,1.6636255165070548\n",
    "dt,2.1225503602279043\n",
    "par,3.4973830079630055\n",
    "knn,6.094219413796779\n",
    "kr,4696.8237747577605\n",
    "mlp,1201821.4305035255"
   ]
  },
  {
   "cell_type": "code",
   "execution_count": null,
   "metadata": {},
   "outputs": [],
   "source": [
    "#regressor_list = ['lr', 'lasso', 'ridge', 'en', 'lar', 'llar', 'omp', 'br', 'ard', 'par', 'ransac', 'tr',\n",
    "#                  'huber', 'kr', 'svm', 'knn', 'dt', 'rf', 'et', 'ada', 'gbr', 'mlp', 'xgboost', 'lightgbm', 'catboost']\n",
    "\n",
    "# regressor_list = ['ransac', 'lr']\n",
    "regressor_list = ['lr']\n",
    "\n",
    "diff = {}\n",
    "predict_data = None\n",
    "model= None\n",
    "setup= None\n",
    "for regs in regressor_list:\n",
    "    print('Calculating: ', regs)\n",
    "    predict_data, model, setup = forecast2(data=data.copy(), fh=24 * days_to_forecasting, label=label,\n",
    "                                numeric_features=features.copy(), regression_times=regression_times, regressor_estimator=regs)\n",
    "    df_diff = plot_predic_model(predict_data, validation_data, regs)\n",
    "    diff[regs] = df_diff['diff'].std()\n",
    "    print(regs, ': - Desvio padrão: ', diff[regs])\n",
    "\n",
    "df_result = pd.DataFrame.from_dict(diff, orient='index', columns=['diff']).sort_values('diff')\n",
    "df_result.to_csv('diff.csv')\n",
    "print(df_result)"
   ]
  },
  {
   "cell_type": "code",
   "execution_count": null,
   "metadata": {},
   "outputs": [],
   "source": [
    "setup.plot_model(model, plot='feature')"
   ]
  }
 ],
 "metadata": {
  "kernelspec": {
   "display_name": "conda_env3.10",
   "language": "python",
   "name": "python3"
  },
  "language_info": {
   "codemirror_mode": {
    "name": "ipython",
    "version": 3
   },
   "file_extension": ".py",
   "mimetype": "text/x-python",
   "name": "python",
   "nbconvert_exporter": "python",
   "pygments_lexer": "ipython3",
   "version": "3.10.12"
  },
  "orig_nbformat": 4
 },
 "nbformat": 4,
 "nbformat_minor": 2
}
