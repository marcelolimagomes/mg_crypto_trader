{
  "cells": [
    {
      "cell_type": "code",
      "execution_count": 1,
      "metadata": {},
      "outputs": [],
      "source": [
        "import sys\n",
        "import pandas as pd\n"
      ]
    },
    {
      "cell_type": "code",
      "execution_count": 2,
      "metadata": {},
      "outputs": [
        {
          "data": {
            "text/html": [
              "<div>\n",
              "<style scoped>\n",
              "    .dataframe tbody tr th:only-of-type {\n",
              "        vertical-align: middle;\n",
              "    }\n",
              "\n",
              "    .dataframe tbody tr th {\n",
              "        vertical-align: top;\n",
              "    }\n",
              "\n",
              "    .dataframe thead th {\n",
              "        text-align: right;\n",
              "    }\n",
              "</style>\n",
              "<table border=\"1\" class=\"dataframe\">\n",
              "  <thead>\n",
              "    <tr style=\"text-align: right;\">\n",
              "      <th></th>\n",
              "      <th>id</th>\n",
              "      <th>symbol</th>\n",
              "      <th>interval</th>\n",
              "      <th>operation</th>\n",
              "      <th>target_margin</th>\n",
              "      <th>amount_invested</th>\n",
              "      <th>take_profit</th>\n",
              "      <th>stop_loss</th>\n",
              "      <th>purchase_price</th>\n",
              "      <th>sell_price</th>\n",
              "      <th>pnl</th>\n",
              "      <th>rsi</th>\n",
              "      <th>margin_operation</th>\n",
              "      <th>balance</th>\n",
              "      <th>strategy</th>\n",
              "      <th>operation_date</th>\n",
              "      <th>created_at</th>\n",
              "    </tr>\n",
              "  </thead>\n",
              "  <tbody>\n",
              "    <tr>\n",
              "      <th>23</th>\n",
              "      <td>24</td>\n",
              "      <td>UNIUSDT</td>\n",
              "      <td>1m</td>\n",
              "      <td>SELL</td>\n",
              "      <td>1.0</td>\n",
              "      <td>100.0</td>\n",
              "      <td>4.613680</td>\n",
              "      <td>4.339600</td>\n",
              "      <td>4.568000</td>\n",
              "      <td>4.616000</td>\n",
              "      <td>1.050796</td>\n",
              "      <td>58.880661</td>\n",
              "      <td>0.010508</td>\n",
              "      <td>7801.050796</td>\n",
              "      <td>LONG</td>\n",
              "      <td>2023-11-02 12:45:00.000000</td>\n",
              "      <td>2023-11-02 15:46:32.601511</td>\n",
              "    </tr>\n",
              "    <tr>\n",
              "      <th>25</th>\n",
              "      <td>26</td>\n",
              "      <td>SOLUSDT</td>\n",
              "      <td>1m</td>\n",
              "      <td>SELL</td>\n",
              "      <td>1.0</td>\n",
              "      <td>100.0</td>\n",
              "      <td>41.114699</td>\n",
              "      <td>43.606499</td>\n",
              "      <td>41.529999</td>\n",
              "      <td>41.080002</td>\n",
              "      <td>1.083547</td>\n",
              "      <td>47.258205</td>\n",
              "      <td>0.010835</td>\n",
              "      <td>7802.134342</td>\n",
              "      <td>SHORT</td>\n",
              "      <td>2023-11-02 12:52:00.000000</td>\n",
              "      <td>2023-11-02 15:53:57.500349</td>\n",
              "    </tr>\n",
              "    <tr>\n",
              "      <th>27</th>\n",
              "      <td>28</td>\n",
              "      <td>ADAUSDT</td>\n",
              "      <td>1m</td>\n",
              "      <td>SELL</td>\n",
              "      <td>1.0</td>\n",
              "      <td>100.0</td>\n",
              "      <td>0.303237</td>\n",
              "      <td>0.321615</td>\n",
              "      <td>0.306300</td>\n",
              "      <td>0.303100</td>\n",
              "      <td>1.044735</td>\n",
              "      <td>50.927505</td>\n",
              "      <td>0.010447</td>\n",
              "      <td>7803.179078</td>\n",
              "      <td>SHORT</td>\n",
              "      <td>2023-11-02 12:54:00.000000</td>\n",
              "      <td>2023-11-02 15:55:36.461182</td>\n",
              "    </tr>\n",
              "    <tr>\n",
              "      <th>29</th>\n",
              "      <td>30</td>\n",
              "      <td>SOLUSDT</td>\n",
              "      <td>1m</td>\n",
              "      <td>SELL</td>\n",
              "      <td>1.0</td>\n",
              "      <td>100.0</td>\n",
              "      <td>40.669202</td>\n",
              "      <td>43.134002</td>\n",
              "      <td>41.080002</td>\n",
              "      <td>40.630001</td>\n",
              "      <td>1.095425</td>\n",
              "      <td>32.142265</td>\n",
              "      <td>0.010954</td>\n",
              "      <td>7804.274503</td>\n",
              "      <td>SHORT</td>\n",
              "      <td>2023-11-02 12:57:00.000000</td>\n",
              "      <td>2023-11-02 15:58:43.309896</td>\n",
              "    </tr>\n",
              "    <tr>\n",
              "      <th>31</th>\n",
              "      <td>32</td>\n",
              "      <td>LINKUSDT</td>\n",
              "      <td>15m</td>\n",
              "      <td>SELL</td>\n",
              "      <td>1.0</td>\n",
              "      <td>100.0</td>\n",
              "      <td>10.920690</td>\n",
              "      <td>11.582550</td>\n",
              "      <td>11.031000</td>\n",
              "      <td>10.917000</td>\n",
              "      <td>1.033454</td>\n",
              "      <td>37.406166</td>\n",
              "      <td>0.010335</td>\n",
              "      <td>7805.307957</td>\n",
              "      <td>SHORT</td>\n",
              "      <td>2023-11-02 12:30:00.000000</td>\n",
              "      <td>2023-11-02 15:58:51.731632</td>\n",
              "    </tr>\n",
              "    <tr>\n",
              "      <th>...</th>\n",
              "      <td>...</td>\n",
              "      <td>...</td>\n",
              "      <td>...</td>\n",
              "      <td>...</td>\n",
              "      <td>...</td>\n",
              "      <td>...</td>\n",
              "      <td>...</td>\n",
              "      <td>...</td>\n",
              "      <td>...</td>\n",
              "      <td>...</td>\n",
              "      <td>...</td>\n",
              "      <td>...</td>\n",
              "      <td>...</td>\n",
              "      <td>...</td>\n",
              "      <td>...</td>\n",
              "      <td>...</td>\n",
              "      <td>...</td>\n",
              "    </tr>\n",
              "    <tr>\n",
              "      <th>1071</th>\n",
              "      <td>1072</td>\n",
              "      <td>LINKUSDT</td>\n",
              "      <td>1h</td>\n",
              "      <td>SELL</td>\n",
              "      <td>1.5</td>\n",
              "      <td>100.0</td>\n",
              "      <td>13.535870</td>\n",
              "      <td>14.772650</td>\n",
              "      <td>13.742000</td>\n",
              "      <td>14.773000</td>\n",
              "      <td>-7.502548</td>\n",
              "      <td>69.771469</td>\n",
              "      <td>-0.075025</td>\n",
              "      <td>5663.644899</td>\n",
              "      <td>SHORT</td>\n",
              "      <td>2023-11-08 15:00:00.000000</td>\n",
              "      <td>2023-11-08 19:13:05.797466</td>\n",
              "    </tr>\n",
              "    <tr>\n",
              "      <th>1073</th>\n",
              "      <td>1074</td>\n",
              "      <td>LINKUSDT</td>\n",
              "      <td>1h</td>\n",
              "      <td>SELL</td>\n",
              "      <td>1.5</td>\n",
              "      <td>100.0</td>\n",
              "      <td>14.514960</td>\n",
              "      <td>15.841200</td>\n",
              "      <td>14.736000</td>\n",
              "      <td>14.514000</td>\n",
              "      <td>1.506515</td>\n",
              "      <td>81.001106</td>\n",
              "      <td>0.015065</td>\n",
              "      <td>5665.151415</td>\n",
              "      <td>SHORT</td>\n",
              "      <td>2023-11-08 15:00:00.000000</td>\n",
              "      <td>2023-11-08 19:20:34.741813</td>\n",
              "    </tr>\n",
              "    <tr>\n",
              "      <th>1075</th>\n",
              "      <td>1076</td>\n",
              "      <td>MATICUSDT</td>\n",
              "      <td>1m</td>\n",
              "      <td>SELL</td>\n",
              "      <td>1.0</td>\n",
              "      <td>100.0</td>\n",
              "      <td>0.793683</td>\n",
              "      <td>0.841785</td>\n",
              "      <td>0.801700</td>\n",
              "      <td>0.793500</td>\n",
              "      <td>1.022825</td>\n",
              "      <td>74.237625</td>\n",
              "      <td>0.010228</td>\n",
              "      <td>5666.174240</td>\n",
              "      <td>SHORT</td>\n",
              "      <td>2023-11-08 17:44:00.000000</td>\n",
              "      <td>2023-11-08 20:45:30.930125</td>\n",
              "    </tr>\n",
              "    <tr>\n",
              "      <th>1079</th>\n",
              "      <td>1080</td>\n",
              "      <td>UNIUSDT</td>\n",
              "      <td>15m</td>\n",
              "      <td>SELL</td>\n",
              "      <td>1.0</td>\n",
              "      <td>100.0</td>\n",
              "      <td>5.163840</td>\n",
              "      <td>5.476800</td>\n",
              "      <td>5.216000</td>\n",
              "      <td>5.163000</td>\n",
              "      <td>1.016104</td>\n",
              "      <td>55.620743</td>\n",
              "      <td>0.010161</td>\n",
              "      <td>5467.190344</td>\n",
              "      <td>SHORT</td>\n",
              "      <td>2023-11-08 18:00:00.000000</td>\n",
              "      <td>2023-11-08 21:25:11.185159</td>\n",
              "    </tr>\n",
              "    <tr>\n",
              "      <th>1081</th>\n",
              "      <td>1082</td>\n",
              "      <td>UNIUSDT</td>\n",
              "      <td>30m</td>\n",
              "      <td>SELL</td>\n",
              "      <td>1.5</td>\n",
              "      <td>100.0</td>\n",
              "      <td>5.154505</td>\n",
              "      <td>5.625475</td>\n",
              "      <td>5.233000</td>\n",
              "      <td>5.154000</td>\n",
              "      <td>1.509650</td>\n",
              "      <td>69.282173</td>\n",
              "      <td>0.015097</td>\n",
              "      <td>5468.699994</td>\n",
              "      <td>SHORT</td>\n",
              "      <td>2023-11-08 17:30:00.000000</td>\n",
              "      <td>2023-11-08 21:26:05.340254</td>\n",
              "    </tr>\n",
              "  </tbody>\n",
              "</table>\n",
              "<p>519 rows × 17 columns</p>\n",
              "</div>"
            ],
            "text/plain": [
              "        id     symbol interval operation  target_margin  amount_invested  \\\n",
              "23      24    UNIUSDT       1m      SELL            1.0            100.0   \n",
              "25      26    SOLUSDT       1m      SELL            1.0            100.0   \n",
              "27      28    ADAUSDT       1m      SELL            1.0            100.0   \n",
              "29      30    SOLUSDT       1m      SELL            1.0            100.0   \n",
              "31      32   LINKUSDT      15m      SELL            1.0            100.0   \n",
              "...    ...        ...      ...       ...            ...              ...   \n",
              "1071  1072   LINKUSDT       1h      SELL            1.5            100.0   \n",
              "1073  1074   LINKUSDT       1h      SELL            1.5            100.0   \n",
              "1075  1076  MATICUSDT       1m      SELL            1.0            100.0   \n",
              "1079  1080    UNIUSDT      15m      SELL            1.0            100.0   \n",
              "1081  1082    UNIUSDT      30m      SELL            1.5            100.0   \n",
              "\n",
              "      take_profit  stop_loss  purchase_price  sell_price       pnl        rsi  \\\n",
              "23       4.613680   4.339600        4.568000    4.616000  1.050796  58.880661   \n",
              "25      41.114699  43.606499       41.529999   41.080002  1.083547  47.258205   \n",
              "27       0.303237   0.321615        0.306300    0.303100  1.044735  50.927505   \n",
              "29      40.669202  43.134002       41.080002   40.630001  1.095425  32.142265   \n",
              "31      10.920690  11.582550       11.031000   10.917000  1.033454  37.406166   \n",
              "...           ...        ...             ...         ...       ...        ...   \n",
              "1071    13.535870  14.772650       13.742000   14.773000 -7.502548  69.771469   \n",
              "1073    14.514960  15.841200       14.736000   14.514000  1.506515  81.001106   \n",
              "1075     0.793683   0.841785        0.801700    0.793500  1.022825  74.237625   \n",
              "1079     5.163840   5.476800        5.216000    5.163000  1.016104  55.620743   \n",
              "1081     5.154505   5.625475        5.233000    5.154000  1.509650  69.282173   \n",
              "\n",
              "      margin_operation      balance strategy              operation_date  \\\n",
              "23            0.010508  7801.050796     LONG  2023-11-02 12:45:00.000000   \n",
              "25            0.010835  7802.134342      SHORT  2023-11-02 12:52:00.000000   \n",
              "27            0.010447  7803.179078      SHORT  2023-11-02 12:54:00.000000   \n",
              "29            0.010954  7804.274503      SHORT  2023-11-02 12:57:00.000000   \n",
              "31            0.010335  7805.307957      SHORT  2023-11-02 12:30:00.000000   \n",
              "...                ...          ...      ...                         ...   \n",
              "1071         -0.075025  5663.644899      SHORT  2023-11-08 15:00:00.000000   \n",
              "1073          0.015065  5665.151415      SHORT  2023-11-08 15:00:00.000000   \n",
              "1075          0.010228  5666.174240      SHORT  2023-11-08 17:44:00.000000   \n",
              "1079          0.010161  5467.190344      SHORT  2023-11-08 18:00:00.000000   \n",
              "1081          0.015097  5468.699994      SHORT  2023-11-08 17:30:00.000000   \n",
              "\n",
              "                      created_at  \n",
              "23    2023-11-02 15:46:32.601511  \n",
              "25    2023-11-02 15:53:57.500349  \n",
              "27    2023-11-02 15:55:36.461182  \n",
              "29    2023-11-02 15:58:43.309896  \n",
              "31    2023-11-02 15:58:51.731632  \n",
              "...                          ...  \n",
              "1071  2023-11-08 19:13:05.797466  \n",
              "1073  2023-11-08 19:20:34.741813  \n",
              "1075  2023-11-08 20:45:30.930125  \n",
              "1079  2023-11-08 21:25:11.185159  \n",
              "1081  2023-11-08 21:26:05.340254  \n",
              "\n",
              "[519 rows x 17 columns]"
            ]
          },
          "execution_count": 2,
          "metadata": {},
          "output_type": "execute_result"
        }
      ],
      "source": [
        "df = pd.read_csv('ledger.txt', sep='|')\n",
        "df = df[df.operation == 'SELL']\n",
        "df"
      ]
    },
    {
      "cell_type": "code",
      "execution_count": 3,
      "metadata": {},
      "outputs": [
        {
          "data": {
            "text/html": [
              "<div>\n",
              "<style scoped>\n",
              "    .dataframe tbody tr th:only-of-type {\n",
              "        vertical-align: middle;\n",
              "    }\n",
              "\n",
              "    .dataframe tbody tr th {\n",
              "        vertical-align: top;\n",
              "    }\n",
              "\n",
              "    .dataframe thead th {\n",
              "        text-align: right;\n",
              "    }\n",
              "</style>\n",
              "<table border=\"1\" class=\"dataframe\">\n",
              "  <thead>\n",
              "    <tr style=\"text-align: right;\">\n",
              "      <th></th>\n",
              "      <th>id</th>\n",
              "      <th>symbol</th>\n",
              "      <th>interval</th>\n",
              "      <th>operation</th>\n",
              "      <th>target_margin</th>\n",
              "      <th>amount_invested</th>\n",
              "      <th>take_profit</th>\n",
              "      <th>stop_loss</th>\n",
              "      <th>purchase_price</th>\n",
              "      <th>sell_price</th>\n",
              "      <th>pnl</th>\n",
              "      <th>rsi</th>\n",
              "      <th>margin_operation</th>\n",
              "      <th>balance</th>\n",
              "      <th>strategy</th>\n",
              "      <th>operation_date</th>\n",
              "      <th>created_at</th>\n",
              "      <th>result</th>\n",
              "    </tr>\n",
              "  </thead>\n",
              "  <tbody>\n",
              "    <tr>\n",
              "      <th>23</th>\n",
              "      <td>24</td>\n",
              "      <td>UNIUSDT</td>\n",
              "      <td>1m</td>\n",
              "      <td>SELL</td>\n",
              "      <td>1.0</td>\n",
              "      <td>100.0</td>\n",
              "      <td>4.613680</td>\n",
              "      <td>4.339600</td>\n",
              "      <td>4.568000</td>\n",
              "      <td>4.616000</td>\n",
              "      <td>1.050796</td>\n",
              "      <td>58.880661</td>\n",
              "      <td>0.010508</td>\n",
              "      <td>7801.050796</td>\n",
              "      <td>LONG</td>\n",
              "      <td>2023-11-02 12:45:00.000000</td>\n",
              "      <td>2023-11-02 15:46:32.601511</td>\n",
              "      <td>GAIN</td>\n",
              "    </tr>\n",
              "    <tr>\n",
              "      <th>25</th>\n",
              "      <td>26</td>\n",
              "      <td>SOLUSDT</td>\n",
              "      <td>1m</td>\n",
              "      <td>SELL</td>\n",
              "      <td>1.0</td>\n",
              "      <td>100.0</td>\n",
              "      <td>41.114699</td>\n",
              "      <td>43.606499</td>\n",
              "      <td>41.529999</td>\n",
              "      <td>41.080002</td>\n",
              "      <td>1.083547</td>\n",
              "      <td>47.258205</td>\n",
              "      <td>0.010835</td>\n",
              "      <td>7802.134342</td>\n",
              "      <td>SHORT</td>\n",
              "      <td>2023-11-02 12:52:00.000000</td>\n",
              "      <td>2023-11-02 15:53:57.500349</td>\n",
              "      <td>GAIN</td>\n",
              "    </tr>\n",
              "    <tr>\n",
              "      <th>27</th>\n",
              "      <td>28</td>\n",
              "      <td>ADAUSDT</td>\n",
              "      <td>1m</td>\n",
              "      <td>SELL</td>\n",
              "      <td>1.0</td>\n",
              "      <td>100.0</td>\n",
              "      <td>0.303237</td>\n",
              "      <td>0.321615</td>\n",
              "      <td>0.306300</td>\n",
              "      <td>0.303100</td>\n",
              "      <td>1.044735</td>\n",
              "      <td>50.927505</td>\n",
              "      <td>0.010447</td>\n",
              "      <td>7803.179078</td>\n",
              "      <td>SHORT</td>\n",
              "      <td>2023-11-02 12:54:00.000000</td>\n",
              "      <td>2023-11-02 15:55:36.461182</td>\n",
              "      <td>GAIN</td>\n",
              "    </tr>\n",
              "    <tr>\n",
              "      <th>29</th>\n",
              "      <td>30</td>\n",
              "      <td>SOLUSDT</td>\n",
              "      <td>1m</td>\n",
              "      <td>SELL</td>\n",
              "      <td>1.0</td>\n",
              "      <td>100.0</td>\n",
              "      <td>40.669202</td>\n",
              "      <td>43.134002</td>\n",
              "      <td>41.080002</td>\n",
              "      <td>40.630001</td>\n",
              "      <td>1.095425</td>\n",
              "      <td>32.142265</td>\n",
              "      <td>0.010954</td>\n",
              "      <td>7804.274503</td>\n",
              "      <td>SHORT</td>\n",
              "      <td>2023-11-02 12:57:00.000000</td>\n",
              "      <td>2023-11-02 15:58:43.309896</td>\n",
              "      <td>GAIN</td>\n",
              "    </tr>\n",
              "    <tr>\n",
              "      <th>31</th>\n",
              "      <td>32</td>\n",
              "      <td>LINKUSDT</td>\n",
              "      <td>15m</td>\n",
              "      <td>SELL</td>\n",
              "      <td>1.0</td>\n",
              "      <td>100.0</td>\n",
              "      <td>10.920690</td>\n",
              "      <td>11.582550</td>\n",
              "      <td>11.031000</td>\n",
              "      <td>10.917000</td>\n",
              "      <td>1.033454</td>\n",
              "      <td>37.406166</td>\n",
              "      <td>0.010335</td>\n",
              "      <td>7805.307957</td>\n",
              "      <td>SHORT</td>\n",
              "      <td>2023-11-02 12:30:00.000000</td>\n",
              "      <td>2023-11-02 15:58:51.731632</td>\n",
              "      <td>GAIN</td>\n",
              "    </tr>\n",
              "    <tr>\n",
              "      <th>...</th>\n",
              "      <td>...</td>\n",
              "      <td>...</td>\n",
              "      <td>...</td>\n",
              "      <td>...</td>\n",
              "      <td>...</td>\n",
              "      <td>...</td>\n",
              "      <td>...</td>\n",
              "      <td>...</td>\n",
              "      <td>...</td>\n",
              "      <td>...</td>\n",
              "      <td>...</td>\n",
              "      <td>...</td>\n",
              "      <td>...</td>\n",
              "      <td>...</td>\n",
              "      <td>...</td>\n",
              "      <td>...</td>\n",
              "      <td>...</td>\n",
              "      <td>...</td>\n",
              "    </tr>\n",
              "    <tr>\n",
              "      <th>1071</th>\n",
              "      <td>1072</td>\n",
              "      <td>LINKUSDT</td>\n",
              "      <td>1h</td>\n",
              "      <td>SELL</td>\n",
              "      <td>1.5</td>\n",
              "      <td>100.0</td>\n",
              "      <td>13.535870</td>\n",
              "      <td>14.772650</td>\n",
              "      <td>13.742000</td>\n",
              "      <td>14.773000</td>\n",
              "      <td>-7.502548</td>\n",
              "      <td>69.771469</td>\n",
              "      <td>-0.075025</td>\n",
              "      <td>5663.644899</td>\n",
              "      <td>SHORT</td>\n",
              "      <td>2023-11-08 15:00:00.000000</td>\n",
              "      <td>2023-11-08 19:13:05.797466</td>\n",
              "      <td>LOSS</td>\n",
              "    </tr>\n",
              "    <tr>\n",
              "      <th>1073</th>\n",
              "      <td>1074</td>\n",
              "      <td>LINKUSDT</td>\n",
              "      <td>1h</td>\n",
              "      <td>SELL</td>\n",
              "      <td>1.5</td>\n",
              "      <td>100.0</td>\n",
              "      <td>14.514960</td>\n",
              "      <td>15.841200</td>\n",
              "      <td>14.736000</td>\n",
              "      <td>14.514000</td>\n",
              "      <td>1.506515</td>\n",
              "      <td>81.001106</td>\n",
              "      <td>0.015065</td>\n",
              "      <td>5665.151415</td>\n",
              "      <td>SHORT</td>\n",
              "      <td>2023-11-08 15:00:00.000000</td>\n",
              "      <td>2023-11-08 19:20:34.741813</td>\n",
              "      <td>GAIN</td>\n",
              "    </tr>\n",
              "    <tr>\n",
              "      <th>1075</th>\n",
              "      <td>1076</td>\n",
              "      <td>MATICUSDT</td>\n",
              "      <td>1m</td>\n",
              "      <td>SELL</td>\n",
              "      <td>1.0</td>\n",
              "      <td>100.0</td>\n",
              "      <td>0.793683</td>\n",
              "      <td>0.841785</td>\n",
              "      <td>0.801700</td>\n",
              "      <td>0.793500</td>\n",
              "      <td>1.022825</td>\n",
              "      <td>74.237625</td>\n",
              "      <td>0.010228</td>\n",
              "      <td>5666.174240</td>\n",
              "      <td>SHORT</td>\n",
              "      <td>2023-11-08 17:44:00.000000</td>\n",
              "      <td>2023-11-08 20:45:30.930125</td>\n",
              "      <td>GAIN</td>\n",
              "    </tr>\n",
              "    <tr>\n",
              "      <th>1079</th>\n",
              "      <td>1080</td>\n",
              "      <td>UNIUSDT</td>\n",
              "      <td>15m</td>\n",
              "      <td>SELL</td>\n",
              "      <td>1.0</td>\n",
              "      <td>100.0</td>\n",
              "      <td>5.163840</td>\n",
              "      <td>5.476800</td>\n",
              "      <td>5.216000</td>\n",
              "      <td>5.163000</td>\n",
              "      <td>1.016104</td>\n",
              "      <td>55.620743</td>\n",
              "      <td>0.010161</td>\n",
              "      <td>5467.190344</td>\n",
              "      <td>SHORT</td>\n",
              "      <td>2023-11-08 18:00:00.000000</td>\n",
              "      <td>2023-11-08 21:25:11.185159</td>\n",
              "      <td>GAIN</td>\n",
              "    </tr>\n",
              "    <tr>\n",
              "      <th>1081</th>\n",
              "      <td>1082</td>\n",
              "      <td>UNIUSDT</td>\n",
              "      <td>30m</td>\n",
              "      <td>SELL</td>\n",
              "      <td>1.5</td>\n",
              "      <td>100.0</td>\n",
              "      <td>5.154505</td>\n",
              "      <td>5.625475</td>\n",
              "      <td>5.233000</td>\n",
              "      <td>5.154000</td>\n",
              "      <td>1.509650</td>\n",
              "      <td>69.282173</td>\n",
              "      <td>0.015097</td>\n",
              "      <td>5468.699994</td>\n",
              "      <td>SHORT</td>\n",
              "      <td>2023-11-08 17:30:00.000000</td>\n",
              "      <td>2023-11-08 21:26:05.340254</td>\n",
              "      <td>GAIN</td>\n",
              "    </tr>\n",
              "  </tbody>\n",
              "</table>\n",
              "<p>519 rows × 18 columns</p>\n",
              "</div>"
            ],
            "text/plain": [
              "        id     symbol interval operation  target_margin  amount_invested  \\\n",
              "23      24    UNIUSDT       1m      SELL            1.0            100.0   \n",
              "25      26    SOLUSDT       1m      SELL            1.0            100.0   \n",
              "27      28    ADAUSDT       1m      SELL            1.0            100.0   \n",
              "29      30    SOLUSDT       1m      SELL            1.0            100.0   \n",
              "31      32   LINKUSDT      15m      SELL            1.0            100.0   \n",
              "...    ...        ...      ...       ...            ...              ...   \n",
              "1071  1072   LINKUSDT       1h      SELL            1.5            100.0   \n",
              "1073  1074   LINKUSDT       1h      SELL            1.5            100.0   \n",
              "1075  1076  MATICUSDT       1m      SELL            1.0            100.0   \n",
              "1079  1080    UNIUSDT      15m      SELL            1.0            100.0   \n",
              "1081  1082    UNIUSDT      30m      SELL            1.5            100.0   \n",
              "\n",
              "      take_profit  stop_loss  purchase_price  sell_price       pnl        rsi  \\\n",
              "23       4.613680   4.339600        4.568000    4.616000  1.050796  58.880661   \n",
              "25      41.114699  43.606499       41.529999   41.080002  1.083547  47.258205   \n",
              "27       0.303237   0.321615        0.306300    0.303100  1.044735  50.927505   \n",
              "29      40.669202  43.134002       41.080002   40.630001  1.095425  32.142265   \n",
              "31      10.920690  11.582550       11.031000   10.917000  1.033454  37.406166   \n",
              "...           ...        ...             ...         ...       ...        ...   \n",
              "1071    13.535870  14.772650       13.742000   14.773000 -7.502548  69.771469   \n",
              "1073    14.514960  15.841200       14.736000   14.514000  1.506515  81.001106   \n",
              "1075     0.793683   0.841785        0.801700    0.793500  1.022825  74.237625   \n",
              "1079     5.163840   5.476800        5.216000    5.163000  1.016104  55.620743   \n",
              "1081     5.154505   5.625475        5.233000    5.154000  1.509650  69.282173   \n",
              "\n",
              "      margin_operation      balance strategy              operation_date  \\\n",
              "23            0.010508  7801.050796     LONG  2023-11-02 12:45:00.000000   \n",
              "25            0.010835  7802.134342      SHORT  2023-11-02 12:52:00.000000   \n",
              "27            0.010447  7803.179078      SHORT  2023-11-02 12:54:00.000000   \n",
              "29            0.010954  7804.274503      SHORT  2023-11-02 12:57:00.000000   \n",
              "31            0.010335  7805.307957      SHORT  2023-11-02 12:30:00.000000   \n",
              "...                ...          ...      ...                         ...   \n",
              "1071         -0.075025  5663.644899      SHORT  2023-11-08 15:00:00.000000   \n",
              "1073          0.015065  5665.151415      SHORT  2023-11-08 15:00:00.000000   \n",
              "1075          0.010228  5666.174240      SHORT  2023-11-08 17:44:00.000000   \n",
              "1079          0.010161  5467.190344      SHORT  2023-11-08 18:00:00.000000   \n",
              "1081          0.015097  5468.699994      SHORT  2023-11-08 17:30:00.000000   \n",
              "\n",
              "                      created_at result  \n",
              "23    2023-11-02 15:46:32.601511   GAIN  \n",
              "25    2023-11-02 15:53:57.500349   GAIN  \n",
              "27    2023-11-02 15:55:36.461182   GAIN  \n",
              "29    2023-11-02 15:58:43.309896   GAIN  \n",
              "31    2023-11-02 15:58:51.731632   GAIN  \n",
              "...                          ...    ...  \n",
              "1071  2023-11-08 19:13:05.797466   LOSS  \n",
              "1073  2023-11-08 19:20:34.741813   GAIN  \n",
              "1075  2023-11-08 20:45:30.930125   GAIN  \n",
              "1079  2023-11-08 21:25:11.185159   GAIN  \n",
              "1081  2023-11-08 21:26:05.340254   GAIN  \n",
              "\n",
              "[519 rows x 18 columns]"
            ]
          },
          "execution_count": 3,
          "metadata": {},
          "output_type": "execute_result"
        }
      ],
      "source": [
        "df['result'] = df['pnl'].apply(lambda x: 'GAIN' if x > 0 else 'LOSS')\n",
        "df"
      ]
    },
    {
      "cell_type": "code",
      "execution_count": 4,
      "metadata": {},
      "outputs": [
        {
          "name": "stderr",
          "output_type": "stream",
          "text": [
            "/tmp/ipykernel_495078/485892120.py:2: SettingWithCopyWarning: \n",
            "A value is trying to be set on a copy of a slice from a DataFrame.\n",
            "Try using .loc[row_indexer,col_indexer] = value instead\n",
            "\n",
            "See the caveats in the documentation: https://pandas.pydata.org/pandas-docs/stable/user_guide/indexing.html#returning-a-view-versus-a-copy\n",
            "  df_g_pnl['pnl']['id'] = df_g_pnl.index\n"
          ]
        },
        {
          "data": {
            "text/html": [
              "<div>\n",
              "<style scoped>\n",
              "    .dataframe tbody tr th:only-of-type {\n",
              "        vertical-align: middle;\n",
              "    }\n",
              "\n",
              "    .dataframe tbody tr th {\n",
              "        vertical-align: top;\n",
              "    }\n",
              "\n",
              "    .dataframe thead tr th {\n",
              "        text-align: left;\n",
              "    }\n",
              "</style>\n",
              "<table border=\"1\" class=\"dataframe\">\n",
              "  <thead>\n",
              "    <tr>\n",
              "      <th></th>\n",
              "      <th>symbol</th>\n",
              "      <th>interval</th>\n",
              "      <th colspan=\"2\" halign=\"left\">pnl</th>\n",
              "    </tr>\n",
              "    <tr>\n",
              "      <th></th>\n",
              "      <th></th>\n",
              "      <th></th>\n",
              "      <th>sum</th>\n",
              "      <th>count</th>\n",
              "    </tr>\n",
              "  </thead>\n",
              "  <tbody>\n",
              "    <tr>\n",
              "      <th>0</th>\n",
              "      <td>ADAUSDT</td>\n",
              "      <td>1h</td>\n",
              "      <td>-5.558609</td>\n",
              "      <td>8</td>\n",
              "    </tr>\n",
              "    <tr>\n",
              "      <th>1</th>\n",
              "      <td>ADAUSDT</td>\n",
              "      <td>1m</td>\n",
              "      <td>-13.348427</td>\n",
              "      <td>23</td>\n",
              "    </tr>\n",
              "    <tr>\n",
              "      <th>2</th>\n",
              "      <td>ADAUSDT</td>\n",
              "      <td>30m</td>\n",
              "      <td>-13.914479</td>\n",
              "      <td>18</td>\n",
              "    </tr>\n",
              "    <tr>\n",
              "      <th>3</th>\n",
              "      <td>ATOMUSDT</td>\n",
              "      <td>15m</td>\n",
              "      <td>-2.573055</td>\n",
              "      <td>13</td>\n",
              "    </tr>\n",
              "    <tr>\n",
              "      <th>4</th>\n",
              "      <td>ATOMUSDT</td>\n",
              "      <td>1h</td>\n",
              "      <td>-5.081097</td>\n",
              "      <td>4</td>\n",
              "    </tr>\n",
              "    <tr>\n",
              "      <th>5</th>\n",
              "      <td>ATOMUSDT</td>\n",
              "      <td>1m</td>\n",
              "      <td>-9.327794</td>\n",
              "      <td>15</td>\n",
              "    </tr>\n",
              "    <tr>\n",
              "      <th>6</th>\n",
              "      <td>AVAXUSDT</td>\n",
              "      <td>15m</td>\n",
              "      <td>14.284813</td>\n",
              "      <td>25</td>\n",
              "    </tr>\n",
              "    <tr>\n",
              "      <th>7</th>\n",
              "      <td>AVAXUSDT</td>\n",
              "      <td>1h</td>\n",
              "      <td>-5.195936</td>\n",
              "      <td>8</td>\n",
              "    </tr>\n",
              "    <tr>\n",
              "      <th>8</th>\n",
              "      <td>AVAXUSDT</td>\n",
              "      <td>1m</td>\n",
              "      <td>-11.079717</td>\n",
              "      <td>13</td>\n",
              "    </tr>\n",
              "    <tr>\n",
              "      <th>9</th>\n",
              "      <td>AVAXUSDT</td>\n",
              "      <td>30m</td>\n",
              "      <td>10.979699</td>\n",
              "      <td>7</td>\n",
              "    </tr>\n",
              "    <tr>\n",
              "      <th>10</th>\n",
              "      <td>BCHUSDT</td>\n",
              "      <td>15m</td>\n",
              "      <td>0.203128</td>\n",
              "      <td>6</td>\n",
              "    </tr>\n",
              "    <tr>\n",
              "      <th>11</th>\n",
              "      <td>BCHUSDT</td>\n",
              "      <td>1m</td>\n",
              "      <td>-0.768777</td>\n",
              "      <td>5</td>\n",
              "    </tr>\n",
              "    <tr>\n",
              "      <th>12</th>\n",
              "      <td>BNBUSDT</td>\n",
              "      <td>1h</td>\n",
              "      <td>4.803000</td>\n",
              "      <td>3</td>\n",
              "    </tr>\n",
              "    <tr>\n",
              "      <th>13</th>\n",
              "      <td>BNBUSDT</td>\n",
              "      <td>1m</td>\n",
              "      <td>-4.756732</td>\n",
              "      <td>7</td>\n",
              "    </tr>\n",
              "    <tr>\n",
              "      <th>14</th>\n",
              "      <td>BTCUSDT</td>\n",
              "      <td>1m</td>\n",
              "      <td>1.068727</td>\n",
              "      <td>1</td>\n",
              "    </tr>\n",
              "    <tr>\n",
              "      <th>15</th>\n",
              "      <td>DOGEUSDT</td>\n",
              "      <td>1m</td>\n",
              "      <td>-10.153313</td>\n",
              "      <td>14</td>\n",
              "    </tr>\n",
              "    <tr>\n",
              "      <th>16</th>\n",
              "      <td>DOGEUSDT</td>\n",
              "      <td>30m</td>\n",
              "      <td>-3.901126</td>\n",
              "      <td>2</td>\n",
              "    </tr>\n",
              "    <tr>\n",
              "      <th>17</th>\n",
              "      <td>DOTUSDT</td>\n",
              "      <td>15m</td>\n",
              "      <td>7.367400</td>\n",
              "      <td>13</td>\n",
              "    </tr>\n",
              "    <tr>\n",
              "      <th>18</th>\n",
              "      <td>DOTUSDT</td>\n",
              "      <td>1m</td>\n",
              "      <td>-1.008316</td>\n",
              "      <td>11</td>\n",
              "    </tr>\n",
              "    <tr>\n",
              "      <th>19</th>\n",
              "      <td>DOTUSDT</td>\n",
              "      <td>30m</td>\n",
              "      <td>-1.419373</td>\n",
              "      <td>5</td>\n",
              "    </tr>\n",
              "    <tr>\n",
              "      <th>20</th>\n",
              "      <td>ETHUSDT</td>\n",
              "      <td>1h</td>\n",
              "      <td>3.999571</td>\n",
              "      <td>2</td>\n",
              "    </tr>\n",
              "    <tr>\n",
              "      <th>21</th>\n",
              "      <td>ETHUSDT</td>\n",
              "      <td>1m</td>\n",
              "      <td>-2.956809</td>\n",
              "      <td>3</td>\n",
              "    </tr>\n",
              "    <tr>\n",
              "      <th>22</th>\n",
              "      <td>ETHUSDT</td>\n",
              "      <td>30m</td>\n",
              "      <td>-2.834049</td>\n",
              "      <td>3</td>\n",
              "    </tr>\n",
              "    <tr>\n",
              "      <th>23</th>\n",
              "      <td>LINKUSDT</td>\n",
              "      <td>15m</td>\n",
              "      <td>-13.790937</td>\n",
              "      <td>28</td>\n",
              "    </tr>\n",
              "    <tr>\n",
              "      <th>24</th>\n",
              "      <td>LINKUSDT</td>\n",
              "      <td>1h</td>\n",
              "      <td>-19.255468</td>\n",
              "      <td>11</td>\n",
              "    </tr>\n",
              "    <tr>\n",
              "      <th>25</th>\n",
              "      <td>LINKUSDT</td>\n",
              "      <td>1m</td>\n",
              "      <td>-26.089881</td>\n",
              "      <td>28</td>\n",
              "    </tr>\n",
              "    <tr>\n",
              "      <th>26</th>\n",
              "      <td>LINKUSDT</td>\n",
              "      <td>30m</td>\n",
              "      <td>-24.583048</td>\n",
              "      <td>8</td>\n",
              "    </tr>\n",
              "    <tr>\n",
              "      <th>27</th>\n",
              "      <td>LTCUSDT</td>\n",
              "      <td>15m</td>\n",
              "      <td>-4.864130</td>\n",
              "      <td>7</td>\n",
              "    </tr>\n",
              "    <tr>\n",
              "      <th>28</th>\n",
              "      <td>LTCUSDT</td>\n",
              "      <td>1h</td>\n",
              "      <td>3.092869</td>\n",
              "      <td>2</td>\n",
              "    </tr>\n",
              "    <tr>\n",
              "      <th>29</th>\n",
              "      <td>LTCUSDT</td>\n",
              "      <td>1m</td>\n",
              "      <td>-2.715390</td>\n",
              "      <td>9</td>\n",
              "    </tr>\n",
              "    <tr>\n",
              "      <th>30</th>\n",
              "      <td>LTCUSDT</td>\n",
              "      <td>30m</td>\n",
              "      <td>6.528024</td>\n",
              "      <td>4</td>\n",
              "    </tr>\n",
              "    <tr>\n",
              "      <th>31</th>\n",
              "      <td>MATICUSDT</td>\n",
              "      <td>15m</td>\n",
              "      <td>-7.361886</td>\n",
              "      <td>11</td>\n",
              "    </tr>\n",
              "    <tr>\n",
              "      <th>32</th>\n",
              "      <td>MATICUSDT</td>\n",
              "      <td>1h</td>\n",
              "      <td>-15.059960</td>\n",
              "      <td>8</td>\n",
              "    </tr>\n",
              "    <tr>\n",
              "      <th>33</th>\n",
              "      <td>MATICUSDT</td>\n",
              "      <td>1m</td>\n",
              "      <td>-20.744357</td>\n",
              "      <td>16</td>\n",
              "    </tr>\n",
              "    <tr>\n",
              "      <th>34</th>\n",
              "      <td>SOLUSDT</td>\n",
              "      <td>1h</td>\n",
              "      <td>-3.872560</td>\n",
              "      <td>9</td>\n",
              "    </tr>\n",
              "    <tr>\n",
              "      <th>35</th>\n",
              "      <td>SOLUSDT</td>\n",
              "      <td>1m</td>\n",
              "      <td>-5.017339</td>\n",
              "      <td>30</td>\n",
              "    </tr>\n",
              "    <tr>\n",
              "      <th>36</th>\n",
              "      <td>TRXUSDT</td>\n",
              "      <td>1m</td>\n",
              "      <td>1.070844</td>\n",
              "      <td>1</td>\n",
              "    </tr>\n",
              "    <tr>\n",
              "      <th>37</th>\n",
              "      <td>UNIUSDT</td>\n",
              "      <td>15m</td>\n",
              "      <td>11.723431</td>\n",
              "      <td>23</td>\n",
              "    </tr>\n",
              "    <tr>\n",
              "      <th>38</th>\n",
              "      <td>UNIUSDT</td>\n",
              "      <td>1h</td>\n",
              "      <td>20.155088</td>\n",
              "      <td>13</td>\n",
              "    </tr>\n",
              "    <tr>\n",
              "      <th>39</th>\n",
              "      <td>UNIUSDT</td>\n",
              "      <td>1m</td>\n",
              "      <td>10.035440</td>\n",
              "      <td>15</td>\n",
              "    </tr>\n",
              "    <tr>\n",
              "      <th>40</th>\n",
              "      <td>UNIUSDT</td>\n",
              "      <td>30m</td>\n",
              "      <td>14.234631</td>\n",
              "      <td>15</td>\n",
              "    </tr>\n",
              "    <tr>\n",
              "      <th>41</th>\n",
              "      <td>XLMUSDT</td>\n",
              "      <td>15m</td>\n",
              "      <td>-10.451594</td>\n",
              "      <td>13</td>\n",
              "    </tr>\n",
              "    <tr>\n",
              "      <th>42</th>\n",
              "      <td>XLMUSDT</td>\n",
              "      <td>1m</td>\n",
              "      <td>7.772437</td>\n",
              "      <td>13</td>\n",
              "    </tr>\n",
              "    <tr>\n",
              "      <th>43</th>\n",
              "      <td>XMRUSDT</td>\n",
              "      <td>15m</td>\n",
              "      <td>5.172274</td>\n",
              "      <td>5</td>\n",
              "    </tr>\n",
              "    <tr>\n",
              "      <th>44</th>\n",
              "      <td>XMRUSDT</td>\n",
              "      <td>1h</td>\n",
              "      <td>7.741077</td>\n",
              "      <td>5</td>\n",
              "    </tr>\n",
              "    <tr>\n",
              "      <th>45</th>\n",
              "      <td>XMRUSDT</td>\n",
              "      <td>1m</td>\n",
              "      <td>11.314849</td>\n",
              "      <td>11</td>\n",
              "    </tr>\n",
              "    <tr>\n",
              "      <th>46</th>\n",
              "      <td>XRPUSDT</td>\n",
              "      <td>1h</td>\n",
              "      <td>-5.838325</td>\n",
              "      <td>8</td>\n",
              "    </tr>\n",
              "    <tr>\n",
              "      <th>47</th>\n",
              "      <td>XRPUSDT</td>\n",
              "      <td>1m</td>\n",
              "      <td>-12.627396</td>\n",
              "      <td>15</td>\n",
              "    </tr>\n",
              "    <tr>\n",
              "      <th>48</th>\n",
              "      <td>XRPUSDT</td>\n",
              "      <td>30m</td>\n",
              "      <td>-6.697430</td>\n",
              "      <td>2</td>\n",
              "    </tr>\n",
              "  </tbody>\n",
              "</table>\n",
              "</div>"
            ],
            "text/plain": [
              "       symbol interval        pnl      \n",
              "                              sum count\n",
              "0     ADAUSDT       1h  -5.558609     8\n",
              "1     ADAUSDT       1m -13.348427    23\n",
              "2     ADAUSDT      30m -13.914479    18\n",
              "3    ATOMUSDT      15m  -2.573055    13\n",
              "4    ATOMUSDT       1h  -5.081097     4\n",
              "5    ATOMUSDT       1m  -9.327794    15\n",
              "6    AVAXUSDT      15m  14.284813    25\n",
              "7    AVAXUSDT       1h  -5.195936     8\n",
              "8    AVAXUSDT       1m -11.079717    13\n",
              "9    AVAXUSDT      30m  10.979699     7\n",
              "10    BCHUSDT      15m   0.203128     6\n",
              "11    BCHUSDT       1m  -0.768777     5\n",
              "12    BNBUSDT       1h   4.803000     3\n",
              "13    BNBUSDT       1m  -4.756732     7\n",
              "14    BTCUSDT       1m   1.068727     1\n",
              "15   DOGEUSDT       1m -10.153313    14\n",
              "16   DOGEUSDT      30m  -3.901126     2\n",
              "17    DOTUSDT      15m   7.367400    13\n",
              "18    DOTUSDT       1m  -1.008316    11\n",
              "19    DOTUSDT      30m  -1.419373     5\n",
              "20    ETHUSDT       1h   3.999571     2\n",
              "21    ETHUSDT       1m  -2.956809     3\n",
              "22    ETHUSDT      30m  -2.834049     3\n",
              "23   LINKUSDT      15m -13.790937    28\n",
              "24   LINKUSDT       1h -19.255468    11\n",
              "25   LINKUSDT       1m -26.089881    28\n",
              "26   LINKUSDT      30m -24.583048     8\n",
              "27    LTCUSDT      15m  -4.864130     7\n",
              "28    LTCUSDT       1h   3.092869     2\n",
              "29    LTCUSDT       1m  -2.715390     9\n",
              "30    LTCUSDT      30m   6.528024     4\n",
              "31  MATICUSDT      15m  -7.361886    11\n",
              "32  MATICUSDT       1h -15.059960     8\n",
              "33  MATICUSDT       1m -20.744357    16\n",
              "34    SOLUSDT       1h  -3.872560     9\n",
              "35    SOLUSDT       1m  -5.017339    30\n",
              "36    TRXUSDT       1m   1.070844     1\n",
              "37    UNIUSDT      15m  11.723431    23\n",
              "38    UNIUSDT       1h  20.155088    13\n",
              "39    UNIUSDT       1m  10.035440    15\n",
              "40    UNIUSDT      30m  14.234631    15\n",
              "41    XLMUSDT      15m -10.451594    13\n",
              "42    XLMUSDT       1m   7.772437    13\n",
              "43    XMRUSDT      15m   5.172274     5\n",
              "44    XMRUSDT       1h   7.741077     5\n",
              "45    XMRUSDT       1m  11.314849    11\n",
              "46    XRPUSDT       1h  -5.838325     8\n",
              "47    XRPUSDT       1m -12.627396    15\n",
              "48    XRPUSDT      30m  -6.697430     2"
            ]
          },
          "execution_count": 4,
          "metadata": {},
          "output_type": "execute_result"
        }
      ],
      "source": [
        "df_g_pnl = df.groupby(['symbol', 'interval'], as_index=False).agg({'pnl': ['sum', 'count']})\n",
        "df_g_pnl['pnl']['id'] = df_g_pnl.index\n",
        "df_g_pnl"
      ]
    },
    {
      "cell_type": "code",
      "execution_count": 8,
      "metadata": {},
      "outputs": [
        {
          "data": {
            "application/vnd.plotly.v1+json": {
              "config": {
                "plotlyServerURL": "https://plot.ly"
              },
              "data": [
                {
                  "hovertemplate": "x=%{x}<br>y=%{y}<extra></extra>",
                  "legendgroup": "",
                  "line": {
                    "color": "#636efa",
                    "dash": "solid"
                  },
                  "marker": {
                    "symbol": "circle"
                  },
                  "mode": "lines",
                  "name": "",
                  "orientation": "v",
                  "showlegend": false,
                  "type": "scatter",
                  "x": [
                    "pnl",
                    "id"
                  ],
                  "xaxis": "x",
                  "y": [
                    "pnl",
                    "sum"
                  ],
                  "yaxis": "y"
                }
              ],
              "layout": {
                "legend": {
                  "tracegroupgap": 0
                },
                "margin": {
                  "t": 60
                },
                "template": {
                  "data": {
                    "bar": [
                      {
                        "error_x": {
                          "color": "#2a3f5f"
                        },
                        "error_y": {
                          "color": "#2a3f5f"
                        },
                        "marker": {
                          "line": {
                            "color": "#E5ECF6",
                            "width": 0.5
                          },
                          "pattern": {
                            "fillmode": "overlay",
                            "size": 10,
                            "solidity": 0.2
                          }
                        },
                        "type": "bar"
                      }
                    ],
                    "barpolar": [
                      {
                        "marker": {
                          "line": {
                            "color": "#E5ECF6",
                            "width": 0.5
                          },
                          "pattern": {
                            "fillmode": "overlay",
                            "size": 10,
                            "solidity": 0.2
                          }
                        },
                        "type": "barpolar"
                      }
                    ],
                    "carpet": [
                      {
                        "aaxis": {
                          "endlinecolor": "#2a3f5f",
                          "gridcolor": "white",
                          "linecolor": "white",
                          "minorgridcolor": "white",
                          "startlinecolor": "#2a3f5f"
                        },
                        "baxis": {
                          "endlinecolor": "#2a3f5f",
                          "gridcolor": "white",
                          "linecolor": "white",
                          "minorgridcolor": "white",
                          "startlinecolor": "#2a3f5f"
                        },
                        "type": "carpet"
                      }
                    ],
                    "choropleth": [
                      {
                        "colorbar": {
                          "outlinewidth": 0,
                          "ticks": ""
                        },
                        "type": "choropleth"
                      }
                    ],
                    "contour": [
                      {
                        "colorbar": {
                          "outlinewidth": 0,
                          "ticks": ""
                        },
                        "colorscale": [
                          [
                            0,
                            "#0d0887"
                          ],
                          [
                            0.1111111111111111,
                            "#46039f"
                          ],
                          [
                            0.2222222222222222,
                            "#7201a8"
                          ],
                          [
                            0.3333333333333333,
                            "#9c179e"
                          ],
                          [
                            0.4444444444444444,
                            "#bd3786"
                          ],
                          [
                            0.5555555555555556,
                            "#d8576b"
                          ],
                          [
                            0.6666666666666666,
                            "#ed7953"
                          ],
                          [
                            0.7777777777777778,
                            "#fb9f3a"
                          ],
                          [
                            0.8888888888888888,
                            "#fdca26"
                          ],
                          [
                            1,
                            "#f0f921"
                          ]
                        ],
                        "type": "contour"
                      }
                    ],
                    "contourcarpet": [
                      {
                        "colorbar": {
                          "outlinewidth": 0,
                          "ticks": ""
                        },
                        "type": "contourcarpet"
                      }
                    ],
                    "heatmap": [
                      {
                        "colorbar": {
                          "outlinewidth": 0,
                          "ticks": ""
                        },
                        "colorscale": [
                          [
                            0,
                            "#0d0887"
                          ],
                          [
                            0.1111111111111111,
                            "#46039f"
                          ],
                          [
                            0.2222222222222222,
                            "#7201a8"
                          ],
                          [
                            0.3333333333333333,
                            "#9c179e"
                          ],
                          [
                            0.4444444444444444,
                            "#bd3786"
                          ],
                          [
                            0.5555555555555556,
                            "#d8576b"
                          ],
                          [
                            0.6666666666666666,
                            "#ed7953"
                          ],
                          [
                            0.7777777777777778,
                            "#fb9f3a"
                          ],
                          [
                            0.8888888888888888,
                            "#fdca26"
                          ],
                          [
                            1,
                            "#f0f921"
                          ]
                        ],
                        "type": "heatmap"
                      }
                    ],
                    "heatmapgl": [
                      {
                        "colorbar": {
                          "outlinewidth": 0,
                          "ticks": ""
                        },
                        "colorscale": [
                          [
                            0,
                            "#0d0887"
                          ],
                          [
                            0.1111111111111111,
                            "#46039f"
                          ],
                          [
                            0.2222222222222222,
                            "#7201a8"
                          ],
                          [
                            0.3333333333333333,
                            "#9c179e"
                          ],
                          [
                            0.4444444444444444,
                            "#bd3786"
                          ],
                          [
                            0.5555555555555556,
                            "#d8576b"
                          ],
                          [
                            0.6666666666666666,
                            "#ed7953"
                          ],
                          [
                            0.7777777777777778,
                            "#fb9f3a"
                          ],
                          [
                            0.8888888888888888,
                            "#fdca26"
                          ],
                          [
                            1,
                            "#f0f921"
                          ]
                        ],
                        "type": "heatmapgl"
                      }
                    ],
                    "histogram": [
                      {
                        "marker": {
                          "pattern": {
                            "fillmode": "overlay",
                            "size": 10,
                            "solidity": 0.2
                          }
                        },
                        "type": "histogram"
                      }
                    ],
                    "histogram2d": [
                      {
                        "colorbar": {
                          "outlinewidth": 0,
                          "ticks": ""
                        },
                        "colorscale": [
                          [
                            0,
                            "#0d0887"
                          ],
                          [
                            0.1111111111111111,
                            "#46039f"
                          ],
                          [
                            0.2222222222222222,
                            "#7201a8"
                          ],
                          [
                            0.3333333333333333,
                            "#9c179e"
                          ],
                          [
                            0.4444444444444444,
                            "#bd3786"
                          ],
                          [
                            0.5555555555555556,
                            "#d8576b"
                          ],
                          [
                            0.6666666666666666,
                            "#ed7953"
                          ],
                          [
                            0.7777777777777778,
                            "#fb9f3a"
                          ],
                          [
                            0.8888888888888888,
                            "#fdca26"
                          ],
                          [
                            1,
                            "#f0f921"
                          ]
                        ],
                        "type": "histogram2d"
                      }
                    ],
                    "histogram2dcontour": [
                      {
                        "colorbar": {
                          "outlinewidth": 0,
                          "ticks": ""
                        },
                        "colorscale": [
                          [
                            0,
                            "#0d0887"
                          ],
                          [
                            0.1111111111111111,
                            "#46039f"
                          ],
                          [
                            0.2222222222222222,
                            "#7201a8"
                          ],
                          [
                            0.3333333333333333,
                            "#9c179e"
                          ],
                          [
                            0.4444444444444444,
                            "#bd3786"
                          ],
                          [
                            0.5555555555555556,
                            "#d8576b"
                          ],
                          [
                            0.6666666666666666,
                            "#ed7953"
                          ],
                          [
                            0.7777777777777778,
                            "#fb9f3a"
                          ],
                          [
                            0.8888888888888888,
                            "#fdca26"
                          ],
                          [
                            1,
                            "#f0f921"
                          ]
                        ],
                        "type": "histogram2dcontour"
                      }
                    ],
                    "mesh3d": [
                      {
                        "colorbar": {
                          "outlinewidth": 0,
                          "ticks": ""
                        },
                        "type": "mesh3d"
                      }
                    ],
                    "parcoords": [
                      {
                        "line": {
                          "colorbar": {
                            "outlinewidth": 0,
                            "ticks": ""
                          }
                        },
                        "type": "parcoords"
                      }
                    ],
                    "pie": [
                      {
                        "automargin": true,
                        "type": "pie"
                      }
                    ],
                    "scatter": [
                      {
                        "fillpattern": {
                          "fillmode": "overlay",
                          "size": 10,
                          "solidity": 0.2
                        },
                        "type": "scatter"
                      }
                    ],
                    "scatter3d": [
                      {
                        "line": {
                          "colorbar": {
                            "outlinewidth": 0,
                            "ticks": ""
                          }
                        },
                        "marker": {
                          "colorbar": {
                            "outlinewidth": 0,
                            "ticks": ""
                          }
                        },
                        "type": "scatter3d"
                      }
                    ],
                    "scattercarpet": [
                      {
                        "marker": {
                          "colorbar": {
                            "outlinewidth": 0,
                            "ticks": ""
                          }
                        },
                        "type": "scattercarpet"
                      }
                    ],
                    "scattergeo": [
                      {
                        "marker": {
                          "colorbar": {
                            "outlinewidth": 0,
                            "ticks": ""
                          }
                        },
                        "type": "scattergeo"
                      }
                    ],
                    "scattergl": [
                      {
                        "marker": {
                          "colorbar": {
                            "outlinewidth": 0,
                            "ticks": ""
                          }
                        },
                        "type": "scattergl"
                      }
                    ],
                    "scattermapbox": [
                      {
                        "marker": {
                          "colorbar": {
                            "outlinewidth": 0,
                            "ticks": ""
                          }
                        },
                        "type": "scattermapbox"
                      }
                    ],
                    "scatterpolar": [
                      {
                        "marker": {
                          "colorbar": {
                            "outlinewidth": 0,
                            "ticks": ""
                          }
                        },
                        "type": "scatterpolar"
                      }
                    ],
                    "scatterpolargl": [
                      {
                        "marker": {
                          "colorbar": {
                            "outlinewidth": 0,
                            "ticks": ""
                          }
                        },
                        "type": "scatterpolargl"
                      }
                    ],
                    "scatterternary": [
                      {
                        "marker": {
                          "colorbar": {
                            "outlinewidth": 0,
                            "ticks": ""
                          }
                        },
                        "type": "scatterternary"
                      }
                    ],
                    "surface": [
                      {
                        "colorbar": {
                          "outlinewidth": 0,
                          "ticks": ""
                        },
                        "colorscale": [
                          [
                            0,
                            "#0d0887"
                          ],
                          [
                            0.1111111111111111,
                            "#46039f"
                          ],
                          [
                            0.2222222222222222,
                            "#7201a8"
                          ],
                          [
                            0.3333333333333333,
                            "#9c179e"
                          ],
                          [
                            0.4444444444444444,
                            "#bd3786"
                          ],
                          [
                            0.5555555555555556,
                            "#d8576b"
                          ],
                          [
                            0.6666666666666666,
                            "#ed7953"
                          ],
                          [
                            0.7777777777777778,
                            "#fb9f3a"
                          ],
                          [
                            0.8888888888888888,
                            "#fdca26"
                          ],
                          [
                            1,
                            "#f0f921"
                          ]
                        ],
                        "type": "surface"
                      }
                    ],
                    "table": [
                      {
                        "cells": {
                          "fill": {
                            "color": "#EBF0F8"
                          },
                          "line": {
                            "color": "white"
                          }
                        },
                        "header": {
                          "fill": {
                            "color": "#C8D4E3"
                          },
                          "line": {
                            "color": "white"
                          }
                        },
                        "type": "table"
                      }
                    ]
                  },
                  "layout": {
                    "annotationdefaults": {
                      "arrowcolor": "#2a3f5f",
                      "arrowhead": 0,
                      "arrowwidth": 1
                    },
                    "autotypenumbers": "strict",
                    "coloraxis": {
                      "colorbar": {
                        "outlinewidth": 0,
                        "ticks": ""
                      }
                    },
                    "colorscale": {
                      "diverging": [
                        [
                          0,
                          "#8e0152"
                        ],
                        [
                          0.1,
                          "#c51b7d"
                        ],
                        [
                          0.2,
                          "#de77ae"
                        ],
                        [
                          0.3,
                          "#f1b6da"
                        ],
                        [
                          0.4,
                          "#fde0ef"
                        ],
                        [
                          0.5,
                          "#f7f7f7"
                        ],
                        [
                          0.6,
                          "#e6f5d0"
                        ],
                        [
                          0.7,
                          "#b8e186"
                        ],
                        [
                          0.8,
                          "#7fbc41"
                        ],
                        [
                          0.9,
                          "#4d9221"
                        ],
                        [
                          1,
                          "#276419"
                        ]
                      ],
                      "sequential": [
                        [
                          0,
                          "#0d0887"
                        ],
                        [
                          0.1111111111111111,
                          "#46039f"
                        ],
                        [
                          0.2222222222222222,
                          "#7201a8"
                        ],
                        [
                          0.3333333333333333,
                          "#9c179e"
                        ],
                        [
                          0.4444444444444444,
                          "#bd3786"
                        ],
                        [
                          0.5555555555555556,
                          "#d8576b"
                        ],
                        [
                          0.6666666666666666,
                          "#ed7953"
                        ],
                        [
                          0.7777777777777778,
                          "#fb9f3a"
                        ],
                        [
                          0.8888888888888888,
                          "#fdca26"
                        ],
                        [
                          1,
                          "#f0f921"
                        ]
                      ],
                      "sequentialminus": [
                        [
                          0,
                          "#0d0887"
                        ],
                        [
                          0.1111111111111111,
                          "#46039f"
                        ],
                        [
                          0.2222222222222222,
                          "#7201a8"
                        ],
                        [
                          0.3333333333333333,
                          "#9c179e"
                        ],
                        [
                          0.4444444444444444,
                          "#bd3786"
                        ],
                        [
                          0.5555555555555556,
                          "#d8576b"
                        ],
                        [
                          0.6666666666666666,
                          "#ed7953"
                        ],
                        [
                          0.7777777777777778,
                          "#fb9f3a"
                        ],
                        [
                          0.8888888888888888,
                          "#fdca26"
                        ],
                        [
                          1,
                          "#f0f921"
                        ]
                      ]
                    },
                    "colorway": [
                      "#636efa",
                      "#EF553B",
                      "#00cc96",
                      "#ab63fa",
                      "#FFA15A",
                      "#19d3f3",
                      "#FF6692",
                      "#B6E880",
                      "#FF97FF",
                      "#FECB52"
                    ],
                    "font": {
                      "color": "#2a3f5f"
                    },
                    "geo": {
                      "bgcolor": "white",
                      "lakecolor": "white",
                      "landcolor": "#E5ECF6",
                      "showlakes": true,
                      "showland": true,
                      "subunitcolor": "white"
                    },
                    "hoverlabel": {
                      "align": "left"
                    },
                    "hovermode": "closest",
                    "mapbox": {
                      "style": "light"
                    },
                    "paper_bgcolor": "white",
                    "plot_bgcolor": "#E5ECF6",
                    "polar": {
                      "angularaxis": {
                        "gridcolor": "white",
                        "linecolor": "white",
                        "ticks": ""
                      },
                      "bgcolor": "#E5ECF6",
                      "radialaxis": {
                        "gridcolor": "white",
                        "linecolor": "white",
                        "ticks": ""
                      }
                    },
                    "scene": {
                      "xaxis": {
                        "backgroundcolor": "#E5ECF6",
                        "gridcolor": "white",
                        "gridwidth": 2,
                        "linecolor": "white",
                        "showbackground": true,
                        "ticks": "",
                        "zerolinecolor": "white"
                      },
                      "yaxis": {
                        "backgroundcolor": "#E5ECF6",
                        "gridcolor": "white",
                        "gridwidth": 2,
                        "linecolor": "white",
                        "showbackground": true,
                        "ticks": "",
                        "zerolinecolor": "white"
                      },
                      "zaxis": {
                        "backgroundcolor": "#E5ECF6",
                        "gridcolor": "white",
                        "gridwidth": 2,
                        "linecolor": "white",
                        "showbackground": true,
                        "ticks": "",
                        "zerolinecolor": "white"
                      }
                    },
                    "shapedefaults": {
                      "line": {
                        "color": "#2a3f5f"
                      }
                    },
                    "ternary": {
                      "aaxis": {
                        "gridcolor": "white",
                        "linecolor": "white",
                        "ticks": ""
                      },
                      "baxis": {
                        "gridcolor": "white",
                        "linecolor": "white",
                        "ticks": ""
                      },
                      "bgcolor": "#E5ECF6",
                      "caxis": {
                        "gridcolor": "white",
                        "linecolor": "white",
                        "ticks": ""
                      }
                    },
                    "title": {
                      "x": 0.05
                    },
                    "xaxis": {
                      "automargin": true,
                      "gridcolor": "white",
                      "linecolor": "white",
                      "ticks": "",
                      "title": {
                        "standoff": 15
                      },
                      "zerolinecolor": "white",
                      "zerolinewidth": 2
                    },
                    "yaxis": {
                      "automargin": true,
                      "gridcolor": "white",
                      "linecolor": "white",
                      "ticks": "",
                      "title": {
                        "standoff": 15
                      },
                      "zerolinecolor": "white",
                      "zerolinewidth": 2
                    }
                  }
                },
                "xaxis": {
                  "anchor": "y",
                  "domain": [
                    0,
                    1
                  ],
                  "title": {
                    "text": "x"
                  }
                },
                "yaxis": {
                  "anchor": "x",
                  "domain": [
                    0,
                    1
                  ],
                  "title": {
                    "text": "y"
                  }
                }
              }
            }
          },
          "metadata": {},
          "output_type": "display_data"
        }
      ],
      "source": [
        "import plotly.express as px\n",
        "\n",
        "px.line(data_frame=df_g_pnl, x=('pnl', 'id'),  y=('pnl', 'sum'))"
      ]
    }
  ],
  "metadata": {
    "kernelspec": {
      "display_name": "conda_env3.10",
      "language": "python",
      "name": "python3"
    },
    "language_info": {
      "codemirror_mode": {
        "name": "ipython",
        "version": 3
      },
      "file_extension": ".py",
      "mimetype": "text/x-python",
      "name": "python",
      "nbconvert_exporter": "python",
      "pygments_lexer": "ipython3",
      "version": "3.10.13"
    },
    "orig_nbformat": 4
  },
  "nbformat": 4,
  "nbformat_minor": 2
}