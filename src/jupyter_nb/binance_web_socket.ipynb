{
 "cells": [
  {
   "cell_type": "code",
   "execution_count": null,
   "metadata": {},
   "outputs": [],
   "source": [
    "from binance import ThreadedWebsocketManager\n",
    "\n",
    "symbol = 'BTCUSDT'\n",
    "   \n",
    "twm = ThreadedWebsocketManager()\n",
    "# start is required to initialise its internal loop\n",
    "twm.start()\n",
    "\n",
    "def handle_socket_message(msg):\n",
    "\tprint(f\"message type: {msg['e']}\")\n",
    "\tprint(msg)\n",
    "\n",
    "twm.start_kline_socket(callback=handle_socket_message, symbol=symbol)\n",
    "\n",
    "# multiple sockets can be started\n",
    "twm.start_depth_socket(callback=handle_socket_message, symbol=symbol)\n",
    "\n",
    "# or a multiplex socket can be started like this\n",
    "# see Binance docs for stream names\n",
    "streams = ['bnbbtc@miniTicker', 'bnbbtc@bookTicker']\n",
    "twm.start_multiplex_socket(callback=handle_socket_message, streams=streams)"
   ]
  },
  {
   "cell_type": "code",
   "execution_count": null,
   "metadata": {},
   "outputs": [],
   "source": [
    "twm.join()"
   ]
  }
 ],
 "metadata": {
  "kernelspec": {
   "display_name": "mg",
   "language": "python",
   "name": "python3"
  },
  "language_info": {
   "codemirror_mode": {
    "name": "ipython",
    "version": 3
   },
   "file_extension": ".py",
   "mimetype": "text/x-python",
   "name": "python",
   "nbconvert_exporter": "python",
   "pygments_lexer": "ipython3",
   "version": "3.10.13"
  }
 },
 "nbformat": 4,
 "nbformat_minor": 2
}
