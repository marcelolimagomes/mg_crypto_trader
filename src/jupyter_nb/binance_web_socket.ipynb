{
 "cells": [
  {
   "cell_type": "code",
   "execution_count": 1,
   "metadata": {},
   "outputs": [
    {
     "name": "stderr",
     "output_type": "stream",
     "text": [
      "Exception in thread Thread-4:\n",
      "Traceback (most recent call last):\n",
      "  File \"/home/marcelo/anaconda3/envs/mg/lib/python3.10/threading.py\", line 1016, in _bootstrap_inner\n",
      "    self.run()\n",
      "  File \"/home/marcelo/anaconda3/envs/mg/lib/python3.10/site-packages/binance/threaded_stream.py\", line 59, in run\n",
      "    self._loop.run_until_complete(self.socket_listener())\n",
      "  File \"/home/marcelo/anaconda3/envs/mg/lib/python3.10/asyncio/base_events.py\", line 625, in run_until_complete\n",
      "    self._check_running()\n",
      "  File \"/home/marcelo/anaconda3/envs/mg/lib/python3.10/asyncio/base_events.py\", line 584, in _check_running\n",
      "    raise RuntimeError('This event loop is already running')\n",
      "RuntimeError: This event loop is already running\n",
      "/home/marcelo/anaconda3/envs/mg/lib/python3.10/threading.py:1018: RuntimeWarning: coroutine 'ThreadedApiManager.socket_listener' was never awaited\n",
      "  self._invoke_excepthook(self)\n",
      "RuntimeWarning: Enable tracemalloc to get the object allocation traceback\n"
     ]
    },
    {
     "ename": "KeyboardInterrupt",
     "evalue": "",
     "output_type": "error",
     "traceback": [
      "\u001b[0;31m---------------------------------------------------------------------------\u001b[0m",
      "\u001b[0;31mKeyboardInterrupt\u001b[0m                         Traceback (most recent call last)",
      "Cell \u001b[0;32mIn[1], line 13\u001b[0m\n\u001b[1;32m     10\u001b[0m \t\u001b[38;5;28mprint\u001b[39m(\u001b[38;5;124mf\u001b[39m\u001b[38;5;124m\"\u001b[39m\u001b[38;5;124mmessage type: \u001b[39m\u001b[38;5;132;01m{\u001b[39;00mmsg[\u001b[38;5;124m'\u001b[39m\u001b[38;5;124me\u001b[39m\u001b[38;5;124m'\u001b[39m]\u001b[38;5;132;01m}\u001b[39;00m\u001b[38;5;124m\"\u001b[39m)\n\u001b[1;32m     11\u001b[0m \t\u001b[38;5;28mprint\u001b[39m(msg)\n\u001b[0;32m---> 13\u001b[0m \u001b[43mtwm\u001b[49m\u001b[38;5;241;43m.\u001b[39;49m\u001b[43mstart_kline_socket\u001b[49m\u001b[43m(\u001b[49m\u001b[43mcallback\u001b[49m\u001b[38;5;241;43m=\u001b[39;49m\u001b[43mhandle_socket_message\u001b[49m\u001b[43m,\u001b[49m\u001b[43m \u001b[49m\u001b[43msymbol\u001b[49m\u001b[38;5;241;43m=\u001b[39;49m\u001b[43msymbol\u001b[49m\u001b[43m)\u001b[49m\n\u001b[1;32m     15\u001b[0m \u001b[38;5;66;03m# multiple sockets can be started\u001b[39;00m\n\u001b[1;32m     16\u001b[0m twm\u001b[38;5;241m.\u001b[39mstart_depth_socket(callback\u001b[38;5;241m=\u001b[39mhandle_socket_message, symbol\u001b[38;5;241m=\u001b[39msymbol)\n",
      "File \u001b[0;32m~/anaconda3/envs/mg/lib/python3.10/site-packages/binance/streams.py:1241\u001b[0m, in \u001b[0;36mThreadedWebsocketManager.start_kline_socket\u001b[0;34m(self, callback, symbol, interval)\u001b[0m\n\u001b[1;32m   1240\u001b[0m \u001b[38;5;28;01mdef\u001b[39;00m \u001b[38;5;21mstart_kline_socket\u001b[39m(\u001b[38;5;28mself\u001b[39m, callback: Callable, symbol: \u001b[38;5;28mstr\u001b[39m, interval\u001b[38;5;241m=\u001b[39mAsyncClient\u001b[38;5;241m.\u001b[39mKLINE_INTERVAL_1MINUTE) \u001b[38;5;241m-\u001b[39m\u001b[38;5;241m>\u001b[39m \u001b[38;5;28mstr\u001b[39m:\n\u001b[0;32m-> 1241\u001b[0m     \u001b[38;5;28;01mreturn\u001b[39;00m \u001b[38;5;28;43mself\u001b[39;49m\u001b[38;5;241;43m.\u001b[39;49m\u001b[43m_start_async_socket\u001b[49m\u001b[43m(\u001b[49m\n\u001b[1;32m   1242\u001b[0m \u001b[43m        \u001b[49m\u001b[43mcallback\u001b[49m\u001b[38;5;241;43m=\u001b[39;49m\u001b[43mcallback\u001b[49m\u001b[43m,\u001b[49m\n\u001b[1;32m   1243\u001b[0m \u001b[43m        \u001b[49m\u001b[43msocket_name\u001b[49m\u001b[38;5;241;43m=\u001b[39;49m\u001b[38;5;124;43m'\u001b[39;49m\u001b[38;5;124;43mkline_socket\u001b[39;49m\u001b[38;5;124;43m'\u001b[39;49m\u001b[43m,\u001b[49m\n\u001b[1;32m   1244\u001b[0m \u001b[43m        \u001b[49m\u001b[43mparams\u001b[49m\u001b[38;5;241;43m=\u001b[39;49m\u001b[43m{\u001b[49m\n\u001b[1;32m   1245\u001b[0m \u001b[43m            \u001b[49m\u001b[38;5;124;43m'\u001b[39;49m\u001b[38;5;124;43msymbol\u001b[39;49m\u001b[38;5;124;43m'\u001b[39;49m\u001b[43m:\u001b[49m\u001b[43m \u001b[49m\u001b[43msymbol\u001b[49m\u001b[43m,\u001b[49m\n\u001b[1;32m   1246\u001b[0m \u001b[43m            \u001b[49m\u001b[38;5;124;43m'\u001b[39;49m\u001b[38;5;124;43minterval\u001b[39;49m\u001b[38;5;124;43m'\u001b[39;49m\u001b[43m:\u001b[49m\u001b[43m \u001b[49m\u001b[43minterval\u001b[49m\u001b[43m,\u001b[49m\n\u001b[1;32m   1247\u001b[0m \u001b[43m        \u001b[49m\u001b[43m}\u001b[49m\n\u001b[1;32m   1248\u001b[0m \u001b[43m    \u001b[49m\u001b[43m)\u001b[49m\n",
      "File \u001b[0;32m~/anaconda3/envs/mg/lib/python3.10/site-packages/binance/streams.py:1220\u001b[0m, in \u001b[0;36mThreadedWebsocketManager._start_async_socket\u001b[0;34m(self, callback, socket_name, params, path)\u001b[0m\n\u001b[1;32m   1216\u001b[0m \u001b[38;5;28;01mdef\u001b[39;00m \u001b[38;5;21m_start_async_socket\u001b[39m(\n\u001b[1;32m   1217\u001b[0m     \u001b[38;5;28mself\u001b[39m, callback: Callable, socket_name: \u001b[38;5;28mstr\u001b[39m, params: Dict[\u001b[38;5;28mstr\u001b[39m, Any], path: Optional[\u001b[38;5;28mstr\u001b[39m] \u001b[38;5;241m=\u001b[39m \u001b[38;5;28;01mNone\u001b[39;00m\n\u001b[1;32m   1218\u001b[0m ) \u001b[38;5;241m-\u001b[39m\u001b[38;5;241m>\u001b[39m \u001b[38;5;28mstr\u001b[39m:\n\u001b[1;32m   1219\u001b[0m     \u001b[38;5;28;01mwhile\u001b[39;00m \u001b[38;5;129;01mnot\u001b[39;00m \u001b[38;5;28mself\u001b[39m\u001b[38;5;241m.\u001b[39m_bsm:\n\u001b[0;32m-> 1220\u001b[0m         \u001b[43mtime\u001b[49m\u001b[38;5;241;43m.\u001b[39;49m\u001b[43msleep\u001b[49m\u001b[43m(\u001b[49m\u001b[38;5;241;43m0.1\u001b[39;49m\u001b[43m)\u001b[49m\n\u001b[1;32m   1221\u001b[0m     socket \u001b[38;5;241m=\u001b[39m \u001b[38;5;28mgetattr\u001b[39m(\u001b[38;5;28mself\u001b[39m\u001b[38;5;241m.\u001b[39m_bsm, socket_name)(\u001b[38;5;241m*\u001b[39m\u001b[38;5;241m*\u001b[39mparams)\n\u001b[1;32m   1222\u001b[0m     socket_path: \u001b[38;5;28mstr\u001b[39m \u001b[38;5;241m=\u001b[39m path \u001b[38;5;129;01mor\u001b[39;00m socket\u001b[38;5;241m.\u001b[39m_path  \u001b[38;5;66;03m# noqa\u001b[39;00m\n",
      "\u001b[0;31mKeyboardInterrupt\u001b[0m: "
     ]
    }
   ],
   "source": [
    "from binance import ThreadedWebsocketManager\n",
    "\n",
    "symbol = 'BTCUSDT'\n",
    "   \n",
    "twm = ThreadedWebsocketManager()\n",
    "# start is required to initialise its internal loop\n",
    "twm.start()\n",
    "\n",
    "def handle_socket_message(msg):\n",
    "\tprint(f\"message type: {msg['e']}\")\n",
    "\tprint(msg)\n",
    "\n",
    "twm.start_kline_socket(callback=handle_socket_message, symbol=symbol)\n",
    "\n",
    "# multiple sockets can be started\n",
    "twm.start_depth_socket(callback=handle_socket_message, symbol=symbol)\n",
    "\n",
    "# or a multiplex socket can be started like this\n",
    "# see Binance docs for stream names\n",
    "streams = ['bnbbtc@miniTicker', 'bnbbtc@bookTicker']\n",
    "twm.start_multiplex_socket(callback=handle_socket_message, streams=streams)"
   ]
  },
  {
   "cell_type": "code",
   "execution_count": null,
   "metadata": {},
   "outputs": [],
   "source": [
    "twm.join()"
   ]
  }
 ],
 "metadata": {
  "kernelspec": {
   "display_name": "mg",
   "language": "python",
   "name": "python3"
  },
  "language_info": {
   "codemirror_mode": {
    "name": "ipython",
    "version": 3
   },
   "file_extension": ".py",
   "mimetype": "text/x-python",
   "name": "python",
   "nbconvert_exporter": "python",
   "pygments_lexer": "ipython3",
   "version": "3.10.13"
  }
 },
 "nbformat": 4,
 "nbformat_minor": 2
}
